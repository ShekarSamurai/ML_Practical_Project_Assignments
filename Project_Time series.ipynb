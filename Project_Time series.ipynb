{
 "cells": [
  {
   "cell_type": "markdown",
   "id": "completed-wagon",
   "metadata": {},
   "source": [
    "#### Problem Statement: Pick up the following stocks and generate forecasts accordingly Stocks:\n",
    "\n",
    "1. NASDAQ.AAPL\n",
    "\n",
    "2. NASDAQ.ADP\n",
    "\n",
    "3. NASDAQ.CBOE\n",
    "\n",
    "4. NASDAQ.CSCO\n",
    "\n",
    "5. NASDAQ.EBAY\n"
   ]
  },
  {
   "cell_type": "code",
   "execution_count": 1,
   "id": "appreciated-socket",
   "metadata": {},
   "outputs": [
    {
     "name": "stderr",
     "output_type": "stream",
     "text": [
      "<ipython-input-1-f1dc2c7e394e>:2: FutureWarning: The pandas.datetime class is deprecated and will be removed from pandas in a future version. Import from datetime module instead.\n",
      "  from pandas import datetime\n"
     ]
    }
   ],
   "source": [
    "import pandas as pd\n",
    "from pandas import datetime\n",
    "import matplotlib.pyplot as plt\n",
    "%matplotlib inline"
   ]
  },
  {
   "cell_type": "code",
   "execution_count": 2,
   "id": "recorded-scratch",
   "metadata": {},
   "outputs": [],
   "source": [
    "df=pd.read_csv('data_stocks.csv')"
   ]
  },
  {
   "cell_type": "code",
   "execution_count": 3,
   "id": "dramatic-encyclopedia",
   "metadata": {},
   "outputs": [
    {
     "data": {
      "text/html": [
       "<div>\n",
       "<style scoped>\n",
       "    .dataframe tbody tr th:only-of-type {\n",
       "        vertical-align: middle;\n",
       "    }\n",
       "\n",
       "    .dataframe tbody tr th {\n",
       "        vertical-align: top;\n",
       "    }\n",
       "\n",
       "    .dataframe thead th {\n",
       "        text-align: right;\n",
       "    }\n",
       "</style>\n",
       "<table border=\"1\" class=\"dataframe\">\n",
       "  <thead>\n",
       "    <tr style=\"text-align: right;\">\n",
       "      <th></th>\n",
       "      <th>DATE</th>\n",
       "      <th>SP500</th>\n",
       "      <th>NASDAQ.AAL</th>\n",
       "      <th>NASDAQ.AAPL</th>\n",
       "      <th>NASDAQ.ADBE</th>\n",
       "      <th>NASDAQ.ADI</th>\n",
       "      <th>NASDAQ.ADP</th>\n",
       "      <th>NASDAQ.ADSK</th>\n",
       "      <th>NASDAQ.AKAM</th>\n",
       "      <th>NASDAQ.ALXN</th>\n",
       "      <th>...</th>\n",
       "      <th>NYSE.WYN</th>\n",
       "      <th>NYSE.XEC</th>\n",
       "      <th>NYSE.XEL</th>\n",
       "      <th>NYSE.XL</th>\n",
       "      <th>NYSE.XOM</th>\n",
       "      <th>NYSE.XRX</th>\n",
       "      <th>NYSE.XYL</th>\n",
       "      <th>NYSE.YUM</th>\n",
       "      <th>NYSE.ZBH</th>\n",
       "      <th>NYSE.ZTS</th>\n",
       "    </tr>\n",
       "  </thead>\n",
       "  <tbody>\n",
       "    <tr>\n",
       "      <th>0</th>\n",
       "      <td>1491226200</td>\n",
       "      <td>2363.6101</td>\n",
       "      <td>42.33</td>\n",
       "      <td>143.68</td>\n",
       "      <td>129.63</td>\n",
       "      <td>82.04</td>\n",
       "      <td>102.23</td>\n",
       "      <td>85.22</td>\n",
       "      <td>59.76</td>\n",
       "      <td>121.52</td>\n",
       "      <td>...</td>\n",
       "      <td>84.37</td>\n",
       "      <td>119.035</td>\n",
       "      <td>44.40</td>\n",
       "      <td>39.88</td>\n",
       "      <td>82.03</td>\n",
       "      <td>7.36</td>\n",
       "      <td>50.22</td>\n",
       "      <td>63.86</td>\n",
       "      <td>122.00</td>\n",
       "      <td>53.35</td>\n",
       "    </tr>\n",
       "    <tr>\n",
       "      <th>1</th>\n",
       "      <td>1491226260</td>\n",
       "      <td>2364.1001</td>\n",
       "      <td>42.36</td>\n",
       "      <td>143.70</td>\n",
       "      <td>130.32</td>\n",
       "      <td>82.08</td>\n",
       "      <td>102.14</td>\n",
       "      <td>85.65</td>\n",
       "      <td>59.84</td>\n",
       "      <td>121.48</td>\n",
       "      <td>...</td>\n",
       "      <td>84.37</td>\n",
       "      <td>119.035</td>\n",
       "      <td>44.11</td>\n",
       "      <td>39.88</td>\n",
       "      <td>82.03</td>\n",
       "      <td>7.38</td>\n",
       "      <td>50.22</td>\n",
       "      <td>63.74</td>\n",
       "      <td>121.77</td>\n",
       "      <td>53.35</td>\n",
       "    </tr>\n",
       "  </tbody>\n",
       "</table>\n",
       "<p>2 rows × 502 columns</p>\n",
       "</div>"
      ],
      "text/plain": [
       "         DATE      SP500  NASDAQ.AAL  NASDAQ.AAPL  NASDAQ.ADBE  NASDAQ.ADI  \\\n",
       "0  1491226200  2363.6101       42.33       143.68       129.63       82.04   \n",
       "1  1491226260  2364.1001       42.36       143.70       130.32       82.08   \n",
       "\n",
       "   NASDAQ.ADP  NASDAQ.ADSK  NASDAQ.AKAM  NASDAQ.ALXN  ...  NYSE.WYN  NYSE.XEC  \\\n",
       "0      102.23        85.22        59.76       121.52  ...     84.37   119.035   \n",
       "1      102.14        85.65        59.84       121.48  ...     84.37   119.035   \n",
       "\n",
       "   NYSE.XEL  NYSE.XL  NYSE.XOM  NYSE.XRX  NYSE.XYL  NYSE.YUM  NYSE.ZBH  \\\n",
       "0     44.40    39.88     82.03      7.36     50.22     63.86    122.00   \n",
       "1     44.11    39.88     82.03      7.38     50.22     63.74    121.77   \n",
       "\n",
       "   NYSE.ZTS  \n",
       "0     53.35  \n",
       "1     53.35  \n",
       "\n",
       "[2 rows x 502 columns]"
      ]
     },
     "execution_count": 3,
     "metadata": {},
     "output_type": "execute_result"
    }
   ],
   "source": [
    "df.head(2)"
   ]
  },
  {
   "cell_type": "code",
   "execution_count": 4,
   "id": "serious-winner",
   "metadata": {},
   "outputs": [
    {
     "data": {
      "text/plain": [
       "dtype('int64')"
      ]
     },
     "execution_count": 4,
     "metadata": {},
     "output_type": "execute_result"
    }
   ],
   "source": [
    "df['DATE'].dtypes"
   ]
  },
  {
   "cell_type": "code",
   "execution_count": 5,
   "id": "configured-skirt",
   "metadata": {},
   "outputs": [],
   "source": [
    "df['DATE']=pd.to_datetime(df['DATE'], unit='s')"
   ]
  },
  {
   "cell_type": "code",
   "execution_count": 6,
   "id": "pregnant-tanzania",
   "metadata": {},
   "outputs": [
    {
     "data": {
      "text/plain": [
       "41261   2017-08-31 19:56:00\n",
       "41262   2017-08-31 19:57:00\n",
       "41263   2017-08-31 19:58:00\n",
       "41264   2017-08-31 19:59:00\n",
       "41265   2017-08-31 20:00:00\n",
       "Name: DATE, dtype: datetime64[ns]"
      ]
     },
     "execution_count": 6,
     "metadata": {},
     "output_type": "execute_result"
    }
   ],
   "source": [
    "df['DATE'].tail()"
   ]
  },
  {
   "cell_type": "code",
   "execution_count": 7,
   "id": "greater-eugene",
   "metadata": {},
   "outputs": [],
   "source": [
    "df.index=df['DATE']"
   ]
  },
  {
   "cell_type": "code",
   "execution_count": 8,
   "id": "terminal-element",
   "metadata": {},
   "outputs": [],
   "source": [
    "df.drop('DATE',axis = 1,inplace=True)"
   ]
  },
  {
   "cell_type": "code",
   "execution_count": 9,
   "id": "saved-proof",
   "metadata": {},
   "outputs": [
    {
     "data": {
      "text/html": [
       "<div>\n",
       "<style scoped>\n",
       "    .dataframe tbody tr th:only-of-type {\n",
       "        vertical-align: middle;\n",
       "    }\n",
       "\n",
       "    .dataframe tbody tr th {\n",
       "        vertical-align: top;\n",
       "    }\n",
       "\n",
       "    .dataframe thead th {\n",
       "        text-align: right;\n",
       "    }\n",
       "</style>\n",
       "<table border=\"1\" class=\"dataframe\">\n",
       "  <thead>\n",
       "    <tr style=\"text-align: right;\">\n",
       "      <th></th>\n",
       "      <th>SP500</th>\n",
       "      <th>NASDAQ.AAL</th>\n",
       "      <th>NASDAQ.AAPL</th>\n",
       "      <th>NASDAQ.ADBE</th>\n",
       "      <th>NASDAQ.ADI</th>\n",
       "      <th>NASDAQ.ADP</th>\n",
       "      <th>NASDAQ.ADSK</th>\n",
       "      <th>NASDAQ.AKAM</th>\n",
       "      <th>NASDAQ.ALXN</th>\n",
       "      <th>NASDAQ.AMAT</th>\n",
       "      <th>...</th>\n",
       "      <th>NYSE.WYN</th>\n",
       "      <th>NYSE.XEC</th>\n",
       "      <th>NYSE.XEL</th>\n",
       "      <th>NYSE.XL</th>\n",
       "      <th>NYSE.XOM</th>\n",
       "      <th>NYSE.XRX</th>\n",
       "      <th>NYSE.XYL</th>\n",
       "      <th>NYSE.YUM</th>\n",
       "      <th>NYSE.ZBH</th>\n",
       "      <th>NYSE.ZTS</th>\n",
       "    </tr>\n",
       "    <tr>\n",
       "      <th>DATE</th>\n",
       "      <th></th>\n",
       "      <th></th>\n",
       "      <th></th>\n",
       "      <th></th>\n",
       "      <th></th>\n",
       "      <th></th>\n",
       "      <th></th>\n",
       "      <th></th>\n",
       "      <th></th>\n",
       "      <th></th>\n",
       "      <th></th>\n",
       "      <th></th>\n",
       "      <th></th>\n",
       "      <th></th>\n",
       "      <th></th>\n",
       "      <th></th>\n",
       "      <th></th>\n",
       "      <th></th>\n",
       "      <th></th>\n",
       "      <th></th>\n",
       "      <th></th>\n",
       "    </tr>\n",
       "  </thead>\n",
       "  <tbody>\n",
       "    <tr>\n",
       "      <th>2017-08-31 19:56:00</th>\n",
       "      <td>2472.22</td>\n",
       "      <td>44.72</td>\n",
       "      <td>164.11</td>\n",
       "      <td>155.090</td>\n",
       "      <td>83.67</td>\n",
       "      <td>106.565</td>\n",
       "      <td>114.49</td>\n",
       "      <td>47.150</td>\n",
       "      <td>142.425</td>\n",
       "      <td>45.130</td>\n",
       "      <td>...</td>\n",
       "      <td>99.675</td>\n",
       "      <td>99.53</td>\n",
       "      <td>49.485</td>\n",
       "      <td>40.955</td>\n",
       "      <td>76.360</td>\n",
       "      <td>32.285</td>\n",
       "      <td>62.110</td>\n",
       "      <td>76.88</td>\n",
       "      <td>114.31</td>\n",
       "      <td>62.7250</td>\n",
       "    </tr>\n",
       "    <tr>\n",
       "      <th>2017-08-31 19:57:00</th>\n",
       "      <td>2471.77</td>\n",
       "      <td>44.73</td>\n",
       "      <td>164.12</td>\n",
       "      <td>155.160</td>\n",
       "      <td>83.65</td>\n",
       "      <td>106.590</td>\n",
       "      <td>114.52</td>\n",
       "      <td>47.150</td>\n",
       "      <td>142.450</td>\n",
       "      <td>45.130</td>\n",
       "      <td>...</td>\n",
       "      <td>99.730</td>\n",
       "      <td>99.63</td>\n",
       "      <td>49.480</td>\n",
       "      <td>40.960</td>\n",
       "      <td>76.370</td>\n",
       "      <td>32.295</td>\n",
       "      <td>62.100</td>\n",
       "      <td>76.90</td>\n",
       "      <td>114.33</td>\n",
       "      <td>62.7100</td>\n",
       "    </tr>\n",
       "    <tr>\n",
       "      <th>2017-08-31 19:58:00</th>\n",
       "      <td>2470.03</td>\n",
       "      <td>44.74</td>\n",
       "      <td>164.01</td>\n",
       "      <td>155.065</td>\n",
       "      <td>83.62</td>\n",
       "      <td>106.520</td>\n",
       "      <td>114.47</td>\n",
       "      <td>47.150</td>\n",
       "      <td>142.330</td>\n",
       "      <td>45.135</td>\n",
       "      <td>...</td>\n",
       "      <td>99.735</td>\n",
       "      <td>99.64</td>\n",
       "      <td>49.495</td>\n",
       "      <td>40.940</td>\n",
       "      <td>76.315</td>\n",
       "      <td>32.290</td>\n",
       "      <td>62.090</td>\n",
       "      <td>76.88</td>\n",
       "      <td>114.31</td>\n",
       "      <td>62.6850</td>\n",
       "    </tr>\n",
       "    <tr>\n",
       "      <th>2017-08-31 19:59:00</th>\n",
       "      <td>2471.49</td>\n",
       "      <td>44.71</td>\n",
       "      <td>163.88</td>\n",
       "      <td>154.960</td>\n",
       "      <td>83.58</td>\n",
       "      <td>106.400</td>\n",
       "      <td>114.33</td>\n",
       "      <td>47.135</td>\n",
       "      <td>142.170</td>\n",
       "      <td>45.065</td>\n",
       "      <td>...</td>\n",
       "      <td>99.700</td>\n",
       "      <td>99.63</td>\n",
       "      <td>49.485</td>\n",
       "      <td>40.925</td>\n",
       "      <td>76.300</td>\n",
       "      <td>32.275</td>\n",
       "      <td>62.075</td>\n",
       "      <td>76.83</td>\n",
       "      <td>114.23</td>\n",
       "      <td>62.6301</td>\n",
       "    </tr>\n",
       "    <tr>\n",
       "      <th>2017-08-31 20:00:00</th>\n",
       "      <td>2471.49</td>\n",
       "      <td>44.74</td>\n",
       "      <td>163.98</td>\n",
       "      <td>155.160</td>\n",
       "      <td>83.69</td>\n",
       "      <td>106.470</td>\n",
       "      <td>114.46</td>\n",
       "      <td>47.150</td>\n",
       "      <td>142.410</td>\n",
       "      <td>45.120</td>\n",
       "      <td>...</td>\n",
       "      <td>99.670</td>\n",
       "      <td>99.64</td>\n",
       "      <td>49.490</td>\n",
       "      <td>40.940</td>\n",
       "      <td>76.320</td>\n",
       "      <td>32.270</td>\n",
       "      <td>62.070</td>\n",
       "      <td>76.81</td>\n",
       "      <td>114.28</td>\n",
       "      <td>62.6800</td>\n",
       "    </tr>\n",
       "  </tbody>\n",
       "</table>\n",
       "<p>5 rows × 501 columns</p>\n",
       "</div>"
      ],
      "text/plain": [
       "                       SP500  NASDAQ.AAL  NASDAQ.AAPL  NASDAQ.ADBE  \\\n",
       "DATE                                                                 \n",
       "2017-08-31 19:56:00  2472.22       44.72       164.11      155.090   \n",
       "2017-08-31 19:57:00  2471.77       44.73       164.12      155.160   \n",
       "2017-08-31 19:58:00  2470.03       44.74       164.01      155.065   \n",
       "2017-08-31 19:59:00  2471.49       44.71       163.88      154.960   \n",
       "2017-08-31 20:00:00  2471.49       44.74       163.98      155.160   \n",
       "\n",
       "                     NASDAQ.ADI  NASDAQ.ADP  NASDAQ.ADSK  NASDAQ.AKAM  \\\n",
       "DATE                                                                    \n",
       "2017-08-31 19:56:00       83.67     106.565       114.49       47.150   \n",
       "2017-08-31 19:57:00       83.65     106.590       114.52       47.150   \n",
       "2017-08-31 19:58:00       83.62     106.520       114.47       47.150   \n",
       "2017-08-31 19:59:00       83.58     106.400       114.33       47.135   \n",
       "2017-08-31 20:00:00       83.69     106.470       114.46       47.150   \n",
       "\n",
       "                     NASDAQ.ALXN  NASDAQ.AMAT  ...  NYSE.WYN  NYSE.XEC  \\\n",
       "DATE                                           ...                       \n",
       "2017-08-31 19:56:00      142.425       45.130  ...    99.675     99.53   \n",
       "2017-08-31 19:57:00      142.450       45.130  ...    99.730     99.63   \n",
       "2017-08-31 19:58:00      142.330       45.135  ...    99.735     99.64   \n",
       "2017-08-31 19:59:00      142.170       45.065  ...    99.700     99.63   \n",
       "2017-08-31 20:00:00      142.410       45.120  ...    99.670     99.64   \n",
       "\n",
       "                     NYSE.XEL  NYSE.XL  NYSE.XOM  NYSE.XRX  NYSE.XYL  \\\n",
       "DATE                                                                   \n",
       "2017-08-31 19:56:00    49.485   40.955    76.360    32.285    62.110   \n",
       "2017-08-31 19:57:00    49.480   40.960    76.370    32.295    62.100   \n",
       "2017-08-31 19:58:00    49.495   40.940    76.315    32.290    62.090   \n",
       "2017-08-31 19:59:00    49.485   40.925    76.300    32.275    62.075   \n",
       "2017-08-31 20:00:00    49.490   40.940    76.320    32.270    62.070   \n",
       "\n",
       "                     NYSE.YUM  NYSE.ZBH  NYSE.ZTS  \n",
       "DATE                                               \n",
       "2017-08-31 19:56:00     76.88    114.31   62.7250  \n",
       "2017-08-31 19:57:00     76.90    114.33   62.7100  \n",
       "2017-08-31 19:58:00     76.88    114.31   62.6850  \n",
       "2017-08-31 19:59:00     76.83    114.23   62.6301  \n",
       "2017-08-31 20:00:00     76.81    114.28   62.6800  \n",
       "\n",
       "[5 rows x 501 columns]"
      ]
     },
     "execution_count": 9,
     "metadata": {},
     "output_type": "execute_result"
    }
   ],
   "source": [
    "df.tail()"
   ]
  },
  {
   "cell_type": "code",
   "execution_count": 10,
   "id": "cardiac-inspection",
   "metadata": {},
   "outputs": [],
   "source": [
    "df_AAPL = df[['NASDAQ.AAPL']].copy()"
   ]
  },
  {
   "cell_type": "code",
   "execution_count": 11,
   "id": "balanced-bradford",
   "metadata": {},
   "outputs": [
    {
     "data": {
      "text/html": [
       "<div>\n",
       "<style scoped>\n",
       "    .dataframe tbody tr th:only-of-type {\n",
       "        vertical-align: middle;\n",
       "    }\n",
       "\n",
       "    .dataframe tbody tr th {\n",
       "        vertical-align: top;\n",
       "    }\n",
       "\n",
       "    .dataframe thead th {\n",
       "        text-align: right;\n",
       "    }\n",
       "</style>\n",
       "<table border=\"1\" class=\"dataframe\">\n",
       "  <thead>\n",
       "    <tr style=\"text-align: right;\">\n",
       "      <th></th>\n",
       "      <th>NASDAQ.AAPL</th>\n",
       "    </tr>\n",
       "    <tr>\n",
       "      <th>DATE</th>\n",
       "      <th></th>\n",
       "    </tr>\n",
       "  </thead>\n",
       "  <tbody>\n",
       "    <tr>\n",
       "      <th>2017-08-31 19:56:00</th>\n",
       "      <td>164.11</td>\n",
       "    </tr>\n",
       "    <tr>\n",
       "      <th>2017-08-31 19:57:00</th>\n",
       "      <td>164.12</td>\n",
       "    </tr>\n",
       "    <tr>\n",
       "      <th>2017-08-31 19:58:00</th>\n",
       "      <td>164.01</td>\n",
       "    </tr>\n",
       "    <tr>\n",
       "      <th>2017-08-31 19:59:00</th>\n",
       "      <td>163.88</td>\n",
       "    </tr>\n",
       "    <tr>\n",
       "      <th>2017-08-31 20:00:00</th>\n",
       "      <td>163.98</td>\n",
       "    </tr>\n",
       "  </tbody>\n",
       "</table>\n",
       "</div>"
      ],
      "text/plain": [
       "                     NASDAQ.AAPL\n",
       "DATE                            \n",
       "2017-08-31 19:56:00       164.11\n",
       "2017-08-31 19:57:00       164.12\n",
       "2017-08-31 19:58:00       164.01\n",
       "2017-08-31 19:59:00       163.88\n",
       "2017-08-31 20:00:00       163.98"
      ]
     },
     "execution_count": 11,
     "metadata": {},
     "output_type": "execute_result"
    }
   ],
   "source": [
    "df_AAPL.tail()"
   ]
  },
  {
   "cell_type": "code",
   "execution_count": 12,
   "id": "light-refund",
   "metadata": {},
   "outputs": [
    {
     "data": {
      "text/plain": [
       "NASDAQ.AAPL    41266\n",
       "dtype: int64"
      ]
     },
     "execution_count": 12,
     "metadata": {},
     "output_type": "execute_result"
    }
   ],
   "source": [
    "df_AAPL.count()"
   ]
  },
  {
   "cell_type": "code",
   "execution_count": 13,
   "id": "catholic-doubt",
   "metadata": {},
   "outputs": [
    {
     "data": {
      "text/plain": [
       "<AxesSubplot:xlabel='DATE'>"
      ]
     },
     "execution_count": 13,
     "metadata": {},
     "output_type": "execute_result"
    },
    {
     "data": {
      "image/png": "[encoded data removed]",
      "text/plain": [
       "<Figure size 432x288 with 1 Axes>"
      ]
     },
     "metadata": {
      "needs_background": "light"
     },
     "output_type": "display_data"
    }
   ],
   "source": [
    "df_AAPL.plot()"
   ]
  },
  {
   "cell_type": "markdown",
   "id": "suited-socket",
   "metadata": {},
   "source": [
    "Stationary means mean,variance and covariance is constant over periods."
   ]
  },
  {
   "cell_type": "code",
   "execution_count": 14,
   "id": "southern-center",
   "metadata": {},
   "outputs": [
    {
     "data": {
      "image/png": "[encoded data removed]",
      "text/plain": [
       "<Figure size 432x288 with 1 Axes>"
      ]
     },
     "execution_count": 14,
     "metadata": {},
     "output_type": "execute_result"
    },
    {
     "data": {
      "image/png": "[encoded data removed]",
      "text/plain": [
       "<Figure size 432x288 with 1 Axes>"
      ]
     },
     "metadata": {
      "needs_background": "light"
     },
     "output_type": "display_data"
    }
   ],
   "source": [
    "from statsmodels.graphics.tsaplots import plot_acf\n",
    "plot_acf(df_AAPL)"
   ]
  },
  {
   "cell_type": "markdown",
   "id": "ordinary-dayton",
   "metadata": {},
   "source": [
    "###### Converting series to stationary"
   ]
  },
  {
   "cell_type": "code",
   "execution_count": 15,
   "id": "incorporate-estonia",
   "metadata": {},
   "outputs": [
    {
     "data": {
      "text/html": [
       "<div>\n",
       "<style scoped>\n",
       "    .dataframe tbody tr th:only-of-type {\n",
       "        vertical-align: middle;\n",
       "    }\n",
       "\n",
       "    .dataframe tbody tr th {\n",
       "        vertical-align: top;\n",
       "    }\n",
       "\n",
       "    .dataframe thead th {\n",
       "        text-align: right;\n",
       "    }\n",
       "</style>\n",
       "<table border=\"1\" class=\"dataframe\">\n",
       "  <thead>\n",
       "    <tr style=\"text-align: right;\">\n",
       "      <th></th>\n",
       "      <th>NASDAQ.AAPL</th>\n",
       "    </tr>\n",
       "    <tr>\n",
       "      <th>DATE</th>\n",
       "      <th></th>\n",
       "    </tr>\n",
       "  </thead>\n",
       "  <tbody>\n",
       "    <tr>\n",
       "      <th>2017-04-03 13:30:00</th>\n",
       "      <td>NaN</td>\n",
       "    </tr>\n",
       "    <tr>\n",
       "      <th>2017-04-03 13:31:00</th>\n",
       "      <td>143.6800</td>\n",
       "    </tr>\n",
       "    <tr>\n",
       "      <th>2017-04-03 13:32:00</th>\n",
       "      <td>143.7000</td>\n",
       "    </tr>\n",
       "    <tr>\n",
       "      <th>2017-04-03 13:33:00</th>\n",
       "      <td>143.6901</td>\n",
       "    </tr>\n",
       "    <tr>\n",
       "      <th>2017-04-03 13:34:00</th>\n",
       "      <td>143.6400</td>\n",
       "    </tr>\n",
       "    <tr>\n",
       "      <th>...</th>\n",
       "      <td>...</td>\n",
       "    </tr>\n",
       "    <tr>\n",
       "      <th>2017-08-31 19:56:00</th>\n",
       "      <td>164.1400</td>\n",
       "    </tr>\n",
       "    <tr>\n",
       "      <th>2017-08-31 19:57:00</th>\n",
       "      <td>164.1100</td>\n",
       "    </tr>\n",
       "    <tr>\n",
       "      <th>2017-08-31 19:58:00</th>\n",
       "      <td>164.1200</td>\n",
       "    </tr>\n",
       "    <tr>\n",
       "      <th>2017-08-31 19:59:00</th>\n",
       "      <td>164.0100</td>\n",
       "    </tr>\n",
       "    <tr>\n",
       "      <th>2017-08-31 20:00:00</th>\n",
       "      <td>163.8800</td>\n",
       "    </tr>\n",
       "  </tbody>\n",
       "</table>\n",
       "<p>41266 rows × 1 columns</p>\n",
       "</div>"
      ],
      "text/plain": [
       "                     NASDAQ.AAPL\n",
       "DATE                            \n",
       "2017-04-03 13:30:00          NaN\n",
       "2017-04-03 13:31:00     143.6800\n",
       "2017-04-03 13:32:00     143.7000\n",
       "2017-04-03 13:33:00     143.6901\n",
       "2017-04-03 13:34:00     143.6400\n",
       "...                          ...\n",
       "2017-08-31 19:56:00     164.1400\n",
       "2017-08-31 19:57:00     164.1100\n",
       "2017-08-31 19:58:00     164.1200\n",
       "2017-08-31 19:59:00     164.0100\n",
       "2017-08-31 20:00:00     163.8800\n",
       "\n",
       "[41266 rows x 1 columns]"
      ]
     },
     "execution_count": 15,
     "metadata": {},
     "output_type": "execute_result"
    }
   ],
   "source": [
    "df_AAPL.shift(1)"
   ]
  },
  {
   "cell_type": "code",
   "execution_count": 16,
   "id": "great-execution",
   "metadata": {},
   "outputs": [
    {
     "name": "stdout",
     "output_type": "stream",
     "text": [
      "28886\n",
      "12380\n"
     ]
    }
   ],
   "source": [
    "X = df_AAPL.values\n",
    "train = X[0:28886] # 27 data as train data\n",
    "test = X[28886:] # 9 data as test data\n",
    "print(train.size)\n",
    "print(test.size)\n",
    "predictions = []"
   ]
  },
  {
   "cell_type": "markdown",
   "id": "departmental-chuck",
   "metadata": {},
   "source": [
    "#### ARIMA Model"
   ]
  },
  {
   "cell_type": "code",
   "execution_count": 17,
   "id": "blessed-appreciation",
   "metadata": {},
   "outputs": [],
   "source": [
    "from statsmodels.tsa.arima_model import ARIMA"
   ]
  },
  {
   "cell_type": "code",
   "execution_count": 18,
   "id": "quick-consultation",
   "metadata": {},
   "outputs": [],
   "source": [
    "import itertools\n",
    "p=d=q=range(0,6)\n",
    "pdq=list(itertools.product(p,d,q))"
   ]
  },
  {
   "cell_type": "markdown",
   "id": "imposed-mercury",
   "metadata": {},
   "source": [
    "###### My system not able to run and getting hang wwhile I run the below code coz of low configuratios"
   ]
  },
  {
   "cell_type": "code",
   "execution_count": null,
   "id": "committed-lounge",
   "metadata": {},
   "outputs": [
    {
     "name": "stdout",
     "output_type": "stream",
     "text": [
      "(0, 0, 0) 170326.9720446082\n",
      "(0, 0, 1) 131018.03599865359\n",
      "(0, 0, 2) 95780.67244459329\n",
      "(0, 0, 3) 67525.18962516474\n",
      "(0, 0, 4) 45787.34709203329\n",
      "(0, 1, 0) -64708.71200636141\n",
      "(0, 1, 1) -64706.87731534064\n",
      "(0, 1, 2) -64718.28609667193\n",
      "(0, 1, 3) -64719.67999909299\n",
      "(0, 1, 4) -64724.74650243383\n",
      "(0, 1, 5) -64723.273957570855\n",
      "(0, 2, 0) -44617.132207470146\n",
      "(0, 2, 1) -64678.289288177024\n",
      "(0, 2, 2) -64676.47207188736\n"
     ]
    }
   ],
   "source": [
    "import warnings\n",
    "warnings.filterwarnings('ignore')\n",
    "for param in pdq:\n",
    "    try:\n",
    "        model_arima = ARIMA(train, order=param)\n",
    "        model_arima_fit = model_arima.fit()\n",
    "        print(param,model_arima_fit.aic)\n",
    "    except:\n",
    "        continue"
   ]
  },
  {
   "cell_type": "code",
   "execution_count": null,
   "id": "decimal-philippines",
   "metadata": {},
   "outputs": [],
   "source": [
    "#p,d,q \n",
    "#p -> Periods taken for auto regressive model\n",
    "#d -> Integrated order, difference\n",
    "#q -> Periods in moving average model\n",
    "model_arima = ARIMA(train, order=(4,1,4))\n",
    "model_arima_fit = model_arima.fit()\n",
    "print(model_arima_fit.aic)"
   ]
  },
  {
   "cell_type": "code",
   "execution_count": null,
   "id": "auburn-optimum",
   "metadata": {},
   "outputs": [],
   "source": [
    "predictions = model_arima_fit.forecast(steps=12380)[0]\n",
    "predictions"
   ]
  },
  {
   "cell_type": "code",
   "execution_count": null,
   "id": "advance-lender",
   "metadata": {},
   "outputs": [],
   "source": [
    "plt.plot(test)\n",
    "plt.plot(predictions, color='red')"
   ]
  },
  {
   "cell_type": "code",
   "execution_count": null,
   "id": "conservative-connection",
   "metadata": {},
   "outputs": [],
   "source": [
    "from sklearn.metrics import mean_squared_error\n",
    "mean_squared_error(test,predictions)"
   ]
  },
  {
   "cell_type": "markdown",
   "id": "delayed-society",
   "metadata": {},
   "source": [
    "##### The above forecasting done for NASDAQ.AAPL. Similar can be done for other stocks."
   ]
  }
 ],
 "metadata": {
  "kernelspec": {
   "display_name": "Python 3",
   "language": "python",
   "name": "python3"
  },
  "language_info": {
   "codemirror_mode": {
    "name": "ipython",
    "version": 3
   },
   "file_extension": ".py",
   "mimetype": "text/x-python",
   "name": "python",
   "nbconvert_exporter": "python",
   "pygments_lexer": "ipython3",
   "version": "3.8.5"
  }
 },
 "nbformat": 4,
 "nbformat_minor": 5
}
