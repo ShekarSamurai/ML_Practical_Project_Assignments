{
 "cells": [
  {
   "cell_type": "markdown",
   "id": "digital-charger",
   "metadata": {},
   "source": [
    "using different slgorithms need to predict whether a person\n",
    "makes over 50K per year or not from classic adult dataset using XGBoost."
   ]
  },
  {
   "cell_type": "code",
   "execution_count": 1,
   "id": "early-archive",
   "metadata": {},
   "outputs": [],
   "source": [
    "import pandas as pd\n",
    "import numpy as np\n",
    "import seaborn as sns\n",
    "import matplotlib.pyplot as plt\n",
    "%matplotlib inline"
   ]
  },
  {
   "cell_type": "code",
   "execution_count": 2,
   "id": "apparent-needle",
   "metadata": {},
   "outputs": [],
   "source": [
    "url = 'https://archive.ics.uci.edu/ml/machine-learning-databases/adult/adult.data'"
   ]
  },
  {
   "cell_type": "code",
   "execution_count": 3,
   "id": "reverse-genetics",
   "metadata": {},
   "outputs": [],
   "source": [
    "columns = ['age','workclass','fnlwgt','education','education-num','marital-status','occupation','relationship','race','sex','capital-gain','capital-loss','hours-per-week','native-country','salary']"
   ]
  },
  {
   "cell_type": "code",
   "execution_count": 4,
   "id": "developing-arthur",
   "metadata": {},
   "outputs": [],
   "source": [
    "df = pd.read_csv(url,names=columns)"
   ]
  },
  {
   "cell_type": "code",
   "execution_count": 5,
   "id": "ambient-romantic",
   "metadata": {},
   "outputs": [
    {
     "data": {
      "text/html": [
       "<div>\n",
       "<style scoped>\n",
       "    .dataframe tbody tr th:only-of-type {\n",
       "        vertical-align: middle;\n",
       "    }\n",
       "\n",
       "    .dataframe tbody tr th {\n",
       "        vertical-align: top;\n",
       "    }\n",
       "\n",
       "    .dataframe thead th {\n",
       "        text-align: right;\n",
       "    }\n",
       "</style>\n",
       "<table border=\"1\" class=\"dataframe\">\n",
       "  <thead>\n",
       "    <tr style=\"text-align: right;\">\n",
       "      <th></th>\n",
       "      <th>age</th>\n",
       "      <th>workclass</th>\n",
       "      <th>fnlwgt</th>\n",
       "      <th>education</th>\n",
       "      <th>education-num</th>\n",
       "      <th>marital-status</th>\n",
       "      <th>occupation</th>\n",
       "      <th>relationship</th>\n",
       "      <th>race</th>\n",
       "      <th>sex</th>\n",
       "      <th>capital-gain</th>\n",
       "      <th>capital-loss</th>\n",
       "      <th>hours-per-week</th>\n",
       "      <th>native-country</th>\n",
       "      <th>salary</th>\n",
       "    </tr>\n",
       "  </thead>\n",
       "  <tbody>\n",
       "    <tr>\n",
       "      <th>0</th>\n",
       "      <td>39</td>\n",
       "      <td>State-gov</td>\n",
       "      <td>77516</td>\n",
       "      <td>Bachelors</td>\n",
       "      <td>13</td>\n",
       "      <td>Never-married</td>\n",
       "      <td>Adm-clerical</td>\n",
       "      <td>Not-in-family</td>\n",
       "      <td>White</td>\n",
       "      <td>Male</td>\n",
       "      <td>2174</td>\n",
       "      <td>0</td>\n",
       "      <td>40</td>\n",
       "      <td>United-States</td>\n",
       "      <td>&lt;=50K</td>\n",
       "    </tr>\n",
       "    <tr>\n",
       "      <th>1</th>\n",
       "      <td>50</td>\n",
       "      <td>Self-emp-not-inc</td>\n",
       "      <td>83311</td>\n",
       "      <td>Bachelors</td>\n",
       "      <td>13</td>\n",
       "      <td>Married-civ-spouse</td>\n",
       "      <td>Exec-managerial</td>\n",
       "      <td>Husband</td>\n",
       "      <td>White</td>\n",
       "      <td>Male</td>\n",
       "      <td>0</td>\n",
       "      <td>0</td>\n",
       "      <td>13</td>\n",
       "      <td>United-States</td>\n",
       "      <td>&lt;=50K</td>\n",
       "    </tr>\n",
       "    <tr>\n",
       "      <th>2</th>\n",
       "      <td>38</td>\n",
       "      <td>Private</td>\n",
       "      <td>215646</td>\n",
       "      <td>HS-grad</td>\n",
       "      <td>9</td>\n",
       "      <td>Divorced</td>\n",
       "      <td>Handlers-cleaners</td>\n",
       "      <td>Not-in-family</td>\n",
       "      <td>White</td>\n",
       "      <td>Male</td>\n",
       "      <td>0</td>\n",
       "      <td>0</td>\n",
       "      <td>40</td>\n",
       "      <td>United-States</td>\n",
       "      <td>&lt;=50K</td>\n",
       "    </tr>\n",
       "    <tr>\n",
       "      <th>3</th>\n",
       "      <td>53</td>\n",
       "      <td>Private</td>\n",
       "      <td>234721</td>\n",
       "      <td>11th</td>\n",
       "      <td>7</td>\n",
       "      <td>Married-civ-spouse</td>\n",
       "      <td>Handlers-cleaners</td>\n",
       "      <td>Husband</td>\n",
       "      <td>Black</td>\n",
       "      <td>Male</td>\n",
       "      <td>0</td>\n",
       "      <td>0</td>\n",
       "      <td>40</td>\n",
       "      <td>United-States</td>\n",
       "      <td>&lt;=50K</td>\n",
       "    </tr>\n",
       "    <tr>\n",
       "      <th>4</th>\n",
       "      <td>28</td>\n",
       "      <td>Private</td>\n",
       "      <td>338409</td>\n",
       "      <td>Bachelors</td>\n",
       "      <td>13</td>\n",
       "      <td>Married-civ-spouse</td>\n",
       "      <td>Prof-specialty</td>\n",
       "      <td>Wife</td>\n",
       "      <td>Black</td>\n",
       "      <td>Female</td>\n",
       "      <td>0</td>\n",
       "      <td>0</td>\n",
       "      <td>40</td>\n",
       "      <td>Cuba</td>\n",
       "      <td>&lt;=50K</td>\n",
       "    </tr>\n",
       "  </tbody>\n",
       "</table>\n",
       "</div>"
      ],
      "text/plain": [
       "   age          workclass  fnlwgt   education  education-num  \\\n",
       "0   39          State-gov   77516   Bachelors             13   \n",
       "1   50   Self-emp-not-inc   83311   Bachelors             13   \n",
       "2   38            Private  215646     HS-grad              9   \n",
       "3   53            Private  234721        11th              7   \n",
       "4   28            Private  338409   Bachelors             13   \n",
       "\n",
       "        marital-status          occupation    relationship    race      sex  \\\n",
       "0        Never-married        Adm-clerical   Not-in-family   White     Male   \n",
       "1   Married-civ-spouse     Exec-managerial         Husband   White     Male   \n",
       "2             Divorced   Handlers-cleaners   Not-in-family   White     Male   \n",
       "3   Married-civ-spouse   Handlers-cleaners         Husband   Black     Male   \n",
       "4   Married-civ-spouse      Prof-specialty            Wife   Black   Female   \n",
       "\n",
       "   capital-gain  capital-loss  hours-per-week  native-country  salary  \n",
       "0          2174             0              40   United-States   <=50K  \n",
       "1             0             0              13   United-States   <=50K  \n",
       "2             0             0              40   United-States   <=50K  \n",
       "3             0             0              40   United-States   <=50K  \n",
       "4             0             0              40            Cuba   <=50K  "
      ]
     },
     "execution_count": 5,
     "metadata": {},
     "output_type": "execute_result"
    }
   ],
   "source": [
    "df.head()"
   ]
  },
  {
   "cell_type": "code",
   "execution_count": 6,
   "id": "measured-island",
   "metadata": {},
   "outputs": [
    {
     "name": "stdout",
     "output_type": "stream",
     "text": [
      "<class 'pandas.core.frame.DataFrame'>\n",
      "RangeIndex: 32561 entries, 0 to 32560\n",
      "Data columns (total 15 columns):\n",
      " #   Column          Non-Null Count  Dtype \n",
      "---  ------          --------------  ----- \n",
      " 0   age             32561 non-null  int64 \n",
      " 1   workclass       32561 non-null  object\n",
      " 2   fnlwgt          32561 non-null  int64 \n",
      " 3   education       32561 non-null  object\n",
      " 4   education-num   32561 non-null  int64 \n",
      " 5   marital-status  32561 non-null  object\n",
      " 6   occupation      32561 non-null  object\n",
      " 7   relationship    32561 non-null  object\n",
      " 8   race            32561 non-null  object\n",
      " 9   sex             32561 non-null  object\n",
      " 10  capital-gain    32561 non-null  int64 \n",
      " 11  capital-loss    32561 non-null  int64 \n",
      " 12  hours-per-week  32561 non-null  int64 \n",
      " 13  native-country  32561 non-null  object\n",
      " 14  salary          32561 non-null  object\n",
      "dtypes: int64(6), object(9)\n",
      "memory usage: 3.7+ MB\n"
     ]
    }
   ],
   "source": [
    "df.info()"
   ]
  },
  {
   "cell_type": "code",
   "execution_count": 7,
   "id": "incredible-dictionary",
   "metadata": {},
   "outputs": [
    {
     "data": {
      "text/html": [
       "<div>\n",
       "<style scoped>\n",
       "    .dataframe tbody tr th:only-of-type {\n",
       "        vertical-align: middle;\n",
       "    }\n",
       "\n",
       "    .dataframe tbody tr th {\n",
       "        vertical-align: top;\n",
       "    }\n",
       "\n",
       "    .dataframe thead th {\n",
       "        text-align: right;\n",
       "    }\n",
       "</style>\n",
       "<table border=\"1\" class=\"dataframe\">\n",
       "  <thead>\n",
       "    <tr style=\"text-align: right;\">\n",
       "      <th></th>\n",
       "      <th>age</th>\n",
       "      <th>fnlwgt</th>\n",
       "      <th>education-num</th>\n",
       "      <th>capital-gain</th>\n",
       "      <th>capital-loss</th>\n",
       "      <th>hours-per-week</th>\n",
       "    </tr>\n",
       "  </thead>\n",
       "  <tbody>\n",
       "    <tr>\n",
       "      <th>count</th>\n",
       "      <td>32561.000000</td>\n",
       "      <td>3.256100e+04</td>\n",
       "      <td>32561.000000</td>\n",
       "      <td>32561.000000</td>\n",
       "      <td>32561.000000</td>\n",
       "      <td>32561.000000</td>\n",
       "    </tr>\n",
       "    <tr>\n",
       "      <th>mean</th>\n",
       "      <td>38.581647</td>\n",
       "      <td>1.897784e+05</td>\n",
       "      <td>10.080679</td>\n",
       "      <td>1077.648844</td>\n",
       "      <td>87.303830</td>\n",
       "      <td>40.437456</td>\n",
       "    </tr>\n",
       "    <tr>\n",
       "      <th>std</th>\n",
       "      <td>13.640433</td>\n",
       "      <td>1.055500e+05</td>\n",
       "      <td>2.572720</td>\n",
       "      <td>7385.292085</td>\n",
       "      <td>402.960219</td>\n",
       "      <td>12.347429</td>\n",
       "    </tr>\n",
       "    <tr>\n",
       "      <th>min</th>\n",
       "      <td>17.000000</td>\n",
       "      <td>1.228500e+04</td>\n",
       "      <td>1.000000</td>\n",
       "      <td>0.000000</td>\n",
       "      <td>0.000000</td>\n",
       "      <td>1.000000</td>\n",
       "    </tr>\n",
       "    <tr>\n",
       "      <th>25%</th>\n",
       "      <td>28.000000</td>\n",
       "      <td>1.178270e+05</td>\n",
       "      <td>9.000000</td>\n",
       "      <td>0.000000</td>\n",
       "      <td>0.000000</td>\n",
       "      <td>40.000000</td>\n",
       "    </tr>\n",
       "    <tr>\n",
       "      <th>50%</th>\n",
       "      <td>37.000000</td>\n",
       "      <td>1.783560e+05</td>\n",
       "      <td>10.000000</td>\n",
       "      <td>0.000000</td>\n",
       "      <td>0.000000</td>\n",
       "      <td>40.000000</td>\n",
       "    </tr>\n",
       "    <tr>\n",
       "      <th>75%</th>\n",
       "      <td>48.000000</td>\n",
       "      <td>2.370510e+05</td>\n",
       "      <td>12.000000</td>\n",
       "      <td>0.000000</td>\n",
       "      <td>0.000000</td>\n",
       "      <td>45.000000</td>\n",
       "    </tr>\n",
       "    <tr>\n",
       "      <th>max</th>\n",
       "      <td>90.000000</td>\n",
       "      <td>1.484705e+06</td>\n",
       "      <td>16.000000</td>\n",
       "      <td>99999.000000</td>\n",
       "      <td>4356.000000</td>\n",
       "      <td>99.000000</td>\n",
       "    </tr>\n",
       "  </tbody>\n",
       "</table>\n",
       "</div>"
      ],
      "text/plain": [
       "                age        fnlwgt  education-num  capital-gain  capital-loss  \\\n",
       "count  32561.000000  3.256100e+04   32561.000000  32561.000000  32561.000000   \n",
       "mean      38.581647  1.897784e+05      10.080679   1077.648844     87.303830   \n",
       "std       13.640433  1.055500e+05       2.572720   7385.292085    402.960219   \n",
       "min       17.000000  1.228500e+04       1.000000      0.000000      0.000000   \n",
       "25%       28.000000  1.178270e+05       9.000000      0.000000      0.000000   \n",
       "50%       37.000000  1.783560e+05      10.000000      0.000000      0.000000   \n",
       "75%       48.000000  2.370510e+05      12.000000      0.000000      0.000000   \n",
       "max       90.000000  1.484705e+06      16.000000  99999.000000   4356.000000   \n",
       "\n",
       "       hours-per-week  \n",
       "count    32561.000000  \n",
       "mean        40.437456  \n",
       "std         12.347429  \n",
       "min          1.000000  \n",
       "25%         40.000000  \n",
       "50%         40.000000  \n",
       "75%         45.000000  \n",
       "max         99.000000  "
      ]
     },
     "execution_count": 7,
     "metadata": {},
     "output_type": "execute_result"
    }
   ],
   "source": [
    "df.describe()"
   ]
  },
  {
   "cell_type": "markdown",
   "id": "dressed-fancy",
   "metadata": {},
   "source": [
    "#### Feature Engineering\n"
   ]
  },
  {
   "cell_type": "code",
   "execution_count": 8,
   "id": "dependent-moore",
   "metadata": {},
   "outputs": [
    {
     "data": {
      "text/plain": [
       "age               0\n",
       "workclass         0\n",
       "fnlwgt            0\n",
       "education         0\n",
       "education-num     0\n",
       "marital-status    0\n",
       "occupation        0\n",
       "relationship      0\n",
       "race              0\n",
       "sex               0\n",
       "capital-gain      0\n",
       "capital-loss      0\n",
       "hours-per-week    0\n",
       "native-country    0\n",
       "salary            0\n",
       "dtype: int64"
      ]
     },
     "execution_count": 8,
     "metadata": {},
     "output_type": "execute_result"
    }
   ],
   "source": [
    "df.isnull().sum()"
   ]
  },
  {
   "cell_type": "code",
   "execution_count": 9,
   "id": "clean-tongue",
   "metadata": {},
   "outputs": [],
   "source": [
    "df.replace(' ?',np.nan,inplace=True)\n"
   ]
  },
  {
   "cell_type": "code",
   "execution_count": 10,
   "id": "hindu-taylor",
   "metadata": {},
   "outputs": [
    {
     "data": {
      "text/plain": [
       "age                  0\n",
       "workclass         1836\n",
       "fnlwgt               0\n",
       "education            0\n",
       "education-num        0\n",
       "marital-status       0\n",
       "occupation        1843\n",
       "relationship         0\n",
       "race                 0\n",
       "sex                  0\n",
       "capital-gain         0\n",
       "capital-loss         0\n",
       "hours-per-week       0\n",
       "native-country     583\n",
       "salary               0\n",
       "dtype: int64"
      ]
     },
     "execution_count": 10,
     "metadata": {},
     "output_type": "execute_result"
    }
   ],
   "source": [
    "df.isnull().sum()"
   ]
  },
  {
   "cell_type": "code",
   "execution_count": 11,
   "id": "charged-cosmetic",
   "metadata": {},
   "outputs": [
    {
     "data": {
      "text/plain": [
       "age                int64\n",
       "workclass         object\n",
       "fnlwgt             int64\n",
       "education         object\n",
       "education-num      int64\n",
       "marital-status    object\n",
       "occupation        object\n",
       "relationship      object\n",
       "race              object\n",
       "sex               object\n",
       "capital-gain       int64\n",
       "capital-loss       int64\n",
       "hours-per-week     int64\n",
       "native-country    object\n",
       "salary            object\n",
       "dtype: object"
      ]
     },
     "execution_count": 11,
     "metadata": {},
     "output_type": "execute_result"
    }
   ],
   "source": [
    "df.dtypes"
   ]
  },
  {
   "cell_type": "code",
   "execution_count": 12,
   "id": "guided-constitution",
   "metadata": {},
   "outputs": [
    {
     "data": {
      "text/plain": [
       "array([' <=50K', ' >50K'], dtype=object)"
      ]
     },
     "execution_count": 12,
     "metadata": {},
     "output_type": "execute_result"
    }
   ],
   "source": [
    "#### Salary\n",
    "df.salary.unique()"
   ]
  },
  {
   "cell_type": "code",
   "execution_count": 13,
   "id": "injured-dakota",
   "metadata": {},
   "outputs": [
    {
     "name": "stderr",
     "output_type": "stream",
     "text": [
      "C:\\Users\\sheka\\anaconda3\\envs\\tensorflow\\lib\\site-packages\\seaborn\\_decorators.py:36: FutureWarning: Pass the following variable as a keyword arg: x. From version 0.12, the only valid positional argument will be `data`, and passing other arguments without an explicit keyword will result in an error or misinterpretation.\n",
      "  warnings.warn(\n"
     ]
    },
    {
     "data": {
      "text/plain": [
       "<AxesSubplot:xlabel='salary', ylabel='count'>"
      ]
     },
     "execution_count": 13,
     "metadata": {},
     "output_type": "execute_result"
    },
    {
     "data": {
      "image/png": "[encoded data removed]",
      "text/plain": [
       "<Figure size 432x288 with 1 Axes>"
      ]
     },
     "metadata": {
      "needs_background": "light"
     },
     "output_type": "display_data"
    }
   ],
   "source": [
    "df = df.replace({' <=50K':0,' >50K':1})\n",
    "sns.countplot(df['salary'])\n"
   ]
  },
  {
   "cell_type": "code",
   "execution_count": 14,
   "id": "intelligent-moment",
   "metadata": {},
   "outputs": [
    {
     "data": {
      "text/plain": [
       "0    24720\n",
       "1     7841\n",
       "Name: salary, dtype: int64"
      ]
     },
     "execution_count": 14,
     "metadata": {},
     "output_type": "execute_result"
    }
   ],
   "source": [
    "df['salary'].value_counts()"
   ]
  },
  {
   "cell_type": "code",
   "execution_count": 15,
   "id": "referenced-applicant",
   "metadata": {},
   "outputs": [
    {
     "data": {
      "text/plain": [
       "array([' State-gov', ' Self-emp-not-inc', ' Private', ' Federal-gov',\n",
       "       ' Local-gov', nan, ' Self-emp-inc', ' Without-pay',\n",
       "       ' Never-worked'], dtype=object)"
      ]
     },
     "execution_count": 15,
     "metadata": {},
     "output_type": "execute_result"
    }
   ],
   "source": [
    "### Workclass\n",
    "\n",
    "df.workclass.unique()"
   ]
  },
  {
   "cell_type": "code",
   "execution_count": 16,
   "id": "greater-large",
   "metadata": {},
   "outputs": [
    {
     "data": {
      "text/plain": [
       " Private             22696\n",
       " Self-emp-not-inc     2541\n",
       " Local-gov            2093\n",
       " State-gov            1298\n",
       " Self-emp-inc         1116\n",
       " Federal-gov           960\n",
       " Without-pay            14\n",
       " Never-worked            7\n",
       "Name: workclass, dtype: int64"
      ]
     },
     "execution_count": 16,
     "metadata": {},
     "output_type": "execute_result"
    }
   ],
   "source": [
    "df['workclass'].value_counts()\n"
   ]
  },
  {
   "cell_type": "code",
   "execution_count": 17,
   "id": "catholic-resistance",
   "metadata": {},
   "outputs": [],
   "source": [
    "df= df.replace(' Without-pay', ' Never-worked')"
   ]
  },
  {
   "cell_type": "code",
   "execution_count": 18,
   "id": "thirty-fellow",
   "metadata": {},
   "outputs": [
    {
     "data": {
      "text/plain": [
       " Private             22696\n",
       " Self-emp-not-inc     2541\n",
       " Local-gov            2093\n",
       " State-gov            1298\n",
       " Self-emp-inc         1116\n",
       " Federal-gov           960\n",
       " Never-worked           21\n",
       "Name: workclass, dtype: int64"
      ]
     },
     "execution_count": 18,
     "metadata": {},
     "output_type": "execute_result"
    }
   ],
   "source": [
    "df['workclass'].value_counts()\n"
   ]
  },
  {
   "cell_type": "code",
   "execution_count": 19,
   "id": "loose-prospect",
   "metadata": {},
   "outputs": [
    {
     "name": "stderr",
     "output_type": "stream",
     "text": [
      "C:\\Users\\sheka\\anaconda3\\envs\\tensorflow\\lib\\site-packages\\seaborn\\_decorators.py:36: FutureWarning: Pass the following variable as a keyword arg: x. From version 0.12, the only valid positional argument will be `data`, and passing other arguments without an explicit keyword will result in an error or misinterpretation.\n",
      "  warnings.warn(\n"
     ]
    },
    {
     "data": {
      "text/plain": [
       "(array([0, 1, 2, 3, 4, 5, 6]),\n",
       " [Text(0, 0, ' State-gov'),\n",
       "  Text(1, 0, ' Self-emp-not-inc'),\n",
       "  Text(2, 0, ' Private'),\n",
       "  Text(3, 0, ' Federal-gov'),\n",
       "  Text(4, 0, ' Local-gov'),\n",
       "  Text(5, 0, ' Self-emp-inc'),\n",
       "  Text(6, 0, ' Never-worked')])"
      ]
     },
     "execution_count": 19,
     "metadata": {},
     "output_type": "execute_result"
    },
    {
     "data": {
      "image/png": "[encoded data removed]",
      "text/plain": [
       "<Figure size 720x576 with 1 Axes>"
      ]
     },
     "metadata": {
      "needs_background": "light"
     },
     "output_type": "display_data"
    }
   ],
   "source": [
    "plt.figure(figsize=(10,8))\n",
    "sns.countplot(df['workclass'])\n",
    "plt.xticks(rotation=60)"
   ]
  },
  {
   "cell_type": "code",
   "execution_count": 20,
   "id": "liked-innocent",
   "metadata": {},
   "outputs": [],
   "source": [
    "df['workclass'].fillna('0',inplace=True)\n"
   ]
  },
  {
   "cell_type": "code",
   "execution_count": 21,
   "id": "detailed-campaign",
   "metadata": {},
   "outputs": [
    {
     "name": "stderr",
     "output_type": "stream",
     "text": [
      "C:\\Users\\sheka\\anaconda3\\envs\\tensorflow\\lib\\site-packages\\seaborn\\_decorators.py:36: FutureWarning: Pass the following variable as a keyword arg: x. From version 0.12, the only valid positional argument will be `data`, and passing other arguments without an explicit keyword will result in an error or misinterpretation.\n",
      "  warnings.warn(\n"
     ]
    },
    {
     "data": {
      "text/plain": [
       "(array([0, 1, 2, 3, 4, 5, 6, 7]),\n",
       " [Text(0, 0, ' State-gov'),\n",
       "  Text(1, 0, ' Self-emp-not-inc'),\n",
       "  Text(2, 0, ' Private'),\n",
       "  Text(3, 0, ' Federal-gov'),\n",
       "  Text(4, 0, ' Local-gov'),\n",
       "  Text(5, 0, '0'),\n",
       "  Text(6, 0, ' Self-emp-inc'),\n",
       "  Text(7, 0, ' Never-worked')])"
      ]
     },
     "execution_count": 21,
     "metadata": {},
     "output_type": "execute_result"
    },
    {
     "data": {
      "image/png": "[encoded data removed]",
      "text/plain": [
       "<Figure size 720x576 with 1 Axes>"
      ]
     },
     "metadata": {
      "needs_background": "light"
     },
     "output_type": "display_data"
    }
   ],
   "source": [
    "plt.figure(figsize=(10,8))\n",
    "sns.countplot(df['workclass'])\n",
    "plt.xticks(rotation=60)"
   ]
  },
  {
   "cell_type": "code",
   "execution_count": 22,
   "id": "coordinated-constitution",
   "metadata": {},
   "outputs": [
    {
     "data": {
      "text/plain": [
       "count    3.256100e+04\n",
       "mean     1.897784e+05\n",
       "std      1.055500e+05\n",
       "min      1.228500e+04\n",
       "25%      1.178270e+05\n",
       "50%      1.783560e+05\n",
       "75%      2.370510e+05\n",
       "max      1.484705e+06\n",
       "Name: fnlwgt, dtype: float64"
      ]
     },
     "execution_count": 22,
     "metadata": {},
     "output_type": "execute_result"
    }
   ],
   "source": [
    "#### Fnlwgt\n",
    "\n",
    "df['fnlwgt'].describe()"
   ]
  },
  {
   "cell_type": "code",
   "execution_count": 23,
   "id": "eastern-crest",
   "metadata": {},
   "outputs": [
    {
     "data": {
      "text/plain": [
       "count    32561.000000\n",
       "mean        11.983778\n",
       "std          0.630738\n",
       "min          9.416216\n",
       "25%         11.676981\n",
       "50%         12.091542\n",
       "75%         12.376035\n",
       "max         14.210727\n",
       "Name: fnlwgt, dtype: float64"
      ]
     },
     "execution_count": 23,
     "metadata": {},
     "output_type": "execute_result"
    }
   ],
   "source": [
    "df['fnlwgt'] = df['fnlwgt'].apply(lambda x :np.log1p(x))\n",
    "\n",
    "df['fnlwgt'].describe()"
   ]
  },
  {
   "cell_type": "code",
   "execution_count": 24,
   "id": "double-christianity",
   "metadata": {},
   "outputs": [
    {
     "data": {
      "text/plain": [
       " HS-grad         10501\n",
       " Some-college     7291\n",
       " Bachelors        5355\n",
       " Masters          1723\n",
       " Assoc-voc        1382\n",
       " 11th             1175\n",
       " Assoc-acdm       1067\n",
       " 10th              933\n",
       " 7th-8th           646\n",
       " Prof-school       576\n",
       " 9th               514\n",
       " 12th              433\n",
       " Doctorate         413\n",
       " 5th-6th           333\n",
       " 1st-4th           168\n",
       " Preschool          51\n",
       "Name: education, dtype: int64"
      ]
     },
     "execution_count": 24,
     "metadata": {},
     "output_type": "execute_result"
    }
   ],
   "source": [
    "#### Education\n",
    "\n",
    "df['education'].value_counts()\n"
   ]
  },
  {
   "cell_type": "code",
   "execution_count": 25,
   "id": "exclusive-uniform",
   "metadata": {},
   "outputs": [
    {
     "data": {
      "text/plain": [
       "(array([ 0,  1,  2,  3,  4,  5,  6,  7,  8,  9, 10, 11, 12, 13, 14, 15]),\n",
       " [Text(0, 0, ' Bachelors'),\n",
       "  Text(1, 0, ' HS-grad'),\n",
       "  Text(2, 0, ' 11th'),\n",
       "  Text(3, 0, ' Masters'),\n",
       "  Text(4, 0, ' 9th'),\n",
       "  Text(5, 0, ' Some-college'),\n",
       "  Text(6, 0, ' Assoc-acdm'),\n",
       "  Text(7, 0, ' Assoc-voc'),\n",
       "  Text(8, 0, ' 7th-8th'),\n",
       "  Text(9, 0, ' Doctorate'),\n",
       "  Text(10, 0, ' Prof-school'),\n",
       "  Text(11, 0, ' 5th-6th'),\n",
       "  Text(12, 0, ' 10th'),\n",
       "  Text(13, 0, ' 1st-4th'),\n",
       "  Text(14, 0, ' Preschool'),\n",
       "  Text(15, 0, ' 12th')])"
      ]
     },
     "execution_count": 25,
     "metadata": {},
     "output_type": "execute_result"
    },
    {
     "data": {
      "image/png": "[encoded data removed]",
      "text/plain": [
       "<Figure size 720x720 with 1 Axes>"
      ]
     },
     "metadata": {
      "needs_background": "light"
     },
     "output_type": "display_data"
    }
   ],
   "source": [
    "sns.catplot(x='education',y='salary',data=df,height=10,palette='muted',kind='bar')\n",
    "plt.xticks(rotation=60)"
   ]
  },
  {
   "cell_type": "code",
   "execution_count": 26,
   "id": "rapid-married",
   "metadata": {},
   "outputs": [],
   "source": [
    "def primary(x):\n",
    "    if x in [' 1st-4th', ' 5th-6th', ' 7th-8th', ' 9th', ' 10th', ' 11th', ' 12th']:\n",
    "        return 'Primary'\n",
    "    else:\n",
    "        return x"
   ]
  },
  {
   "cell_type": "code",
   "execution_count": 27,
   "id": "usual-concord",
   "metadata": {},
   "outputs": [],
   "source": [
    "df['education'] = df['education'].apply(primary)\n"
   ]
  },
  {
   "cell_type": "code",
   "execution_count": 28,
   "id": "hungarian-consent",
   "metadata": {
    "scrolled": true
   },
   "outputs": [
    {
     "data": {
      "text/plain": [
       "(array([0, 1, 2, 3, 4, 5, 6, 7, 8, 9]),\n",
       " [Text(0, 0, ' Bachelors'),\n",
       "  Text(1, 0, ' HS-grad'),\n",
       "  Text(2, 0, 'Primary'),\n",
       "  Text(3, 0, ' Masters'),\n",
       "  Text(4, 0, ' Some-college'),\n",
       "  Text(5, 0, ' Assoc-acdm'),\n",
       "  Text(6, 0, ' Assoc-voc'),\n",
       "  Text(7, 0, ' Doctorate'),\n",
       "  Text(8, 0, ' Prof-school'),\n",
       "  Text(9, 0, ' Preschool')])"
      ]
     },
     "execution_count": 28,
     "metadata": {},
     "output_type": "execute_result"
    },
    {
     "data": {
      "image/png": "[encoded data removed]",
      "text/plain": [
       "<Figure size 720x720 with 1 Axes>"
      ]
     },
     "metadata": {
      "needs_background": "light"
     },
     "output_type": "display_data"
    }
   ],
   "source": [
    "sns.catplot(x='education',y='salary',data=df,height=10,palette='muted',kind='bar')\n",
    "plt.xticks(rotation=60)"
   ]
  },
  {
   "cell_type": "code",
   "execution_count": 29,
   "id": "first-content",
   "metadata": {},
   "outputs": [
    {
     "data": {
      "text/plain": [
       " Married-civ-spouse       14976\n",
       " Never-married            10683\n",
       " Divorced                  4443\n",
       " Separated                 1025\n",
       " Widowed                    993\n",
       " Married-spouse-absent      418\n",
       " Married-AF-spouse           23\n",
       "Name: marital-status, dtype: int64"
      ]
     },
     "execution_count": 29,
     "metadata": {},
     "output_type": "execute_result"
    }
   ],
   "source": [
    "###### Marrital Status\n",
    "\n",
    "df['marital-status'].value_counts()"
   ]
  },
  {
   "cell_type": "code",
   "execution_count": 30,
   "id": "current-sarah",
   "metadata": {},
   "outputs": [],
   "source": [
    "df['marital-status'].replace(' Married-AF-spouse', ' Married-civ-spouse',inplace=True)\n"
   ]
  },
  {
   "cell_type": "code",
   "execution_count": 31,
   "id": "nominated-ecology",
   "metadata": {},
   "outputs": [
    {
     "data": {
      "text/plain": [
       "(array([0, 1, 2, 3, 4, 5]),\n",
       " [Text(0, 0, ' Never-married'),\n",
       "  Text(1, 0, ' Married-civ-spouse'),\n",
       "  Text(2, 0, ' Divorced'),\n",
       "  Text(3, 0, ' Married-spouse-absent'),\n",
       "  Text(4, 0, ' Separated'),\n",
       "  Text(5, 0, ' Widowed')])"
      ]
     },
     "execution_count": 31,
     "metadata": {},
     "output_type": "execute_result"
    },
    {
     "data": {
      "image/png": "[encoded data removed]",
      "text/plain": [
       "<Figure size 576x576 with 1 Axes>"
      ]
     },
     "metadata": {
      "needs_background": "light"
     },
     "output_type": "display_data"
    }
   ],
   "source": [
    "sns.catplot(x='marital-status',y='salary',data=df,palette='muted',kind='bar',height=8)\n",
    "plt.xticks(rotation=60)"
   ]
  },
  {
   "cell_type": "code",
   "execution_count": 32,
   "id": "technological-legend",
   "metadata": {},
   "outputs": [
    {
     "data": {
      "text/plain": [
       " Prof-specialty       4140\n",
       " Craft-repair         4099\n",
       " Exec-managerial      4066\n",
       " Adm-clerical         3770\n",
       " Sales                3650\n",
       " Other-service        3295\n",
       " Machine-op-inspct    2002\n",
       "0                     1843\n",
       " Transport-moving     1597\n",
       " Handlers-cleaners    1370\n",
       " Farming-fishing       994\n",
       " Tech-support          928\n",
       " Protective-serv       649\n",
       " Priv-house-serv       149\n",
       " Armed-Forces            9\n",
       "Name: occupation, dtype: int64"
      ]
     },
     "execution_count": 32,
     "metadata": {},
     "output_type": "execute_result"
    }
   ],
   "source": [
    "#### Occupation \n",
    "\n",
    "df['occupation'].fillna('0',inplace=True)\n",
    "\n",
    "df['occupation'].value_counts()"
   ]
  },
  {
   "cell_type": "code",
   "execution_count": 33,
   "id": "alpine-association",
   "metadata": {},
   "outputs": [
    {
     "data": {
      "text/plain": [
       " Prof-specialty       4140\n",
       " Craft-repair         4099\n",
       " Exec-managerial      4066\n",
       " Adm-clerical         3770\n",
       " Sales                3650\n",
       " Other-service        3295\n",
       " Machine-op-inspct    2002\n",
       "0                     1852\n",
       " Transport-moving     1597\n",
       " Handlers-cleaners    1370\n",
       " Farming-fishing       994\n",
       " Tech-support          928\n",
       " Protective-serv       649\n",
       " Priv-house-serv       149\n",
       "Name: occupation, dtype: int64"
      ]
     },
     "execution_count": 33,
     "metadata": {},
     "output_type": "execute_result"
    }
   ],
   "source": [
    "df['occupation'].replace(' Armed-Forces','0',inplace=True)\n",
    "\n",
    "df['occupation'].value_counts()"
   ]
  },
  {
   "cell_type": "code",
   "execution_count": 34,
   "id": "funded-juice",
   "metadata": {},
   "outputs": [
    {
     "data": {
      "text/plain": [
       "(array([ 0,  1,  2,  3,  4,  5,  6,  7,  8,  9, 10, 11, 12, 13]),\n",
       " [Text(0, 0, ' Adm-clerical'),\n",
       "  Text(1, 0, ' Exec-managerial'),\n",
       "  Text(2, 0, ' Handlers-cleaners'),\n",
       "  Text(3, 0, ' Prof-specialty'),\n",
       "  Text(4, 0, ' Other-service'),\n",
       "  Text(5, 0, ' Sales'),\n",
       "  Text(6, 0, ' Craft-repair'),\n",
       "  Text(7, 0, ' Transport-moving'),\n",
       "  Text(8, 0, ' Farming-fishing'),\n",
       "  Text(9, 0, ' Machine-op-inspct'),\n",
       "  Text(10, 0, ' Tech-support'),\n",
       "  Text(11, 0, '0'),\n",
       "  Text(12, 0, ' Protective-serv'),\n",
       "  Text(13, 0, ' Priv-house-serv')])"
      ]
     },
     "execution_count": 34,
     "metadata": {},
     "output_type": "execute_result"
    },
    {
     "data": {
      "image/png": "[encoded data removed]",
      "text/plain": [
       "<Figure size 576x576 with 1 Axes>"
      ]
     },
     "metadata": {
      "needs_background": "light"
     },
     "output_type": "display_data"
    }
   ],
   "source": [
    "sns.catplot(x='occupation',y='salary',data=df,palette='muted',kind='bar',height=8)\n",
    "plt.xticks(rotation=60)"
   ]
  },
  {
   "cell_type": "code",
   "execution_count": 35,
   "id": "opening-colombia",
   "metadata": {},
   "outputs": [
    {
     "data": {
      "text/plain": [
       " Husband           13193\n",
       " Not-in-family      8305\n",
       " Own-child          5068\n",
       " Unmarried          3446\n",
       " Wife               1568\n",
       " Other-relative      981\n",
       "Name: relationship, dtype: int64"
      ]
     },
     "execution_count": 35,
     "metadata": {},
     "output_type": "execute_result"
    }
   ],
   "source": [
    "#### Relationship\n",
    "\n",
    "df['relationship'].value_counts()\n"
   ]
  },
  {
   "cell_type": "code",
   "execution_count": 36,
   "id": "matched-segment",
   "metadata": {},
   "outputs": [
    {
     "data": {
      "text/plain": [
       " White                 27816\n",
       " Black                  3124\n",
       " Asian-Pac-Islander     1039\n",
       " Amer-Indian-Eskimo      311\n",
       " Other                   271\n",
       "Name: race, dtype: int64"
      ]
     },
     "execution_count": 36,
     "metadata": {},
     "output_type": "execute_result"
    }
   ],
   "source": [
    "#### Race\n",
    "\n",
    "df['race'].value_counts()\n"
   ]
  },
  {
   "cell_type": "code",
   "execution_count": 37,
   "id": "obvious-absolute",
   "metadata": {},
   "outputs": [
    {
     "data": {
      "text/plain": [
       " Male      21790\n",
       " Female    10771\n",
       "Name: sex, dtype: int64"
      ]
     },
     "execution_count": 37,
     "metadata": {},
     "output_type": "execute_result"
    }
   ],
   "source": [
    "#### Sex\n",
    "\n",
    "df['sex'].value_counts()"
   ]
  },
  {
   "cell_type": "code",
   "execution_count": 38,
   "id": "confirmed-charter",
   "metadata": {},
   "outputs": [
    {
     "data": {
      "text/plain": [
       "array([' United-States', ' Cuba', ' Jamaica', ' India', nan, ' Mexico',\n",
       "       ' South', ' Puerto-Rico', ' Honduras', ' England', ' Canada',\n",
       "       ' Germany', ' Iran', ' Philippines', ' Italy', ' Poland',\n",
       "       ' Columbia', ' Cambodia', ' Thailand', ' Ecuador', ' Laos',\n",
       "       ' Taiwan', ' Haiti', ' Portugal', ' Dominican-Republic',\n",
       "       ' El-Salvador', ' France', ' Guatemala', ' China', ' Japan',\n",
       "       ' Yugoslavia', ' Peru', ' Outlying-US(Guam-USVI-etc)', ' Scotland',\n",
       "       ' Trinadad&Tobago', ' Greece', ' Nicaragua', ' Vietnam', ' Hong',\n",
       "       ' Ireland', ' Hungary', ' Holand-Netherlands'], dtype=object)"
      ]
     },
     "execution_count": 38,
     "metadata": {},
     "output_type": "execute_result"
    }
   ],
   "source": [
    "#### Native_Country\n",
    "\n",
    "df['native-country'].unique()"
   ]
  },
  {
   "cell_type": "code",
   "execution_count": 39,
   "id": "single-domestic",
   "metadata": {},
   "outputs": [],
   "source": [
    "def native(country):\n",
    "    if country in [' United-States',' Canada']:\n",
    "        return 'North_America'\n",
    "    elif country in [' Puerto-Rico',' El-Salvador',' Cuba',' Jamaica',' Dominican-Republic',' Guatemala',' Haiti',' Nicaragua',' Trinadad&Tobago',' Honduras']:\n",
    "        return 'Central_America' \n",
    "    elif country in [' Mexico',' Columbia',' Vietnam',' Peru',' Ecuador',' South',' Outlying-US(Guam-USVI-etc)']:\n",
    "        return 'South_America'\n",
    "    elif country in [' Germany',' England',' Italy',' Poland',' Portugal',' Greece',' Yugoslavia',' France',' Ireland',' Scotland',' Hungary',' Holand-Netherlands']:\n",
    "        return 'EU'\n",
    "    elif country in [' India',' Iran',' China',' Japan',' Thailand',' Hong',' Cambodia',' Laos',' Philippines',' Taiwan']:\n",
    "        return 'Asian'\n",
    "    else:\n",
    "        return country"
   ]
  },
  {
   "cell_type": "code",
   "execution_count": 40,
   "id": "unavailable-pacific",
   "metadata": {},
   "outputs": [],
   "source": [
    "df['native-country'] = df['native-country'].apply(native)\n"
   ]
  },
  {
   "cell_type": "code",
   "execution_count": 41,
   "id": "tamil-round",
   "metadata": {
    "scrolled": true
   },
   "outputs": [
    {
     "data": {
      "text/plain": [
       "(array([0, 1, 2, 3, 4]),\n",
       " [Text(0, 0, 'North_America'),\n",
       "  Text(1, 0, 'Central_America'),\n",
       "  Text(2, 0, 'Asian'),\n",
       "  Text(3, 0, 'South_America'),\n",
       "  Text(4, 0, 'EU')])"
      ]
     },
     "execution_count": 41,
     "metadata": {},
     "output_type": "execute_result"
    },
    {
     "data": {
      "image/png": "[encoded data removed]",
      "text/plain": [
       "<Figure size 576x576 with 1 Axes>"
      ]
     },
     "metadata": {
      "needs_background": "light"
     },
     "output_type": "display_data"
    }
   ],
   "source": [
    "sns.catplot(x='native-country',y='salary',data=df,palette='muted',kind='bar',height=8)\n",
    "plt.xticks(rotation=60)"
   ]
  },
  {
   "cell_type": "code",
   "execution_count": 42,
   "id": "baking-glasgow",
   "metadata": {},
   "outputs": [
    {
     "data": {
      "text/plain": [
       "<AxesSubplot:>"
      ]
     },
     "execution_count": 42,
     "metadata": {},
     "output_type": "execute_result"
    },
    {
     "data": {
      "image/png": "[encoded data removed]",
      "text/plain": [
       "<Figure size 576x720 with 2 Axes>"
      ]
     },
     "metadata": {
      "needs_background": "light"
     },
     "output_type": "display_data"
    }
   ],
   "source": [
    "##### Let's check our data's correlation with the help of Heatmap\n",
    "\n",
    "corr =df.corr()\n",
    "plt.figure(figsize=(8,10))\n",
    "sns.heatmap(corr, annot=True)"
   ]
  },
  {
   "cell_type": "markdown",
   "id": "saving-neighbor",
   "metadata": {},
   "source": [
    "##### As we can see that corr values of fnlwgt are very low, Hence we can drop it safely."
   ]
  },
  {
   "cell_type": "code",
   "execution_count": 43,
   "id": "packed-status",
   "metadata": {
    "scrolled": true
   },
   "outputs": [
    {
     "data": {
      "text/html": [
       "<div>\n",
       "<style scoped>\n",
       "    .dataframe tbody tr th:only-of-type {\n",
       "        vertical-align: middle;\n",
       "    }\n",
       "\n",
       "    .dataframe tbody tr th {\n",
       "        vertical-align: top;\n",
       "    }\n",
       "\n",
       "    .dataframe thead th {\n",
       "        text-align: right;\n",
       "    }\n",
       "</style>\n",
       "<table border=\"1\" class=\"dataframe\">\n",
       "  <thead>\n",
       "    <tr style=\"text-align: right;\">\n",
       "      <th></th>\n",
       "      <th>age</th>\n",
       "      <th>workclass</th>\n",
       "      <th>education</th>\n",
       "      <th>education-num</th>\n",
       "      <th>marital-status</th>\n",
       "      <th>occupation</th>\n",
       "      <th>relationship</th>\n",
       "      <th>race</th>\n",
       "      <th>sex</th>\n",
       "      <th>capital-gain</th>\n",
       "      <th>capital-loss</th>\n",
       "      <th>hours-per-week</th>\n",
       "      <th>native-country</th>\n",
       "      <th>salary</th>\n",
       "    </tr>\n",
       "  </thead>\n",
       "  <tbody>\n",
       "    <tr>\n",
       "      <th>0</th>\n",
       "      <td>39</td>\n",
       "      <td>State-gov</td>\n",
       "      <td>Bachelors</td>\n",
       "      <td>13</td>\n",
       "      <td>Never-married</td>\n",
       "      <td>Adm-clerical</td>\n",
       "      <td>Not-in-family</td>\n",
       "      <td>White</td>\n",
       "      <td>Male</td>\n",
       "      <td>2174</td>\n",
       "      <td>0</td>\n",
       "      <td>40</td>\n",
       "      <td>North_America</td>\n",
       "      <td>0</td>\n",
       "    </tr>\n",
       "    <tr>\n",
       "      <th>1</th>\n",
       "      <td>50</td>\n",
       "      <td>Self-emp-not-inc</td>\n",
       "      <td>Bachelors</td>\n",
       "      <td>13</td>\n",
       "      <td>Married-civ-spouse</td>\n",
       "      <td>Exec-managerial</td>\n",
       "      <td>Husband</td>\n",
       "      <td>White</td>\n",
       "      <td>Male</td>\n",
       "      <td>0</td>\n",
       "      <td>0</td>\n",
       "      <td>13</td>\n",
       "      <td>North_America</td>\n",
       "      <td>0</td>\n",
       "    </tr>\n",
       "    <tr>\n",
       "      <th>2</th>\n",
       "      <td>38</td>\n",
       "      <td>Private</td>\n",
       "      <td>HS-grad</td>\n",
       "      <td>9</td>\n",
       "      <td>Divorced</td>\n",
       "      <td>Handlers-cleaners</td>\n",
       "      <td>Not-in-family</td>\n",
       "      <td>White</td>\n",
       "      <td>Male</td>\n",
       "      <td>0</td>\n",
       "      <td>0</td>\n",
       "      <td>40</td>\n",
       "      <td>North_America</td>\n",
       "      <td>0</td>\n",
       "    </tr>\n",
       "    <tr>\n",
       "      <th>3</th>\n",
       "      <td>53</td>\n",
       "      <td>Private</td>\n",
       "      <td>Primary</td>\n",
       "      <td>7</td>\n",
       "      <td>Married-civ-spouse</td>\n",
       "      <td>Handlers-cleaners</td>\n",
       "      <td>Husband</td>\n",
       "      <td>Black</td>\n",
       "      <td>Male</td>\n",
       "      <td>0</td>\n",
       "      <td>0</td>\n",
       "      <td>40</td>\n",
       "      <td>North_America</td>\n",
       "      <td>0</td>\n",
       "    </tr>\n",
       "    <tr>\n",
       "      <th>4</th>\n",
       "      <td>28</td>\n",
       "      <td>Private</td>\n",
       "      <td>Bachelors</td>\n",
       "      <td>13</td>\n",
       "      <td>Married-civ-spouse</td>\n",
       "      <td>Prof-specialty</td>\n",
       "      <td>Wife</td>\n",
       "      <td>Black</td>\n",
       "      <td>Female</td>\n",
       "      <td>0</td>\n",
       "      <td>0</td>\n",
       "      <td>40</td>\n",
       "      <td>Central_America</td>\n",
       "      <td>0</td>\n",
       "    </tr>\n",
       "  </tbody>\n",
       "</table>\n",
       "</div>"
      ],
      "text/plain": [
       "   age          workclass   education  education-num       marital-status  \\\n",
       "0   39          State-gov   Bachelors             13        Never-married   \n",
       "1   50   Self-emp-not-inc   Bachelors             13   Married-civ-spouse   \n",
       "2   38            Private     HS-grad              9             Divorced   \n",
       "3   53            Private     Primary              7   Married-civ-spouse   \n",
       "4   28            Private   Bachelors             13   Married-civ-spouse   \n",
       "\n",
       "           occupation    relationship    race      sex  capital-gain  \\\n",
       "0        Adm-clerical   Not-in-family   White     Male          2174   \n",
       "1     Exec-managerial         Husband   White     Male             0   \n",
       "2   Handlers-cleaners   Not-in-family   White     Male             0   \n",
       "3   Handlers-cleaners         Husband   Black     Male             0   \n",
       "4      Prof-specialty            Wife   Black   Female             0   \n",
       "\n",
       "   capital-loss  hours-per-week   native-country  salary  \n",
       "0             0              40    North_America       0  \n",
       "1             0              13    North_America       0  \n",
       "2             0              40    North_America       0  \n",
       "3             0              40    North_America       0  \n",
       "4             0              40  Central_America       0  "
      ]
     },
     "execution_count": 43,
     "metadata": {},
     "output_type": "execute_result"
    }
   ],
   "source": [
    "df.drop('fnlwgt',axis=1,inplace=True)\n",
    "df.head(5)"
   ]
  },
  {
   "cell_type": "markdown",
   "id": "ranking-understanding",
   "metadata": {},
   "source": [
    "#### Dividing Data into 'X' and 'y'\n",
    "\n"
   ]
  },
  {
   "cell_type": "code",
   "execution_count": 44,
   "id": "renewable-productivity",
   "metadata": {},
   "outputs": [],
   "source": [
    "X = df.drop('salary',axis=1)\n",
    "y = df['salary']"
   ]
  },
  {
   "cell_type": "code",
   "execution_count": 45,
   "id": "musical-parking",
   "metadata": {},
   "outputs": [
    {
     "data": {
      "text/plain": [
       "Index(['age', 'workclass', 'education', 'education-num', 'marital-status',\n",
       "       'occupation', 'relationship', 'race', 'sex', 'capital-gain',\n",
       "       'capital-loss', 'hours-per-week', 'native-country'],\n",
       "      dtype='object')"
      ]
     },
     "execution_count": 45,
     "metadata": {},
     "output_type": "execute_result"
    }
   ],
   "source": [
    "X.columns\n"
   ]
  },
  {
   "cell_type": "code",
   "execution_count": 46,
   "id": "trying-highway",
   "metadata": {},
   "outputs": [],
   "source": [
    "X_d = pd.get_dummies(X)"
   ]
  },
  {
   "cell_type": "code",
   "execution_count": 47,
   "id": "stuck-hamilton",
   "metadata": {},
   "outputs": [
    {
     "data": {
      "text/html": [
       "<div>\n",
       "<style scoped>\n",
       "    .dataframe tbody tr th:only-of-type {\n",
       "        vertical-align: middle;\n",
       "    }\n",
       "\n",
       "    .dataframe tbody tr th {\n",
       "        vertical-align: top;\n",
       "    }\n",
       "\n",
       "    .dataframe thead th {\n",
       "        text-align: right;\n",
       "    }\n",
       "</style>\n",
       "<table border=\"1\" class=\"dataframe\">\n",
       "  <thead>\n",
       "    <tr style=\"text-align: right;\">\n",
       "      <th></th>\n",
       "      <th>age</th>\n",
       "      <th>education-num</th>\n",
       "      <th>capital-gain</th>\n",
       "      <th>capital-loss</th>\n",
       "      <th>hours-per-week</th>\n",
       "      <th>workclass_ Federal-gov</th>\n",
       "      <th>workclass_ Local-gov</th>\n",
       "      <th>workclass_ Never-worked</th>\n",
       "      <th>workclass_ Private</th>\n",
       "      <th>workclass_ Self-emp-inc</th>\n",
       "      <th>...</th>\n",
       "      <th>race_ Black</th>\n",
       "      <th>race_ Other</th>\n",
       "      <th>race_ White</th>\n",
       "      <th>sex_ Female</th>\n",
       "      <th>sex_ Male</th>\n",
       "      <th>native-country_Asian</th>\n",
       "      <th>native-country_Central_America</th>\n",
       "      <th>native-country_EU</th>\n",
       "      <th>native-country_North_America</th>\n",
       "      <th>native-country_South_America</th>\n",
       "    </tr>\n",
       "  </thead>\n",
       "  <tbody>\n",
       "    <tr>\n",
       "      <th>0</th>\n",
       "      <td>39</td>\n",
       "      <td>13</td>\n",
       "      <td>2174</td>\n",
       "      <td>0</td>\n",
       "      <td>40</td>\n",
       "      <td>0</td>\n",
       "      <td>0</td>\n",
       "      <td>0</td>\n",
       "      <td>0</td>\n",
       "      <td>0</td>\n",
       "      <td>...</td>\n",
       "      <td>0</td>\n",
       "      <td>0</td>\n",
       "      <td>1</td>\n",
       "      <td>0</td>\n",
       "      <td>1</td>\n",
       "      <td>0</td>\n",
       "      <td>0</td>\n",
       "      <td>0</td>\n",
       "      <td>1</td>\n",
       "      <td>0</td>\n",
       "    </tr>\n",
       "    <tr>\n",
       "      <th>1</th>\n",
       "      <td>50</td>\n",
       "      <td>13</td>\n",
       "      <td>0</td>\n",
       "      <td>0</td>\n",
       "      <td>13</td>\n",
       "      <td>0</td>\n",
       "      <td>0</td>\n",
       "      <td>0</td>\n",
       "      <td>0</td>\n",
       "      <td>0</td>\n",
       "      <td>...</td>\n",
       "      <td>0</td>\n",
       "      <td>0</td>\n",
       "      <td>1</td>\n",
       "      <td>0</td>\n",
       "      <td>1</td>\n",
       "      <td>0</td>\n",
       "      <td>0</td>\n",
       "      <td>0</td>\n",
       "      <td>1</td>\n",
       "      <td>0</td>\n",
       "    </tr>\n",
       "    <tr>\n",
       "      <th>2</th>\n",
       "      <td>38</td>\n",
       "      <td>9</td>\n",
       "      <td>0</td>\n",
       "      <td>0</td>\n",
       "      <td>40</td>\n",
       "      <td>0</td>\n",
       "      <td>0</td>\n",
       "      <td>0</td>\n",
       "      <td>1</td>\n",
       "      <td>0</td>\n",
       "      <td>...</td>\n",
       "      <td>0</td>\n",
       "      <td>0</td>\n",
       "      <td>1</td>\n",
       "      <td>0</td>\n",
       "      <td>1</td>\n",
       "      <td>0</td>\n",
       "      <td>0</td>\n",
       "      <td>0</td>\n",
       "      <td>1</td>\n",
       "      <td>0</td>\n",
       "    </tr>\n",
       "    <tr>\n",
       "      <th>3</th>\n",
       "      <td>53</td>\n",
       "      <td>7</td>\n",
       "      <td>0</td>\n",
       "      <td>0</td>\n",
       "      <td>40</td>\n",
       "      <td>0</td>\n",
       "      <td>0</td>\n",
       "      <td>0</td>\n",
       "      <td>1</td>\n",
       "      <td>0</td>\n",
       "      <td>...</td>\n",
       "      <td>1</td>\n",
       "      <td>0</td>\n",
       "      <td>0</td>\n",
       "      <td>0</td>\n",
       "      <td>1</td>\n",
       "      <td>0</td>\n",
       "      <td>0</td>\n",
       "      <td>0</td>\n",
       "      <td>1</td>\n",
       "      <td>0</td>\n",
       "    </tr>\n",
       "    <tr>\n",
       "      <th>4</th>\n",
       "      <td>28</td>\n",
       "      <td>13</td>\n",
       "      <td>0</td>\n",
       "      <td>0</td>\n",
       "      <td>40</td>\n",
       "      <td>0</td>\n",
       "      <td>0</td>\n",
       "      <td>0</td>\n",
       "      <td>1</td>\n",
       "      <td>0</td>\n",
       "      <td>...</td>\n",
       "      <td>1</td>\n",
       "      <td>0</td>\n",
       "      <td>0</td>\n",
       "      <td>1</td>\n",
       "      <td>0</td>\n",
       "      <td>0</td>\n",
       "      <td>1</td>\n",
       "      <td>0</td>\n",
       "      <td>0</td>\n",
       "      <td>0</td>\n",
       "    </tr>\n",
       "  </tbody>\n",
       "</table>\n",
       "<p>5 rows × 61 columns</p>\n",
       "</div>"
      ],
      "text/plain": [
       "   age  education-num  capital-gain  capital-loss  hours-per-week  \\\n",
       "0   39             13          2174             0              40   \n",
       "1   50             13             0             0              13   \n",
       "2   38              9             0             0              40   \n",
       "3   53              7             0             0              40   \n",
       "4   28             13             0             0              40   \n",
       "\n",
       "   workclass_ Federal-gov  workclass_ Local-gov  workclass_ Never-worked  \\\n",
       "0                       0                     0                        0   \n",
       "1                       0                     0                        0   \n",
       "2                       0                     0                        0   \n",
       "3                       0                     0                        0   \n",
       "4                       0                     0                        0   \n",
       "\n",
       "   workclass_ Private  workclass_ Self-emp-inc  ...  race_ Black  race_ Other  \\\n",
       "0                   0                        0  ...            0            0   \n",
       "1                   0                        0  ...            0            0   \n",
       "2                   1                        0  ...            0            0   \n",
       "3                   1                        0  ...            1            0   \n",
       "4                   1                        0  ...            1            0   \n",
       "\n",
       "   race_ White  sex_ Female  sex_ Male  native-country_Asian  \\\n",
       "0            1            0          1                     0   \n",
       "1            1            0          1                     0   \n",
       "2            1            0          1                     0   \n",
       "3            0            0          1                     0   \n",
       "4            0            1          0                     0   \n",
       "\n",
       "   native-country_Central_America  native-country_EU  \\\n",
       "0                               0                  0   \n",
       "1                               0                  0   \n",
       "2                               0                  0   \n",
       "3                               0                  0   \n",
       "4                               1                  0   \n",
       "\n",
       "   native-country_North_America  native-country_South_America  \n",
       "0                             1                             0  \n",
       "1                             1                             0  \n",
       "2                             1                             0  \n",
       "3                             1                             0  \n",
       "4                             0                             0  \n",
       "\n",
       "[5 rows x 61 columns]"
      ]
     },
     "execution_count": 47,
     "metadata": {},
     "output_type": "execute_result"
    }
   ],
   "source": [
    "X_d.head()\n"
   ]
  },
  {
   "cell_type": "markdown",
   "id": "surgical-brooks",
   "metadata": {},
   "source": [
    "#### Train_Test_Split"
   ]
  },
  {
   "cell_type": "code",
   "execution_count": 48,
   "id": "important-shape",
   "metadata": {},
   "outputs": [],
   "source": [
    "from sklearn.model_selection import train_test_split\n",
    "x_train,x_test,y_train,y_test = train_test_split(X_d,y,test_size=0.3,random_state=101)"
   ]
  },
  {
   "cell_type": "code",
   "execution_count": 49,
   "id": "social-flooring",
   "metadata": {},
   "outputs": [
    {
     "name": "stdout",
     "output_type": "stream",
     "text": [
      "(22792, 61)\n",
      "(22792,)\n"
     ]
    }
   ],
   "source": [
    "print(x_train.shape)\n",
    "print(y_train.shape\n",
    ")"
   ]
  },
  {
   "cell_type": "markdown",
   "id": "finite-might",
   "metadata": {},
   "source": [
    "###### On Applying Algorithms & Evaluating the Models\n",
    "\n",
    "\n",
    "###### 1. Logistic Regression"
   ]
  },
  {
   "cell_type": "code",
   "execution_count": 50,
   "id": "instructional-collaboration",
   "metadata": {},
   "outputs": [
    {
     "name": "stderr",
     "output_type": "stream",
     "text": [
      "C:\\Users\\sheka\\anaconda3\\envs\\tensorflow\\lib\\site-packages\\sklearn\\linear_model\\_logistic.py:762: ConvergenceWarning: lbfgs failed to converge (status=1):\n",
      "STOP: TOTAL NO. of ITERATIONS REACHED LIMIT.\n",
      "\n",
      "Increase the number of iterations (max_iter) or scale the data as shown in:\n",
      "    https://scikit-learn.org/stable/modules/preprocessing.html\n",
      "Please also refer to the documentation for alternative solver options:\n",
      "    https://scikit-learn.org/stable/modules/linear_model.html#logistic-regression\n",
      "  n_iter_i = _check_optimize_result(\n"
     ]
    },
    {
     "data": {
      "text/plain": [
       "LogisticRegression()"
      ]
     },
     "execution_count": 50,
     "metadata": {},
     "output_type": "execute_result"
    }
   ],
   "source": [
    "from sklearn.linear_model import LogisticRegression\n",
    "Lr = LogisticRegression()\n",
    "Lr.fit(x_train,y_train)"
   ]
  },
  {
   "cell_type": "code",
   "execution_count": 51,
   "id": "possible-affiliation",
   "metadata": {},
   "outputs": [],
   "source": [
    "#### Applying Hyperparams for LogReg model to get best model score\n",
    "\n",
    "penalty = ['l1', 'l2']\n",
    "# C is the inverese of regularization parameter\n",
    "C = np.logspace(0, 4, 10)\n",
    "random_state=[0]\n",
    "# creating a dictionary of hyperparameters\n",
    "hyperparameters = dict(C=C, penalty=penalty, \n",
    "                  random_state=random_state)"
   ]
  },
  {
   "cell_type": "code",
   "execution_count": 52,
   "id": "cubic-george",
   "metadata": {},
   "outputs": [
    {
     "name": "stdout",
     "output_type": "stream",
     "text": [
      "Fitting 5 folds for each of 20 candidates, totalling 100 fits\n"
     ]
    },
    {
     "name": "stderr",
     "output_type": "stream",
     "text": [
      "[Parallel(n_jobs=-1)]: Using backend LokyBackend with 4 concurrent workers.\n",
      "[Parallel(n_jobs=-1)]: Done  24 tasks      | elapsed:    9.7s\n",
      "[Parallel(n_jobs=-1)]: Done 100 out of 100 | elapsed:   26.4s finished\n",
      "C:\\Users\\sheka\\anaconda3\\envs\\tensorflow\\lib\\site-packages\\sklearn\\linear_model\\_logistic.py:762: ConvergenceWarning: lbfgs failed to converge (status=1):\n",
      "STOP: TOTAL NO. of ITERATIONS REACHED LIMIT.\n",
      "\n",
      "Increase the number of iterations (max_iter) or scale the data as shown in:\n",
      "    https://scikit-learn.org/stable/modules/preprocessing.html\n",
      "Please also refer to the documentation for alternative solver options:\n",
      "    https://scikit-learn.org/stable/modules/linear_model.html#logistic-regression\n",
      "  n_iter_i = _check_optimize_result(\n"
     ]
    },
    {
     "data": {
      "text/plain": [
       "GridSearchCV(cv=5, estimator=LogisticRegression(), n_jobs=-1,\n",
       "             param_grid={'C': array([1.00000000e+00, 2.78255940e+00, 7.74263683e+00, 2.15443469e+01,\n",
       "       5.99484250e+01, 1.66810054e+02, 4.64158883e+02, 1.29154967e+03,\n",
       "       3.59381366e+03, 1.00000000e+04]),\n",
       "                         'penalty': ['l1', 'l2'], 'random_state': [0]},\n",
       "             verbose=3)"
      ]
     },
     "execution_count": 52,
     "metadata": {},
     "output_type": "execute_result"
    }
   ],
   "source": [
    "#### GridSearchCV for LogReg\n",
    "\n",
    "from sklearn.model_selection import GridSearchCV\n",
    "gsv = GridSearchCV(Lr,param_grid=hyperparameters,cv=5,verbose=3,n_jobs=-1)\n",
    "gsv.fit(x_train,y_train)"
   ]
  },
  {
   "cell_type": "code",
   "execution_count": 53,
   "id": "killing-romantic",
   "metadata": {},
   "outputs": [
    {
     "data": {
      "text/plain": [
       "{'C': 7.742636826811269, 'penalty': 'l2', 'random_state': 0}"
      ]
     },
     "execution_count": 53,
     "metadata": {},
     "output_type": "execute_result"
    }
   ],
   "source": [
    "gsv.best_params_"
   ]
  },
  {
   "cell_type": "code",
   "execution_count": 54,
   "id": "special-reunion",
   "metadata": {},
   "outputs": [],
   "source": [
    "lr_tuned = LogisticRegression(C=1.0,penalty='l2',random_state=0)"
   ]
  },
  {
   "cell_type": "code",
   "execution_count": 55,
   "id": "dried-memorabilia",
   "metadata": {},
   "outputs": [
    {
     "name": "stderr",
     "output_type": "stream",
     "text": [
      "C:\\Users\\sheka\\anaconda3\\envs\\tensorflow\\lib\\site-packages\\sklearn\\linear_model\\_logistic.py:762: ConvergenceWarning: lbfgs failed to converge (status=1):\n",
      "STOP: TOTAL NO. of ITERATIONS REACHED LIMIT.\n",
      "\n",
      "Increase the number of iterations (max_iter) or scale the data as shown in:\n",
      "    https://scikit-learn.org/stable/modules/preprocessing.html\n",
      "Please also refer to the documentation for alternative solver options:\n",
      "    https://scikit-learn.org/stable/modules/linear_model.html#logistic-regression\n",
      "  n_iter_i = _check_optimize_result(\n"
     ]
    },
    {
     "data": {
      "text/plain": [
       "LogisticRegression(random_state=0)"
      ]
     },
     "execution_count": 55,
     "metadata": {},
     "output_type": "execute_result"
    }
   ],
   "source": [
    "lr_tuned.fit(x_train,y_train)\n"
   ]
  },
  {
   "cell_type": "code",
   "execution_count": 56,
   "id": "diverse-wednesday",
   "metadata": {},
   "outputs": [],
   "source": [
    "Log_Reg =lr_tuned.score(x_test,y_test)"
   ]
  },
  {
   "cell_type": "code",
   "execution_count": 57,
   "id": "hidden-shopping",
   "metadata": {},
   "outputs": [],
   "source": [
    "lr_y_pred = lr_tuned.predict(x_test)"
   ]
  },
  {
   "cell_type": "code",
   "execution_count": 58,
   "id": "reverse-trail",
   "metadata": {
    "scrolled": true
   },
   "outputs": [
    {
     "name": "stdout",
     "output_type": "stream",
     "text": [
      "Accuracy_Score:0.8295629030607022\n",
      "**************************************************\n",
      "Classification_Report:              precision    recall  f1-score   support\n",
      "\n",
      "           0       0.86      0.92      0.89      7436\n",
      "           1       0.68      0.53      0.60      2333\n",
      "\n",
      "    accuracy                           0.83      9769\n",
      "   macro avg       0.77      0.73      0.75      9769\n",
      "weighted avg       0.82      0.83      0.82      9769\n",
      "\n",
      "**************************************************\n",
      "Confusion_Matrix:[[6857  579]\n",
      " [1086 1247]]\n"
     ]
    }
   ],
   "source": [
    "#### Ligistic regression Model Evaluation\n",
    "\n",
    "from sklearn.metrics import accuracy_score,classification_report,confusion_matrix,auc\n",
    "print(f\"Accuracy_Score:{accuracy_score(y_test,lr_y_pred)}\")\n",
    "print('*'*50)\n",
    "print(f\"Classification_Report:{classification_report(y_test,lr_y_pred)}\")\n",
    "print('*'*50)\n",
    "print(f\"Confusion_Matrix:{confusion_matrix(y_test,lr_y_pred)}\")"
   ]
  },
  {
   "cell_type": "markdown",
   "id": "becoming-flight",
   "metadata": {},
   "source": [
    "#### Decision Tree"
   ]
  },
  {
   "cell_type": "code",
   "execution_count": 65,
   "id": "afraid-blame",
   "metadata": {},
   "outputs": [
    {
     "data": {
      "text/plain": [
       "DecisionTreeClassifier()"
      ]
     },
     "execution_count": 65,
     "metadata": {},
     "output_type": "execute_result"
    }
   ],
   "source": [
    "from sklearn.tree import DecisionTreeClassifier\n",
    "\n",
    "dtc= DecisionTreeClassifier()\n",
    "dtc.fit(x_train, y_train)"
   ]
  },
  {
   "cell_type": "markdown",
   "id": "major-responsibility",
   "metadata": {},
   "source": [
    "###### Applying grid_params with GridsearchCv for DTC model to get best model score"
   ]
  },
  {
   "cell_type": "code",
   "execution_count": 66,
   "id": "sublime-tribe",
   "metadata": {},
   "outputs": [],
   "source": [
    "grid_param = {\n",
    "    'criterion': ['gini', 'entropy'],\n",
    "    'max_depth' : range(2,20,2),\n",
    "    'min_samples_leaf' : range(1,10,1),\n",
    "    'min_samples_split': range(2,10,1),\n",
    "    'splitter' : ['best', 'random']\n",
    "    \n",
    "}"
   ]
  },
  {
   "cell_type": "code",
   "execution_count": 67,
   "id": "dramatic-shanghai",
   "metadata": {},
   "outputs": [
    {
     "name": "stdout",
     "output_type": "stream",
     "text": [
      "Fitting 5 folds for each of 2592 candidates, totalling 12960 fits\n"
     ]
    },
    {
     "name": "stderr",
     "output_type": "stream",
     "text": [
      "[Parallel(n_jobs=-1)]: Using backend LokyBackend with 4 concurrent workers.\n",
      "[Parallel(n_jobs=-1)]: Done  24 tasks      | elapsed:    7.0s\n",
      "[Parallel(n_jobs=-1)]: Done 120 tasks      | elapsed:   12.1s\n",
      "[Parallel(n_jobs=-1)]: Done 280 tasks      | elapsed:   20.6s\n",
      "[Parallel(n_jobs=-1)]: Done 504 tasks      | elapsed:   33.1s\n",
      "[Parallel(n_jobs=-1)]: Done 792 tasks      | elapsed:   51.4s\n",
      "[Parallel(n_jobs=-1)]: Done 1144 tasks      | elapsed:  1.3min\n",
      "[Parallel(n_jobs=-1)]: Done 1560 tasks      | elapsed:  1.8min\n",
      "[Parallel(n_jobs=-1)]: Done 2040 tasks      | elapsed:  2.5min\n",
      "[Parallel(n_jobs=-1)]: Done 2584 tasks      | elapsed:  3.3min\n",
      "[Parallel(n_jobs=-1)]: Done 3192 tasks      | elapsed:  4.4min\n",
      "[Parallel(n_jobs=-1)]: Done 3864 tasks      | elapsed:  5.8min\n",
      "[Parallel(n_jobs=-1)]: Done 4600 tasks      | elapsed:  7.5min\n",
      "[Parallel(n_jobs=-1)]: Done 5400 tasks      | elapsed:  9.3min\n",
      "[Parallel(n_jobs=-1)]: Done 6264 tasks      | elapsed: 11.6min\n",
      "[Parallel(n_jobs=-1)]: Done 7192 tasks      | elapsed: 12.7min\n",
      "[Parallel(n_jobs=-1)]: Done 8184 tasks      | elapsed: 13.9min\n",
      "[Parallel(n_jobs=-1)]: Done 9240 tasks      | elapsed: 15.6min\n",
      "[Parallel(n_jobs=-1)]: Done 10360 tasks      | elapsed: 17.8min\n",
      "[Parallel(n_jobs=-1)]: Done 11544 tasks      | elapsed: 20.5min\n",
      "[Parallel(n_jobs=-1)]: Done 12792 tasks      | elapsed: 23.6min\n",
      "[Parallel(n_jobs=-1)]: Done 12960 out of 12960 | elapsed: 24.0min finished\n"
     ]
    },
    {
     "data": {
      "text/plain": [
       "GridSearchCV(cv=5, estimator=DecisionTreeClassifier(), n_jobs=-1,\n",
       "             param_grid={'criterion': ['gini', 'entropy'],\n",
       "                         'max_depth': range(2, 20, 2),\n",
       "                         'min_samples_leaf': range(1, 10),\n",
       "                         'min_samples_split': range(2, 10),\n",
       "                         'splitter': ['best', 'random']},\n",
       "             verbose=3)"
      ]
     },
     "execution_count": 67,
     "metadata": {},
     "output_type": "execute_result"
    }
   ],
   "source": [
    "gsv = GridSearchCV(dtc,param_grid=grid_param,cv=5,verbose=3,n_jobs=-1)\n",
    "gsv.fit(x_train,y_train)"
   ]
  },
  {
   "cell_type": "code",
   "execution_count": 68,
   "id": "hungarian-square",
   "metadata": {},
   "outputs": [
    {
     "data": {
      "text/plain": [
       "{'criterion': 'gini',\n",
       " 'max_depth': 10,\n",
       " 'min_samples_leaf': 6,\n",
       " 'min_samples_split': 2,\n",
       " 'splitter': 'best'}"
      ]
     },
     "execution_count": 68,
     "metadata": {},
     "output_type": "execute_result"
    }
   ],
   "source": [
    "gsv.best_params_"
   ]
  },
  {
   "cell_type": "code",
   "execution_count": 69,
   "id": "vietnamese-stock",
   "metadata": {},
   "outputs": [],
   "source": [
    "dtc_tuned = DecisionTreeClassifier(criterion='gini',max_depth=10,min_samples_leaf=6,min_samples_split=2,splitter='best')"
   ]
  },
  {
   "cell_type": "code",
   "execution_count": 70,
   "id": "advance-porcelain",
   "metadata": {},
   "outputs": [
    {
     "data": {
      "text/plain": [
       "DecisionTreeClassifier(max_depth=10, min_samples_leaf=6)"
      ]
     },
     "execution_count": 70,
     "metadata": {},
     "output_type": "execute_result"
    }
   ],
   "source": [
    "dtc_tuned.fit(x_train,y_train)"
   ]
  },
  {
   "cell_type": "code",
   "execution_count": 71,
   "id": "blessed-document",
   "metadata": {},
   "outputs": [],
   "source": [
    "Dtc = dtc_tuned.score(x_test,y_test)"
   ]
  },
  {
   "cell_type": "markdown",
   "id": "opened-queen",
   "metadata": {},
   "source": [
    "##### Decision Tree Classifier Model Evaluation\n"
   ]
  },
  {
   "cell_type": "code",
   "execution_count": 72,
   "id": "solved-leone",
   "metadata": {},
   "outputs": [],
   "source": [
    "dtc_y_pred = dtc_tuned.predict(x_test)"
   ]
  },
  {
   "cell_type": "code",
   "execution_count": 73,
   "id": "reflected-leather",
   "metadata": {},
   "outputs": [
    {
     "name": "stdout",
     "output_type": "stream",
     "text": [
      "Accuracy_Score:0.8591462790459617\n",
      "**************************************************\n",
      "Classification_Report:              precision    recall  f1-score   support\n",
      "\n",
      "           0       0.88      0.95      0.91      7436\n",
      "           1       0.77      0.58      0.66      2333\n",
      "\n",
      "    accuracy                           0.86      9769\n",
      "   macro avg       0.83      0.76      0.79      9769\n",
      "weighted avg       0.85      0.86      0.85      9769\n",
      "\n",
      "**************************************************\n",
      "Confusion_Matrix:[[7043  393]\n",
      " [ 983 1350]]\n"
     ]
    }
   ],
   "source": [
    "print(f\"Accuracy_Score:{accuracy_score(y_test,dtc_y_pred)}\")\n",
    "print('*'*50)\n",
    "print(f\"Classification_Report:{classification_report(y_test,dtc_y_pred)}\")\n",
    "print('*'*50)\n",
    "print(f\"Confusion_Matrix:{confusion_matrix(y_test,dtc_y_pred)}\")"
   ]
  },
  {
   "cell_type": "markdown",
   "id": "intelligent-mount",
   "metadata": {},
   "source": [
    "#### 3. Random Forest Classifier\n"
   ]
  },
  {
   "cell_type": "code",
   "execution_count": 74,
   "id": "broad-convertible",
   "metadata": {},
   "outputs": [
    {
     "data": {
      "text/plain": [
       "RandomForestClassifier()"
      ]
     },
     "execution_count": 74,
     "metadata": {},
     "output_type": "execute_result"
    }
   ],
   "source": [
    "from sklearn.ensemble import RandomForestClassifier\n",
    "rfc = RandomForestClassifier()\n",
    "rfc.fit(x_train,y_train)"
   ]
  },
  {
   "cell_type": "code",
   "execution_count": 75,
   "id": "christian-philosophy",
   "metadata": {},
   "outputs": [],
   "source": [
    "#### Applying grid_params with GridsearchCv for RFC model to get best model score\n",
    "\n",
    "grid_params = {\"n_estimators\" : [10,15,25,30],\n",
    "              \"max_depth\" : range(1,10,2),\n",
    "              \"min_samples_leaf\" : range(1,10,1),\n",
    "              \"min_samples_split\" : range(2,10,1),\n",
    "              \"max_features\" : ['auto','log2']\n",
    "              }"
   ]
  },
  {
   "cell_type": "code",
   "execution_count": 76,
   "id": "interior-video",
   "metadata": {
    "scrolled": true
   },
   "outputs": [
    {
     "name": "stdout",
     "output_type": "stream",
     "text": [
      "Fitting 5 folds for each of 2880 candidates, totalling 14400 fits\n"
     ]
    },
    {
     "name": "stderr",
     "output_type": "stream",
     "text": [
      "[Parallel(n_jobs=-1)]: Using backend LokyBackend with 4 concurrent workers.\n",
      "[Parallel(n_jobs=-1)]: Done  24 tasks      | elapsed:    9.6s\n",
      "[Parallel(n_jobs=-1)]: Done 120 tasks      | elapsed:   21.7s\n",
      "[Parallel(n_jobs=-1)]: Done 280 tasks      | elapsed:   41.4s\n",
      "[Parallel(n_jobs=-1)]: Done 504 tasks      | elapsed:  1.1min\n",
      "[Parallel(n_jobs=-1)]: Done 792 tasks      | elapsed:  1.7min\n",
      "[Parallel(n_jobs=-1)]: Done 1144 tasks      | elapsed:  2.4min\n",
      "[Parallel(n_jobs=-1)]: Done 1560 tasks      | elapsed: 18.2min\n",
      "[Parallel(n_jobs=-1)]: Done 2040 tasks      | elapsed: 18.8min\n",
      "[Parallel(n_jobs=-1)]: Done 2584 tasks      | elapsed: 19.5min\n",
      "[Parallel(n_jobs=-1)]: Done 3192 tasks      | elapsed: 20.3min\n",
      "[Parallel(n_jobs=-1)]: Done 3864 tasks      | elapsed: 21.4min\n",
      "[Parallel(n_jobs=-1)]: Done 4600 tasks      | elapsed: 22.5min\n",
      "[Parallel(n_jobs=-1)]: Done 5400 tasks      | elapsed: 23.7min\n",
      "[Parallel(n_jobs=-1)]: Done 6264 tasks      | elapsed: 25.2min\n",
      "[Parallel(n_jobs=-1)]: Done 7192 tasks      | elapsed: 27.1min\n",
      "[Parallel(n_jobs=-1)]: Done 8184 tasks      | elapsed: 29.0min\n",
      "[Parallel(n_jobs=-1)]: Done 9240 tasks      | elapsed: 31.1min\n",
      "[Parallel(n_jobs=-1)]: Done 10360 tasks      | elapsed: 33.6min\n",
      "[Parallel(n_jobs=-1)]: Done 11544 tasks      | elapsed: 36.0min\n",
      "[Parallel(n_jobs=-1)]: Done 12792 tasks      | elapsed: 39.4min\n",
      "[Parallel(n_jobs=-1)]: Done 14104 tasks      | elapsed: 42.5min\n",
      "[Parallel(n_jobs=-1)]: Done 14400 out of 14400 | elapsed: 43.1min finished\n"
     ]
    },
    {
     "data": {
      "text/plain": [
       "GridSearchCV(cv=5, estimator=RandomForestClassifier(), n_jobs=-1,\n",
       "             param_grid={'max_depth': range(1, 10, 2),\n",
       "                         'max_features': ['auto', 'log2'],\n",
       "                         'min_samples_leaf': range(1, 10),\n",
       "                         'min_samples_split': range(2, 10),\n",
       "                         'n_estimators': [10, 15, 25, 30]},\n",
       "             verbose=3)"
      ]
     },
     "execution_count": 76,
     "metadata": {},
     "output_type": "execute_result"
    }
   ],
   "source": [
    "gsv = GridSearchCV(rfc,param_grid=grid_params,cv=5,n_jobs=-1,verbose=3)\n",
    "gsv.fit(x_train,y_train)"
   ]
  },
  {
   "cell_type": "code",
   "execution_count": 78,
   "id": "intellectual-completion",
   "metadata": {},
   "outputs": [
    {
     "data": {
      "text/plain": [
       "{'max_depth': 9,\n",
       " 'max_features': 'auto',\n",
       " 'min_samples_leaf': 1,\n",
       " 'min_samples_split': 6,\n",
       " 'n_estimators': 30}"
      ]
     },
     "execution_count": 78,
     "metadata": {},
     "output_type": "execute_result"
    }
   ],
   "source": [
    "gsv.best_params_"
   ]
  },
  {
   "cell_type": "code",
   "execution_count": 79,
   "id": "specific-syria",
   "metadata": {},
   "outputs": [],
   "source": [
    "rfc_tuned = RandomForestClassifier(max_depth=9,max_features='auto',min_samples_leaf=1,min_samples_split=6,n_estimators=30)\n"
   ]
  },
  {
   "cell_type": "code",
   "execution_count": 80,
   "id": "placed-marks",
   "metadata": {},
   "outputs": [
    {
     "data": {
      "text/plain": [
       "RandomForestClassifier(max_depth=9, min_samples_split=6, n_estimators=30)"
      ]
     },
     "execution_count": 80,
     "metadata": {},
     "output_type": "execute_result"
    }
   ],
   "source": [
    "rfc_tuned.fit(x_train,y_train)\n"
   ]
  },
  {
   "cell_type": "code",
   "execution_count": 81,
   "id": "possible-explosion",
   "metadata": {},
   "outputs": [],
   "source": [
    "RFC = rfc_tuned.score(x_test,y_test)\n"
   ]
  },
  {
   "cell_type": "code",
   "execution_count": 82,
   "id": "tough-dylan",
   "metadata": {},
   "outputs": [],
   "source": [
    "##### RandomForest Classifier Model Evaluation\n",
    "\n",
    "\n",
    "rfc_y_pred = rfc_tuned.predict(x_test)\n"
   ]
  },
  {
   "cell_type": "code",
   "execution_count": 83,
   "id": "corrected-mauritius",
   "metadata": {},
   "outputs": [
    {
     "name": "stdout",
     "output_type": "stream",
     "text": [
      "Accuracy_Score:0.8611935715016891\n",
      "**************************************************\n",
      "Classification_Report:              precision    recall  f1-score   support\n",
      "\n",
      "           0       0.87      0.96      0.91      7436\n",
      "           1       0.80      0.56      0.66      2333\n",
      "\n",
      "    accuracy                           0.86      9769\n",
      "   macro avg       0.84      0.76      0.79      9769\n",
      "weighted avg       0.86      0.86      0.85      9769\n",
      "\n",
      "**************************************************\n",
      "Confusion_Matrix:[[7104  332]\n",
      " [1024 1309]]\n"
     ]
    }
   ],
   "source": [
    "print(f\"Accuracy_Score:{accuracy_score(y_test,rfc_y_pred)}\")\n",
    "print('*'*50)\n",
    "print(f\"Classification_Report:{classification_report(y_test,rfc_y_pred)}\")\n",
    "print('*'*50)\n",
    "print(f\"Confusion_Matrix:{confusion_matrix(y_test,rfc_y_pred)}\")\n"
   ]
  },
  {
   "cell_type": "code",
   "execution_count": null,
   "id": "neither-suspect",
   "metadata": {},
   "outputs": [],
   "source": [
    "4. KNN Classifier\n",
    "\n",
    "\n"
   ]
  },
  {
   "cell_type": "code",
   "execution_count": 84,
   "id": "intensive-hopkins",
   "metadata": {},
   "outputs": [
    {
     "data": {
      "text/plain": [
       "KNeighborsClassifier()"
      ]
     },
     "execution_count": 84,
     "metadata": {},
     "output_type": "execute_result"
    }
   ],
   "source": [
    "from sklearn.neighbors import KNeighborsClassifier\n",
    "knc = KNeighborsClassifier()\n",
    "knc.fit(x_train,y_train)\n"
   ]
  },
  {
   "cell_type": "code",
   "execution_count": 85,
   "id": "inappropriate-understanding",
   "metadata": {},
   "outputs": [],
   "source": [
    "param_grid = { 'algorithm' : ['ball_tree', 'kd_tree', 'brute'],\n",
    "               'leaf_size' : [18,25,27,30],\n",
    "               'n_neighbors' : [3,7,9,11]\n",
    "              }"
   ]
  },
  {
   "cell_type": "code",
   "execution_count": 86,
   "id": "equal-inclusion",
   "metadata": {},
   "outputs": [
    {
     "name": "stdout",
     "output_type": "stream",
     "text": [
      "Fitting 5 folds for each of 48 candidates, totalling 240 fits\n",
      "[CV] algorithm=ball_tree, leaf_size=18, n_neighbors=3 ................\n"
     ]
    },
    {
     "name": "stderr",
     "output_type": "stream",
     "text": [
      "[Parallel(n_jobs=1)]: Using backend SequentialBackend with 1 concurrent workers.\n"
     ]
    },
    {
     "name": "stdout",
     "output_type": "stream",
     "text": [
      "[CV]  algorithm=ball_tree, leaf_size=18, n_neighbors=3, score=0.832, total=   5.5s\n",
      "[CV] algorithm=ball_tree, leaf_size=18, n_neighbors=3 ................\n"
     ]
    },
    {
     "name": "stderr",
     "output_type": "stream",
     "text": [
      "[Parallel(n_jobs=1)]: Done   1 out of   1 | elapsed:    5.4s remaining:    0.0s\n"
     ]
    },
    {
     "name": "stdout",
     "output_type": "stream",
     "text": [
      "[CV]  algorithm=ball_tree, leaf_size=18, n_neighbors=3, score=0.839, total=   5.0s\n",
      "[CV] algorithm=ball_tree, leaf_size=18, n_neighbors=3 ................\n"
     ]
    },
    {
     "name": "stderr",
     "output_type": "stream",
     "text": [
      "[Parallel(n_jobs=1)]: Done   2 out of   2 | elapsed:   10.4s remaining:    0.0s\n"
     ]
    },
    {
     "name": "stdout",
     "output_type": "stream",
     "text": [
      "[CV]  algorithm=ball_tree, leaf_size=18, n_neighbors=3, score=0.839, total=   5.5s\n",
      "[CV] algorithm=ball_tree, leaf_size=18, n_neighbors=3 ................\n",
      "[CV]  algorithm=ball_tree, leaf_size=18, n_neighbors=3, score=0.833, total=   5.6s\n",
      "[CV] algorithm=ball_tree, leaf_size=18, n_neighbors=3 ................\n",
      "[CV]  algorithm=ball_tree, leaf_size=18, n_neighbors=3, score=0.833, total=   5.2s\n",
      "[CV] algorithm=ball_tree, leaf_size=18, n_neighbors=7 ................\n",
      "[CV]  algorithm=ball_tree, leaf_size=18, n_neighbors=7, score=0.838, total=   5.1s\n",
      "[CV] algorithm=ball_tree, leaf_size=18, n_neighbors=7 ................\n",
      "[CV]  algorithm=ball_tree, leaf_size=18, n_neighbors=7, score=0.842, total=   5.1s\n",
      "[CV] algorithm=ball_tree, leaf_size=18, n_neighbors=7 ................\n",
      "[CV]  algorithm=ball_tree, leaf_size=18, n_neighbors=7, score=0.840, total=   5.0s\n",
      "[CV] algorithm=ball_tree, leaf_size=18, n_neighbors=7 ................\n",
      "[CV]  algorithm=ball_tree, leaf_size=18, n_neighbors=7, score=0.842, total=   5.0s\n",
      "[CV] algorithm=ball_tree, leaf_size=18, n_neighbors=7 ................\n",
      "[CV]  algorithm=ball_tree, leaf_size=18, n_neighbors=7, score=0.844, total=   5.2s\n",
      "[CV] algorithm=ball_tree, leaf_size=18, n_neighbors=9 ................\n",
      "[CV]  algorithm=ball_tree, leaf_size=18, n_neighbors=9, score=0.844, total=   5.3s\n",
      "[CV] algorithm=ball_tree, leaf_size=18, n_neighbors=9 ................\n",
      "[CV]  algorithm=ball_tree, leaf_size=18, n_neighbors=9, score=0.843, total=   5.3s\n",
      "[CV] algorithm=ball_tree, leaf_size=18, n_neighbors=9 ................\n",
      "[CV]  algorithm=ball_tree, leaf_size=18, n_neighbors=9, score=0.843, total=   5.1s\n",
      "[CV] algorithm=ball_tree, leaf_size=18, n_neighbors=9 ................\n",
      "[CV]  algorithm=ball_tree, leaf_size=18, n_neighbors=9, score=0.846, total=   5.0s\n",
      "[CV] algorithm=ball_tree, leaf_size=18, n_neighbors=9 ................\n",
      "[CV]  algorithm=ball_tree, leaf_size=18, n_neighbors=9, score=0.845, total=   5.1s\n",
      "[CV] algorithm=ball_tree, leaf_size=18, n_neighbors=11 ...............\n",
      "[CV]  algorithm=ball_tree, leaf_size=18, n_neighbors=11, score=0.840, total=   5.6s\n",
      "[CV] algorithm=ball_tree, leaf_size=18, n_neighbors=11 ...............\n",
      "[CV]  algorithm=ball_tree, leaf_size=18, n_neighbors=11, score=0.844, total=   5.5s\n",
      "[CV] algorithm=ball_tree, leaf_size=18, n_neighbors=11 ...............\n",
      "[CV]  algorithm=ball_tree, leaf_size=18, n_neighbors=11, score=0.845, total=   6.4s\n",
      "[CV] algorithm=ball_tree, leaf_size=18, n_neighbors=11 ...............\n",
      "[CV]  algorithm=ball_tree, leaf_size=18, n_neighbors=11, score=0.841, total=   5.4s\n",
      "[CV] algorithm=ball_tree, leaf_size=18, n_neighbors=11 ...............\n",
      "[CV]  algorithm=ball_tree, leaf_size=18, n_neighbors=11, score=0.847, total=   5.0s\n",
      "[CV] algorithm=ball_tree, leaf_size=25, n_neighbors=3 ................\n",
      "[CV]  algorithm=ball_tree, leaf_size=25, n_neighbors=3, score=0.832, total=   4.8s\n",
      "[CV] algorithm=ball_tree, leaf_size=25, n_neighbors=3 ................\n",
      "[CV]  algorithm=ball_tree, leaf_size=25, n_neighbors=3, score=0.839, total=   4.9s\n",
      "[CV] algorithm=ball_tree, leaf_size=25, n_neighbors=3 ................\n",
      "[CV]  algorithm=ball_tree, leaf_size=25, n_neighbors=3, score=0.839, total=   5.0s\n",
      "[CV] algorithm=ball_tree, leaf_size=25, n_neighbors=3 ................\n",
      "[CV]  algorithm=ball_tree, leaf_size=25, n_neighbors=3, score=0.833, total=   4.9s\n",
      "[CV] algorithm=ball_tree, leaf_size=25, n_neighbors=3 ................\n",
      "[CV]  algorithm=ball_tree, leaf_size=25, n_neighbors=3, score=0.833, total=   4.6s\n",
      "[CV] algorithm=ball_tree, leaf_size=25, n_neighbors=7 ................\n",
      "[CV]  algorithm=ball_tree, leaf_size=25, n_neighbors=7, score=0.838, total=   4.9s\n",
      "[CV] algorithm=ball_tree, leaf_size=25, n_neighbors=7 ................\n",
      "[CV]  algorithm=ball_tree, leaf_size=25, n_neighbors=7, score=0.842, total=   5.0s\n",
      "[CV] algorithm=ball_tree, leaf_size=25, n_neighbors=7 ................\n",
      "[CV]  algorithm=ball_tree, leaf_size=25, n_neighbors=7, score=0.840, total=   5.0s\n",
      "[CV] algorithm=ball_tree, leaf_size=25, n_neighbors=7 ................\n",
      "[CV]  algorithm=ball_tree, leaf_size=25, n_neighbors=7, score=0.842, total=   4.9s\n",
      "[CV] algorithm=ball_tree, leaf_size=25, n_neighbors=7 ................\n",
      "[CV]  algorithm=ball_tree, leaf_size=25, n_neighbors=7, score=0.844, total=   5.1s\n",
      "[CV] algorithm=ball_tree, leaf_size=25, n_neighbors=9 ................\n",
      "[CV]  algorithm=ball_tree, leaf_size=25, n_neighbors=9, score=0.844, total=   5.0s\n",
      "[CV] algorithm=ball_tree, leaf_size=25, n_neighbors=9 ................\n",
      "[CV]  algorithm=ball_tree, leaf_size=25, n_neighbors=9, score=0.843, total=   5.0s\n",
      "[CV] algorithm=ball_tree, leaf_size=25, n_neighbors=9 ................\n",
      "[CV]  algorithm=ball_tree, leaf_size=25, n_neighbors=9, score=0.843, total=   4.9s\n",
      "[CV] algorithm=ball_tree, leaf_size=25, n_neighbors=9 ................\n",
      "[CV]  algorithm=ball_tree, leaf_size=25, n_neighbors=9, score=0.846, total=   4.9s\n",
      "[CV] algorithm=ball_tree, leaf_size=25, n_neighbors=9 ................\n",
      "[CV]  algorithm=ball_tree, leaf_size=25, n_neighbors=9, score=0.845, total=   4.9s\n",
      "[CV] algorithm=ball_tree, leaf_size=25, n_neighbors=11 ...............\n",
      "[CV]  algorithm=ball_tree, leaf_size=25, n_neighbors=11, score=0.840, total=   5.2s\n",
      "[CV] algorithm=ball_tree, leaf_size=25, n_neighbors=11 ...............\n",
      "[CV]  algorithm=ball_tree, leaf_size=25, n_neighbors=11, score=0.844, total=   5.4s\n",
      "[CV] algorithm=ball_tree, leaf_size=25, n_neighbors=11 ...............\n",
      "[CV]  algorithm=ball_tree, leaf_size=25, n_neighbors=11, score=0.845, total=   5.2s\n",
      "[CV] algorithm=ball_tree, leaf_size=25, n_neighbors=11 ...............\n",
      "[CV]  algorithm=ball_tree, leaf_size=25, n_neighbors=11, score=0.841, total=   5.1s\n",
      "[CV] algorithm=ball_tree, leaf_size=25, n_neighbors=11 ...............\n",
      "[CV]  algorithm=ball_tree, leaf_size=25, n_neighbors=11, score=0.847, total=   5.2s\n",
      "[CV] algorithm=ball_tree, leaf_size=27, n_neighbors=3 ................\n",
      "[CV]  algorithm=ball_tree, leaf_size=27, n_neighbors=3, score=0.832, total=   4.8s\n",
      "[CV] algorithm=ball_tree, leaf_size=27, n_neighbors=3 ................\n",
      "[CV]  algorithm=ball_tree, leaf_size=27, n_neighbors=3, score=0.839, total=   4.7s\n",
      "[CV] algorithm=ball_tree, leaf_size=27, n_neighbors=3 ................\n",
      "[CV]  algorithm=ball_tree, leaf_size=27, n_neighbors=3, score=0.839, total=   4.8s\n",
      "[CV] algorithm=ball_tree, leaf_size=27, n_neighbors=3 ................\n",
      "[CV]  algorithm=ball_tree, leaf_size=27, n_neighbors=3, score=0.833, total=   4.8s\n",
      "[CV] algorithm=ball_tree, leaf_size=27, n_neighbors=3 ................\n",
      "[CV]  algorithm=ball_tree, leaf_size=27, n_neighbors=3, score=0.833, total=   4.6s\n",
      "[CV] algorithm=ball_tree, leaf_size=27, n_neighbors=7 ................\n",
      "[CV]  algorithm=ball_tree, leaf_size=27, n_neighbors=7, score=0.838, total=   4.9s\n",
      "[CV] algorithm=ball_tree, leaf_size=27, n_neighbors=7 ................\n",
      "[CV]  algorithm=ball_tree, leaf_size=27, n_neighbors=7, score=0.842, total=   4.9s\n",
      "[CV] algorithm=ball_tree, leaf_size=27, n_neighbors=7 ................\n",
      "[CV]  algorithm=ball_tree, leaf_size=27, n_neighbors=7, score=0.840, total=   5.1s\n",
      "[CV] algorithm=ball_tree, leaf_size=27, n_neighbors=7 ................\n",
      "[CV]  algorithm=ball_tree, leaf_size=27, n_neighbors=7, score=0.842, total=   5.0s\n",
      "[CV] algorithm=ball_tree, leaf_size=27, n_neighbors=7 ................\n",
      "[CV]  algorithm=ball_tree, leaf_size=27, n_neighbors=7, score=0.844, total=   4.9s\n",
      "[CV] algorithm=ball_tree, leaf_size=27, n_neighbors=9 ................\n",
      "[CV]  algorithm=ball_tree, leaf_size=27, n_neighbors=9, score=0.844, total=   4.9s\n",
      "[CV] algorithm=ball_tree, leaf_size=27, n_neighbors=9 ................\n",
      "[CV]  algorithm=ball_tree, leaf_size=27, n_neighbors=9, score=0.843, total=   5.0s\n",
      "[CV] algorithm=ball_tree, leaf_size=27, n_neighbors=9 ................\n",
      "[CV]  algorithm=ball_tree, leaf_size=27, n_neighbors=9, score=0.843, total=   5.1s\n",
      "[CV] algorithm=ball_tree, leaf_size=27, n_neighbors=9 ................\n",
      "[CV]  algorithm=ball_tree, leaf_size=27, n_neighbors=9, score=0.846, total=   5.3s\n",
      "[CV] algorithm=ball_tree, leaf_size=27, n_neighbors=9 ................\n",
      "[CV]  algorithm=ball_tree, leaf_size=27, n_neighbors=9, score=0.845, total=   5.0s\n",
      "[CV] algorithm=ball_tree, leaf_size=27, n_neighbors=11 ...............\n",
      "[CV]  algorithm=ball_tree, leaf_size=27, n_neighbors=11, score=0.840, total=   4.9s\n",
      "[CV] algorithm=ball_tree, leaf_size=27, n_neighbors=11 ...............\n"
     ]
    },
    {
     "name": "stdout",
     "output_type": "stream",
     "text": [
      "[CV]  algorithm=ball_tree, leaf_size=27, n_neighbors=11, score=0.844, total=   5.1s\n",
      "[CV] algorithm=ball_tree, leaf_size=27, n_neighbors=11 ...............\n",
      "[CV]  algorithm=ball_tree, leaf_size=27, n_neighbors=11, score=0.845, total=   5.0s\n",
      "[CV] algorithm=ball_tree, leaf_size=27, n_neighbors=11 ...............\n",
      "[CV]  algorithm=ball_tree, leaf_size=27, n_neighbors=11, score=0.841, total=   5.1s\n",
      "[CV] algorithm=ball_tree, leaf_size=27, n_neighbors=11 ...............\n",
      "[CV]  algorithm=ball_tree, leaf_size=27, n_neighbors=11, score=0.847, total=   5.1s\n",
      "[CV] algorithm=ball_tree, leaf_size=30, n_neighbors=3 ................\n",
      "[CV]  algorithm=ball_tree, leaf_size=30, n_neighbors=3, score=0.832, total=   4.8s\n",
      "[CV] algorithm=ball_tree, leaf_size=30, n_neighbors=3 ................\n",
      "[CV]  algorithm=ball_tree, leaf_size=30, n_neighbors=3, score=0.839, total=   4.8s\n",
      "[CV] algorithm=ball_tree, leaf_size=30, n_neighbors=3 ................\n",
      "[CV]  algorithm=ball_tree, leaf_size=30, n_neighbors=3, score=0.839, total=   4.7s\n",
      "[CV] algorithm=ball_tree, leaf_size=30, n_neighbors=3 ................\n",
      "[CV]  algorithm=ball_tree, leaf_size=30, n_neighbors=3, score=0.833, total=   4.7s\n",
      "[CV] algorithm=ball_tree, leaf_size=30, n_neighbors=3 ................\n",
      "[CV]  algorithm=ball_tree, leaf_size=30, n_neighbors=3, score=0.833, total=   4.7s\n",
      "[CV] algorithm=ball_tree, leaf_size=30, n_neighbors=7 ................\n",
      "[CV]  algorithm=ball_tree, leaf_size=30, n_neighbors=7, score=0.838, total=   5.0s\n",
      "[CV] algorithm=ball_tree, leaf_size=30, n_neighbors=7 ................\n",
      "[CV]  algorithm=ball_tree, leaf_size=30, n_neighbors=7, score=0.842, total=   4.9s\n",
      "[CV] algorithm=ball_tree, leaf_size=30, n_neighbors=7 ................\n",
      "[CV]  algorithm=ball_tree, leaf_size=30, n_neighbors=7, score=0.840, total=   4.9s\n",
      "[CV] algorithm=ball_tree, leaf_size=30, n_neighbors=7 ................\n",
      "[CV]  algorithm=ball_tree, leaf_size=30, n_neighbors=7, score=0.842, total=   4.8s\n",
      "[CV] algorithm=ball_tree, leaf_size=30, n_neighbors=7 ................\n",
      "[CV]  algorithm=ball_tree, leaf_size=30, n_neighbors=7, score=0.844, total=   4.8s\n",
      "[CV] algorithm=ball_tree, leaf_size=30, n_neighbors=9 ................\n",
      "[CV]  algorithm=ball_tree, leaf_size=30, n_neighbors=9, score=0.844, total=   4.8s\n",
      "[CV] algorithm=ball_tree, leaf_size=30, n_neighbors=9 ................\n",
      "[CV]  algorithm=ball_tree, leaf_size=30, n_neighbors=9, score=0.843, total=   4.8s\n",
      "[CV] algorithm=ball_tree, leaf_size=30, n_neighbors=9 ................\n",
      "[CV]  algorithm=ball_tree, leaf_size=30, n_neighbors=9, score=0.843, total=   4.7s\n",
      "[CV] algorithm=ball_tree, leaf_size=30, n_neighbors=9 ................\n",
      "[CV]  algorithm=ball_tree, leaf_size=30, n_neighbors=9, score=0.846, total=   4.8s\n",
      "[CV] algorithm=ball_tree, leaf_size=30, n_neighbors=9 ................\n",
      "[CV]  algorithm=ball_tree, leaf_size=30, n_neighbors=9, score=0.845, total=   4.8s\n",
      "[CV] algorithm=ball_tree, leaf_size=30, n_neighbors=11 ...............\n",
      "[CV]  algorithm=ball_tree, leaf_size=30, n_neighbors=11, score=0.840, total=   4.8s\n",
      "[CV] algorithm=ball_tree, leaf_size=30, n_neighbors=11 ...............\n",
      "[CV]  algorithm=ball_tree, leaf_size=30, n_neighbors=11, score=0.844, total=   4.9s\n",
      "[CV] algorithm=ball_tree, leaf_size=30, n_neighbors=11 ...............\n",
      "[CV]  algorithm=ball_tree, leaf_size=30, n_neighbors=11, score=0.845, total=   5.0s\n",
      "[CV] algorithm=ball_tree, leaf_size=30, n_neighbors=11 ...............\n",
      "[CV]  algorithm=ball_tree, leaf_size=30, n_neighbors=11, score=0.841, total=   5.0s\n",
      "[CV] algorithm=ball_tree, leaf_size=30, n_neighbors=11 ...............\n",
      "[CV]  algorithm=ball_tree, leaf_size=30, n_neighbors=11, score=0.847, total=   4.8s\n",
      "[CV] algorithm=kd_tree, leaf_size=18, n_neighbors=3 ..................\n",
      "[CV]  algorithm=kd_tree, leaf_size=18, n_neighbors=3, score=0.830, total=   3.6s\n",
      "[CV] algorithm=kd_tree, leaf_size=18, n_neighbors=3 ..................\n",
      "[CV]  algorithm=kd_tree, leaf_size=18, n_neighbors=3, score=0.839, total=   3.8s\n",
      "[CV] algorithm=kd_tree, leaf_size=18, n_neighbors=3 ..................\n",
      "[CV]  algorithm=kd_tree, leaf_size=18, n_neighbors=3, score=0.838, total=   3.5s\n",
      "[CV] algorithm=kd_tree, leaf_size=18, n_neighbors=3 ..................\n",
      "[CV]  algorithm=kd_tree, leaf_size=18, n_neighbors=3, score=0.833, total=   3.5s\n",
      "[CV] algorithm=kd_tree, leaf_size=18, n_neighbors=3 ..................\n",
      "[CV]  algorithm=kd_tree, leaf_size=18, n_neighbors=3, score=0.833, total=   3.5s\n",
      "[CV] algorithm=kd_tree, leaf_size=18, n_neighbors=7 ..................\n",
      "[CV]  algorithm=kd_tree, leaf_size=18, n_neighbors=7, score=0.839, total=   3.6s\n",
      "[CV] algorithm=kd_tree, leaf_size=18, n_neighbors=7 ..................\n",
      "[CV]  algorithm=kd_tree, leaf_size=18, n_neighbors=7, score=0.843, total=   3.6s\n",
      "[CV] algorithm=kd_tree, leaf_size=18, n_neighbors=7 ..................\n",
      "[CV]  algorithm=kd_tree, leaf_size=18, n_neighbors=7, score=0.841, total=   3.6s\n",
      "[CV] algorithm=kd_tree, leaf_size=18, n_neighbors=7 ..................\n",
      "[CV]  algorithm=kd_tree, leaf_size=18, n_neighbors=7, score=0.840, total=   3.8s\n",
      "[CV] algorithm=kd_tree, leaf_size=18, n_neighbors=7 ..................\n",
      "[CV]  algorithm=kd_tree, leaf_size=18, n_neighbors=7, score=0.845, total=   3.7s\n",
      "[CV] algorithm=kd_tree, leaf_size=18, n_neighbors=9 ..................\n",
      "[CV]  algorithm=kd_tree, leaf_size=18, n_neighbors=9, score=0.843, total=   3.7s\n",
      "[CV] algorithm=kd_tree, leaf_size=18, n_neighbors=9 ..................\n",
      "[CV]  algorithm=kd_tree, leaf_size=18, n_neighbors=9, score=0.843, total=   3.7s\n",
      "[CV] algorithm=kd_tree, leaf_size=18, n_neighbors=9 ..................\n",
      "[CV]  algorithm=kd_tree, leaf_size=18, n_neighbors=9, score=0.844, total=   3.7s\n",
      "[CV] algorithm=kd_tree, leaf_size=18, n_neighbors=9 ..................\n",
      "[CV]  algorithm=kd_tree, leaf_size=18, n_neighbors=9, score=0.844, total=   3.8s\n",
      "[CV] algorithm=kd_tree, leaf_size=18, n_neighbors=9 ..................\n",
      "[CV]  algorithm=kd_tree, leaf_size=18, n_neighbors=9, score=0.844, total=   3.6s\n",
      "[CV] algorithm=kd_tree, leaf_size=18, n_neighbors=11 .................\n",
      "[CV]  algorithm=kd_tree, leaf_size=18, n_neighbors=11, score=0.842, total=   3.6s\n",
      "[CV] algorithm=kd_tree, leaf_size=18, n_neighbors=11 .................\n",
      "[CV]  algorithm=kd_tree, leaf_size=18, n_neighbors=11, score=0.846, total=   3.8s\n",
      "[CV] algorithm=kd_tree, leaf_size=18, n_neighbors=11 .................\n",
      "[CV]  algorithm=kd_tree, leaf_size=18, n_neighbors=11, score=0.847, total=   3.7s\n",
      "[CV] algorithm=kd_tree, leaf_size=18, n_neighbors=11 .................\n",
      "[CV]  algorithm=kd_tree, leaf_size=18, n_neighbors=11, score=0.842, total=   3.7s\n",
      "[CV] algorithm=kd_tree, leaf_size=18, n_neighbors=11 .................\n",
      "[CV]  algorithm=kd_tree, leaf_size=18, n_neighbors=11, score=0.846, total=   3.7s\n",
      "[CV] algorithm=kd_tree, leaf_size=25, n_neighbors=3 ..................\n",
      "[CV]  algorithm=kd_tree, leaf_size=25, n_neighbors=3, score=0.830, total=   3.4s\n",
      "[CV] algorithm=kd_tree, leaf_size=25, n_neighbors=3 ..................\n",
      "[CV]  algorithm=kd_tree, leaf_size=25, n_neighbors=3, score=0.839, total=   3.6s\n",
      "[CV] algorithm=kd_tree, leaf_size=25, n_neighbors=3 ..................\n",
      "[CV]  algorithm=kd_tree, leaf_size=25, n_neighbors=3, score=0.838, total=   3.5s\n",
      "[CV] algorithm=kd_tree, leaf_size=25, n_neighbors=3 ..................\n",
      "[CV]  algorithm=kd_tree, leaf_size=25, n_neighbors=3, score=0.833, total=   3.7s\n",
      "[CV] algorithm=kd_tree, leaf_size=25, n_neighbors=3 ..................\n",
      "[CV]  algorithm=kd_tree, leaf_size=25, n_neighbors=3, score=0.833, total=   3.5s\n",
      "[CV] algorithm=kd_tree, leaf_size=25, n_neighbors=7 ..................\n",
      "[CV]  algorithm=kd_tree, leaf_size=25, n_neighbors=7, score=0.839, total=   3.6s\n",
      "[CV] algorithm=kd_tree, leaf_size=25, n_neighbors=7 ..................\n",
      "[CV]  algorithm=kd_tree, leaf_size=25, n_neighbors=7, score=0.843, total=   3.6s\n",
      "[CV] algorithm=kd_tree, leaf_size=25, n_neighbors=7 ..................\n",
      "[CV]  algorithm=kd_tree, leaf_size=25, n_neighbors=7, score=0.841, total=   3.6s\n",
      "[CV] algorithm=kd_tree, leaf_size=25, n_neighbors=7 ..................\n",
      "[CV]  algorithm=kd_tree, leaf_size=25, n_neighbors=7, score=0.840, total=   3.6s\n",
      "[CV] algorithm=kd_tree, leaf_size=25, n_neighbors=7 ..................\n",
      "[CV]  algorithm=kd_tree, leaf_size=25, n_neighbors=7, score=0.845, total=   3.6s\n",
      "[CV] algorithm=kd_tree, leaf_size=25, n_neighbors=9 ..................\n"
     ]
    },
    {
     "name": "stdout",
     "output_type": "stream",
     "text": [
      "[CV]  algorithm=kd_tree, leaf_size=25, n_neighbors=9, score=0.843, total=   3.8s\n",
      "[CV] algorithm=kd_tree, leaf_size=25, n_neighbors=9 ..................\n",
      "[CV]  algorithm=kd_tree, leaf_size=25, n_neighbors=9, score=0.843, total=   3.7s\n",
      "[CV] algorithm=kd_tree, leaf_size=25, n_neighbors=9 ..................\n",
      "[CV]  algorithm=kd_tree, leaf_size=25, n_neighbors=9, score=0.844, total=   3.7s\n",
      "[CV] algorithm=kd_tree, leaf_size=25, n_neighbors=9 ..................\n",
      "[CV]  algorithm=kd_tree, leaf_size=25, n_neighbors=9, score=0.844, total=   3.8s\n",
      "[CV] algorithm=kd_tree, leaf_size=25, n_neighbors=9 ..................\n",
      "[CV]  algorithm=kd_tree, leaf_size=25, n_neighbors=9, score=0.844, total=   3.6s\n",
      "[CV] algorithm=kd_tree, leaf_size=25, n_neighbors=11 .................\n",
      "[CV]  algorithm=kd_tree, leaf_size=25, n_neighbors=11, score=0.842, total=   3.9s\n",
      "[CV] algorithm=kd_tree, leaf_size=25, n_neighbors=11 .................\n",
      "[CV]  algorithm=kd_tree, leaf_size=25, n_neighbors=11, score=0.846, total=   3.7s\n",
      "[CV] algorithm=kd_tree, leaf_size=25, n_neighbors=11 .................\n",
      "[CV]  algorithm=kd_tree, leaf_size=25, n_neighbors=11, score=0.847, total=   3.7s\n",
      "[CV] algorithm=kd_tree, leaf_size=25, n_neighbors=11 .................\n",
      "[CV]  algorithm=kd_tree, leaf_size=25, n_neighbors=11, score=0.842, total=   3.9s\n",
      "[CV] algorithm=kd_tree, leaf_size=25, n_neighbors=11 .................\n",
      "[CV]  algorithm=kd_tree, leaf_size=25, n_neighbors=11, score=0.846, total=   3.7s\n",
      "[CV] algorithm=kd_tree, leaf_size=27, n_neighbors=3 ..................\n",
      "[CV]  algorithm=kd_tree, leaf_size=27, n_neighbors=3, score=0.830, total=   3.6s\n",
      "[CV] algorithm=kd_tree, leaf_size=27, n_neighbors=3 ..................\n",
      "[CV]  algorithm=kd_tree, leaf_size=27, n_neighbors=3, score=0.839, total=   3.6s\n",
      "[CV] algorithm=kd_tree, leaf_size=27, n_neighbors=3 ..................\n",
      "[CV]  algorithm=kd_tree, leaf_size=27, n_neighbors=3, score=0.838, total=   3.6s\n",
      "[CV] algorithm=kd_tree, leaf_size=27, n_neighbors=3 ..................\n",
      "[CV]  algorithm=kd_tree, leaf_size=27, n_neighbors=3, score=0.833, total=   3.6s\n",
      "[CV] algorithm=kd_tree, leaf_size=27, n_neighbors=3 ..................\n",
      "[CV]  algorithm=kd_tree, leaf_size=27, n_neighbors=3, score=0.833, total=   3.5s\n",
      "[CV] algorithm=kd_tree, leaf_size=27, n_neighbors=7 ..................\n",
      "[CV]  algorithm=kd_tree, leaf_size=27, n_neighbors=7, score=0.839, total=   3.7s\n",
      "[CV] algorithm=kd_tree, leaf_size=27, n_neighbors=7 ..................\n",
      "[CV]  algorithm=kd_tree, leaf_size=27, n_neighbors=7, score=0.843, total=   3.7s\n",
      "[CV] algorithm=kd_tree, leaf_size=27, n_neighbors=7 ..................\n",
      "[CV]  algorithm=kd_tree, leaf_size=27, n_neighbors=7, score=0.841, total=   3.6s\n",
      "[CV] algorithm=kd_tree, leaf_size=27, n_neighbors=7 ..................\n",
      "[CV]  algorithm=kd_tree, leaf_size=27, n_neighbors=7, score=0.840, total=   3.8s\n",
      "[CV] algorithm=kd_tree, leaf_size=27, n_neighbors=7 ..................\n",
      "[CV]  algorithm=kd_tree, leaf_size=27, n_neighbors=7, score=0.845, total=   3.8s\n",
      "[CV] algorithm=kd_tree, leaf_size=27, n_neighbors=9 ..................\n",
      "[CV]  algorithm=kd_tree, leaf_size=27, n_neighbors=9, score=0.843, total=   3.7s\n",
      "[CV] algorithm=kd_tree, leaf_size=27, n_neighbors=9 ..................\n",
      "[CV]  algorithm=kd_tree, leaf_size=27, n_neighbors=9, score=0.843, total=   3.8s\n",
      "[CV] algorithm=kd_tree, leaf_size=27, n_neighbors=9 ..................\n",
      "[CV]  algorithm=kd_tree, leaf_size=27, n_neighbors=9, score=0.844, total=   3.7s\n",
      "[CV] algorithm=kd_tree, leaf_size=27, n_neighbors=9 ..................\n",
      "[CV]  algorithm=kd_tree, leaf_size=27, n_neighbors=9, score=0.844, total=   3.6s\n",
      "[CV] algorithm=kd_tree, leaf_size=27, n_neighbors=9 ..................\n",
      "[CV]  algorithm=kd_tree, leaf_size=27, n_neighbors=9, score=0.844, total=   3.6s\n",
      "[CV] algorithm=kd_tree, leaf_size=27, n_neighbors=11 .................\n",
      "[CV]  algorithm=kd_tree, leaf_size=27, n_neighbors=11, score=0.842, total=   3.6s\n",
      "[CV] algorithm=kd_tree, leaf_size=27, n_neighbors=11 .................\n",
      "[CV]  algorithm=kd_tree, leaf_size=27, n_neighbors=11, score=0.846, total=   3.7s\n",
      "[CV] algorithm=kd_tree, leaf_size=27, n_neighbors=11 .................\n",
      "[CV]  algorithm=kd_tree, leaf_size=27, n_neighbors=11, score=0.847, total=   3.8s\n",
      "[CV] algorithm=kd_tree, leaf_size=27, n_neighbors=11 .................\n",
      "[CV]  algorithm=kd_tree, leaf_size=27, n_neighbors=11, score=0.842, total=   3.6s\n",
      "[CV] algorithm=kd_tree, leaf_size=27, n_neighbors=11 .................\n",
      "[CV]  algorithm=kd_tree, leaf_size=27, n_neighbors=11, score=0.846, total=   3.7s\n",
      "[CV] algorithm=kd_tree, leaf_size=30, n_neighbors=3 ..................\n",
      "[CV]  algorithm=kd_tree, leaf_size=30, n_neighbors=3, score=0.830, total=   3.6s\n",
      "[CV] algorithm=kd_tree, leaf_size=30, n_neighbors=3 ..................\n",
      "[CV]  algorithm=kd_tree, leaf_size=30, n_neighbors=3, score=0.839, total=   3.6s\n",
      "[CV] algorithm=kd_tree, leaf_size=30, n_neighbors=3 ..................\n",
      "[CV]  algorithm=kd_tree, leaf_size=30, n_neighbors=3, score=0.838, total=   3.5s\n",
      "[CV] algorithm=kd_tree, leaf_size=30, n_neighbors=3 ..................\n",
      "[CV]  algorithm=kd_tree, leaf_size=30, n_neighbors=3, score=0.833, total=   3.5s\n",
      "[CV] algorithm=kd_tree, leaf_size=30, n_neighbors=3 ..................\n",
      "[CV]  algorithm=kd_tree, leaf_size=30, n_neighbors=3, score=0.833, total=   3.5s\n",
      "[CV] algorithm=kd_tree, leaf_size=30, n_neighbors=7 ..................\n",
      "[CV]  algorithm=kd_tree, leaf_size=30, n_neighbors=7, score=0.839, total=   3.6s\n",
      "[CV] algorithm=kd_tree, leaf_size=30, n_neighbors=7 ..................\n",
      "[CV]  algorithm=kd_tree, leaf_size=30, n_neighbors=7, score=0.843, total=   3.6s\n",
      "[CV] algorithm=kd_tree, leaf_size=30, n_neighbors=7 ..................\n",
      "[CV]  algorithm=kd_tree, leaf_size=30, n_neighbors=7, score=0.841, total=   3.6s\n",
      "[CV] algorithm=kd_tree, leaf_size=30, n_neighbors=7 ..................\n",
      "[CV]  algorithm=kd_tree, leaf_size=30, n_neighbors=7, score=0.840, total=   3.7s\n",
      "[CV] algorithm=kd_tree, leaf_size=30, n_neighbors=7 ..................\n",
      "[CV]  algorithm=kd_tree, leaf_size=30, n_neighbors=7, score=0.845, total=   3.5s\n",
      "[CV] algorithm=kd_tree, leaf_size=30, n_neighbors=9 ..................\n",
      "[CV]  algorithm=kd_tree, leaf_size=30, n_neighbors=9, score=0.843, total=   3.7s\n",
      "[CV] algorithm=kd_tree, leaf_size=30, n_neighbors=9 ..................\n",
      "[CV]  algorithm=kd_tree, leaf_size=30, n_neighbors=9, score=0.843, total=   3.6s\n",
      "[CV] algorithm=kd_tree, leaf_size=30, n_neighbors=9 ..................\n",
      "[CV]  algorithm=kd_tree, leaf_size=30, n_neighbors=9, score=0.844, total=   3.6s\n",
      "[CV] algorithm=kd_tree, leaf_size=30, n_neighbors=9 ..................\n",
      "[CV]  algorithm=kd_tree, leaf_size=30, n_neighbors=9, score=0.844, total=   3.8s\n",
      "[CV] algorithm=kd_tree, leaf_size=30, n_neighbors=9 ..................\n",
      "[CV]  algorithm=kd_tree, leaf_size=30, n_neighbors=9, score=0.844, total=   3.7s\n",
      "[CV] algorithm=kd_tree, leaf_size=30, n_neighbors=11 .................\n",
      "[CV]  algorithm=kd_tree, leaf_size=30, n_neighbors=11, score=0.842, total=   3.8s\n",
      "[CV] algorithm=kd_tree, leaf_size=30, n_neighbors=11 .................\n",
      "[CV]  algorithm=kd_tree, leaf_size=30, n_neighbors=11, score=0.846, total=   3.9s\n",
      "[CV] algorithm=kd_tree, leaf_size=30, n_neighbors=11 .................\n",
      "[CV]  algorithm=kd_tree, leaf_size=30, n_neighbors=11, score=0.847, total=   3.8s\n",
      "[CV] algorithm=kd_tree, leaf_size=30, n_neighbors=11 .................\n",
      "[CV]  algorithm=kd_tree, leaf_size=30, n_neighbors=11, score=0.842, total=   3.7s\n",
      "[CV] algorithm=kd_tree, leaf_size=30, n_neighbors=11 .................\n",
      "[CV]  algorithm=kd_tree, leaf_size=30, n_neighbors=11, score=0.846, total=   3.7s\n",
      "[CV] algorithm=brute, leaf_size=18, n_neighbors=3 ....................\n",
      "[CV]  algorithm=brute, leaf_size=18, n_neighbors=3, score=0.831, total=   2.1s\n",
      "[CV] algorithm=brute, leaf_size=18, n_neighbors=3 ....................\n",
      "[CV]  algorithm=brute, leaf_size=18, n_neighbors=3, score=0.838, total=   2.1s\n",
      "[CV] algorithm=brute, leaf_size=18, n_neighbors=3 ....................\n",
      "[CV]  algorithm=brute, leaf_size=18, n_neighbors=3, score=0.839, total=   1.9s\n",
      "[CV] algorithm=brute, leaf_size=18, n_neighbors=3 ....................\n",
      "[CV]  algorithm=brute, leaf_size=18, n_neighbors=3, score=0.835, total=   2.0s\n",
      "[CV] algorithm=brute, leaf_size=18, n_neighbors=3 ....................\n"
     ]
    },
    {
     "name": "stdout",
     "output_type": "stream",
     "text": [
      "[CV]  algorithm=brute, leaf_size=18, n_neighbors=3, score=0.833, total=   2.0s\n",
      "[CV] algorithm=brute, leaf_size=18, n_neighbors=7 ....................\n",
      "[CV]  algorithm=brute, leaf_size=18, n_neighbors=7, score=0.839, total=   2.5s\n",
      "[CV] algorithm=brute, leaf_size=18, n_neighbors=7 ....................\n",
      "[CV]  algorithm=brute, leaf_size=18, n_neighbors=7, score=0.841, total=   2.5s\n",
      "[CV] algorithm=brute, leaf_size=18, n_neighbors=7 ....................\n",
      "[CV]  algorithm=brute, leaf_size=18, n_neighbors=7, score=0.840, total=   2.4s\n",
      "[CV] algorithm=brute, leaf_size=18, n_neighbors=7 ....................\n",
      "[CV]  algorithm=brute, leaf_size=18, n_neighbors=7, score=0.843, total=   2.5s\n",
      "[CV] algorithm=brute, leaf_size=18, n_neighbors=7 ....................\n",
      "[CV]  algorithm=brute, leaf_size=18, n_neighbors=7, score=0.840, total=   2.6s\n",
      "[CV] algorithm=brute, leaf_size=18, n_neighbors=9 ....................\n",
      "[CV]  algorithm=brute, leaf_size=18, n_neighbors=9, score=0.842, total=   2.5s\n",
      "[CV] algorithm=brute, leaf_size=18, n_neighbors=9 ....................\n",
      "[CV]  algorithm=brute, leaf_size=18, n_neighbors=9, score=0.843, total=   2.6s\n",
      "[CV] algorithm=brute, leaf_size=18, n_neighbors=9 ....................\n",
      "[CV]  algorithm=brute, leaf_size=18, n_neighbors=9, score=0.842, total=   2.4s\n",
      "[CV] algorithm=brute, leaf_size=18, n_neighbors=9 ....................\n",
      "[CV]  algorithm=brute, leaf_size=18, n_neighbors=9, score=0.845, total=   2.6s\n",
      "[CV] algorithm=brute, leaf_size=18, n_neighbors=9 ....................\n",
      "[CV]  algorithm=brute, leaf_size=18, n_neighbors=9, score=0.848, total=   2.6s\n",
      "[CV] algorithm=brute, leaf_size=18, n_neighbors=11 ...................\n",
      "[CV]  algorithm=brute, leaf_size=18, n_neighbors=11, score=0.842, total=   2.5s\n",
      "[CV] algorithm=brute, leaf_size=18, n_neighbors=11 ...................\n",
      "[CV]  algorithm=brute, leaf_size=18, n_neighbors=11, score=0.844, total=   2.6s\n",
      "[CV] algorithm=brute, leaf_size=18, n_neighbors=11 ...................\n",
      "[CV]  algorithm=brute, leaf_size=18, n_neighbors=11, score=0.846, total=   2.4s\n",
      "[CV] algorithm=brute, leaf_size=18, n_neighbors=11 ...................\n",
      "[CV]  algorithm=brute, leaf_size=18, n_neighbors=11, score=0.845, total=   2.6s\n",
      "[CV] algorithm=brute, leaf_size=18, n_neighbors=11 ...................\n",
      "[CV]  algorithm=brute, leaf_size=18, n_neighbors=11, score=0.845, total=   2.6s\n",
      "[CV] algorithm=brute, leaf_size=25, n_neighbors=3 ....................\n",
      "[CV]  algorithm=brute, leaf_size=25, n_neighbors=3, score=0.831, total=   2.1s\n",
      "[CV] algorithm=brute, leaf_size=25, n_neighbors=3 ....................\n",
      "[CV]  algorithm=brute, leaf_size=25, n_neighbors=3, score=0.838, total=   2.1s\n",
      "[CV] algorithm=brute, leaf_size=25, n_neighbors=3 ....................\n",
      "[CV]  algorithm=brute, leaf_size=25, n_neighbors=3, score=0.839, total=   2.0s\n",
      "[CV] algorithm=brute, leaf_size=25, n_neighbors=3 ....................\n",
      "[CV]  algorithm=brute, leaf_size=25, n_neighbors=3, score=0.835, total=   2.0s\n",
      "[CV] algorithm=brute, leaf_size=25, n_neighbors=3 ....................\n",
      "[CV]  algorithm=brute, leaf_size=25, n_neighbors=3, score=0.833, total=   2.1s\n",
      "[CV] algorithm=brute, leaf_size=25, n_neighbors=7 ....................\n",
      "[CV]  algorithm=brute, leaf_size=25, n_neighbors=7, score=0.839, total=   2.5s\n",
      "[CV] algorithm=brute, leaf_size=25, n_neighbors=7 ....................\n",
      "[CV]  algorithm=brute, leaf_size=25, n_neighbors=7, score=0.841, total=   2.5s\n",
      "[CV] algorithm=brute, leaf_size=25, n_neighbors=7 ....................\n",
      "[CV]  algorithm=brute, leaf_size=25, n_neighbors=7, score=0.840, total=   2.4s\n",
      "[CV] algorithm=brute, leaf_size=25, n_neighbors=7 ....................\n",
      "[CV]  algorithm=brute, leaf_size=25, n_neighbors=7, score=0.843, total=   2.6s\n",
      "[CV] algorithm=brute, leaf_size=25, n_neighbors=7 ....................\n",
      "[CV]  algorithm=brute, leaf_size=25, n_neighbors=7, score=0.840, total=   2.6s\n",
      "[CV] algorithm=brute, leaf_size=25, n_neighbors=9 ....................\n",
      "[CV]  algorithm=brute, leaf_size=25, n_neighbors=9, score=0.842, total=   2.5s\n",
      "[CV] algorithm=brute, leaf_size=25, n_neighbors=9 ....................\n",
      "[CV]  algorithm=brute, leaf_size=25, n_neighbors=9, score=0.843, total=   2.6s\n",
      "[CV] algorithm=brute, leaf_size=25, n_neighbors=9 ....................\n",
      "[CV]  algorithm=brute, leaf_size=25, n_neighbors=9, score=0.842, total=   2.5s\n",
      "[CV] algorithm=brute, leaf_size=25, n_neighbors=9 ....................\n",
      "[CV]  algorithm=brute, leaf_size=25, n_neighbors=9, score=0.845, total=   2.6s\n",
      "[CV] algorithm=brute, leaf_size=25, n_neighbors=9 ....................\n",
      "[CV]  algorithm=brute, leaf_size=25, n_neighbors=9, score=0.848, total=   2.6s\n",
      "[CV] algorithm=brute, leaf_size=25, n_neighbors=11 ...................\n",
      "[CV]  algorithm=brute, leaf_size=25, n_neighbors=11, score=0.842, total=   2.6s\n",
      "[CV] algorithm=brute, leaf_size=25, n_neighbors=11 ...................\n",
      "[CV]  algorithm=brute, leaf_size=25, n_neighbors=11, score=0.844, total=   2.5s\n",
      "[CV] algorithm=brute, leaf_size=25, n_neighbors=11 ...................\n",
      "[CV]  algorithm=brute, leaf_size=25, n_neighbors=11, score=0.846, total=   2.5s\n",
      "[CV] algorithm=brute, leaf_size=25, n_neighbors=11 ...................\n",
      "[CV]  algorithm=brute, leaf_size=25, n_neighbors=11, score=0.845, total=   2.6s\n",
      "[CV] algorithm=brute, leaf_size=25, n_neighbors=11 ...................\n",
      "[CV]  algorithm=brute, leaf_size=25, n_neighbors=11, score=0.845, total=   2.6s\n",
      "[CV] algorithm=brute, leaf_size=27, n_neighbors=3 ....................\n",
      "[CV]  algorithm=brute, leaf_size=27, n_neighbors=3, score=0.831, total=   2.0s\n",
      "[CV] algorithm=brute, leaf_size=27, n_neighbors=3 ....................\n",
      "[CV]  algorithm=brute, leaf_size=27, n_neighbors=3, score=0.838, total=   2.1s\n",
      "[CV] algorithm=brute, leaf_size=27, n_neighbors=3 ....................\n",
      "[CV]  algorithm=brute, leaf_size=27, n_neighbors=3, score=0.839, total=   2.1s\n",
      "[CV] algorithm=brute, leaf_size=27, n_neighbors=3 ....................\n",
      "[CV]  algorithm=brute, leaf_size=27, n_neighbors=3, score=0.835, total=   2.0s\n",
      "[CV] algorithm=brute, leaf_size=27, n_neighbors=3 ....................\n",
      "[CV]  algorithm=brute, leaf_size=27, n_neighbors=3, score=0.833, total=   2.1s\n",
      "[CV] algorithm=brute, leaf_size=27, n_neighbors=7 ....................\n",
      "[CV]  algorithm=brute, leaf_size=27, n_neighbors=7, score=0.839, total=   2.5s\n",
      "[CV] algorithm=brute, leaf_size=27, n_neighbors=7 ....................\n",
      "[CV]  algorithm=brute, leaf_size=27, n_neighbors=7, score=0.841, total=   2.5s\n",
      "[CV] algorithm=brute, leaf_size=27, n_neighbors=7 ....................\n",
      "[CV]  algorithm=brute, leaf_size=27, n_neighbors=7, score=0.840, total=   2.5s\n",
      "[CV] algorithm=brute, leaf_size=27, n_neighbors=7 ....................\n",
      "[CV]  algorithm=brute, leaf_size=27, n_neighbors=7, score=0.843, total=   2.5s\n",
      "[CV] algorithm=brute, leaf_size=27, n_neighbors=7 ....................\n",
      "[CV]  algorithm=brute, leaf_size=27, n_neighbors=7, score=0.840, total=   2.6s\n",
      "[CV] algorithm=brute, leaf_size=27, n_neighbors=9 ....................\n",
      "[CV]  algorithm=brute, leaf_size=27, n_neighbors=9, score=0.842, total=   2.5s\n",
      "[CV] algorithm=brute, leaf_size=27, n_neighbors=9 ....................\n",
      "[CV]  algorithm=brute, leaf_size=27, n_neighbors=9, score=0.843, total=   2.6s\n",
      "[CV] algorithm=brute, leaf_size=27, n_neighbors=9 ....................\n",
      "[CV]  algorithm=brute, leaf_size=27, n_neighbors=9, score=0.842, total=   2.5s\n",
      "[CV] algorithm=brute, leaf_size=27, n_neighbors=9 ....................\n",
      "[CV]  algorithm=brute, leaf_size=27, n_neighbors=9, score=0.845, total=   2.6s\n",
      "[CV] algorithm=brute, leaf_size=27, n_neighbors=9 ....................\n",
      "[CV]  algorithm=brute, leaf_size=27, n_neighbors=9, score=0.848, total=   2.6s\n",
      "[CV] algorithm=brute, leaf_size=27, n_neighbors=11 ...................\n",
      "[CV]  algorithm=brute, leaf_size=27, n_neighbors=11, score=0.842, total=   2.5s\n",
      "[CV] algorithm=brute, leaf_size=27, n_neighbors=11 ...................\n",
      "[CV]  algorithm=brute, leaf_size=27, n_neighbors=11, score=0.844, total=   2.5s\n",
      "[CV] algorithm=brute, leaf_size=27, n_neighbors=11 ...................\n",
      "[CV]  algorithm=brute, leaf_size=27, n_neighbors=11, score=0.846, total=   2.4s\n",
      "[CV] algorithm=brute, leaf_size=27, n_neighbors=11 ...................\n",
      "[CV]  algorithm=brute, leaf_size=27, n_neighbors=11, score=0.845, total=   2.5s\n",
      "[CV] algorithm=brute, leaf_size=27, n_neighbors=11 ...................\n"
     ]
    },
    {
     "name": "stdout",
     "output_type": "stream",
     "text": [
      "[CV]  algorithm=brute, leaf_size=27, n_neighbors=11, score=0.845, total=   2.6s\n",
      "[CV] algorithm=brute, leaf_size=30, n_neighbors=3 ....................\n",
      "[CV]  algorithm=brute, leaf_size=30, n_neighbors=3, score=0.831, total=   2.0s\n",
      "[CV] algorithm=brute, leaf_size=30, n_neighbors=3 ....................\n",
      "[CV]  algorithm=brute, leaf_size=30, n_neighbors=3, score=0.838, total=   2.1s\n",
      "[CV] algorithm=brute, leaf_size=30, n_neighbors=3 ....................\n",
      "[CV]  algorithm=brute, leaf_size=30, n_neighbors=3, score=0.839, total=   2.1s\n",
      "[CV] algorithm=brute, leaf_size=30, n_neighbors=3 ....................\n",
      "[CV]  algorithm=brute, leaf_size=30, n_neighbors=3, score=0.835, total=   2.0s\n",
      "[CV] algorithm=brute, leaf_size=30, n_neighbors=3 ....................\n",
      "[CV]  algorithm=brute, leaf_size=30, n_neighbors=3, score=0.833, total=   2.1s\n",
      "[CV] algorithm=brute, leaf_size=30, n_neighbors=7 ....................\n",
      "[CV]  algorithm=brute, leaf_size=30, n_neighbors=7, score=0.839, total=   2.5s\n",
      "[CV] algorithm=brute, leaf_size=30, n_neighbors=7 ....................\n",
      "[CV]  algorithm=brute, leaf_size=30, n_neighbors=7, score=0.841, total=   2.5s\n",
      "[CV] algorithm=brute, leaf_size=30, n_neighbors=7 ....................\n",
      "[CV]  algorithm=brute, leaf_size=30, n_neighbors=7, score=0.840, total=   2.3s\n",
      "[CV] algorithm=brute, leaf_size=30, n_neighbors=7 ....................\n",
      "[CV]  algorithm=brute, leaf_size=30, n_neighbors=7, score=0.843, total=   2.6s\n",
      "[CV] algorithm=brute, leaf_size=30, n_neighbors=7 ....................\n",
      "[CV]  algorithm=brute, leaf_size=30, n_neighbors=7, score=0.840, total=   2.5s\n",
      "[CV] algorithm=brute, leaf_size=30, n_neighbors=9 ....................\n",
      "[CV]  algorithm=brute, leaf_size=30, n_neighbors=9, score=0.842, total=   2.5s\n",
      "[CV] algorithm=brute, leaf_size=30, n_neighbors=9 ....................\n",
      "[CV]  algorithm=brute, leaf_size=30, n_neighbors=9, score=0.843, total=   2.7s\n",
      "[CV] algorithm=brute, leaf_size=30, n_neighbors=9 ....................\n",
      "[CV]  algorithm=brute, leaf_size=30, n_neighbors=9, score=0.842, total=   2.5s\n",
      "[CV] algorithm=brute, leaf_size=30, n_neighbors=9 ....................\n",
      "[CV]  algorithm=brute, leaf_size=30, n_neighbors=9, score=0.845, total=   2.5s\n",
      "[CV] algorithm=brute, leaf_size=30, n_neighbors=9 ....................\n",
      "[CV]  algorithm=brute, leaf_size=30, n_neighbors=9, score=0.848, total=   2.6s\n",
      "[CV] algorithm=brute, leaf_size=30, n_neighbors=11 ...................\n",
      "[CV]  algorithm=brute, leaf_size=30, n_neighbors=11, score=0.842, total=   2.5s\n",
      "[CV] algorithm=brute, leaf_size=30, n_neighbors=11 ...................\n",
      "[CV]  algorithm=brute, leaf_size=30, n_neighbors=11, score=0.844, total=   2.5s\n",
      "[CV] algorithm=brute, leaf_size=30, n_neighbors=11 ...................\n",
      "[CV]  algorithm=brute, leaf_size=30, n_neighbors=11, score=0.846, total=   2.5s\n",
      "[CV] algorithm=brute, leaf_size=30, n_neighbors=11 ...................\n",
      "[CV]  algorithm=brute, leaf_size=30, n_neighbors=11, score=0.845, total=   2.5s\n",
      "[CV] algorithm=brute, leaf_size=30, n_neighbors=11 ...................\n",
      "[CV]  algorithm=brute, leaf_size=30, n_neighbors=11, score=0.845, total=   2.6s\n"
     ]
    },
    {
     "name": "stderr",
     "output_type": "stream",
     "text": [
      "[Parallel(n_jobs=1)]: Done 240 out of 240 | elapsed: 14.8min finished\n"
     ]
    },
    {
     "data": {
      "text/plain": [
       "GridSearchCV(estimator=KNeighborsClassifier(),\n",
       "             param_grid={'algorithm': ['ball_tree', 'kd_tree', 'brute'],\n",
       "                         'leaf_size': [18, 25, 27, 30],\n",
       "                         'n_neighbors': [3, 7, 9, 11]},\n",
       "             verbose=3)"
      ]
     },
     "execution_count": 86,
     "metadata": {},
     "output_type": "execute_result"
    }
   ],
   "source": [
    "gsv = GridSearchCV(knc,param_grid=param_grid,verbose=3)\n",
    "gsv.fit(x_train,y_train)"
   ]
  },
  {
   "cell_type": "code",
   "execution_count": 87,
   "id": "frequent-mystery",
   "metadata": {},
   "outputs": [
    {
     "data": {
      "text/plain": [
       "{'algorithm': 'kd_tree', 'leaf_size': 18, 'n_neighbors': 11}"
      ]
     },
     "execution_count": 87,
     "metadata": {},
     "output_type": "execute_result"
    }
   ],
   "source": [
    "gsv.best_params_"
   ]
  },
  {
   "cell_type": "code",
   "execution_count": 88,
   "id": "intense-carnival",
   "metadata": {},
   "outputs": [
    {
     "data": {
      "text/plain": [
       "KNeighborsClassifier(algorithm='kd_tree', leaf_size=18, n_neighbors=11)"
      ]
     },
     "execution_count": 88,
     "metadata": {},
     "output_type": "execute_result"
    }
   ],
   "source": [
    "knc_tuned = KNeighborsClassifier(algorithm='kd_tree',leaf_size=18,n_neighbors=11)\n",
    "knc_tuned.fit(x_train,y_train)"
   ]
  },
  {
   "cell_type": "code",
   "execution_count": 89,
   "id": "instrumental-equation",
   "metadata": {},
   "outputs": [],
   "source": [
    "KNN = knc_tuned.score(x_test,y_test)"
   ]
  },
  {
   "cell_type": "code",
   "execution_count": 90,
   "id": "fourth-project",
   "metadata": {},
   "outputs": [],
   "source": [
    "knc_y_pred = knc_tuned.predict(x_test)"
   ]
  },
  {
   "cell_type": "code",
   "execution_count": 91,
   "id": "legal-slovenia",
   "metadata": {},
   "outputs": [
    {
     "name": "stdout",
     "output_type": "stream",
     "text": [
      "Accuracy_Score:0.8523902139420616\n",
      "**************************************************\n",
      "Classification_Report:              precision    recall  f1-score   support\n",
      "\n",
      "           0       0.89      0.92      0.90      7436\n",
      "           1       0.72      0.63      0.67      2333\n",
      "\n",
      "    accuracy                           0.85      9769\n",
      "   macro avg       0.80      0.78      0.79      9769\n",
      "weighted avg       0.85      0.85      0.85      9769\n",
      "\n",
      "**************************************************\n",
      "Confusion_Matrix:[[6852  584]\n",
      " [ 858 1475]]\n"
     ]
    }
   ],
   "source": [
    "#### KNN Classifier Model Evaluation\n",
    "\n",
    "print(f\"Accuracy_Score:{accuracy_score(y_test,knc_y_pred)}\")\n",
    "print('*'*50)\n",
    "print(f\"Classification_Report:{classification_report(y_test,knc_y_pred)}\")\n",
    "print('*'*50)\n",
    "print(f\"Confusion_Matrix:{confusion_matrix(y_test,knc_y_pred)}\")"
   ]
  },
  {
   "cell_type": "markdown",
   "id": "swiss-advisory",
   "metadata": {},
   "source": [
    "#### 5. XGBoost Classifier\n"
   ]
  },
  {
   "cell_type": "code",
   "execution_count": 97,
   "id": "quick-homework",
   "metadata": {},
   "outputs": [
    {
     "data": {
      "text/plain": [
       "XGBClassifier(base_score=0.5, booster='gbtree', callbacks=None,\n",
       "              colsample_bylevel=1, colsample_bynode=1, colsample_bytree=1,\n",
       "              early_stopping_rounds=None, enable_categorical=False,\n",
       "              eval_metric=None, gamma=0, gpu_id=-1, grow_policy='depthwise',\n",
       "              importance_type=None, interaction_constraints='',\n",
       "              learning_rate=0.300000012, max_bin=256, max_cat_to_onehot=4,\n",
       "              max_delta_step=0, max_depth=6, max_leaves=0, min_child_weight=1,\n",
       "              missing=nan, monotone_constraints='()', n_estimators=100,\n",
       "              n_jobs=0, num_parallel_tree=1, predictor='auto', random_state=0,\n",
       "              reg_alpha=0, reg_lambda=1, ...)"
      ]
     },
     "execution_count": 97,
     "metadata": {},
     "output_type": "execute_result"
    }
   ],
   "source": [
    "from xgboost import XGBClassifier\n",
    "xbc = XGBClassifier()\n",
    "xbc.fit(x_train,y_train)"
   ]
  },
  {
   "cell_type": "code",
   "execution_count": 98,
   "id": "conventional-valve",
   "metadata": {},
   "outputs": [],
   "source": [
    "param_grid={\n",
    "    ' learning_rate':[1,0.5,0.1,0.01,0.001],\n",
    "    'max_depth': [3,5,7,9,11,15],\n",
    "    'n_estimators':[10,50,100,200,300]   \n",
    "}"
   ]
  },
  {
   "cell_type": "code",
   "execution_count": 99,
   "id": "incoming-samuel",
   "metadata": {},
   "outputs": [
    {
     "name": "stderr",
     "output_type": "stream",
     "text": [
      "[Parallel(n_jobs=1)]: Using backend SequentialBackend with 1 concurrent workers.\n",
      "C:\\Users\\sheka\\anaconda3\\envs\\tensorflow\\lib\\site-packages\\sklearn\\model_selection\\_validation.py:548: FitFailedWarning: Estimator fit failed. The score on this train-test partition for these parameters will be set to nan. Details: \n",
      "Traceback (most recent call last):\n",
      "  File \"C:\\Users\\sheka\\anaconda3\\envs\\tensorflow\\lib\\site-packages\\sklearn\\model_selection\\_validation.py\", line 531, in _fit_and_score\n",
      "    estimator.fit(X_train, y_train, **fit_params)\n",
      "  File \"C:\\Users\\sheka\\anaconda3\\envs\\tensorflow\\lib\\site-packages\\xgboost\\core.py\", line 532, in inner_f\n",
      "    return f(**kwargs)\n",
      "  File \"C:\\Users\\sheka\\anaconda3\\envs\\tensorflow\\lib\\site-packages\\xgboost\\sklearn.py\", line 1400, in fit\n",
      "    self._Booster = train(\n",
      "  File \"C:\\Users\\sheka\\anaconda3\\envs\\tensorflow\\lib\\site-packages\\xgboost\\core.py\", line 532, in inner_f\n",
      "    return f(**kwargs)\n",
      "  File \"C:\\Users\\sheka\\anaconda3\\envs\\tensorflow\\lib\\site-packages\\xgboost\\training.py\", line 181, in train\n",
      "    bst.update(dtrain, i, obj)\n",
      "  File \"C:\\Users\\sheka\\anaconda3\\envs\\tensorflow\\lib\\site-packages\\xgboost\\core.py\", line 1733, in update\n",
      "    _check_call(_LIB.XGBoosterUpdateOneIter(self.handle,\n",
      "  File \"C:\\Users\\sheka\\anaconda3\\envs\\tensorflow\\lib\\site-packages\\xgboost\\core.py\", line 203, in _check_call\n",
      "    raise XGBoostError(py_str(_LIB.XGBGetLastError()))\n",
      "xgboost.core.XGBoostError: [15:24:41] C:/Users/Administrator/workspace/xgboost-win64_release_1.6.0/src/learner.cc:604: Invalid parameter \" learning_rate\" contains whitespace.\n",
      "\n",
      "  warnings.warn(\"Estimator fit failed. The score on this train-test\"\n"
     ]
    },
    {
     "name": "stdout",
     "output_type": "stream",
     "text": [
      "Fitting 5 folds for each of 150 candidates, totalling 750 fits\n",
      "[CV]  learning_rate=1, max_depth=3, n_estimators=10 ..................\n",
      "[CV]   learning_rate=1, max_depth=3, n_estimators=10, score=nan, total=   0.1s\n",
      "[CV]  learning_rate=1, max_depth=3, n_estimators=10 ..................\n",
      "[CV]   learning_rate=1, max_depth=3, n_estimators=10, score=nan, total=   0.1s\n",
      "[CV]  learning_rate=1, max_depth=3, n_estimators=10 ..................\n",
      "[CV]   learning_rate=1, max_depth=3, n_estimators=10, score=nan, total=   0.1s\n",
      "[CV]  learning_rate=1, max_depth=3, n_estimators=10 ..................\n"
     ]
    },
    {
     "name": "stderr",
     "output_type": "stream",
     "text": [
      "[Parallel(n_jobs=1)]: Done   1 out of   1 | elapsed:    0.1s remaining:    0.0s\n",
      "[Parallel(n_jobs=1)]: Done   2 out of   2 | elapsed:    0.2s remaining:    0.0s\n"
     ]
    },
    {
     "name": "stdout",
     "output_type": "stream",
     "text": [
      "[CV]   learning_rate=1, max_depth=3, n_estimators=10, score=nan, total=   0.1s\n",
      "[CV]  learning_rate=1, max_depth=3, n_estimators=10 ..................\n",
      "[CV]   learning_rate=1, max_depth=3, n_estimators=10, score=nan, total=   0.1s\n",
      "[CV]  learning_rate=1, max_depth=3, n_estimators=50 ..................\n",
      "[CV]   learning_rate=1, max_depth=3, n_estimators=50, score=nan, total=   0.1s\n",
      "[CV]  learning_rate=1, max_depth=3, n_estimators=50 ..................\n"
     ]
    },
    {
     "name": "stderr",
     "output_type": "stream",
     "text": [
      "C:\\Users\\sheka\\anaconda3\\envs\\tensorflow\\lib\\site-packages\\sklearn\\model_selection\\_validation.py:548: FitFailedWarning: Estimator fit failed. The score on this train-test partition for these parameters will be set to nan. Details: \n",
      "Traceback (most recent call last):\n",
      "  File \"C:\\Users\\sheka\\anaconda3\\envs\\tensorflow\\lib\\site-packages\\sklearn\\model_selection\\_validation.py\", line 531, in _fit_and_score\n",
      "    estimator.fit(X_train, y_train, **fit_params)\n",
      "  File \"C:\\Users\\sheka\\anaconda3\\envs\\tensorflow\\lib\\site-packages\\xgboost\\core.py\", line 532, in inner_f\n",
      "    return f(**kwargs)\n",
      "  File \"C:\\Users\\sheka\\anaconda3\\envs\\tensorflow\\lib\\site-packages\\xgboost\\sklearn.py\", line 1400, in fit\n",
      "    self._Booster = train(\n",
      "  File \"C:\\Users\\sheka\\anaconda3\\envs\\tensorflow\\lib\\site-packages\\xgboost\\core.py\", line 532, in inner_f\n",
      "    return f(**kwargs)\n",
      "  File \"C:\\Users\\sheka\\anaconda3\\envs\\tensorflow\\lib\\site-packages\\xgboost\\training.py\", line 181, in train\n",
      "    bst.update(dtrain, i, obj)\n",
      "  File \"C:\\Users\\sheka\\anaconda3\\envs\\tensorflow\\lib\\site-packages\\xgboost\\core.py\", line 1733, in update\n",
      "    _check_call(_LIB.XGBoosterUpdateOneIter(self.handle,\n",
      "  File \"C:\\Users\\sheka\\anaconda3\\envs\\tensorflow\\lib\\site-packages\\xgboost\\core.py\", line 203, in _check_call\n",
      "    raise XGBoostError(py_str(_LIB.XGBGetLastError()))\n",
      "xgboost.core.XGBoostError: [15:24:42] C:/Users/Administrator/workspace/xgboost-win64_release_1.6.0/src/learner.cc:604: Invalid parameter \" learning_rate\" contains whitespace.\n",
      "\n",
      "  warnings.warn(\"Estimator fit failed. The score on this train-test\"\n"
     ]
    },
    {
     "name": "stdout",
     "output_type": "stream",
     "text": [
      "[CV]   learning_rate=1, max_depth=3, n_estimators=50, score=nan, total=   0.1s\n",
      "[CV]  learning_rate=1, max_depth=3, n_estimators=50 ..................\n",
      "[CV]   learning_rate=1, max_depth=3, n_estimators=50, score=nan, total=   0.1s\n",
      "[CV]  learning_rate=1, max_depth=3, n_estimators=50 ..................\n",
      "[CV]   learning_rate=1, max_depth=3, n_estimators=50, score=nan, total=   0.1s\n",
      "[CV]  learning_rate=1, max_depth=3, n_estimators=50 ..................\n",
      "[CV]   learning_rate=1, max_depth=3, n_estimators=50, score=nan, total=   0.1s\n",
      "[CV]  learning_rate=1, max_depth=3, n_estimators=100 .................\n",
      "[CV]   learning_rate=1, max_depth=3, n_estimators=100, score=nan, total=   0.1s\n",
      "[CV]  learning_rate=1, max_depth=3, n_estimators=100 .................\n",
      "[CV]   learning_rate=1, max_depth=3, n_estimators=100, score=nan, total=   0.1s\n",
      "[CV]  learning_rate=1, max_depth=3, n_estimators=100 .................\n",
      "[CV]   learning_rate=1, max_depth=3, n_estimators=100, score=nan, total=   0.1s\n",
      "[CV]  learning_rate=1, max_depth=3, n_estimators=100 .................\n",
      "[CV]   learning_rate=1, max_depth=3, n_estimators=100, score=nan, total=   0.1s\n",
      "[CV]  learning_rate=1, max_depth=3, n_estimators=100 .................\n",
      "[CV]   learning_rate=1, max_depth=3, n_estimators=100, score=nan, total=   0.1s\n",
      "[CV]  learning_rate=1, max_depth=3, n_estimators=200 .................\n",
      "[CV]   learning_rate=1, max_depth=3, n_estimators=200, score=nan, total=   0.1s\n",
      "[CV]  learning_rate=1, max_depth=3, n_estimators=200 .................\n",
      "[CV]   learning_rate=1, max_depth=3, n_estimators=200, score=nan, total=   0.1s\n",
      "[CV]  learning_rate=1, max_depth=3, n_estimators=200 .................\n",
      "[CV]   learning_rate=1, max_depth=3, n_estimators=200, score=nan, total=   0.1s\n",
      "[CV]  learning_rate=1, max_depth=3, n_estimators=200 .................\n"
     ]
    },
    {
     "name": "stderr",
     "output_type": "stream",
     "text": [
      "C:\\Users\\sheka\\anaconda3\\envs\\tensorflow\\lib\\site-packages\\sklearn\\model_selection\\_validation.py:548: FitFailedWarning: Estimator fit failed. The score on this train-test partition for these parameters will be set to nan. Details: \n",
      "Traceback (most recent call last):\n",
      "  File \"C:\\Users\\sheka\\anaconda3\\envs\\tensorflow\\lib\\site-packages\\sklearn\\model_selection\\_validation.py\", line 531, in _fit_and_score\n",
      "    estimator.fit(X_train, y_train, **fit_params)\n",
      "  File \"C:\\Users\\sheka\\anaconda3\\envs\\tensorflow\\lib\\site-packages\\xgboost\\core.py\", line 532, in inner_f\n",
      "    return f(**kwargs)\n",
      "  File \"C:\\Users\\sheka\\anaconda3\\envs\\tensorflow\\lib\\site-packages\\xgboost\\sklearn.py\", line 1400, in fit\n",
      "    self._Booster = train(\n",
      "  File \"C:\\Users\\sheka\\anaconda3\\envs\\tensorflow\\lib\\site-packages\\xgboost\\core.py\", line 532, in inner_f\n",
      "    return f(**kwargs)\n",
      "  File \"C:\\Users\\sheka\\anaconda3\\envs\\tensorflow\\lib\\site-packages\\xgboost\\training.py\", line 181, in train\n",
      "    bst.update(dtrain, i, obj)\n",
      "  File \"C:\\Users\\sheka\\anaconda3\\envs\\tensorflow\\lib\\site-packages\\xgboost\\core.py\", line 1733, in update\n",
      "    _check_call(_LIB.XGBoosterUpdateOneIter(self.handle,\n",
      "  File \"C:\\Users\\sheka\\anaconda3\\envs\\tensorflow\\lib\\site-packages\\xgboost\\core.py\", line 203, in _check_call\n",
      "    raise XGBoostError(py_str(_LIB.XGBGetLastError()))\n",
      "xgboost.core.XGBoostError: [15:24:43] C:/Users/Administrator/workspace/xgboost-win64_release_1.6.0/src/learner.cc:604: Invalid parameter \" learning_rate\" contains whitespace.\n",
      "\n",
      "  warnings.warn(\"Estimator fit failed. The score on this train-test\"\n"
     ]
    },
    {
     "name": "stdout",
     "output_type": "stream",
     "text": [
      "[CV]   learning_rate=1, max_depth=3, n_estimators=200, score=nan, total=   0.1s\n",
      "[CV]  learning_rate=1, max_depth=3, n_estimators=200 .................\n",
      "[CV]   learning_rate=1, max_depth=3, n_estimators=200, score=nan, total=   0.1s\n",
      "[CV]  learning_rate=1, max_depth=3, n_estimators=300 .................\n",
      "[CV]   learning_rate=1, max_depth=3, n_estimators=300, score=nan, total=   0.1s\n",
      "[CV]  learning_rate=1, max_depth=3, n_estimators=300 .................\n",
      "[CV]   learning_rate=1, max_depth=3, n_estimators=300, score=nan, total=   0.1s\n",
      "[CV]  learning_rate=1, max_depth=3, n_estimators=300 .................\n",
      "[CV]   learning_rate=1, max_depth=3, n_estimators=300, score=nan, total=   0.1s\n",
      "[CV]  learning_rate=1, max_depth=3, n_estimators=300 .................\n",
      "[CV]   learning_rate=1, max_depth=3, n_estimators=300, score=nan, total=   0.1s\n",
      "[CV]  learning_rate=1, max_depth=3, n_estimators=300 .................\n",
      "[CV]   learning_rate=1, max_depth=3, n_estimators=300, score=nan, total=   0.1s\n",
      "[CV]  learning_rate=1, max_depth=5, n_estimators=10 ..................\n",
      "[CV]   learning_rate=1, max_depth=5, n_estimators=10, score=nan, total=   0.1s\n",
      "[CV]  learning_rate=1, max_depth=5, n_estimators=10 ..................\n",
      "[CV]   learning_rate=1, max_depth=5, n_estimators=10, score=nan, total=   0.1s\n",
      "[CV]  learning_rate=1, max_depth=5, n_estimators=10 ..................\n",
      "[CV]   learning_rate=1, max_depth=5, n_estimators=10, score=nan, total=   0.1s\n",
      "[CV]  learning_rate=1, max_depth=5, n_estimators=10 ..................\n",
      "[CV]   learning_rate=1, max_depth=5, n_estimators=10, score=nan, total=   0.1s\n",
      "[CV]  learning_rate=1, max_depth=5, n_estimators=10 ..................\n",
      "[CV]   learning_rate=1, max_depth=5, n_estimators=10, score=nan, total=   0.1s\n",
      "[CV]  learning_rate=1, max_depth=5, n_estimators=50 ..................\n"
     ]
    },
    {
     "name": "stderr",
     "output_type": "stream",
     "text": [
      "C:\\Users\\sheka\\anaconda3\\envs\\tensorflow\\lib\\site-packages\\sklearn\\model_selection\\_validation.py:548: FitFailedWarning: Estimator fit failed. The score on this train-test partition for these parameters will be set to nan. Details: \n",
      "Traceback (most recent call last):\n",
      "  File \"C:\\Users\\sheka\\anaconda3\\envs\\tensorflow\\lib\\site-packages\\sklearn\\model_selection\\_validation.py\", line 531, in _fit_and_score\n",
      "    estimator.fit(X_train, y_train, **fit_params)\n",
      "  File \"C:\\Users\\sheka\\anaconda3\\envs\\tensorflow\\lib\\site-packages\\xgboost\\core.py\", line 532, in inner_f\n",
      "    return f(**kwargs)\n",
      "  File \"C:\\Users\\sheka\\anaconda3\\envs\\tensorflow\\lib\\site-packages\\xgboost\\sklearn.py\", line 1400, in fit\n",
      "    self._Booster = train(\n",
      "  File \"C:\\Users\\sheka\\anaconda3\\envs\\tensorflow\\lib\\site-packages\\xgboost\\core.py\", line 532, in inner_f\n",
      "    return f(**kwargs)\n",
      "  File \"C:\\Users\\sheka\\anaconda3\\envs\\tensorflow\\lib\\site-packages\\xgboost\\training.py\", line 181, in train\n",
      "    bst.update(dtrain, i, obj)\n",
      "  File \"C:\\Users\\sheka\\anaconda3\\envs\\tensorflow\\lib\\site-packages\\xgboost\\core.py\", line 1733, in update\n",
      "    _check_call(_LIB.XGBoosterUpdateOneIter(self.handle,\n",
      "  File \"C:\\Users\\sheka\\anaconda3\\envs\\tensorflow\\lib\\site-packages\\xgboost\\core.py\", line 203, in _check_call\n",
      "    raise XGBoostError(py_str(_LIB.XGBGetLastError()))\n",
      "xgboost.core.XGBoostError: [15:24:44] C:/Users/Administrator/workspace/xgboost-win64_release_1.6.0/src/learner.cc:604: Invalid parameter \" learning_rate\" contains whitespace.\n",
      "\n",
      "  warnings.warn(\"Estimator fit failed. The score on this train-test\"\n"
     ]
    },
    {
     "name": "stdout",
     "output_type": "stream",
     "text": [
      "[CV]   learning_rate=1, max_depth=5, n_estimators=50, score=nan, total=   0.1s\n",
      "[CV]  learning_rate=1, max_depth=5, n_estimators=50 ..................\n",
      "[CV]   learning_rate=1, max_depth=5, n_estimators=50, score=nan, total=   0.1s\n",
      "[CV]  learning_rate=1, max_depth=5, n_estimators=50 ..................\n",
      "[CV]   learning_rate=1, max_depth=5, n_estimators=50, score=nan, total=   0.1s\n",
      "[CV]  learning_rate=1, max_depth=5, n_estimators=50 ..................\n",
      "[CV]   learning_rate=1, max_depth=5, n_estimators=50, score=nan, total=   0.1s\n",
      "[CV]  learning_rate=1, max_depth=5, n_estimators=50 ..................\n",
      "[CV]   learning_rate=1, max_depth=5, n_estimators=50, score=nan, total=   0.1s\n",
      "[CV]  learning_rate=1, max_depth=5, n_estimators=100 .................\n",
      "[CV]   learning_rate=1, max_depth=5, n_estimators=100, score=nan, total=   0.1s\n",
      "[CV]  learning_rate=1, max_depth=5, n_estimators=100 .................\n",
      "[CV]   learning_rate=1, max_depth=5, n_estimators=100, score=nan, total=   0.1s\n",
      "[CV]  learning_rate=1, max_depth=5, n_estimators=100 .................\n",
      "[CV]   learning_rate=1, max_depth=5, n_estimators=100, score=nan, total=   0.1s\n",
      "[CV]  learning_rate=1, max_depth=5, n_estimators=100 .................\n",
      "[CV]   learning_rate=1, max_depth=5, n_estimators=100, score=nan, total=   0.1s\n",
      "[CV]  learning_rate=1, max_depth=5, n_estimators=100 .................\n",
      "[CV]   learning_rate=1, max_depth=5, n_estimators=100, score=nan, total=   0.1s\n",
      "[CV]  learning_rate=1, max_depth=5, n_estimators=200 .................\n",
      "[CV]   learning_rate=1, max_depth=5, n_estimators=200, score=nan, total=   0.1s\n",
      "[CV]  learning_rate=1, max_depth=5, n_estimators=200 .................\n"
     ]
    },
    {
     "name": "stderr",
     "output_type": "stream",
     "text": [
      "C:\\Users\\sheka\\anaconda3\\envs\\tensorflow\\lib\\site-packages\\sklearn\\model_selection\\_validation.py:548: FitFailedWarning: Estimator fit failed. The score on this train-test partition for these parameters will be set to nan. Details: \n",
      "Traceback (most recent call last):\n",
      "  File \"C:\\Users\\sheka\\anaconda3\\envs\\tensorflow\\lib\\site-packages\\sklearn\\model_selection\\_validation.py\", line 531, in _fit_and_score\n",
      "    estimator.fit(X_train, y_train, **fit_params)\n",
      "  File \"C:\\Users\\sheka\\anaconda3\\envs\\tensorflow\\lib\\site-packages\\xgboost\\core.py\", line 532, in inner_f\n",
      "    return f(**kwargs)\n",
      "  File \"C:\\Users\\sheka\\anaconda3\\envs\\tensorflow\\lib\\site-packages\\xgboost\\sklearn.py\", line 1400, in fit\n",
      "    self._Booster = train(\n",
      "  File \"C:\\Users\\sheka\\anaconda3\\envs\\tensorflow\\lib\\site-packages\\xgboost\\core.py\", line 532, in inner_f\n",
      "    return f(**kwargs)\n",
      "  File \"C:\\Users\\sheka\\anaconda3\\envs\\tensorflow\\lib\\site-packages\\xgboost\\training.py\", line 181, in train\n",
      "    bst.update(dtrain, i, obj)\n",
      "  File \"C:\\Users\\sheka\\anaconda3\\envs\\tensorflow\\lib\\site-packages\\xgboost\\core.py\", line 1733, in update\n",
      "    _check_call(_LIB.XGBoosterUpdateOneIter(self.handle,\n",
      "  File \"C:\\Users\\sheka\\anaconda3\\envs\\tensorflow\\lib\\site-packages\\xgboost\\core.py\", line 203, in _check_call\n",
      "    raise XGBoostError(py_str(_LIB.XGBGetLastError()))\n",
      "xgboost.core.XGBoostError: [15:24:45] C:/Users/Administrator/workspace/xgboost-win64_release_1.6.0/src/learner.cc:604: Invalid parameter \" learning_rate\" contains whitespace.\n",
      "\n",
      "  warnings.warn(\"Estimator fit failed. The score on this train-test\"\n"
     ]
    },
    {
     "name": "stdout",
     "output_type": "stream",
     "text": [
      "[CV]   learning_rate=1, max_depth=5, n_estimators=200, score=nan, total=   0.1s\n",
      "[CV]  learning_rate=1, max_depth=5, n_estimators=200 .................\n",
      "[CV]   learning_rate=1, max_depth=5, n_estimators=200, score=nan, total=   0.1s\n",
      "[CV]  learning_rate=1, max_depth=5, n_estimators=200 .................\n",
      "[CV]   learning_rate=1, max_depth=5, n_estimators=200, score=nan, total=   0.1s\n",
      "[CV]  learning_rate=1, max_depth=5, n_estimators=200 .................\n",
      "[CV]   learning_rate=1, max_depth=5, n_estimators=200, score=nan, total=   0.1s\n",
      "[CV]  learning_rate=1, max_depth=5, n_estimators=300 .................\n",
      "[CV]   learning_rate=1, max_depth=5, n_estimators=300, score=nan, total=   0.1s\n",
      "[CV]  learning_rate=1, max_depth=5, n_estimators=300 .................\n",
      "[CV]   learning_rate=1, max_depth=5, n_estimators=300, score=nan, total=   0.1s\n",
      "[CV]  learning_rate=1, max_depth=5, n_estimators=300 .................\n",
      "[CV]   learning_rate=1, max_depth=5, n_estimators=300, score=nan, total=   0.1s\n",
      "[CV]  learning_rate=1, max_depth=5, n_estimators=300 .................\n",
      "[CV]   learning_rate=1, max_depth=5, n_estimators=300, score=nan, total=   0.1s\n",
      "[CV]  learning_rate=1, max_depth=5, n_estimators=300 .................\n",
      "[CV]   learning_rate=1, max_depth=5, n_estimators=300, score=nan, total=   0.1s\n",
      "[CV]  learning_rate=1, max_depth=7, n_estimators=10 ..................\n",
      "[CV]   learning_rate=1, max_depth=7, n_estimators=10, score=nan, total=   0.1s\n",
      "[CV]  learning_rate=1, max_depth=7, n_estimators=10 ..................\n",
      "[CV]   learning_rate=1, max_depth=7, n_estimators=10, score=nan, total=   0.1s\n",
      "[CV]  learning_rate=1, max_depth=7, n_estimators=10 ..................\n",
      "[CV]   learning_rate=1, max_depth=7, n_estimators=10, score=nan, total=   0.1s\n",
      "[CV]  learning_rate=1, max_depth=7, n_estimators=10 ..................\n"
     ]
    },
    {
     "name": "stderr",
     "output_type": "stream",
     "text": [
      "C:\\Users\\sheka\\anaconda3\\envs\\tensorflow\\lib\\site-packages\\sklearn\\model_selection\\_validation.py:548: FitFailedWarning: Estimator fit failed. The score on this train-test partition for these parameters will be set to nan. Details: \n",
      "Traceback (most recent call last):\n",
      "  File \"C:\\Users\\sheka\\anaconda3\\envs\\tensorflow\\lib\\site-packages\\sklearn\\model_selection\\_validation.py\", line 531, in _fit_and_score\n",
      "    estimator.fit(X_train, y_train, **fit_params)\n",
      "  File \"C:\\Users\\sheka\\anaconda3\\envs\\tensorflow\\lib\\site-packages\\xgboost\\core.py\", line 532, in inner_f\n",
      "    return f(**kwargs)\n",
      "  File \"C:\\Users\\sheka\\anaconda3\\envs\\tensorflow\\lib\\site-packages\\xgboost\\sklearn.py\", line 1400, in fit\n",
      "    self._Booster = train(\n",
      "  File \"C:\\Users\\sheka\\anaconda3\\envs\\tensorflow\\lib\\site-packages\\xgboost\\core.py\", line 532, in inner_f\n",
      "    return f(**kwargs)\n",
      "  File \"C:\\Users\\sheka\\anaconda3\\envs\\tensorflow\\lib\\site-packages\\xgboost\\training.py\", line 181, in train\n",
      "    bst.update(dtrain, i, obj)\n",
      "  File \"C:\\Users\\sheka\\anaconda3\\envs\\tensorflow\\lib\\site-packages\\xgboost\\core.py\", line 1733, in update\n",
      "    _check_call(_LIB.XGBoosterUpdateOneIter(self.handle,\n",
      "  File \"C:\\Users\\sheka\\anaconda3\\envs\\tensorflow\\lib\\site-packages\\xgboost\\core.py\", line 203, in _check_call\n",
      "    raise XGBoostError(py_str(_LIB.XGBGetLastError()))\n",
      "xgboost.core.XGBoostError: [15:24:46] C:/Users/Administrator/workspace/xgboost-win64_release_1.6.0/src/learner.cc:604: Invalid parameter \" learning_rate\" contains whitespace.\n",
      "\n",
      "  warnings.warn(\"Estimator fit failed. The score on this train-test\"\n"
     ]
    },
    {
     "name": "stdout",
     "output_type": "stream",
     "text": [
      "[CV]   learning_rate=1, max_depth=7, n_estimators=10, score=nan, total=   0.1s\n",
      "[CV]  learning_rate=1, max_depth=7, n_estimators=10 ..................\n",
      "[CV]   learning_rate=1, max_depth=7, n_estimators=10, score=nan, total=   0.1s\n",
      "[CV]  learning_rate=1, max_depth=7, n_estimators=50 ..................\n",
      "[CV]   learning_rate=1, max_depth=7, n_estimators=50, score=nan, total=   0.1s\n",
      "[CV]  learning_rate=1, max_depth=7, n_estimators=50 ..................\n",
      "[CV]   learning_rate=1, max_depth=7, n_estimators=50, score=nan, total=   0.1s\n",
      "[CV]  learning_rate=1, max_depth=7, n_estimators=50 ..................\n",
      "[CV]   learning_rate=1, max_depth=7, n_estimators=50, score=nan, total=   0.1s\n",
      "[CV]  learning_rate=1, max_depth=7, n_estimators=50 ..................\n",
      "[CV]   learning_rate=1, max_depth=7, n_estimators=50, score=nan, total=   0.1s\n",
      "[CV]  learning_rate=1, max_depth=7, n_estimators=50 ..................\n",
      "[CV]   learning_rate=1, max_depth=7, n_estimators=50, score=nan, total=   0.1s\n",
      "[CV]  learning_rate=1, max_depth=7, n_estimators=100 .................\n",
      "[CV]   learning_rate=1, max_depth=7, n_estimators=100, score=nan, total=   0.1s\n",
      "[CV]  learning_rate=1, max_depth=7, n_estimators=100 .................\n",
      "[CV]   learning_rate=1, max_depth=7, n_estimators=100, score=nan, total=   0.1s\n",
      "[CV]  learning_rate=1, max_depth=7, n_estimators=100 .................\n",
      "[CV]   learning_rate=1, max_depth=7, n_estimators=100, score=nan, total=   0.1s\n",
      "[CV]  learning_rate=1, max_depth=7, n_estimators=100 .................\n",
      "[CV]   learning_rate=1, max_depth=7, n_estimators=100, score=nan, total=   0.1s\n",
      "[CV]  learning_rate=1, max_depth=7, n_estimators=100 .................\n",
      "[CV]   learning_rate=1, max_depth=7, n_estimators=100, score=nan, total=   0.1s\n",
      "[CV]  learning_rate=1, max_depth=7, n_estimators=200 .................\n"
     ]
    },
    {
     "name": "stderr",
     "output_type": "stream",
     "text": [
      "C:\\Users\\sheka\\anaconda3\\envs\\tensorflow\\lib\\site-packages\\sklearn\\model_selection\\_validation.py:548: FitFailedWarning: Estimator fit failed. The score on this train-test partition for these parameters will be set to nan. Details: \n",
      "Traceback (most recent call last):\n",
      "  File \"C:\\Users\\sheka\\anaconda3\\envs\\tensorflow\\lib\\site-packages\\sklearn\\model_selection\\_validation.py\", line 531, in _fit_and_score\n",
      "    estimator.fit(X_train, y_train, **fit_params)\n",
      "  File \"C:\\Users\\sheka\\anaconda3\\envs\\tensorflow\\lib\\site-packages\\xgboost\\core.py\", line 532, in inner_f\n",
      "    return f(**kwargs)\n",
      "  File \"C:\\Users\\sheka\\anaconda3\\envs\\tensorflow\\lib\\site-packages\\xgboost\\sklearn.py\", line 1400, in fit\n",
      "    self._Booster = train(\n",
      "  File \"C:\\Users\\sheka\\anaconda3\\envs\\tensorflow\\lib\\site-packages\\xgboost\\core.py\", line 532, in inner_f\n",
      "    return f(**kwargs)\n",
      "  File \"C:\\Users\\sheka\\anaconda3\\envs\\tensorflow\\lib\\site-packages\\xgboost\\training.py\", line 181, in train\n",
      "    bst.update(dtrain, i, obj)\n",
      "  File \"C:\\Users\\sheka\\anaconda3\\envs\\tensorflow\\lib\\site-packages\\xgboost\\core.py\", line 1733, in update\n",
      "    _check_call(_LIB.XGBoosterUpdateOneIter(self.handle,\n",
      "  File \"C:\\Users\\sheka\\anaconda3\\envs\\tensorflow\\lib\\site-packages\\xgboost\\core.py\", line 203, in _check_call\n",
      "    raise XGBoostError(py_str(_LIB.XGBGetLastError()))\n",
      "xgboost.core.XGBoostError: [15:24:47] C:/Users/Administrator/workspace/xgboost-win64_release_1.6.0/src/learner.cc:604: Invalid parameter \" learning_rate\" contains whitespace.\n",
      "\n",
      "  warnings.warn(\"Estimator fit failed. The score on this train-test\"\n"
     ]
    },
    {
     "name": "stdout",
     "output_type": "stream",
     "text": [
      "[CV]   learning_rate=1, max_depth=7, n_estimators=200, score=nan, total=   0.1s\n",
      "[CV]  learning_rate=1, max_depth=7, n_estimators=200 .................\n",
      "[CV]   learning_rate=1, max_depth=7, n_estimators=200, score=nan, total=   0.1s\n",
      "[CV]  learning_rate=1, max_depth=7, n_estimators=200 .................\n",
      "[CV]   learning_rate=1, max_depth=7, n_estimators=200, score=nan, total=   0.1s\n",
      "[CV]  learning_rate=1, max_depth=7, n_estimators=200 .................\n",
      "[CV]   learning_rate=1, max_depth=7, n_estimators=200, score=nan, total=   0.1s\n",
      "[CV]  learning_rate=1, max_depth=7, n_estimators=200 .................\n",
      "[CV]   learning_rate=1, max_depth=7, n_estimators=200, score=nan, total=   0.1s\n",
      "[CV]  learning_rate=1, max_depth=7, n_estimators=300 .................\n",
      "[CV]   learning_rate=1, max_depth=7, n_estimators=300, score=nan, total=   0.1s\n",
      "[CV]  learning_rate=1, max_depth=7, n_estimators=300 .................\n",
      "[CV]   learning_rate=1, max_depth=7, n_estimators=300, score=nan, total=   0.1s\n",
      "[CV]  learning_rate=1, max_depth=7, n_estimators=300 .................\n",
      "[CV]   learning_rate=1, max_depth=7, n_estimators=300, score=nan, total=   0.1s\n",
      "[CV]  learning_rate=1, max_depth=7, n_estimators=300 .................\n",
      "[CV]   learning_rate=1, max_depth=7, n_estimators=300, score=nan, total=   0.1s\n",
      "[CV]  learning_rate=1, max_depth=7, n_estimators=300 .................\n",
      "[CV]   learning_rate=1, max_depth=7, n_estimators=300, score=nan, total=   0.1s\n",
      "[CV]  learning_rate=1, max_depth=9, n_estimators=10 ..................\n",
      "[CV]   learning_rate=1, max_depth=9, n_estimators=10, score=nan, total=   0.1s\n",
      "[CV]  learning_rate=1, max_depth=9, n_estimators=10 ..................\n",
      "[CV]   learning_rate=1, max_depth=9, n_estimators=10, score=nan, total=   0.1s\n",
      "[CV]  learning_rate=1, max_depth=9, n_estimators=10 ..................\n"
     ]
    },
    {
     "name": "stderr",
     "output_type": "stream",
     "text": [
      "C:\\Users\\sheka\\anaconda3\\envs\\tensorflow\\lib\\site-packages\\sklearn\\model_selection\\_validation.py:548: FitFailedWarning: Estimator fit failed. The score on this train-test partition for these parameters will be set to nan. Details: \n",
      "Traceback (most recent call last):\n",
      "  File \"C:\\Users\\sheka\\anaconda3\\envs\\tensorflow\\lib\\site-packages\\sklearn\\model_selection\\_validation.py\", line 531, in _fit_and_score\n",
      "    estimator.fit(X_train, y_train, **fit_params)\n",
      "  File \"C:\\Users\\sheka\\anaconda3\\envs\\tensorflow\\lib\\site-packages\\xgboost\\core.py\", line 532, in inner_f\n",
      "    return f(**kwargs)\n",
      "  File \"C:\\Users\\sheka\\anaconda3\\envs\\tensorflow\\lib\\site-packages\\xgboost\\sklearn.py\", line 1400, in fit\n",
      "    self._Booster = train(\n",
      "  File \"C:\\Users\\sheka\\anaconda3\\envs\\tensorflow\\lib\\site-packages\\xgboost\\core.py\", line 532, in inner_f\n",
      "    return f(**kwargs)\n",
      "  File \"C:\\Users\\sheka\\anaconda3\\envs\\tensorflow\\lib\\site-packages\\xgboost\\training.py\", line 181, in train\n",
      "    bst.update(dtrain, i, obj)\n",
      "  File \"C:\\Users\\sheka\\anaconda3\\envs\\tensorflow\\lib\\site-packages\\xgboost\\core.py\", line 1733, in update\n",
      "    _check_call(_LIB.XGBoosterUpdateOneIter(self.handle,\n",
      "  File \"C:\\Users\\sheka\\anaconda3\\envs\\tensorflow\\lib\\site-packages\\xgboost\\core.py\", line 203, in _check_call\n",
      "    raise XGBoostError(py_str(_LIB.XGBGetLastError()))\n",
      "xgboost.core.XGBoostError: [15:24:48] C:/Users/Administrator/workspace/xgboost-win64_release_1.6.0/src/learner.cc:604: Invalid parameter \" learning_rate\" contains whitespace.\n",
      "\n",
      "  warnings.warn(\"Estimator fit failed. The score on this train-test\"\n"
     ]
    },
    {
     "name": "stdout",
     "output_type": "stream",
     "text": [
      "[CV]   learning_rate=1, max_depth=9, n_estimators=10, score=nan, total=   0.1s\n",
      "[CV]  learning_rate=1, max_depth=9, n_estimators=10 ..................\n",
      "[CV]   learning_rate=1, max_depth=9, n_estimators=10, score=nan, total=   0.1s\n",
      "[CV]  learning_rate=1, max_depth=9, n_estimators=10 ..................\n",
      "[CV]   learning_rate=1, max_depth=9, n_estimators=10, score=nan, total=   0.1s\n",
      "[CV]  learning_rate=1, max_depth=9, n_estimators=50 ..................\n",
      "[CV]   learning_rate=1, max_depth=9, n_estimators=50, score=nan, total=   0.1s\n",
      "[CV]  learning_rate=1, max_depth=9, n_estimators=50 ..................\n",
      "[CV]   learning_rate=1, max_depth=9, n_estimators=50, score=nan, total=   0.1s\n",
      "[CV]  learning_rate=1, max_depth=9, n_estimators=50 ..................\n",
      "[CV]   learning_rate=1, max_depth=9, n_estimators=50, score=nan, total=   0.1s\n",
      "[CV]  learning_rate=1, max_depth=9, n_estimators=50 ..................\n",
      "[CV]   learning_rate=1, max_depth=9, n_estimators=50, score=nan, total=   0.1s\n",
      "[CV]  learning_rate=1, max_depth=9, n_estimators=50 ..................\n",
      "[CV]   learning_rate=1, max_depth=9, n_estimators=50, score=nan, total=   0.1s\n",
      "[CV]  learning_rate=1, max_depth=9, n_estimators=100 .................\n",
      "[CV]   learning_rate=1, max_depth=9, n_estimators=100, score=nan, total=   0.1s\n",
      "[CV]  learning_rate=1, max_depth=9, n_estimators=100 .................\n",
      "[CV]   learning_rate=1, max_depth=9, n_estimators=100, score=nan, total=   0.1s\n",
      "[CV]  learning_rate=1, max_depth=9, n_estimators=100 .................\n",
      "[CV]   learning_rate=1, max_depth=9, n_estimators=100, score=nan, total=   0.1s\n",
      "[CV]  learning_rate=1, max_depth=9, n_estimators=100 .................\n",
      "[CV]   learning_rate=1, max_depth=9, n_estimators=100, score=nan, total=   0.1s\n",
      "[CV]  learning_rate=1, max_depth=9, n_estimators=100 .................\n"
     ]
    },
    {
     "name": "stderr",
     "output_type": "stream",
     "text": [
      "C:\\Users\\sheka\\anaconda3\\envs\\tensorflow\\lib\\site-packages\\sklearn\\model_selection\\_validation.py:548: FitFailedWarning: Estimator fit failed. The score on this train-test partition for these parameters will be set to nan. Details: \n",
      "Traceback (most recent call last):\n",
      "  File \"C:\\Users\\sheka\\anaconda3\\envs\\tensorflow\\lib\\site-packages\\sklearn\\model_selection\\_validation.py\", line 531, in _fit_and_score\n",
      "    estimator.fit(X_train, y_train, **fit_params)\n",
      "  File \"C:\\Users\\sheka\\anaconda3\\envs\\tensorflow\\lib\\site-packages\\xgboost\\core.py\", line 532, in inner_f\n",
      "    return f(**kwargs)\n",
      "  File \"C:\\Users\\sheka\\anaconda3\\envs\\tensorflow\\lib\\site-packages\\xgboost\\sklearn.py\", line 1400, in fit\n",
      "    self._Booster = train(\n",
      "  File \"C:\\Users\\sheka\\anaconda3\\envs\\tensorflow\\lib\\site-packages\\xgboost\\core.py\", line 532, in inner_f\n",
      "    return f(**kwargs)\n",
      "  File \"C:\\Users\\sheka\\anaconda3\\envs\\tensorflow\\lib\\site-packages\\xgboost\\training.py\", line 181, in train\n",
      "    bst.update(dtrain, i, obj)\n",
      "  File \"C:\\Users\\sheka\\anaconda3\\envs\\tensorflow\\lib\\site-packages\\xgboost\\core.py\", line 1733, in update\n",
      "    _check_call(_LIB.XGBoosterUpdateOneIter(self.handle,\n",
      "  File \"C:\\Users\\sheka\\anaconda3\\envs\\tensorflow\\lib\\site-packages\\xgboost\\core.py\", line 203, in _check_call\n",
      "    raise XGBoostError(py_str(_LIB.XGBGetLastError()))\n",
      "xgboost.core.XGBoostError: [15:24:49] C:/Users/Administrator/workspace/xgboost-win64_release_1.6.0/src/learner.cc:604: Invalid parameter \" learning_rate\" contains whitespace.\n",
      "\n",
      "  warnings.warn(\"Estimator fit failed. The score on this train-test\"\n"
     ]
    },
    {
     "name": "stdout",
     "output_type": "stream",
     "text": [
      "[CV]   learning_rate=1, max_depth=9, n_estimators=100, score=nan, total=   0.1s\n",
      "[CV]  learning_rate=1, max_depth=9, n_estimators=200 .................\n",
      "[CV]   learning_rate=1, max_depth=9, n_estimators=200, score=nan, total=   0.1s\n",
      "[CV]  learning_rate=1, max_depth=9, n_estimators=200 .................\n",
      "[CV]   learning_rate=1, max_depth=9, n_estimators=200, score=nan, total=   0.1s\n",
      "[CV]  learning_rate=1, max_depth=9, n_estimators=200 .................\n",
      "[CV]   learning_rate=1, max_depth=9, n_estimators=200, score=nan, total=   0.1s\n",
      "[CV]  learning_rate=1, max_depth=9, n_estimators=200 .................\n",
      "[CV]   learning_rate=1, max_depth=9, n_estimators=200, score=nan, total=   0.1s\n",
      "[CV]  learning_rate=1, max_depth=9, n_estimators=200 .................\n",
      "[CV]   learning_rate=1, max_depth=9, n_estimators=200, score=nan, total=   0.1s\n",
      "[CV]  learning_rate=1, max_depth=9, n_estimators=300 .................\n",
      "[CV]   learning_rate=1, max_depth=9, n_estimators=300, score=nan, total=   0.1s\n",
      "[CV]  learning_rate=1, max_depth=9, n_estimators=300 .................\n",
      "[CV]   learning_rate=1, max_depth=9, n_estimators=300, score=nan, total=   0.1s\n",
      "[CV]  learning_rate=1, max_depth=9, n_estimators=300 .................\n",
      "[CV]   learning_rate=1, max_depth=9, n_estimators=300, score=nan, total=   0.1s\n",
      "[CV]  learning_rate=1, max_depth=9, n_estimators=300 .................\n",
      "[CV]   learning_rate=1, max_depth=9, n_estimators=300, score=nan, total=   0.1s\n",
      "[CV]  learning_rate=1, max_depth=9, n_estimators=300 .................\n",
      "[CV]   learning_rate=1, max_depth=9, n_estimators=300, score=nan, total=   0.1s\n",
      "[CV]  learning_rate=1, max_depth=11, n_estimators=10 .................\n"
     ]
    },
    {
     "name": "stderr",
     "output_type": "stream",
     "text": [
      "C:\\Users\\sheka\\anaconda3\\envs\\tensorflow\\lib\\site-packages\\sklearn\\model_selection\\_validation.py:548: FitFailedWarning: Estimator fit failed. The score on this train-test partition for these parameters will be set to nan. Details: \n",
      "Traceback (most recent call last):\n",
      "  File \"C:\\Users\\sheka\\anaconda3\\envs\\tensorflow\\lib\\site-packages\\sklearn\\model_selection\\_validation.py\", line 531, in _fit_and_score\n",
      "    estimator.fit(X_train, y_train, **fit_params)\n",
      "  File \"C:\\Users\\sheka\\anaconda3\\envs\\tensorflow\\lib\\site-packages\\xgboost\\core.py\", line 532, in inner_f\n",
      "    return f(**kwargs)\n",
      "  File \"C:\\Users\\sheka\\anaconda3\\envs\\tensorflow\\lib\\site-packages\\xgboost\\sklearn.py\", line 1400, in fit\n",
      "    self._Booster = train(\n",
      "  File \"C:\\Users\\sheka\\anaconda3\\envs\\tensorflow\\lib\\site-packages\\xgboost\\core.py\", line 532, in inner_f\n",
      "    return f(**kwargs)\n",
      "  File \"C:\\Users\\sheka\\anaconda3\\envs\\tensorflow\\lib\\site-packages\\xgboost\\training.py\", line 181, in train\n",
      "    bst.update(dtrain, i, obj)\n",
      "  File \"C:\\Users\\sheka\\anaconda3\\envs\\tensorflow\\lib\\site-packages\\xgboost\\core.py\", line 1733, in update\n",
      "    _check_call(_LIB.XGBoosterUpdateOneIter(self.handle,\n",
      "  File \"C:\\Users\\sheka\\anaconda3\\envs\\tensorflow\\lib\\site-packages\\xgboost\\core.py\", line 203, in _check_call\n",
      "    raise XGBoostError(py_str(_LIB.XGBGetLastError()))\n",
      "xgboost.core.XGBoostError: [15:24:50] C:/Users/Administrator/workspace/xgboost-win64_release_1.6.0/src/learner.cc:604: Invalid parameter \" learning_rate\" contains whitespace.\n",
      "\n",
      "  warnings.warn(\"Estimator fit failed. The score on this train-test\"\n"
     ]
    },
    {
     "name": "stdout",
     "output_type": "stream",
     "text": [
      "[CV]   learning_rate=1, max_depth=11, n_estimators=10, score=nan, total=   0.1s\n",
      "[CV]  learning_rate=1, max_depth=11, n_estimators=10 .................\n",
      "[CV]   learning_rate=1, max_depth=11, n_estimators=10, score=nan, total=   0.1s\n",
      "[CV]  learning_rate=1, max_depth=11, n_estimators=10 .................\n",
      "[CV]   learning_rate=1, max_depth=11, n_estimators=10, score=nan, total=   0.1s\n",
      "[CV]  learning_rate=1, max_depth=11, n_estimators=10 .................\n",
      "[CV]   learning_rate=1, max_depth=11, n_estimators=10, score=nan, total=   0.1s\n",
      "[CV]  learning_rate=1, max_depth=11, n_estimators=10 .................\n",
      "[CV]   learning_rate=1, max_depth=11, n_estimators=10, score=nan, total=   0.1s\n",
      "[CV]  learning_rate=1, max_depth=11, n_estimators=50 .................\n",
      "[CV]   learning_rate=1, max_depth=11, n_estimators=50, score=nan, total=   0.1s\n",
      "[CV]  learning_rate=1, max_depth=11, n_estimators=50 .................\n",
      "[CV]   learning_rate=1, max_depth=11, n_estimators=50, score=nan, total=   0.1s\n",
      "[CV]  learning_rate=1, max_depth=11, n_estimators=50 .................\n",
      "[CV]   learning_rate=1, max_depth=11, n_estimators=50, score=nan, total=   0.1s\n",
      "[CV]  learning_rate=1, max_depth=11, n_estimators=50 .................\n",
      "[CV]   learning_rate=1, max_depth=11, n_estimators=50, score=nan, total=   0.1s\n",
      "[CV]  learning_rate=1, max_depth=11, n_estimators=50 .................\n",
      "[CV]   learning_rate=1, max_depth=11, n_estimators=50, score=nan, total=   0.1s\n",
      "[CV]  learning_rate=1, max_depth=11, n_estimators=100 ................\n",
      "[CV]   learning_rate=1, max_depth=11, n_estimators=100, score=nan, total=   0.1s\n",
      "[CV]  learning_rate=1, max_depth=11, n_estimators=100 ................\n",
      "[CV]   learning_rate=1, max_depth=11, n_estimators=100, score=nan, total=   0.1s\n",
      "[CV]  learning_rate=1, max_depth=11, n_estimators=100 ................\n",
      "[CV]   learning_rate=1, max_depth=11, n_estimators=100, score=nan, total=   0.1s\n",
      "[CV]  learning_rate=1, max_depth=11, n_estimators=100 ................\n"
     ]
    },
    {
     "name": "stderr",
     "output_type": "stream",
     "text": [
      "C:\\Users\\sheka\\anaconda3\\envs\\tensorflow\\lib\\site-packages\\sklearn\\model_selection\\_validation.py:548: FitFailedWarning: Estimator fit failed. The score on this train-test partition for these parameters will be set to nan. Details: \n",
      "Traceback (most recent call last):\n",
      "  File \"C:\\Users\\sheka\\anaconda3\\envs\\tensorflow\\lib\\site-packages\\sklearn\\model_selection\\_validation.py\", line 531, in _fit_and_score\n",
      "    estimator.fit(X_train, y_train, **fit_params)\n",
      "  File \"C:\\Users\\sheka\\anaconda3\\envs\\tensorflow\\lib\\site-packages\\xgboost\\core.py\", line 532, in inner_f\n",
      "    return f(**kwargs)\n",
      "  File \"C:\\Users\\sheka\\anaconda3\\envs\\tensorflow\\lib\\site-packages\\xgboost\\sklearn.py\", line 1400, in fit\n",
      "    self._Booster = train(\n",
      "  File \"C:\\Users\\sheka\\anaconda3\\envs\\tensorflow\\lib\\site-packages\\xgboost\\core.py\", line 532, in inner_f\n",
      "    return f(**kwargs)\n",
      "  File \"C:\\Users\\sheka\\anaconda3\\envs\\tensorflow\\lib\\site-packages\\xgboost\\training.py\", line 181, in train\n",
      "    bst.update(dtrain, i, obj)\n",
      "  File \"C:\\Users\\sheka\\anaconda3\\envs\\tensorflow\\lib\\site-packages\\xgboost\\core.py\", line 1733, in update\n",
      "    _check_call(_LIB.XGBoosterUpdateOneIter(self.handle,\n",
      "  File \"C:\\Users\\sheka\\anaconda3\\envs\\tensorflow\\lib\\site-packages\\xgboost\\core.py\", line 203, in _check_call\n",
      "    raise XGBoostError(py_str(_LIB.XGBGetLastError()))\n",
      "xgboost.core.XGBoostError: [15:24:51] C:/Users/Administrator/workspace/xgboost-win64_release_1.6.0/src/learner.cc:604: Invalid parameter \" learning_rate\" contains whitespace.\n",
      "\n",
      "  warnings.warn(\"Estimator fit failed. The score on this train-test\"\n"
     ]
    },
    {
     "name": "stdout",
     "output_type": "stream",
     "text": [
      "[CV]   learning_rate=1, max_depth=11, n_estimators=100, score=nan, total=   0.1s\n",
      "[CV]  learning_rate=1, max_depth=11, n_estimators=100 ................\n",
      "[CV]   learning_rate=1, max_depth=11, n_estimators=100, score=nan, total=   0.1s\n",
      "[CV]  learning_rate=1, max_depth=11, n_estimators=200 ................\n",
      "[CV]   learning_rate=1, max_depth=11, n_estimators=200, score=nan, total=   0.1s\n",
      "[CV]  learning_rate=1, max_depth=11, n_estimators=200 ................\n",
      "[CV]   learning_rate=1, max_depth=11, n_estimators=200, score=nan, total=   0.1s\n",
      "[CV]  learning_rate=1, max_depth=11, n_estimators=200 ................\n",
      "[CV]   learning_rate=1, max_depth=11, n_estimators=200, score=nan, total=   0.1s\n",
      "[CV]  learning_rate=1, max_depth=11, n_estimators=200 ................\n",
      "[CV]   learning_rate=1, max_depth=11, n_estimators=200, score=nan, total=   0.1s\n",
      "[CV]  learning_rate=1, max_depth=11, n_estimators=200 ................\n",
      "[CV]   learning_rate=1, max_depth=11, n_estimators=200, score=nan, total=   0.1s\n",
      "[CV]  learning_rate=1, max_depth=11, n_estimators=300 ................\n",
      "[CV]   learning_rate=1, max_depth=11, n_estimators=300, score=nan, total=   0.1s\n",
      "[CV]  learning_rate=1, max_depth=11, n_estimators=300 ................\n",
      "[CV]   learning_rate=1, max_depth=11, n_estimators=300, score=nan, total=   0.1s\n",
      "[CV]  learning_rate=1, max_depth=11, n_estimators=300 ................\n",
      "[CV]   learning_rate=1, max_depth=11, n_estimators=300, score=nan, total=   0.1s\n",
      "[CV]  learning_rate=1, max_depth=11, n_estimators=300 ................\n",
      "[CV]   learning_rate=1, max_depth=11, n_estimators=300, score=nan, total=   0.1s\n",
      "[CV]  learning_rate=1, max_depth=11, n_estimators=300 ................\n"
     ]
    },
    {
     "name": "stderr",
     "output_type": "stream",
     "text": [
      "C:\\Users\\sheka\\anaconda3\\envs\\tensorflow\\lib\\site-packages\\sklearn\\model_selection\\_validation.py:548: FitFailedWarning: Estimator fit failed. The score on this train-test partition for these parameters will be set to nan. Details: \n",
      "Traceback (most recent call last):\n",
      "  File \"C:\\Users\\sheka\\anaconda3\\envs\\tensorflow\\lib\\site-packages\\sklearn\\model_selection\\_validation.py\", line 531, in _fit_and_score\n",
      "    estimator.fit(X_train, y_train, **fit_params)\n",
      "  File \"C:\\Users\\sheka\\anaconda3\\envs\\tensorflow\\lib\\site-packages\\xgboost\\core.py\", line 532, in inner_f\n",
      "    return f(**kwargs)\n",
      "  File \"C:\\Users\\sheka\\anaconda3\\envs\\tensorflow\\lib\\site-packages\\xgboost\\sklearn.py\", line 1400, in fit\n",
      "    self._Booster = train(\n",
      "  File \"C:\\Users\\sheka\\anaconda3\\envs\\tensorflow\\lib\\site-packages\\xgboost\\core.py\", line 532, in inner_f\n",
      "    return f(**kwargs)\n",
      "  File \"C:\\Users\\sheka\\anaconda3\\envs\\tensorflow\\lib\\site-packages\\xgboost\\training.py\", line 181, in train\n",
      "    bst.update(dtrain, i, obj)\n",
      "  File \"C:\\Users\\sheka\\anaconda3\\envs\\tensorflow\\lib\\site-packages\\xgboost\\core.py\", line 1733, in update\n",
      "    _check_call(_LIB.XGBoosterUpdateOneIter(self.handle,\n",
      "  File \"C:\\Users\\sheka\\anaconda3\\envs\\tensorflow\\lib\\site-packages\\xgboost\\core.py\", line 203, in _check_call\n",
      "    raise XGBoostError(py_str(_LIB.XGBGetLastError()))\n",
      "xgboost.core.XGBoostError: [15:24:52] C:/Users/Administrator/workspace/xgboost-win64_release_1.6.0/src/learner.cc:604: Invalid parameter \" learning_rate\" contains whitespace.\n",
      "\n",
      "  warnings.warn(\"Estimator fit failed. The score on this train-test\"\n"
     ]
    },
    {
     "name": "stdout",
     "output_type": "stream",
     "text": [
      "[CV]   learning_rate=1, max_depth=11, n_estimators=300, score=nan, total=   0.1s\n",
      "[CV]  learning_rate=1, max_depth=15, n_estimators=10 .................\n",
      "[CV]   learning_rate=1, max_depth=15, n_estimators=10, score=nan, total=   0.1s\n",
      "[CV]  learning_rate=1, max_depth=15, n_estimators=10 .................\n",
      "[CV]   learning_rate=1, max_depth=15, n_estimators=10, score=nan, total=   0.1s\n",
      "[CV]  learning_rate=1, max_depth=15, n_estimators=10 .................\n",
      "[CV]   learning_rate=1, max_depth=15, n_estimators=10, score=nan, total=   0.1s\n",
      "[CV]  learning_rate=1, max_depth=15, n_estimators=10 .................\n",
      "[CV]   learning_rate=1, max_depth=15, n_estimators=10, score=nan, total=   0.1s\n",
      "[CV]  learning_rate=1, max_depth=15, n_estimators=10 .................\n",
      "[CV]   learning_rate=1, max_depth=15, n_estimators=10, score=nan, total=   0.1s\n",
      "[CV]  learning_rate=1, max_depth=15, n_estimators=50 .................\n",
      "[CV]   learning_rate=1, max_depth=15, n_estimators=50, score=nan, total=   0.1s\n",
      "[CV]  learning_rate=1, max_depth=15, n_estimators=50 .................\n",
      "[CV]   learning_rate=1, max_depth=15, n_estimators=50, score=nan, total=   0.1s\n",
      "[CV]  learning_rate=1, max_depth=15, n_estimators=50 .................\n",
      "[CV]   learning_rate=1, max_depth=15, n_estimators=50, score=nan, total=   0.1s\n",
      "[CV]  learning_rate=1, max_depth=15, n_estimators=50 .................\n",
      "[CV]   learning_rate=1, max_depth=15, n_estimators=50, score=nan, total=   0.1s\n",
      "[CV]  learning_rate=1, max_depth=15, n_estimators=50 .................\n",
      "[CV]   learning_rate=1, max_depth=15, n_estimators=50, score=nan, total=   0.1s\n",
      "[CV]  learning_rate=1, max_depth=15, n_estimators=100 ................\n"
     ]
    },
    {
     "name": "stderr",
     "output_type": "stream",
     "text": [
      "C:\\Users\\sheka\\anaconda3\\envs\\tensorflow\\lib\\site-packages\\sklearn\\model_selection\\_validation.py:548: FitFailedWarning: Estimator fit failed. The score on this train-test partition for these parameters will be set to nan. Details: \n",
      "Traceback (most recent call last):\n",
      "  File \"C:\\Users\\sheka\\anaconda3\\envs\\tensorflow\\lib\\site-packages\\sklearn\\model_selection\\_validation.py\", line 531, in _fit_and_score\n",
      "    estimator.fit(X_train, y_train, **fit_params)\n",
      "  File \"C:\\Users\\sheka\\anaconda3\\envs\\tensorflow\\lib\\site-packages\\xgboost\\core.py\", line 532, in inner_f\n",
      "    return f(**kwargs)\n",
      "  File \"C:\\Users\\sheka\\anaconda3\\envs\\tensorflow\\lib\\site-packages\\xgboost\\sklearn.py\", line 1400, in fit\n",
      "    self._Booster = train(\n",
      "  File \"C:\\Users\\sheka\\anaconda3\\envs\\tensorflow\\lib\\site-packages\\xgboost\\core.py\", line 532, in inner_f\n",
      "    return f(**kwargs)\n",
      "  File \"C:\\Users\\sheka\\anaconda3\\envs\\tensorflow\\lib\\site-packages\\xgboost\\training.py\", line 181, in train\n",
      "    bst.update(dtrain, i, obj)\n",
      "  File \"C:\\Users\\sheka\\anaconda3\\envs\\tensorflow\\lib\\site-packages\\xgboost\\core.py\", line 1733, in update\n",
      "    _check_call(_LIB.XGBoosterUpdateOneIter(self.handle,\n",
      "  File \"C:\\Users\\sheka\\anaconda3\\envs\\tensorflow\\lib\\site-packages\\xgboost\\core.py\", line 203, in _check_call\n",
      "    raise XGBoostError(py_str(_LIB.XGBGetLastError()))\n",
      "xgboost.core.XGBoostError: [15:24:53] C:/Users/Administrator/workspace/xgboost-win64_release_1.6.0/src/learner.cc:604: Invalid parameter \" learning_rate\" contains whitespace.\n",
      "\n",
      "  warnings.warn(\"Estimator fit failed. The score on this train-test\"\n"
     ]
    },
    {
     "name": "stdout",
     "output_type": "stream",
     "text": [
      "[CV]   learning_rate=1, max_depth=15, n_estimators=100, score=nan, total=   0.1s\n",
      "[CV]  learning_rate=1, max_depth=15, n_estimators=100 ................\n",
      "[CV]   learning_rate=1, max_depth=15, n_estimators=100, score=nan, total=   0.1s\n",
      "[CV]  learning_rate=1, max_depth=15, n_estimators=100 ................\n",
      "[CV]   learning_rate=1, max_depth=15, n_estimators=100, score=nan, total=   0.1s\n",
      "[CV]  learning_rate=1, max_depth=15, n_estimators=100 ................\n",
      "[CV]   learning_rate=1, max_depth=15, n_estimators=100, score=nan, total=   0.1s\n",
      "[CV]  learning_rate=1, max_depth=15, n_estimators=100 ................\n",
      "[CV]   learning_rate=1, max_depth=15, n_estimators=100, score=nan, total=   0.1s\n",
      "[CV]  learning_rate=1, max_depth=15, n_estimators=200 ................\n",
      "[CV]   learning_rate=1, max_depth=15, n_estimators=200, score=nan, total=   0.1s\n",
      "[CV]  learning_rate=1, max_depth=15, n_estimators=200 ................\n",
      "[CV]   learning_rate=1, max_depth=15, n_estimators=200, score=nan, total=   0.1s\n",
      "[CV]  learning_rate=1, max_depth=15, n_estimators=200 ................\n",
      "[CV]   learning_rate=1, max_depth=15, n_estimators=200, score=nan, total=   0.1s\n",
      "[CV]  learning_rate=1, max_depth=15, n_estimators=200 ................\n",
      "[CV]   learning_rate=1, max_depth=15, n_estimators=200, score=nan, total=   0.1s\n",
      "[CV]  learning_rate=1, max_depth=15, n_estimators=200 ................\n",
      "[CV]   learning_rate=1, max_depth=15, n_estimators=200, score=nan, total=   0.1s\n",
      "[CV]  learning_rate=1, max_depth=15, n_estimators=300 ................\n",
      "[CV]   learning_rate=1, max_depth=15, n_estimators=300, score=nan, total=   0.1s\n",
      "[CV]  learning_rate=1, max_depth=15, n_estimators=300 ................\n",
      "[CV]   learning_rate=1, max_depth=15, n_estimators=300, score=nan, total=   0.1s\n",
      "[CV]  learning_rate=1, max_depth=15, n_estimators=300 ................\n"
     ]
    },
    {
     "name": "stderr",
     "output_type": "stream",
     "text": [
      "C:\\Users\\sheka\\anaconda3\\envs\\tensorflow\\lib\\site-packages\\sklearn\\model_selection\\_validation.py:548: FitFailedWarning: Estimator fit failed. The score on this train-test partition for these parameters will be set to nan. Details: \n",
      "Traceback (most recent call last):\n",
      "  File \"C:\\Users\\sheka\\anaconda3\\envs\\tensorflow\\lib\\site-packages\\sklearn\\model_selection\\_validation.py\", line 531, in _fit_and_score\n",
      "    estimator.fit(X_train, y_train, **fit_params)\n",
      "  File \"C:\\Users\\sheka\\anaconda3\\envs\\tensorflow\\lib\\site-packages\\xgboost\\core.py\", line 532, in inner_f\n",
      "    return f(**kwargs)\n",
      "  File \"C:\\Users\\sheka\\anaconda3\\envs\\tensorflow\\lib\\site-packages\\xgboost\\sklearn.py\", line 1400, in fit\n",
      "    self._Booster = train(\n",
      "  File \"C:\\Users\\sheka\\anaconda3\\envs\\tensorflow\\lib\\site-packages\\xgboost\\core.py\", line 532, in inner_f\n",
      "    return f(**kwargs)\n",
      "  File \"C:\\Users\\sheka\\anaconda3\\envs\\tensorflow\\lib\\site-packages\\xgboost\\training.py\", line 181, in train\n",
      "    bst.update(dtrain, i, obj)\n",
      "  File \"C:\\Users\\sheka\\anaconda3\\envs\\tensorflow\\lib\\site-packages\\xgboost\\core.py\", line 1733, in update\n",
      "    _check_call(_LIB.XGBoosterUpdateOneIter(self.handle,\n",
      "  File \"C:\\Users\\sheka\\anaconda3\\envs\\tensorflow\\lib\\site-packages\\xgboost\\core.py\", line 203, in _check_call\n",
      "    raise XGBoostError(py_str(_LIB.XGBGetLastError()))\n",
      "xgboost.core.XGBoostError: [15:24:54] C:/Users/Administrator/workspace/xgboost-win64_release_1.6.0/src/learner.cc:604: Invalid parameter \" learning_rate\" contains whitespace.\n",
      "\n",
      "  warnings.warn(\"Estimator fit failed. The score on this train-test\"\n"
     ]
    },
    {
     "name": "stdout",
     "output_type": "stream",
     "text": [
      "[CV]   learning_rate=1, max_depth=15, n_estimators=300, score=nan, total=   0.1s\n",
      "[CV]  learning_rate=1, max_depth=15, n_estimators=300 ................\n",
      "[CV]   learning_rate=1, max_depth=15, n_estimators=300, score=nan, total=   0.1s\n",
      "[CV]  learning_rate=1, max_depth=15, n_estimators=300 ................\n",
      "[CV]   learning_rate=1, max_depth=15, n_estimators=300, score=nan, total=   0.1s\n",
      "[CV]  learning_rate=0.5, max_depth=3, n_estimators=10 ................\n",
      "[CV]   learning_rate=0.5, max_depth=3, n_estimators=10, score=nan, total=   0.1s\n",
      "[CV]  learning_rate=0.5, max_depth=3, n_estimators=10 ................\n",
      "[CV]   learning_rate=0.5, max_depth=3, n_estimators=10, score=nan, total=   0.1s\n",
      "[CV]  learning_rate=0.5, max_depth=3, n_estimators=10 ................\n",
      "[CV]   learning_rate=0.5, max_depth=3, n_estimators=10, score=nan, total=   0.1s\n",
      "[CV]  learning_rate=0.5, max_depth=3, n_estimators=10 ................\n",
      "[CV]   learning_rate=0.5, max_depth=3, n_estimators=10, score=nan, total=   0.1s\n",
      "[CV]  learning_rate=0.5, max_depth=3, n_estimators=10 ................\n",
      "[CV]   learning_rate=0.5, max_depth=3, n_estimators=10, score=nan, total=   0.1s\n",
      "[CV]  learning_rate=0.5, max_depth=3, n_estimators=50 ................\n",
      "[CV]   learning_rate=0.5, max_depth=3, n_estimators=50, score=nan, total=   0.1s\n",
      "[CV]  learning_rate=0.5, max_depth=3, n_estimators=50 ................\n",
      "[CV]   learning_rate=0.5, max_depth=3, n_estimators=50, score=nan, total=   0.1s\n",
      "[CV]  learning_rate=0.5, max_depth=3, n_estimators=50 ................\n",
      "[CV]   learning_rate=0.5, max_depth=3, n_estimators=50, score=nan, total=   0.1s\n",
      "[CV]  learning_rate=0.5, max_depth=3, n_estimators=50 ................\n"
     ]
    },
    {
     "name": "stderr",
     "output_type": "stream",
     "text": [
      "C:\\Users\\sheka\\anaconda3\\envs\\tensorflow\\lib\\site-packages\\sklearn\\model_selection\\_validation.py:548: FitFailedWarning: Estimator fit failed. The score on this train-test partition for these parameters will be set to nan. Details: \n",
      "Traceback (most recent call last):\n",
      "  File \"C:\\Users\\sheka\\anaconda3\\envs\\tensorflow\\lib\\site-packages\\sklearn\\model_selection\\_validation.py\", line 531, in _fit_and_score\n",
      "    estimator.fit(X_train, y_train, **fit_params)\n",
      "  File \"C:\\Users\\sheka\\anaconda3\\envs\\tensorflow\\lib\\site-packages\\xgboost\\core.py\", line 532, in inner_f\n",
      "    return f(**kwargs)\n",
      "  File \"C:\\Users\\sheka\\anaconda3\\envs\\tensorflow\\lib\\site-packages\\xgboost\\sklearn.py\", line 1400, in fit\n",
      "    self._Booster = train(\n",
      "  File \"C:\\Users\\sheka\\anaconda3\\envs\\tensorflow\\lib\\site-packages\\xgboost\\core.py\", line 532, in inner_f\n",
      "    return f(**kwargs)\n",
      "  File \"C:\\Users\\sheka\\anaconda3\\envs\\tensorflow\\lib\\site-packages\\xgboost\\training.py\", line 181, in train\n",
      "    bst.update(dtrain, i, obj)\n",
      "  File \"C:\\Users\\sheka\\anaconda3\\envs\\tensorflow\\lib\\site-packages\\xgboost\\core.py\", line 1733, in update\n",
      "    _check_call(_LIB.XGBoosterUpdateOneIter(self.handle,\n",
      "  File \"C:\\Users\\sheka\\anaconda3\\envs\\tensorflow\\lib\\site-packages\\xgboost\\core.py\", line 203, in _check_call\n",
      "    raise XGBoostError(py_str(_LIB.XGBGetLastError()))\n",
      "xgboost.core.XGBoostError: [15:24:55] C:/Users/Administrator/workspace/xgboost-win64_release_1.6.0/src/learner.cc:604: Invalid parameter \" learning_rate\" contains whitespace.\n",
      "\n",
      "  warnings.warn(\"Estimator fit failed. The score on this train-test\"\n"
     ]
    },
    {
     "name": "stdout",
     "output_type": "stream",
     "text": [
      "[CV]   learning_rate=0.5, max_depth=3, n_estimators=50, score=nan, total=   0.1s\n",
      "[CV]  learning_rate=0.5, max_depth=3, n_estimators=50 ................\n",
      "[CV]   learning_rate=0.5, max_depth=3, n_estimators=50, score=nan, total=   0.1s\n",
      "[CV]  learning_rate=0.5, max_depth=3, n_estimators=100 ...............\n",
      "[CV]   learning_rate=0.5, max_depth=3, n_estimators=100, score=nan, total=   0.1s\n",
      "[CV]  learning_rate=0.5, max_depth=3, n_estimators=100 ...............\n",
      "[CV]   learning_rate=0.5, max_depth=3, n_estimators=100, score=nan, total=   0.1s\n",
      "[CV]  learning_rate=0.5, max_depth=3, n_estimators=100 ...............\n",
      "[CV]   learning_rate=0.5, max_depth=3, n_estimators=100, score=nan, total=   0.1s\n",
      "[CV]  learning_rate=0.5, max_depth=3, n_estimators=100 ...............\n",
      "[CV]   learning_rate=0.5, max_depth=3, n_estimators=100, score=nan, total=   0.1s\n",
      "[CV]  learning_rate=0.5, max_depth=3, n_estimators=100 ...............\n",
      "[CV]   learning_rate=0.5, max_depth=3, n_estimators=100, score=nan, total=   0.1s\n",
      "[CV]  learning_rate=0.5, max_depth=3, n_estimators=200 ...............\n",
      "[CV]   learning_rate=0.5, max_depth=3, n_estimators=200, score=nan, total=   0.1s\n",
      "[CV]  learning_rate=0.5, max_depth=3, n_estimators=200 ...............\n",
      "[CV]   learning_rate=0.5, max_depth=3, n_estimators=200, score=nan, total=   0.1s\n",
      "[CV]  learning_rate=0.5, max_depth=3, n_estimators=200 ...............\n",
      "[CV]   learning_rate=0.5, max_depth=3, n_estimators=200, score=nan, total=   0.1s\n",
      "[CV]  learning_rate=0.5, max_depth=3, n_estimators=200 ...............\n",
      "[CV]   learning_rate=0.5, max_depth=3, n_estimators=200, score=nan, total=   0.1s\n",
      "[CV]  learning_rate=0.5, max_depth=3, n_estimators=200 ...............\n"
     ]
    },
    {
     "name": "stderr",
     "output_type": "stream",
     "text": [
      "C:\\Users\\sheka\\anaconda3\\envs\\tensorflow\\lib\\site-packages\\sklearn\\model_selection\\_validation.py:548: FitFailedWarning: Estimator fit failed. The score on this train-test partition for these parameters will be set to nan. Details: \n",
      "Traceback (most recent call last):\n",
      "  File \"C:\\Users\\sheka\\anaconda3\\envs\\tensorflow\\lib\\site-packages\\sklearn\\model_selection\\_validation.py\", line 531, in _fit_and_score\n",
      "    estimator.fit(X_train, y_train, **fit_params)\n",
      "  File \"C:\\Users\\sheka\\anaconda3\\envs\\tensorflow\\lib\\site-packages\\xgboost\\core.py\", line 532, in inner_f\n",
      "    return f(**kwargs)\n",
      "  File \"C:\\Users\\sheka\\anaconda3\\envs\\tensorflow\\lib\\site-packages\\xgboost\\sklearn.py\", line 1400, in fit\n",
      "    self._Booster = train(\n",
      "  File \"C:\\Users\\sheka\\anaconda3\\envs\\tensorflow\\lib\\site-packages\\xgboost\\core.py\", line 532, in inner_f\n",
      "    return f(**kwargs)\n",
      "  File \"C:\\Users\\sheka\\anaconda3\\envs\\tensorflow\\lib\\site-packages\\xgboost\\training.py\", line 181, in train\n",
      "    bst.update(dtrain, i, obj)\n",
      "  File \"C:\\Users\\sheka\\anaconda3\\envs\\tensorflow\\lib\\site-packages\\xgboost\\core.py\", line 1733, in update\n",
      "    _check_call(_LIB.XGBoosterUpdateOneIter(self.handle,\n",
      "  File \"C:\\Users\\sheka\\anaconda3\\envs\\tensorflow\\lib\\site-packages\\xgboost\\core.py\", line 203, in _check_call\n",
      "    raise XGBoostError(py_str(_LIB.XGBGetLastError()))\n",
      "xgboost.core.XGBoostError: [15:24:56] C:/Users/Administrator/workspace/xgboost-win64_release_1.6.0/src/learner.cc:604: Invalid parameter \" learning_rate\" contains whitespace.\n",
      "\n",
      "  warnings.warn(\"Estimator fit failed. The score on this train-test\"\n"
     ]
    },
    {
     "name": "stdout",
     "output_type": "stream",
     "text": [
      "[CV]   learning_rate=0.5, max_depth=3, n_estimators=200, score=nan, total=   0.1s\n",
      "[CV]  learning_rate=0.5, max_depth=3, n_estimators=300 ...............\n",
      "[CV]   learning_rate=0.5, max_depth=3, n_estimators=300, score=nan, total=   0.1s\n",
      "[CV]  learning_rate=0.5, max_depth=3, n_estimators=300 ...............\n",
      "[CV]   learning_rate=0.5, max_depth=3, n_estimators=300, score=nan, total=   0.1s\n",
      "[CV]  learning_rate=0.5, max_depth=3, n_estimators=300 ...............\n",
      "[CV]   learning_rate=0.5, max_depth=3, n_estimators=300, score=nan, total=   0.1s\n",
      "[CV]  learning_rate=0.5, max_depth=3, n_estimators=300 ...............\n",
      "[CV]   learning_rate=0.5, max_depth=3, n_estimators=300, score=nan, total=   0.1s\n",
      "[CV]  learning_rate=0.5, max_depth=3, n_estimators=300 ...............\n",
      "[CV]   learning_rate=0.5, max_depth=3, n_estimators=300, score=nan, total=   0.1s\n",
      "[CV]  learning_rate=0.5, max_depth=5, n_estimators=10 ................\n",
      "[CV]   learning_rate=0.5, max_depth=5, n_estimators=10, score=nan, total=   0.1s\n",
      "[CV]  learning_rate=0.5, max_depth=5, n_estimators=10 ................\n",
      "[CV]   learning_rate=0.5, max_depth=5, n_estimators=10, score=nan, total=   0.1s\n",
      "[CV]  learning_rate=0.5, max_depth=5, n_estimators=10 ................\n",
      "[CV]   learning_rate=0.5, max_depth=5, n_estimators=10, score=nan, total=   0.1s\n",
      "[CV]  learning_rate=0.5, max_depth=5, n_estimators=10 ................\n",
      "[CV]   learning_rate=0.5, max_depth=5, n_estimators=10, score=nan, total=   0.1s\n",
      "[CV]  learning_rate=0.5, max_depth=5, n_estimators=10 ................\n",
      "[CV]   learning_rate=0.5, max_depth=5, n_estimators=10, score=nan, total=   0.1s\n",
      "[CV]  learning_rate=0.5, max_depth=5, n_estimators=50 ................\n",
      "[CV]   learning_rate=0.5, max_depth=5, n_estimators=50, score=nan, total=   0.1s\n",
      "[CV]  learning_rate=0.5, max_depth=5, n_estimators=50 ................\n"
     ]
    },
    {
     "name": "stderr",
     "output_type": "stream",
     "text": [
      "C:\\Users\\sheka\\anaconda3\\envs\\tensorflow\\lib\\site-packages\\sklearn\\model_selection\\_validation.py:548: FitFailedWarning: Estimator fit failed. The score on this train-test partition for these parameters will be set to nan. Details: \n",
      "Traceback (most recent call last):\n",
      "  File \"C:\\Users\\sheka\\anaconda3\\envs\\tensorflow\\lib\\site-packages\\sklearn\\model_selection\\_validation.py\", line 531, in _fit_and_score\n",
      "    estimator.fit(X_train, y_train, **fit_params)\n",
      "  File \"C:\\Users\\sheka\\anaconda3\\envs\\tensorflow\\lib\\site-packages\\xgboost\\core.py\", line 532, in inner_f\n",
      "    return f(**kwargs)\n",
      "  File \"C:\\Users\\sheka\\anaconda3\\envs\\tensorflow\\lib\\site-packages\\xgboost\\sklearn.py\", line 1400, in fit\n",
      "    self._Booster = train(\n",
      "  File \"C:\\Users\\sheka\\anaconda3\\envs\\tensorflow\\lib\\site-packages\\xgboost\\core.py\", line 532, in inner_f\n",
      "    return f(**kwargs)\n",
      "  File \"C:\\Users\\sheka\\anaconda3\\envs\\tensorflow\\lib\\site-packages\\xgboost\\training.py\", line 181, in train\n",
      "    bst.update(dtrain, i, obj)\n",
      "  File \"C:\\Users\\sheka\\anaconda3\\envs\\tensorflow\\lib\\site-packages\\xgboost\\core.py\", line 1733, in update\n",
      "    _check_call(_LIB.XGBoosterUpdateOneIter(self.handle,\n",
      "  File \"C:\\Users\\sheka\\anaconda3\\envs\\tensorflow\\lib\\site-packages\\xgboost\\core.py\", line 203, in _check_call\n",
      "    raise XGBoostError(py_str(_LIB.XGBGetLastError()))\n",
      "xgboost.core.XGBoostError: [15:24:57] C:/Users/Administrator/workspace/xgboost-win64_release_1.6.0/src/learner.cc:604: Invalid parameter \" learning_rate\" contains whitespace.\n",
      "\n",
      "  warnings.warn(\"Estimator fit failed. The score on this train-test\"\n"
     ]
    },
    {
     "name": "stdout",
     "output_type": "stream",
     "text": [
      "[CV]   learning_rate=0.5, max_depth=5, n_estimators=50, score=nan, total=   0.1s\n",
      "[CV]  learning_rate=0.5, max_depth=5, n_estimators=50 ................\n",
      "[CV]   learning_rate=0.5, max_depth=5, n_estimators=50, score=nan, total=   0.1s\n",
      "[CV]  learning_rate=0.5, max_depth=5, n_estimators=50 ................\n",
      "[CV]   learning_rate=0.5, max_depth=5, n_estimators=50, score=nan, total=   0.1s\n",
      "[CV]  learning_rate=0.5, max_depth=5, n_estimators=50 ................\n",
      "[CV]   learning_rate=0.5, max_depth=5, n_estimators=50, score=nan, total=   0.1s\n",
      "[CV]  learning_rate=0.5, max_depth=5, n_estimators=100 ...............\n",
      "[CV]   learning_rate=0.5, max_depth=5, n_estimators=100, score=nan, total=   0.1s\n",
      "[CV]  learning_rate=0.5, max_depth=5, n_estimators=100 ...............\n",
      "[CV]   learning_rate=0.5, max_depth=5, n_estimators=100, score=nan, total=   0.1s\n",
      "[CV]  learning_rate=0.5, max_depth=5, n_estimators=100 ...............\n",
      "[CV]   learning_rate=0.5, max_depth=5, n_estimators=100, score=nan, total=   0.1s\n",
      "[CV]  learning_rate=0.5, max_depth=5, n_estimators=100 ...............\n",
      "[CV]   learning_rate=0.5, max_depth=5, n_estimators=100, score=nan, total=   0.1s\n",
      "[CV]  learning_rate=0.5, max_depth=5, n_estimators=100 ...............\n",
      "[CV]   learning_rate=0.5, max_depth=5, n_estimators=100, score=nan, total=   0.1s\n",
      "[CV]  learning_rate=0.5, max_depth=5, n_estimators=200 ...............\n",
      "[CV]   learning_rate=0.5, max_depth=5, n_estimators=200, score=nan, total=   0.1s\n",
      "[CV]  learning_rate=0.5, max_depth=5, n_estimators=200 ...............\n",
      "[CV]   learning_rate=0.5, max_depth=5, n_estimators=200, score=nan, total=   0.1s\n",
      "[CV]  learning_rate=0.5, max_depth=5, n_estimators=200 ...............\n",
      "[CV]   learning_rate=0.5, max_depth=5, n_estimators=200, score=nan, total=   0.1s\n",
      "[CV]  learning_rate=0.5, max_depth=5, n_estimators=200 ...............\n"
     ]
    },
    {
     "name": "stderr",
     "output_type": "stream",
     "text": [
      "C:\\Users\\sheka\\anaconda3\\envs\\tensorflow\\lib\\site-packages\\sklearn\\model_selection\\_validation.py:548: FitFailedWarning: Estimator fit failed. The score on this train-test partition for these parameters will be set to nan. Details: \n",
      "Traceback (most recent call last):\n",
      "  File \"C:\\Users\\sheka\\anaconda3\\envs\\tensorflow\\lib\\site-packages\\sklearn\\model_selection\\_validation.py\", line 531, in _fit_and_score\n",
      "    estimator.fit(X_train, y_train, **fit_params)\n",
      "  File \"C:\\Users\\sheka\\anaconda3\\envs\\tensorflow\\lib\\site-packages\\xgboost\\core.py\", line 532, in inner_f\n",
      "    return f(**kwargs)\n",
      "  File \"C:\\Users\\sheka\\anaconda3\\envs\\tensorflow\\lib\\site-packages\\xgboost\\sklearn.py\", line 1400, in fit\n",
      "    self._Booster = train(\n",
      "  File \"C:\\Users\\sheka\\anaconda3\\envs\\tensorflow\\lib\\site-packages\\xgboost\\core.py\", line 532, in inner_f\n",
      "    return f(**kwargs)\n",
      "  File \"C:\\Users\\sheka\\anaconda3\\envs\\tensorflow\\lib\\site-packages\\xgboost\\training.py\", line 181, in train\n",
      "    bst.update(dtrain, i, obj)\n",
      "  File \"C:\\Users\\sheka\\anaconda3\\envs\\tensorflow\\lib\\site-packages\\xgboost\\core.py\", line 1733, in update\n",
      "    _check_call(_LIB.XGBoosterUpdateOneIter(self.handle,\n",
      "  File \"C:\\Users\\sheka\\anaconda3\\envs\\tensorflow\\lib\\site-packages\\xgboost\\core.py\", line 203, in _check_call\n",
      "    raise XGBoostError(py_str(_LIB.XGBGetLastError()))\n",
      "xgboost.core.XGBoostError: [15:24:58] C:/Users/Administrator/workspace/xgboost-win64_release_1.6.0/src/learner.cc:604: Invalid parameter \" learning_rate\" contains whitespace.\n",
      "\n",
      "  warnings.warn(\"Estimator fit failed. The score on this train-test\"\n"
     ]
    },
    {
     "name": "stdout",
     "output_type": "stream",
     "text": [
      "[CV]   learning_rate=0.5, max_depth=5, n_estimators=200, score=nan, total=   0.1s\n",
      "[CV]  learning_rate=0.5, max_depth=5, n_estimators=200 ...............\n",
      "[CV]   learning_rate=0.5, max_depth=5, n_estimators=200, score=nan, total=   0.1s\n",
      "[CV]  learning_rate=0.5, max_depth=5, n_estimators=300 ...............\n",
      "[CV]   learning_rate=0.5, max_depth=5, n_estimators=300, score=nan, total=   0.1s\n",
      "[CV]  learning_rate=0.5, max_depth=5, n_estimators=300 ...............\n",
      "[CV]   learning_rate=0.5, max_depth=5, n_estimators=300, score=nan, total=   0.1s\n",
      "[CV]  learning_rate=0.5, max_depth=5, n_estimators=300 ...............\n",
      "[CV]   learning_rate=0.5, max_depth=5, n_estimators=300, score=nan, total=   0.1s\n",
      "[CV]  learning_rate=0.5, max_depth=5, n_estimators=300 ...............\n",
      "[CV]   learning_rate=0.5, max_depth=5, n_estimators=300, score=nan, total=   0.1s\n",
      "[CV]  learning_rate=0.5, max_depth=5, n_estimators=300 ...............\n",
      "[CV]   learning_rate=0.5, max_depth=5, n_estimators=300, score=nan, total=   0.1s\n",
      "[CV]  learning_rate=0.5, max_depth=7, n_estimators=10 ................\n",
      "[CV]   learning_rate=0.5, max_depth=7, n_estimators=10, score=nan, total=   0.1s\n",
      "[CV]  learning_rate=0.5, max_depth=7, n_estimators=10 ................\n",
      "[CV]   learning_rate=0.5, max_depth=7, n_estimators=10, score=nan, total=   0.1s\n",
      "[CV]  learning_rate=0.5, max_depth=7, n_estimators=10 ................\n",
      "[CV]   learning_rate=0.5, max_depth=7, n_estimators=10, score=nan, total=   0.1s\n",
      "[CV]  learning_rate=0.5, max_depth=7, n_estimators=10 ................\n",
      "[CV]   learning_rate=0.5, max_depth=7, n_estimators=10, score=nan, total=   0.1s\n",
      "[CV]  learning_rate=0.5, max_depth=7, n_estimators=10 ................\n",
      "[CV]   learning_rate=0.5, max_depth=7, n_estimators=10, score=nan, total=   0.1s\n",
      "[CV]  learning_rate=0.5, max_depth=7, n_estimators=50 ................\n",
      "[CV]   learning_rate=0.5, max_depth=7, n_estimators=50, score=nan, total=   0.1s\n",
      "[CV]  learning_rate=0.5, max_depth=7, n_estimators=50 ................\n",
      "[CV]   learning_rate=0.5, max_depth=7, n_estimators=50, score=nan, total=   0.1s\n",
      "[CV]  learning_rate=0.5, max_depth=7, n_estimators=50 ................"
     ]
    },
    {
     "name": "stderr",
     "output_type": "stream",
     "text": [
      "C:\\Users\\sheka\\anaconda3\\envs\\tensorflow\\lib\\site-packages\\sklearn\\model_selection\\_validation.py:548: FitFailedWarning: Estimator fit failed. The score on this train-test partition for these parameters will be set to nan. Details: \n",
      "Traceback (most recent call last):\n",
      "  File \"C:\\Users\\sheka\\anaconda3\\envs\\tensorflow\\lib\\site-packages\\sklearn\\model_selection\\_validation.py\", line 531, in _fit_and_score\n",
      "    estimator.fit(X_train, y_train, **fit_params)\n",
      "  File \"C:\\Users\\sheka\\anaconda3\\envs\\tensorflow\\lib\\site-packages\\xgboost\\core.py\", line 532, in inner_f\n",
      "    return f(**kwargs)\n",
      "  File \"C:\\Users\\sheka\\anaconda3\\envs\\tensorflow\\lib\\site-packages\\xgboost\\sklearn.py\", line 1400, in fit\n",
      "    self._Booster = train(\n",
      "  File \"C:\\Users\\sheka\\anaconda3\\envs\\tensorflow\\lib\\site-packages\\xgboost\\core.py\", line 532, in inner_f\n",
      "    return f(**kwargs)\n",
      "  File \"C:\\Users\\sheka\\anaconda3\\envs\\tensorflow\\lib\\site-packages\\xgboost\\training.py\", line 181, in train\n",
      "    bst.update(dtrain, i, obj)\n",
      "  File \"C:\\Users\\sheka\\anaconda3\\envs\\tensorflow\\lib\\site-packages\\xgboost\\core.py\", line 1733, in update\n",
      "    _check_call(_LIB.XGBoosterUpdateOneIter(self.handle,\n",
      "  File \"C:\\Users\\sheka\\anaconda3\\envs\\tensorflow\\lib\\site-packages\\xgboost\\core.py\", line 203, in _check_call\n",
      "    raise XGBoostError(py_str(_LIB.XGBGetLastError()))\n",
      "xgboost.core.XGBoostError: [15:24:59] C:/Users/Administrator/workspace/xgboost-win64_release_1.6.0/src/learner.cc:604: Invalid parameter \" learning_rate\" contains whitespace.\n",
      "\n",
      "  warnings.warn(\"Estimator fit failed. The score on this train-test\"\n"
     ]
    },
    {
     "name": "stdout",
     "output_type": "stream",
     "text": [
      "\n",
      "[CV]   learning_rate=0.5, max_depth=7, n_estimators=50, score=nan, total=   0.1s\n",
      "[CV]  learning_rate=0.5, max_depth=7, n_estimators=50 ................\n",
      "[CV]   learning_rate=0.5, max_depth=7, n_estimators=50, score=nan, total=   0.1s\n",
      "[CV]  learning_rate=0.5, max_depth=7, n_estimators=50 ................\n",
      "[CV]   learning_rate=0.5, max_depth=7, n_estimators=50, score=nan, total=   0.1s\n",
      "[CV]  learning_rate=0.5, max_depth=7, n_estimators=100 ...............\n",
      "[CV]   learning_rate=0.5, max_depth=7, n_estimators=100, score=nan, total=   0.1s\n",
      "[CV]  learning_rate=0.5, max_depth=7, n_estimators=100 ...............\n",
      "[CV]   learning_rate=0.5, max_depth=7, n_estimators=100, score=nan, total=   0.1s\n",
      "[CV]  learning_rate=0.5, max_depth=7, n_estimators=100 ...............\n",
      "[CV]   learning_rate=0.5, max_depth=7, n_estimators=100, score=nan, total=   0.1s\n",
      "[CV]  learning_rate=0.5, max_depth=7, n_estimators=100 ...............\n",
      "[CV]   learning_rate=0.5, max_depth=7, n_estimators=100, score=nan, total=   0.1s\n",
      "[CV]  learning_rate=0.5, max_depth=7, n_estimators=100 ...............\n",
      "[CV]   learning_rate=0.5, max_depth=7, n_estimators=100, score=nan, total=   0.1s\n",
      "[CV]  learning_rate=0.5, max_depth=7, n_estimators=200 ...............\n"
     ]
    },
    {
     "name": "stderr",
     "output_type": "stream",
     "text": [
      "C:\\Users\\sheka\\anaconda3\\envs\\tensorflow\\lib\\site-packages\\sklearn\\model_selection\\_validation.py:548: FitFailedWarning: Estimator fit failed. The score on this train-test partition for these parameters will be set to nan. Details: \n",
      "Traceback (most recent call last):\n",
      "  File \"C:\\Users\\sheka\\anaconda3\\envs\\tensorflow\\lib\\site-packages\\sklearn\\model_selection\\_validation.py\", line 531, in _fit_and_score\n",
      "    estimator.fit(X_train, y_train, **fit_params)\n",
      "  File \"C:\\Users\\sheka\\anaconda3\\envs\\tensorflow\\lib\\site-packages\\xgboost\\core.py\", line 532, in inner_f\n",
      "    return f(**kwargs)\n",
      "  File \"C:\\Users\\sheka\\anaconda3\\envs\\tensorflow\\lib\\site-packages\\xgboost\\sklearn.py\", line 1400, in fit\n",
      "    self._Booster = train(\n",
      "  File \"C:\\Users\\sheka\\anaconda3\\envs\\tensorflow\\lib\\site-packages\\xgboost\\core.py\", line 532, in inner_f\n",
      "    return f(**kwargs)\n",
      "  File \"C:\\Users\\sheka\\anaconda3\\envs\\tensorflow\\lib\\site-packages\\xgboost\\training.py\", line 181, in train\n",
      "    bst.update(dtrain, i, obj)\n",
      "  File \"C:\\Users\\sheka\\anaconda3\\envs\\tensorflow\\lib\\site-packages\\xgboost\\core.py\", line 1733, in update\n",
      "    _check_call(_LIB.XGBoosterUpdateOneIter(self.handle,\n",
      "  File \"C:\\Users\\sheka\\anaconda3\\envs\\tensorflow\\lib\\site-packages\\xgboost\\core.py\", line 203, in _check_call\n",
      "    raise XGBoostError(py_str(_LIB.XGBGetLastError()))\n",
      "xgboost.core.XGBoostError: [15:25:00] C:/Users/Administrator/workspace/xgboost-win64_release_1.6.0/src/learner.cc:604: Invalid parameter \" learning_rate\" contains whitespace.\n",
      "\n",
      "  warnings.warn(\"Estimator fit failed. The score on this train-test\"\n"
     ]
    },
    {
     "name": "stdout",
     "output_type": "stream",
     "text": [
      "[CV]   learning_rate=0.5, max_depth=7, n_estimators=200, score=nan, total=   0.1s\n",
      "[CV]  learning_rate=0.5, max_depth=7, n_estimators=200 ...............\n",
      "[CV]   learning_rate=0.5, max_depth=7, n_estimators=200, score=nan, total=   0.1s\n",
      "[CV]  learning_rate=0.5, max_depth=7, n_estimators=200 ...............\n",
      "[CV]   learning_rate=0.5, max_depth=7, n_estimators=200, score=nan, total=   0.1s\n",
      "[CV]  learning_rate=0.5, max_depth=7, n_estimators=200 ...............\n",
      "[CV]   learning_rate=0.5, max_depth=7, n_estimators=200, score=nan, total=   0.1s\n",
      "[CV]  learning_rate=0.5, max_depth=7, n_estimators=200 ...............\n",
      "[CV]   learning_rate=0.5, max_depth=7, n_estimators=200, score=nan, total=   0.1s\n",
      "[CV]  learning_rate=0.5, max_depth=7, n_estimators=300 ...............\n",
      "[CV]   learning_rate=0.5, max_depth=7, n_estimators=300, score=nan, total=   0.1s\n",
      "[CV]  learning_rate=0.5, max_depth=7, n_estimators=300 ...............\n",
      "[CV]   learning_rate=0.5, max_depth=7, n_estimators=300, score=nan, total=   0.1s\n",
      "[CV]  learning_rate=0.5, max_depth=7, n_estimators=300 ...............\n",
      "[CV]   learning_rate=0.5, max_depth=7, n_estimators=300, score=nan, total=   0.1s\n",
      "[CV]  learning_rate=0.5, max_depth=7, n_estimators=300 ...............\n",
      "[CV]   learning_rate=0.5, max_depth=7, n_estimators=300, score=nan, total=   0.1s\n",
      "[CV]  learning_rate=0.5, max_depth=7, n_estimators=300 ...............\n",
      "[CV]   learning_rate=0.5, max_depth=7, n_estimators=300, score=nan, total=   0.1s\n",
      "[CV]  learning_rate=0.5, max_depth=9, n_estimators=10 ................\n",
      "[CV]   learning_rate=0.5, max_depth=9, n_estimators=10, score=nan, total=   0.1s\n",
      "[CV]  learning_rate=0.5, max_depth=9, n_estimators=10 ................\n"
     ]
    },
    {
     "name": "stderr",
     "output_type": "stream",
     "text": [
      "C:\\Users\\sheka\\anaconda3\\envs\\tensorflow\\lib\\site-packages\\sklearn\\model_selection\\_validation.py:548: FitFailedWarning: Estimator fit failed. The score on this train-test partition for these parameters will be set to nan. Details: \n",
      "Traceback (most recent call last):\n",
      "  File \"C:\\Users\\sheka\\anaconda3\\envs\\tensorflow\\lib\\site-packages\\sklearn\\model_selection\\_validation.py\", line 531, in _fit_and_score\n",
      "    estimator.fit(X_train, y_train, **fit_params)\n",
      "  File \"C:\\Users\\sheka\\anaconda3\\envs\\tensorflow\\lib\\site-packages\\xgboost\\core.py\", line 532, in inner_f\n",
      "    return f(**kwargs)\n",
      "  File \"C:\\Users\\sheka\\anaconda3\\envs\\tensorflow\\lib\\site-packages\\xgboost\\sklearn.py\", line 1400, in fit\n",
      "    self._Booster = train(\n",
      "  File \"C:\\Users\\sheka\\anaconda3\\envs\\tensorflow\\lib\\site-packages\\xgboost\\core.py\", line 532, in inner_f\n",
      "    return f(**kwargs)\n",
      "  File \"C:\\Users\\sheka\\anaconda3\\envs\\tensorflow\\lib\\site-packages\\xgboost\\training.py\", line 181, in train\n",
      "    bst.update(dtrain, i, obj)\n",
      "  File \"C:\\Users\\sheka\\anaconda3\\envs\\tensorflow\\lib\\site-packages\\xgboost\\core.py\", line 1733, in update\n",
      "    _check_call(_LIB.XGBoosterUpdateOneIter(self.handle,\n",
      "  File \"C:\\Users\\sheka\\anaconda3\\envs\\tensorflow\\lib\\site-packages\\xgboost\\core.py\", line 203, in _check_call\n",
      "    raise XGBoostError(py_str(_LIB.XGBGetLastError()))\n",
      "xgboost.core.XGBoostError: [15:25:01] C:/Users/Administrator/workspace/xgboost-win64_release_1.6.0/src/learner.cc:604: Invalid parameter \" learning_rate\" contains whitespace.\n",
      "\n",
      "  warnings.warn(\"Estimator fit failed. The score on this train-test\"\n"
     ]
    },
    {
     "name": "stdout",
     "output_type": "stream",
     "text": [
      "[CV]   learning_rate=0.5, max_depth=9, n_estimators=10, score=nan, total=   0.1s\n",
      "[CV]  learning_rate=0.5, max_depth=9, n_estimators=10 ................\n",
      "[CV]   learning_rate=0.5, max_depth=9, n_estimators=10, score=nan, total=   0.1s\n",
      "[CV]  learning_rate=0.5, max_depth=9, n_estimators=10 ................\n",
      "[CV]   learning_rate=0.5, max_depth=9, n_estimators=10, score=nan, total=   0.1s\n",
      "[CV]  learning_rate=0.5, max_depth=9, n_estimators=10 ................\n",
      "[CV]   learning_rate=0.5, max_depth=9, n_estimators=10, score=nan, total=   0.1s\n",
      "[CV]  learning_rate=0.5, max_depth=9, n_estimators=50 ................\n",
      "[CV]   learning_rate=0.5, max_depth=9, n_estimators=50, score=nan, total=   0.1s\n",
      "[CV]  learning_rate=0.5, max_depth=9, n_estimators=50 ................\n",
      "[CV]   learning_rate=0.5, max_depth=9, n_estimators=50, score=nan, total=   0.1s\n",
      "[CV]  learning_rate=0.5, max_depth=9, n_estimators=50 ................\n",
      "[CV]   learning_rate=0.5, max_depth=9, n_estimators=50, score=nan, total=   0.1s\n",
      "[CV]  learning_rate=0.5, max_depth=9, n_estimators=50 ................\n",
      "[CV]   learning_rate=0.5, max_depth=9, n_estimators=50, score=nan, total=   0.1s\n",
      "[CV]  learning_rate=0.5, max_depth=9, n_estimators=50 ................\n",
      "[CV]   learning_rate=0.5, max_depth=9, n_estimators=50, score=nan, total=   0.1s\n",
      "[CV]  learning_rate=0.5, max_depth=9, n_estimators=100 ...............\n",
      "[CV]   learning_rate=0.5, max_depth=9, n_estimators=100, score=nan, total=   0.1s\n",
      "[CV]  learning_rate=0.5, max_depth=9, n_estimators=100 ...............\n",
      "[CV]   learning_rate=0.5, max_depth=9, n_estimators=100, score=nan, total=   0.1s\n",
      "[CV]  learning_rate=0.5, max_depth=9, n_estimators=100 ...............\n",
      "[CV]   learning_rate=0.5, max_depth=9, n_estimators=100, score=nan, total=   0.1s\n",
      "[CV]  learning_rate=0.5, max_depth=9, n_estimators=100 ...............\n"
     ]
    },
    {
     "name": "stderr",
     "output_type": "stream",
     "text": [
      "C:\\Users\\sheka\\anaconda3\\envs\\tensorflow\\lib\\site-packages\\sklearn\\model_selection\\_validation.py:548: FitFailedWarning: Estimator fit failed. The score on this train-test partition for these parameters will be set to nan. Details: \n",
      "Traceback (most recent call last):\n",
      "  File \"C:\\Users\\sheka\\anaconda3\\envs\\tensorflow\\lib\\site-packages\\sklearn\\model_selection\\_validation.py\", line 531, in _fit_and_score\n",
      "    estimator.fit(X_train, y_train, **fit_params)\n",
      "  File \"C:\\Users\\sheka\\anaconda3\\envs\\tensorflow\\lib\\site-packages\\xgboost\\core.py\", line 532, in inner_f\n",
      "    return f(**kwargs)\n",
      "  File \"C:\\Users\\sheka\\anaconda3\\envs\\tensorflow\\lib\\site-packages\\xgboost\\sklearn.py\", line 1400, in fit\n",
      "    self._Booster = train(\n",
      "  File \"C:\\Users\\sheka\\anaconda3\\envs\\tensorflow\\lib\\site-packages\\xgboost\\core.py\", line 532, in inner_f\n",
      "    return f(**kwargs)\n",
      "  File \"C:\\Users\\sheka\\anaconda3\\envs\\tensorflow\\lib\\site-packages\\xgboost\\training.py\", line 181, in train\n",
      "    bst.update(dtrain, i, obj)\n",
      "  File \"C:\\Users\\sheka\\anaconda3\\envs\\tensorflow\\lib\\site-packages\\xgboost\\core.py\", line 1733, in update\n",
      "    _check_call(_LIB.XGBoosterUpdateOneIter(self.handle,\n",
      "  File \"C:\\Users\\sheka\\anaconda3\\envs\\tensorflow\\lib\\site-packages\\xgboost\\core.py\", line 203, in _check_call\n",
      "    raise XGBoostError(py_str(_LIB.XGBGetLastError()))\n",
      "xgboost.core.XGBoostError: [15:25:02] C:/Users/Administrator/workspace/xgboost-win64_release_1.6.0/src/learner.cc:604: Invalid parameter \" learning_rate\" contains whitespace.\n",
      "\n",
      "  warnings.warn(\"Estimator fit failed. The score on this train-test\"\n"
     ]
    },
    {
     "name": "stdout",
     "output_type": "stream",
     "text": [
      "[CV]   learning_rate=0.5, max_depth=9, n_estimators=100, score=nan, total=   0.1s\n",
      "[CV]  learning_rate=0.5, max_depth=9, n_estimators=100 ...............\n",
      "[CV]   learning_rate=0.5, max_depth=9, n_estimators=100, score=nan, total=   0.1s\n",
      "[CV]  learning_rate=0.5, max_depth=9, n_estimators=200 ...............\n",
      "[CV]   learning_rate=0.5, max_depth=9, n_estimators=200, score=nan, total=   0.1s\n",
      "[CV]  learning_rate=0.5, max_depth=9, n_estimators=200 ...............\n",
      "[CV]   learning_rate=0.5, max_depth=9, n_estimators=200, score=nan, total=   0.1s\n",
      "[CV]  learning_rate=0.5, max_depth=9, n_estimators=200 ...............\n",
      "[CV]   learning_rate=0.5, max_depth=9, n_estimators=200, score=nan, total=   0.1s\n",
      "[CV]  learning_rate=0.5, max_depth=9, n_estimators=200 ...............\n",
      "[CV]   learning_rate=0.5, max_depth=9, n_estimators=200, score=nan, total=   0.1s\n",
      "[CV]  learning_rate=0.5, max_depth=9, n_estimators=200 ...............\n",
      "[CV]   learning_rate=0.5, max_depth=9, n_estimators=200, score=nan, total=   0.1s\n",
      "[CV]  learning_rate=0.5, max_depth=9, n_estimators=300 ...............\n",
      "[CV]   learning_rate=0.5, max_depth=9, n_estimators=300, score=nan, total=   0.1s\n",
      "[CV]  learning_rate=0.5, max_depth=9, n_estimators=300 ...............\n",
      "[CV]   learning_rate=0.5, max_depth=9, n_estimators=300, score=nan, total=   0.1s\n",
      "[CV]  learning_rate=0.5, max_depth=9, n_estimators=300 ...............\n",
      "[CV]   learning_rate=0.5, max_depth=9, n_estimators=300, score=nan, total=   0.1s\n",
      "[CV]  learning_rate=0.5, max_depth=9, n_estimators=300 ...............\n",
      "[CV]   learning_rate=0.5, max_depth=9, n_estimators=300, score=nan, total=   0.1s\n",
      "[CV]  learning_rate=0.5, max_depth=9, n_estimators=300 ...............\n",
      "[CV]   learning_rate=0.5, max_depth=9, n_estimators=300, score=nan, total=   0.1s\n",
      "[CV]  learning_rate=0.5, max_depth=11, n_estimators=10 ...............\n",
      "[CV]   learning_rate=0.5, max_depth=11, n_estimators=10, score=nan, total=   0.1s\n",
      "[CV]  learning_rate=0.5, max_depth=11, n_estimators=10 ...............\n",
      "[CV]   learning_rate=0.5, max_depth=11, n_estimators=10, score=nan, total=   0.1s\n",
      "[CV]  learning_rate=0.5, max_depth=11, n_estimators=10 ...............\n"
     ]
    },
    {
     "name": "stderr",
     "output_type": "stream",
     "text": [
      "C:\\Users\\sheka\\anaconda3\\envs\\tensorflow\\lib\\site-packages\\sklearn\\model_selection\\_validation.py:548: FitFailedWarning: Estimator fit failed. The score on this train-test partition for these parameters will be set to nan. Details: \n",
      "Traceback (most recent call last):\n",
      "  File \"C:\\Users\\sheka\\anaconda3\\envs\\tensorflow\\lib\\site-packages\\sklearn\\model_selection\\_validation.py\", line 531, in _fit_and_score\n",
      "    estimator.fit(X_train, y_train, **fit_params)\n",
      "  File \"C:\\Users\\sheka\\anaconda3\\envs\\tensorflow\\lib\\site-packages\\xgboost\\core.py\", line 532, in inner_f\n",
      "    return f(**kwargs)\n",
      "  File \"C:\\Users\\sheka\\anaconda3\\envs\\tensorflow\\lib\\site-packages\\xgboost\\sklearn.py\", line 1400, in fit\n",
      "    self._Booster = train(\n",
      "  File \"C:\\Users\\sheka\\anaconda3\\envs\\tensorflow\\lib\\site-packages\\xgboost\\core.py\", line 532, in inner_f\n",
      "    return f(**kwargs)\n",
      "  File \"C:\\Users\\sheka\\anaconda3\\envs\\tensorflow\\lib\\site-packages\\xgboost\\training.py\", line 181, in train\n",
      "    bst.update(dtrain, i, obj)\n",
      "  File \"C:\\Users\\sheka\\anaconda3\\envs\\tensorflow\\lib\\site-packages\\xgboost\\core.py\", line 1733, in update\n",
      "    _check_call(_LIB.XGBoosterUpdateOneIter(self.handle,\n",
      "  File \"C:\\Users\\sheka\\anaconda3\\envs\\tensorflow\\lib\\site-packages\\xgboost\\core.py\", line 203, in _check_call\n",
      "    raise XGBoostError(py_str(_LIB.XGBGetLastError()))\n",
      "xgboost.core.XGBoostError: [15:25:03] C:/Users/Administrator/workspace/xgboost-win64_release_1.6.0/src/learner.cc:604: Invalid parameter \" learning_rate\" contains whitespace.\n",
      "\n",
      "  warnings.warn(\"Estimator fit failed. The score on this train-test\"\n"
     ]
    },
    {
     "name": "stdout",
     "output_type": "stream",
     "text": [
      "[CV]   learning_rate=0.5, max_depth=11, n_estimators=10, score=nan, total=   0.1s\n",
      "[CV]  learning_rate=0.5, max_depth=11, n_estimators=10 ...............\n",
      "[CV]   learning_rate=0.5, max_depth=11, n_estimators=10, score=nan, total=   0.1s\n",
      "[CV]  learning_rate=0.5, max_depth=11, n_estimators=10 ...............\n",
      "[CV]   learning_rate=0.5, max_depth=11, n_estimators=10, score=nan, total=   0.1s\n",
      "[CV]  learning_rate=0.5, max_depth=11, n_estimators=50 ...............\n",
      "[CV]   learning_rate=0.5, max_depth=11, n_estimators=50, score=nan, total=   0.1s\n",
      "[CV]  learning_rate=0.5, max_depth=11, n_estimators=50 ...............\n",
      "[CV]   learning_rate=0.5, max_depth=11, n_estimators=50, score=nan, total=   0.1s\n",
      "[CV]  learning_rate=0.5, max_depth=11, n_estimators=50 ...............\n",
      "[CV]   learning_rate=0.5, max_depth=11, n_estimators=50, score=nan, total=   0.1s\n",
      "[CV]  learning_rate=0.5, max_depth=11, n_estimators=50 ...............\n",
      "[CV]   learning_rate=0.5, max_depth=11, n_estimators=50, score=nan, total=   0.1s\n",
      "[CV]  learning_rate=0.5, max_depth=11, n_estimators=50 ...............\n",
      "[CV]   learning_rate=0.5, max_depth=11, n_estimators=50, score=nan, total=   0.1s\n",
      "[CV]  learning_rate=0.5, max_depth=11, n_estimators=100 ..............\n",
      "[CV]   learning_rate=0.5, max_depth=11, n_estimators=100, score=nan, total=   0.1s\n",
      "[CV]  learning_rate=0.5, max_depth=11, n_estimators=100 ..............\n",
      "[CV]   learning_rate=0.5, max_depth=11, n_estimators=100, score=nan, total=   0.1s\n",
      "[CV]  learning_rate=0.5, max_depth=11, n_estimators=100 ..............\n",
      "[CV]   learning_rate=0.5, max_depth=11, n_estimators=100, score=nan, total=   0.1s\n",
      "[CV]  learning_rate=0.5, max_depth=11, n_estimators=100 ..............\n",
      "[CV]   learning_rate=0.5, max_depth=11, n_estimators=100, score=nan, total=   0.1s\n",
      "[CV]  learning_rate=0.5, max_depth=11, n_estimators=100 ..............\n"
     ]
    },
    {
     "name": "stderr",
     "output_type": "stream",
     "text": [
      "C:\\Users\\sheka\\anaconda3\\envs\\tensorflow\\lib\\site-packages\\sklearn\\model_selection\\_validation.py:548: FitFailedWarning: Estimator fit failed. The score on this train-test partition for these parameters will be set to nan. Details: \n",
      "Traceback (most recent call last):\n",
      "  File \"C:\\Users\\sheka\\anaconda3\\envs\\tensorflow\\lib\\site-packages\\sklearn\\model_selection\\_validation.py\", line 531, in _fit_and_score\n",
      "    estimator.fit(X_train, y_train, **fit_params)\n",
      "  File \"C:\\Users\\sheka\\anaconda3\\envs\\tensorflow\\lib\\site-packages\\xgboost\\core.py\", line 532, in inner_f\n",
      "    return f(**kwargs)\n",
      "  File \"C:\\Users\\sheka\\anaconda3\\envs\\tensorflow\\lib\\site-packages\\xgboost\\sklearn.py\", line 1400, in fit\n",
      "    self._Booster = train(\n",
      "  File \"C:\\Users\\sheka\\anaconda3\\envs\\tensorflow\\lib\\site-packages\\xgboost\\core.py\", line 532, in inner_f\n",
      "    return f(**kwargs)\n",
      "  File \"C:\\Users\\sheka\\anaconda3\\envs\\tensorflow\\lib\\site-packages\\xgboost\\training.py\", line 181, in train\n",
      "    bst.update(dtrain, i, obj)\n",
      "  File \"C:\\Users\\sheka\\anaconda3\\envs\\tensorflow\\lib\\site-packages\\xgboost\\core.py\", line 1733, in update\n",
      "    _check_call(_LIB.XGBoosterUpdateOneIter(self.handle,\n",
      "  File \"C:\\Users\\sheka\\anaconda3\\envs\\tensorflow\\lib\\site-packages\\xgboost\\core.py\", line 203, in _check_call\n",
      "    raise XGBoostError(py_str(_LIB.XGBGetLastError()))\n",
      "xgboost.core.XGBoostError: [15:25:04] C:/Users/Administrator/workspace/xgboost-win64_release_1.6.0/src/learner.cc:604: Invalid parameter \" learning_rate\" contains whitespace.\n",
      "\n",
      "  warnings.warn(\"Estimator fit failed. The score on this train-test\"\n"
     ]
    },
    {
     "name": "stdout",
     "output_type": "stream",
     "text": [
      "[CV]   learning_rate=0.5, max_depth=11, n_estimators=100, score=nan, total=   0.1s\n",
      "[CV]  learning_rate=0.5, max_depth=11, n_estimators=200 ..............\n",
      "[CV]   learning_rate=0.5, max_depth=11, n_estimators=200, score=nan, total=   0.1s\n",
      "[CV]  learning_rate=0.5, max_depth=11, n_estimators=200 ..............\n",
      "[CV]   learning_rate=0.5, max_depth=11, n_estimators=200, score=nan, total=   0.1s\n",
      "[CV]  learning_rate=0.5, max_depth=11, n_estimators=200 ..............\n",
      "[CV]   learning_rate=0.5, max_depth=11, n_estimators=200, score=nan, total=   0.1s\n",
      "[CV]  learning_rate=0.5, max_depth=11, n_estimators=200 ..............\n",
      "[CV]   learning_rate=0.5, max_depth=11, n_estimators=200, score=nan, total=   0.1s\n",
      "[CV]  learning_rate=0.5, max_depth=11, n_estimators=200 ..............\n",
      "[CV]   learning_rate=0.5, max_depth=11, n_estimators=200, score=nan, total=   0.1s\n",
      "[CV]  learning_rate=0.5, max_depth=11, n_estimators=300 ..............\n",
      "[CV]   learning_rate=0.5, max_depth=11, n_estimators=300, score=nan, total=   0.1s\n",
      "[CV]  learning_rate=0.5, max_depth=11, n_estimators=300 ..............\n",
      "[CV]   learning_rate=0.5, max_depth=11, n_estimators=300, score=nan, total=   0.1s\n",
      "[CV]  learning_rate=0.5, max_depth=11, n_estimators=300 ..............\n",
      "[CV]   learning_rate=0.5, max_depth=11, n_estimators=300, score=nan, total=   0.1s\n",
      "[CV]  learning_rate=0.5, max_depth=11, n_estimators=300 ..............\n"
     ]
    },
    {
     "name": "stderr",
     "output_type": "stream",
     "text": [
      "C:\\Users\\sheka\\anaconda3\\envs\\tensorflow\\lib\\site-packages\\sklearn\\model_selection\\_validation.py:548: FitFailedWarning: Estimator fit failed. The score on this train-test partition for these parameters will be set to nan. Details: \n",
      "Traceback (most recent call last):\n",
      "  File \"C:\\Users\\sheka\\anaconda3\\envs\\tensorflow\\lib\\site-packages\\sklearn\\model_selection\\_validation.py\", line 531, in _fit_and_score\n",
      "    estimator.fit(X_train, y_train, **fit_params)\n",
      "  File \"C:\\Users\\sheka\\anaconda3\\envs\\tensorflow\\lib\\site-packages\\xgboost\\core.py\", line 532, in inner_f\n",
      "    return f(**kwargs)\n",
      "  File \"C:\\Users\\sheka\\anaconda3\\envs\\tensorflow\\lib\\site-packages\\xgboost\\sklearn.py\", line 1400, in fit\n",
      "    self._Booster = train(\n",
      "  File \"C:\\Users\\sheka\\anaconda3\\envs\\tensorflow\\lib\\site-packages\\xgboost\\core.py\", line 532, in inner_f\n",
      "    return f(**kwargs)\n",
      "  File \"C:\\Users\\sheka\\anaconda3\\envs\\tensorflow\\lib\\site-packages\\xgboost\\training.py\", line 181, in train\n",
      "    bst.update(dtrain, i, obj)\n",
      "  File \"C:\\Users\\sheka\\anaconda3\\envs\\tensorflow\\lib\\site-packages\\xgboost\\core.py\", line 1733, in update\n",
      "    _check_call(_LIB.XGBoosterUpdateOneIter(self.handle,\n",
      "  File \"C:\\Users\\sheka\\anaconda3\\envs\\tensorflow\\lib\\site-packages\\xgboost\\core.py\", line 203, in _check_call\n",
      "    raise XGBoostError(py_str(_LIB.XGBGetLastError()))\n",
      "xgboost.core.XGBoostError: [15:25:05] C:/Users/Administrator/workspace/xgboost-win64_release_1.6.0/src/learner.cc:604: Invalid parameter \" learning_rate\" contains whitespace.\n",
      "\n",
      "  warnings.warn(\"Estimator fit failed. The score on this train-test\"\n"
     ]
    },
    {
     "name": "stdout",
     "output_type": "stream",
     "text": [
      "[CV]   learning_rate=0.5, max_depth=11, n_estimators=300, score=nan, total=   0.1s\n",
      "[CV]  learning_rate=0.5, max_depth=11, n_estimators=300 ..............\n",
      "[CV]   learning_rate=0.5, max_depth=11, n_estimators=300, score=nan, total=   0.1s\n",
      "[CV]  learning_rate=0.5, max_depth=15, n_estimators=10 ...............\n",
      "[CV]   learning_rate=0.5, max_depth=15, n_estimators=10, score=nan, total=   0.1s\n",
      "[CV]  learning_rate=0.5, max_depth=15, n_estimators=10 ...............\n",
      "[CV]   learning_rate=0.5, max_depth=15, n_estimators=10, score=nan, total=   0.1s\n",
      "[CV]  learning_rate=0.5, max_depth=15, n_estimators=10 ...............\n",
      "[CV]   learning_rate=0.5, max_depth=15, n_estimators=10, score=nan, total=   0.1s\n",
      "[CV]  learning_rate=0.5, max_depth=15, n_estimators=10 ...............\n",
      "[CV]   learning_rate=0.5, max_depth=15, n_estimators=10, score=nan, total=   0.1s\n",
      "[CV]  learning_rate=0.5, max_depth=15, n_estimators=10 ...............\n",
      "[CV]   learning_rate=0.5, max_depth=15, n_estimators=10, score=nan, total=   0.1s\n",
      "[CV]  learning_rate=0.5, max_depth=15, n_estimators=50 ...............\n",
      "[CV]   learning_rate=0.5, max_depth=15, n_estimators=50, score=nan, total=   0.1s\n",
      "[CV]  learning_rate=0.5, max_depth=15, n_estimators=50 ...............\n",
      "[CV]   learning_rate=0.5, max_depth=15, n_estimators=50, score=nan, total=   0.1s\n",
      "[CV]  learning_rate=0.5, max_depth=15, n_estimators=50 ...............\n",
      "[CV]   learning_rate=0.5, max_depth=15, n_estimators=50, score=nan, total=   0.1s\n",
      "[CV]  learning_rate=0.5, max_depth=15, n_estimators=50 ...............\n",
      "[CV]   learning_rate=0.5, max_depth=15, n_estimators=50, score=nan, total=   0.1s\n",
      "[CV]  learning_rate=0.5, max_depth=15, n_estimators=50 ...............\n"
     ]
    },
    {
     "name": "stderr",
     "output_type": "stream",
     "text": [
      "C:\\Users\\sheka\\anaconda3\\envs\\tensorflow\\lib\\site-packages\\sklearn\\model_selection\\_validation.py:548: FitFailedWarning: Estimator fit failed. The score on this train-test partition for these parameters will be set to nan. Details: \n",
      "Traceback (most recent call last):\n",
      "  File \"C:\\Users\\sheka\\anaconda3\\envs\\tensorflow\\lib\\site-packages\\sklearn\\model_selection\\_validation.py\", line 531, in _fit_and_score\n",
      "    estimator.fit(X_train, y_train, **fit_params)\n",
      "  File \"C:\\Users\\sheka\\anaconda3\\envs\\tensorflow\\lib\\site-packages\\xgboost\\core.py\", line 532, in inner_f\n",
      "    return f(**kwargs)\n",
      "  File \"C:\\Users\\sheka\\anaconda3\\envs\\tensorflow\\lib\\site-packages\\xgboost\\sklearn.py\", line 1400, in fit\n",
      "    self._Booster = train(\n",
      "  File \"C:\\Users\\sheka\\anaconda3\\envs\\tensorflow\\lib\\site-packages\\xgboost\\core.py\", line 532, in inner_f\n",
      "    return f(**kwargs)\n",
      "  File \"C:\\Users\\sheka\\anaconda3\\envs\\tensorflow\\lib\\site-packages\\xgboost\\training.py\", line 181, in train\n",
      "    bst.update(dtrain, i, obj)\n",
      "  File \"C:\\Users\\sheka\\anaconda3\\envs\\tensorflow\\lib\\site-packages\\xgboost\\core.py\", line 1733, in update\n",
      "    _check_call(_LIB.XGBoosterUpdateOneIter(self.handle,\n",
      "  File \"C:\\Users\\sheka\\anaconda3\\envs\\tensorflow\\lib\\site-packages\\xgboost\\core.py\", line 203, in _check_call\n",
      "    raise XGBoostError(py_str(_LIB.XGBGetLastError()))\n",
      "xgboost.core.XGBoostError: [15:25:06] C:/Users/Administrator/workspace/xgboost-win64_release_1.6.0/src/learner.cc:604: Invalid parameter \" learning_rate\" contains whitespace.\n",
      "\n",
      "  warnings.warn(\"Estimator fit failed. The score on this train-test\"\n"
     ]
    },
    {
     "name": "stdout",
     "output_type": "stream",
     "text": [
      "[CV]   learning_rate=0.5, max_depth=15, n_estimators=50, score=nan, total=   0.1s\n",
      "[CV]  learning_rate=0.5, max_depth=15, n_estimators=100 ..............\n",
      "[CV]   learning_rate=0.5, max_depth=15, n_estimators=100, score=nan, total=   0.1s\n",
      "[CV]  learning_rate=0.5, max_depth=15, n_estimators=100 ..............\n",
      "[CV]   learning_rate=0.5, max_depth=15, n_estimators=100, score=nan, total=   0.1s\n",
      "[CV]  learning_rate=0.5, max_depth=15, n_estimators=100 ..............\n",
      "[CV]   learning_rate=0.5, max_depth=15, n_estimators=100, score=nan, total=   0.1s\n",
      "[CV]  learning_rate=0.5, max_depth=15, n_estimators=100 ..............\n",
      "[CV]   learning_rate=0.5, max_depth=15, n_estimators=100, score=nan, total=   0.1s\n",
      "[CV]  learning_rate=0.5, max_depth=15, n_estimators=100 ..............\n",
      "[CV]   learning_rate=0.5, max_depth=15, n_estimators=100, score=nan, total=   0.1s\n",
      "[CV]  learning_rate=0.5, max_depth=15, n_estimators=200 ..............\n",
      "[CV]   learning_rate=0.5, max_depth=15, n_estimators=200, score=nan, total=   0.1s\n",
      "[CV]  learning_rate=0.5, max_depth=15, n_estimators=200 ..............\n",
      "[CV]   learning_rate=0.5, max_depth=15, n_estimators=200, score=nan, total=   0.1s\n",
      "[CV]  learning_rate=0.5, max_depth=15, n_estimators=200 ..............\n",
      "[CV]   learning_rate=0.5, max_depth=15, n_estimators=200, score=nan, total=   0.1s\n",
      "[CV]  learning_rate=0.5, max_depth=15, n_estimators=200 ..............\n",
      "[CV]   learning_rate=0.5, max_depth=15, n_estimators=200, score=nan, total=   0.1s\n",
      "[CV]  learning_rate=0.5, max_depth=15, n_estimators=200 ..............\n",
      "[CV]   learning_rate=0.5, max_depth=15, n_estimators=200, score=nan, total=   0.1s\n",
      "[CV]  learning_rate=0.5, max_depth=15, n_estimators=300 ..............\n"
     ]
    },
    {
     "name": "stderr",
     "output_type": "stream",
     "text": [
      "C:\\Users\\sheka\\anaconda3\\envs\\tensorflow\\lib\\site-packages\\sklearn\\model_selection\\_validation.py:548: FitFailedWarning: Estimator fit failed. The score on this train-test partition for these parameters will be set to nan. Details: \n",
      "Traceback (most recent call last):\n",
      "  File \"C:\\Users\\sheka\\anaconda3\\envs\\tensorflow\\lib\\site-packages\\sklearn\\model_selection\\_validation.py\", line 531, in _fit_and_score\n",
      "    estimator.fit(X_train, y_train, **fit_params)\n",
      "  File \"C:\\Users\\sheka\\anaconda3\\envs\\tensorflow\\lib\\site-packages\\xgboost\\core.py\", line 532, in inner_f\n",
      "    return f(**kwargs)\n",
      "  File \"C:\\Users\\sheka\\anaconda3\\envs\\tensorflow\\lib\\site-packages\\xgboost\\sklearn.py\", line 1400, in fit\n",
      "    self._Booster = train(\n",
      "  File \"C:\\Users\\sheka\\anaconda3\\envs\\tensorflow\\lib\\site-packages\\xgboost\\core.py\", line 532, in inner_f\n",
      "    return f(**kwargs)\n",
      "  File \"C:\\Users\\sheka\\anaconda3\\envs\\tensorflow\\lib\\site-packages\\xgboost\\training.py\", line 181, in train\n",
      "    bst.update(dtrain, i, obj)\n",
      "  File \"C:\\Users\\sheka\\anaconda3\\envs\\tensorflow\\lib\\site-packages\\xgboost\\core.py\", line 1733, in update\n",
      "    _check_call(_LIB.XGBoosterUpdateOneIter(self.handle,\n",
      "  File \"C:\\Users\\sheka\\anaconda3\\envs\\tensorflow\\lib\\site-packages\\xgboost\\core.py\", line 203, in _check_call\n",
      "    raise XGBoostError(py_str(_LIB.XGBGetLastError()))\n",
      "xgboost.core.XGBoostError: [15:25:07] C:/Users/Administrator/workspace/xgboost-win64_release_1.6.0/src/learner.cc:604: Invalid parameter \" learning_rate\" contains whitespace.\n",
      "\n",
      "  warnings.warn(\"Estimator fit failed. The score on this train-test\"\n"
     ]
    },
    {
     "name": "stdout",
     "output_type": "stream",
     "text": [
      "[CV]   learning_rate=0.5, max_depth=15, n_estimators=300, score=nan, total=   0.1s\n",
      "[CV]  learning_rate=0.5, max_depth=15, n_estimators=300 ..............\n",
      "[CV]   learning_rate=0.5, max_depth=15, n_estimators=300, score=nan, total=   0.1s\n",
      "[CV]  learning_rate=0.5, max_depth=15, n_estimators=300 ..............\n",
      "[CV]   learning_rate=0.5, max_depth=15, n_estimators=300, score=nan, total=   0.1s\n",
      "[CV]  learning_rate=0.5, max_depth=15, n_estimators=300 ..............\n",
      "[CV]   learning_rate=0.5, max_depth=15, n_estimators=300, score=nan, total=   0.1s\n",
      "[CV]  learning_rate=0.5, max_depth=15, n_estimators=300 ..............\n",
      "[CV]   learning_rate=0.5, max_depth=15, n_estimators=300, score=nan, total=   0.1s\n",
      "[CV]  learning_rate=0.1, max_depth=3, n_estimators=10 ................\n",
      "[CV]   learning_rate=0.1, max_depth=3, n_estimators=10, score=nan, total=   0.1s\n",
      "[CV]  learning_rate=0.1, max_depth=3, n_estimators=10 ................\n",
      "[CV]   learning_rate=0.1, max_depth=3, n_estimators=10, score=nan, total=   0.1s\n",
      "[CV]  learning_rate=0.1, max_depth=3, n_estimators=10 ................\n",
      "[CV]   learning_rate=0.1, max_depth=3, n_estimators=10, score=nan, total=   0.1s\n",
      "[CV]  learning_rate=0.1, max_depth=3, n_estimators=10 ................\n",
      "[CV]   learning_rate=0.1, max_depth=3, n_estimators=10, score=nan, total=   0.1s\n",
      "[CV]  learning_rate=0.1, max_depth=3, n_estimators=10 ................\n",
      "[CV]   learning_rate=0.1, max_depth=3, n_estimators=10, score=nan, total=   0.1s\n",
      "[CV]  learning_rate=0.1, max_depth=3, n_estimators=50 ................\n",
      "[CV]   learning_rate=0.1, max_depth=3, n_estimators=50, score=nan, total=   0.1s\n",
      "[CV]  learning_rate=0.1, max_depth=3, n_estimators=50 ................\n",
      "[CV]   learning_rate=0.1, max_depth=3, n_estimators=50, score=nan, total=   0.1s\n",
      "[CV]  learning_rate=0.1, max_depth=3, n_estimators=50 ................\n",
      "[CV]   learning_rate=0.1, max_depth=3, n_estimators=50, score=nan, total=   0.1s\n",
      "[CV]  learning_rate=0.1, max_depth=3, n_estimators=50 ................"
     ]
    },
    {
     "name": "stderr",
     "output_type": "stream",
     "text": [
      "C:\\Users\\sheka\\anaconda3\\envs\\tensorflow\\lib\\site-packages\\sklearn\\model_selection\\_validation.py:548: FitFailedWarning: Estimator fit failed. The score on this train-test partition for these parameters will be set to nan. Details: \n",
      "Traceback (most recent call last):\n",
      "  File \"C:\\Users\\sheka\\anaconda3\\envs\\tensorflow\\lib\\site-packages\\sklearn\\model_selection\\_validation.py\", line 531, in _fit_and_score\n",
      "    estimator.fit(X_train, y_train, **fit_params)\n",
      "  File \"C:\\Users\\sheka\\anaconda3\\envs\\tensorflow\\lib\\site-packages\\xgboost\\core.py\", line 532, in inner_f\n",
      "    return f(**kwargs)\n",
      "  File \"C:\\Users\\sheka\\anaconda3\\envs\\tensorflow\\lib\\site-packages\\xgboost\\sklearn.py\", line 1400, in fit\n",
      "    self._Booster = train(\n",
      "  File \"C:\\Users\\sheka\\anaconda3\\envs\\tensorflow\\lib\\site-packages\\xgboost\\core.py\", line 532, in inner_f\n",
      "    return f(**kwargs)\n",
      "  File \"C:\\Users\\sheka\\anaconda3\\envs\\tensorflow\\lib\\site-packages\\xgboost\\training.py\", line 181, in train\n",
      "    bst.update(dtrain, i, obj)\n",
      "  File \"C:\\Users\\sheka\\anaconda3\\envs\\tensorflow\\lib\\site-packages\\xgboost\\core.py\", line 1733, in update\n",
      "    _check_call(_LIB.XGBoosterUpdateOneIter(self.handle,\n",
      "  File \"C:\\Users\\sheka\\anaconda3\\envs\\tensorflow\\lib\\site-packages\\xgboost\\core.py\", line 203, in _check_call\n",
      "    raise XGBoostError(py_str(_LIB.XGBGetLastError()))\n",
      "xgboost.core.XGBoostError: [15:25:08] C:/Users/Administrator/workspace/xgboost-win64_release_1.6.0/src/learner.cc:604: Invalid parameter \" learning_rate\" contains whitespace.\n",
      "\n",
      "  warnings.warn(\"Estimator fit failed. The score on this train-test\"\n"
     ]
    },
    {
     "name": "stdout",
     "output_type": "stream",
     "text": [
      "\n",
      "[CV]   learning_rate=0.1, max_depth=3, n_estimators=50, score=nan, total=   0.1s\n",
      "[CV]  learning_rate=0.1, max_depth=3, n_estimators=50 ................\n",
      "[CV]   learning_rate=0.1, max_depth=3, n_estimators=50, score=nan, total=   0.1s\n",
      "[CV]  learning_rate=0.1, max_depth=3, n_estimators=100 ...............\n",
      "[CV]   learning_rate=0.1, max_depth=3, n_estimators=100, score=nan, total=   0.1s\n",
      "[CV]  learning_rate=0.1, max_depth=3, n_estimators=100 ...............\n",
      "[CV]   learning_rate=0.1, max_depth=3, n_estimators=100, score=nan, total=   0.1s\n",
      "[CV]  learning_rate=0.1, max_depth=3, n_estimators=100 ...............\n",
      "[CV]   learning_rate=0.1, max_depth=3, n_estimators=100, score=nan, total=   0.1s\n",
      "[CV]  learning_rate=0.1, max_depth=3, n_estimators=100 ...............\n",
      "[CV]   learning_rate=0.1, max_depth=3, n_estimators=100, score=nan, total=   0.1s\n",
      "[CV]  learning_rate=0.1, max_depth=3, n_estimators=100 ...............\n",
      "[CV]   learning_rate=0.1, max_depth=3, n_estimators=100, score=nan, total=   0.1s\n",
      "[CV]  learning_rate=0.1, max_depth=3, n_estimators=200 ...............\n",
      "[CV]   learning_rate=0.1, max_depth=3, n_estimators=200, score=nan, total=   0.1s\n",
      "[CV]  learning_rate=0.1, max_depth=3, n_estimators=200 ...............\n"
     ]
    },
    {
     "name": "stderr",
     "output_type": "stream",
     "text": [
      "C:\\Users\\sheka\\anaconda3\\envs\\tensorflow\\lib\\site-packages\\sklearn\\model_selection\\_validation.py:548: FitFailedWarning: Estimator fit failed. The score on this train-test partition for these parameters will be set to nan. Details: \n",
      "Traceback (most recent call last):\n",
      "  File \"C:\\Users\\sheka\\anaconda3\\envs\\tensorflow\\lib\\site-packages\\sklearn\\model_selection\\_validation.py\", line 531, in _fit_and_score\n",
      "    estimator.fit(X_train, y_train, **fit_params)\n",
      "  File \"C:\\Users\\sheka\\anaconda3\\envs\\tensorflow\\lib\\site-packages\\xgboost\\core.py\", line 532, in inner_f\n",
      "    return f(**kwargs)\n",
      "  File \"C:\\Users\\sheka\\anaconda3\\envs\\tensorflow\\lib\\site-packages\\xgboost\\sklearn.py\", line 1400, in fit\n",
      "    self._Booster = train(\n",
      "  File \"C:\\Users\\sheka\\anaconda3\\envs\\tensorflow\\lib\\site-packages\\xgboost\\core.py\", line 532, in inner_f\n",
      "    return f(**kwargs)\n",
      "  File \"C:\\Users\\sheka\\anaconda3\\envs\\tensorflow\\lib\\site-packages\\xgboost\\training.py\", line 181, in train\n",
      "    bst.update(dtrain, i, obj)\n",
      "  File \"C:\\Users\\sheka\\anaconda3\\envs\\tensorflow\\lib\\site-packages\\xgboost\\core.py\", line 1733, in update\n",
      "    _check_call(_LIB.XGBoosterUpdateOneIter(self.handle,\n",
      "  File \"C:\\Users\\sheka\\anaconda3\\envs\\tensorflow\\lib\\site-packages\\xgboost\\core.py\", line 203, in _check_call\n",
      "    raise XGBoostError(py_str(_LIB.XGBGetLastError()))\n",
      "xgboost.core.XGBoostError: [15:25:09] C:/Users/Administrator/workspace/xgboost-win64_release_1.6.0/src/learner.cc:604: Invalid parameter \" learning_rate\" contains whitespace.\n",
      "\n",
      "  warnings.warn(\"Estimator fit failed. The score on this train-test\"\n"
     ]
    },
    {
     "name": "stdout",
     "output_type": "stream",
     "text": [
      "[CV]   learning_rate=0.1, max_depth=3, n_estimators=200, score=nan, total=   0.1s\n",
      "[CV]  learning_rate=0.1, max_depth=3, n_estimators=200 ...............\n",
      "[CV]   learning_rate=0.1, max_depth=3, n_estimators=200, score=nan, total=   0.1s\n",
      "[CV]  learning_rate=0.1, max_depth=3, n_estimators=200 ...............\n",
      "[CV]   learning_rate=0.1, max_depth=3, n_estimators=200, score=nan, total=   0.1s\n",
      "[CV]  learning_rate=0.1, max_depth=3, n_estimators=200 ...............\n",
      "[CV]   learning_rate=0.1, max_depth=3, n_estimators=200, score=nan, total=   0.1s\n",
      "[CV]  learning_rate=0.1, max_depth=3, n_estimators=300 ...............\n",
      "[CV]   learning_rate=0.1, max_depth=3, n_estimators=300, score=nan, total=   0.1s\n",
      "[CV]  learning_rate=0.1, max_depth=3, n_estimators=300 ...............\n",
      "[CV]   learning_rate=0.1, max_depth=3, n_estimators=300, score=nan, total=   0.1s\n",
      "[CV]  learning_rate=0.1, max_depth=3, n_estimators=300 ...............\n",
      "[CV]   learning_rate=0.1, max_depth=3, n_estimators=300, score=nan, total=   0.1s\n",
      "[CV]  learning_rate=0.1, max_depth=3, n_estimators=300 ...............\n",
      "[CV]   learning_rate=0.1, max_depth=3, n_estimators=300, score=nan, total=   0.1s\n",
      "[CV]  learning_rate=0.1, max_depth=3, n_estimators=300 ...............\n",
      "[CV]   learning_rate=0.1, max_depth=3, n_estimators=300, score=nan, total=   0.1s\n",
      "[CV]  learning_rate=0.1, max_depth=5, n_estimators=10 ................\n",
      "[CV]   learning_rate=0.1, max_depth=5, n_estimators=10, score=nan, total=   0.1s\n",
      "[CV]  learning_rate=0.1, max_depth=5, n_estimators=10 ................\n",
      "[CV]   learning_rate=0.1, max_depth=5, n_estimators=10, score=nan, total=   0.1s\n",
      "[CV]  learning_rate=0.1, max_depth=5, n_estimators=10 ................\n"
     ]
    },
    {
     "name": "stderr",
     "output_type": "stream",
     "text": [
      "C:\\Users\\sheka\\anaconda3\\envs\\tensorflow\\lib\\site-packages\\sklearn\\model_selection\\_validation.py:548: FitFailedWarning: Estimator fit failed. The score on this train-test partition for these parameters will be set to nan. Details: \n",
      "Traceback (most recent call last):\n",
      "  File \"C:\\Users\\sheka\\anaconda3\\envs\\tensorflow\\lib\\site-packages\\sklearn\\model_selection\\_validation.py\", line 531, in _fit_and_score\n",
      "    estimator.fit(X_train, y_train, **fit_params)\n",
      "  File \"C:\\Users\\sheka\\anaconda3\\envs\\tensorflow\\lib\\site-packages\\xgboost\\core.py\", line 532, in inner_f\n",
      "    return f(**kwargs)\n",
      "  File \"C:\\Users\\sheka\\anaconda3\\envs\\tensorflow\\lib\\site-packages\\xgboost\\sklearn.py\", line 1400, in fit\n",
      "    self._Booster = train(\n",
      "  File \"C:\\Users\\sheka\\anaconda3\\envs\\tensorflow\\lib\\site-packages\\xgboost\\core.py\", line 532, in inner_f\n",
      "    return f(**kwargs)\n",
      "  File \"C:\\Users\\sheka\\anaconda3\\envs\\tensorflow\\lib\\site-packages\\xgboost\\training.py\", line 181, in train\n",
      "    bst.update(dtrain, i, obj)\n",
      "  File \"C:\\Users\\sheka\\anaconda3\\envs\\tensorflow\\lib\\site-packages\\xgboost\\core.py\", line 1733, in update\n",
      "    _check_call(_LIB.XGBoosterUpdateOneIter(self.handle,\n",
      "  File \"C:\\Users\\sheka\\anaconda3\\envs\\tensorflow\\lib\\site-packages\\xgboost\\core.py\", line 203, in _check_call\n",
      "    raise XGBoostError(py_str(_LIB.XGBGetLastError()))\n",
      "xgboost.core.XGBoostError: [15:25:10] C:/Users/Administrator/workspace/xgboost-win64_release_1.6.0/src/learner.cc:604: Invalid parameter \" learning_rate\" contains whitespace.\n",
      "\n",
      "  warnings.warn(\"Estimator fit failed. The score on this train-test\"\n"
     ]
    },
    {
     "name": "stdout",
     "output_type": "stream",
     "text": [
      "[CV]   learning_rate=0.1, max_depth=5, n_estimators=10, score=nan, total=   0.1s\n",
      "[CV]  learning_rate=0.1, max_depth=5, n_estimators=10 ................\n",
      "[CV]   learning_rate=0.1, max_depth=5, n_estimators=10, score=nan, total=   0.1s\n",
      "[CV]  learning_rate=0.1, max_depth=5, n_estimators=10 ................\n",
      "[CV]   learning_rate=0.1, max_depth=5, n_estimators=10, score=nan, total=   0.1s\n",
      "[CV]  learning_rate=0.1, max_depth=5, n_estimators=50 ................\n",
      "[CV]   learning_rate=0.1, max_depth=5, n_estimators=50, score=nan, total=   0.1s\n",
      "[CV]  learning_rate=0.1, max_depth=5, n_estimators=50 ................\n",
      "[CV]   learning_rate=0.1, max_depth=5, n_estimators=50, score=nan, total=   0.1s\n",
      "[CV]  learning_rate=0.1, max_depth=5, n_estimators=50 ................\n",
      "[CV]   learning_rate=0.1, max_depth=5, n_estimators=50, score=nan, total=   0.1s\n",
      "[CV]  learning_rate=0.1, max_depth=5, n_estimators=50 ................\n",
      "[CV]   learning_rate=0.1, max_depth=5, n_estimators=50, score=nan, total=   0.1s\n",
      "[CV]  learning_rate=0.1, max_depth=5, n_estimators=50 ................\n",
      "[CV]   learning_rate=0.1, max_depth=5, n_estimators=50, score=nan, total=   0.1s\n",
      "[CV]  learning_rate=0.1, max_depth=5, n_estimators=100 ...............\n",
      "[CV]   learning_rate=0.1, max_depth=5, n_estimators=100, score=nan, total=   0.1s\n",
      "[CV]  learning_rate=0.1, max_depth=5, n_estimators=100 ...............\n",
      "[CV]   learning_rate=0.1, max_depth=5, n_estimators=100, score=nan, total=   0.1s\n",
      "[CV]  learning_rate=0.1, max_depth=5, n_estimators=100 ...............\n",
      "[CV]   learning_rate=0.1, max_depth=5, n_estimators=100, score=nan, total=   0.1s\n",
      "[CV]  learning_rate=0.1, max_depth=5, n_estimators=100 ...............\n"
     ]
    },
    {
     "name": "stderr",
     "output_type": "stream",
     "text": [
      "C:\\Users\\sheka\\anaconda3\\envs\\tensorflow\\lib\\site-packages\\sklearn\\model_selection\\_validation.py:548: FitFailedWarning: Estimator fit failed. The score on this train-test partition for these parameters will be set to nan. Details: \n",
      "Traceback (most recent call last):\n",
      "  File \"C:\\Users\\sheka\\anaconda3\\envs\\tensorflow\\lib\\site-packages\\sklearn\\model_selection\\_validation.py\", line 531, in _fit_and_score\n",
      "    estimator.fit(X_train, y_train, **fit_params)\n",
      "  File \"C:\\Users\\sheka\\anaconda3\\envs\\tensorflow\\lib\\site-packages\\xgboost\\core.py\", line 532, in inner_f\n",
      "    return f(**kwargs)\n",
      "  File \"C:\\Users\\sheka\\anaconda3\\envs\\tensorflow\\lib\\site-packages\\xgboost\\sklearn.py\", line 1400, in fit\n",
      "    self._Booster = train(\n",
      "  File \"C:\\Users\\sheka\\anaconda3\\envs\\tensorflow\\lib\\site-packages\\xgboost\\core.py\", line 532, in inner_f\n",
      "    return f(**kwargs)\n",
      "  File \"C:\\Users\\sheka\\anaconda3\\envs\\tensorflow\\lib\\site-packages\\xgboost\\training.py\", line 181, in train\n",
      "    bst.update(dtrain, i, obj)\n",
      "  File \"C:\\Users\\sheka\\anaconda3\\envs\\tensorflow\\lib\\site-packages\\xgboost\\core.py\", line 1733, in update\n",
      "    _check_call(_LIB.XGBoosterUpdateOneIter(self.handle,\n",
      "  File \"C:\\Users\\sheka\\anaconda3\\envs\\tensorflow\\lib\\site-packages\\xgboost\\core.py\", line 203, in _check_call\n",
      "    raise XGBoostError(py_str(_LIB.XGBGetLastError()))\n",
      "xgboost.core.XGBoostError: [15:25:11] C:/Users/Administrator/workspace/xgboost-win64_release_1.6.0/src/learner.cc:604: Invalid parameter \" learning_rate\" contains whitespace.\n",
      "\n",
      "  warnings.warn(\"Estimator fit failed. The score on this train-test\"\n"
     ]
    },
    {
     "name": "stdout",
     "output_type": "stream",
     "text": [
      "[CV]   learning_rate=0.1, max_depth=5, n_estimators=100, score=nan, total=   0.1s\n",
      "[CV]  learning_rate=0.1, max_depth=5, n_estimators=100 ...............\n",
      "[CV]   learning_rate=0.1, max_depth=5, n_estimators=100, score=nan, total=   0.1s\n",
      "[CV]  learning_rate=0.1, max_depth=5, n_estimators=200 ...............\n",
      "[CV]   learning_rate=0.1, max_depth=5, n_estimators=200, score=nan, total=   0.1s\n",
      "[CV]  learning_rate=0.1, max_depth=5, n_estimators=200 ...............\n",
      "[CV]   learning_rate=0.1, max_depth=5, n_estimators=200, score=nan, total=   0.1s\n",
      "[CV]  learning_rate=0.1, max_depth=5, n_estimators=200 ...............\n",
      "[CV]   learning_rate=0.1, max_depth=5, n_estimators=200, score=nan, total=   0.1s\n",
      "[CV]  learning_rate=0.1, max_depth=5, n_estimators=200 ...............\n",
      "[CV]   learning_rate=0.1, max_depth=5, n_estimators=200, score=nan, total=   0.1s\n",
      "[CV]  learning_rate=0.1, max_depth=5, n_estimators=200 ...............\n",
      "[CV]   learning_rate=0.1, max_depth=5, n_estimators=200, score=nan, total=   0.1s\n",
      "[CV]  learning_rate=0.1, max_depth=5, n_estimators=300 ...............\n",
      "[CV]   learning_rate=0.1, max_depth=5, n_estimators=300, score=nan, total=   0.1s\n",
      "[CV]  learning_rate=0.1, max_depth=5, n_estimators=300 ...............\n",
      "[CV]   learning_rate=0.1, max_depth=5, n_estimators=300, score=nan, total=   0.1s\n",
      "[CV]  learning_rate=0.1, max_depth=5, n_estimators=300 ...............\n",
      "[CV]   learning_rate=0.1, max_depth=5, n_estimators=300, score=nan, total=   0.1s\n",
      "[CV]  learning_rate=0.1, max_depth=5, n_estimators=300 ...............\n"
     ]
    },
    {
     "name": "stderr",
     "output_type": "stream",
     "text": [
      "C:\\Users\\sheka\\anaconda3\\envs\\tensorflow\\lib\\site-packages\\sklearn\\model_selection\\_validation.py:548: FitFailedWarning: Estimator fit failed. The score on this train-test partition for these parameters will be set to nan. Details: \n",
      "Traceback (most recent call last):\n",
      "  File \"C:\\Users\\sheka\\anaconda3\\envs\\tensorflow\\lib\\site-packages\\sklearn\\model_selection\\_validation.py\", line 531, in _fit_and_score\n",
      "    estimator.fit(X_train, y_train, **fit_params)\n",
      "  File \"C:\\Users\\sheka\\anaconda3\\envs\\tensorflow\\lib\\site-packages\\xgboost\\core.py\", line 532, in inner_f\n",
      "    return f(**kwargs)\n",
      "  File \"C:\\Users\\sheka\\anaconda3\\envs\\tensorflow\\lib\\site-packages\\xgboost\\sklearn.py\", line 1400, in fit\n",
      "    self._Booster = train(\n",
      "  File \"C:\\Users\\sheka\\anaconda3\\envs\\tensorflow\\lib\\site-packages\\xgboost\\core.py\", line 532, in inner_f\n",
      "    return f(**kwargs)\n",
      "  File \"C:\\Users\\sheka\\anaconda3\\envs\\tensorflow\\lib\\site-packages\\xgboost\\training.py\", line 181, in train\n",
      "    bst.update(dtrain, i, obj)\n",
      "  File \"C:\\Users\\sheka\\anaconda3\\envs\\tensorflow\\lib\\site-packages\\xgboost\\core.py\", line 1733, in update\n",
      "    _check_call(_LIB.XGBoosterUpdateOneIter(self.handle,\n",
      "  File \"C:\\Users\\sheka\\anaconda3\\envs\\tensorflow\\lib\\site-packages\\xgboost\\core.py\", line 203, in _check_call\n",
      "    raise XGBoostError(py_str(_LIB.XGBGetLastError()))\n",
      "xgboost.core.XGBoostError: [15:25:12] C:/Users/Administrator/workspace/xgboost-win64_release_1.6.0/src/learner.cc:604: Invalid parameter \" learning_rate\" contains whitespace.\n",
      "\n",
      "  warnings.warn(\"Estimator fit failed. The score on this train-test\"\n"
     ]
    },
    {
     "name": "stdout",
     "output_type": "stream",
     "text": [
      "[CV]   learning_rate=0.1, max_depth=5, n_estimators=300, score=nan, total=   0.1s\n",
      "[CV]  learning_rate=0.1, max_depth=5, n_estimators=300 ...............\n",
      "[CV]   learning_rate=0.1, max_depth=5, n_estimators=300, score=nan, total=   0.1s\n",
      "[CV]  learning_rate=0.1, max_depth=7, n_estimators=10 ................\n",
      "[CV]   learning_rate=0.1, max_depth=7, n_estimators=10, score=nan, total=   0.1s\n",
      "[CV]  learning_rate=0.1, max_depth=7, n_estimators=10 ................\n",
      "[CV]   learning_rate=0.1, max_depth=7, n_estimators=10, score=nan, total=   0.1s\n",
      "[CV]  learning_rate=0.1, max_depth=7, n_estimators=10 ................\n",
      "[CV]   learning_rate=0.1, max_depth=7, n_estimators=10, score=nan, total=   0.1s\n",
      "[CV]  learning_rate=0.1, max_depth=7, n_estimators=10 ................\n",
      "[CV]   learning_rate=0.1, max_depth=7, n_estimators=10, score=nan, total=   0.1s\n",
      "[CV]  learning_rate=0.1, max_depth=7, n_estimators=10 ................\n",
      "[CV]   learning_rate=0.1, max_depth=7, n_estimators=10, score=nan, total=   0.1s\n",
      "[CV]  learning_rate=0.1, max_depth=7, n_estimators=50 ................\n",
      "[CV]   learning_rate=0.1, max_depth=7, n_estimators=50, score=nan, total=   0.1s\n",
      "[CV]  learning_rate=0.1, max_depth=7, n_estimators=50 ................\n",
      "[CV]   learning_rate=0.1, max_depth=7, n_estimators=50, score=nan, total=   0.1s\n",
      "[CV]  learning_rate=0.1, max_depth=7, n_estimators=50 ................\n",
      "[CV]   learning_rate=0.1, max_depth=7, n_estimators=50, score=nan, total=   0.1s\n",
      "[CV]  learning_rate=0.1, max_depth=7, n_estimators=50 ................\n",
      "[CV]   learning_rate=0.1, max_depth=7, n_estimators=50, score=nan, total=   0.1s\n",
      "[CV]  learning_rate=0.1, max_depth=7, n_estimators=50 ................\n",
      "[CV]   learning_rate=0.1, max_depth=7, n_estimators=50, score=nan, total=   0.1s\n",
      "[CV]  learning_rate=0.1, max_depth=7, n_estimators=100 ...............\n",
      "[CV]   learning_rate=0.1, max_depth=7, n_estimators=100, score=nan, total=   0.1s\n",
      "[CV]  learning_rate=0.1, max_depth=7, n_estimators=100 ..............."
     ]
    },
    {
     "name": "stderr",
     "output_type": "stream",
     "text": [
      "C:\\Users\\sheka\\anaconda3\\envs\\tensorflow\\lib\\site-packages\\sklearn\\model_selection\\_validation.py:548: FitFailedWarning: Estimator fit failed. The score on this train-test partition for these parameters will be set to nan. Details: \n",
      "Traceback (most recent call last):\n",
      "  File \"C:\\Users\\sheka\\anaconda3\\envs\\tensorflow\\lib\\site-packages\\sklearn\\model_selection\\_validation.py\", line 531, in _fit_and_score\n",
      "    estimator.fit(X_train, y_train, **fit_params)\n",
      "  File \"C:\\Users\\sheka\\anaconda3\\envs\\tensorflow\\lib\\site-packages\\xgboost\\core.py\", line 532, in inner_f\n",
      "    return f(**kwargs)\n",
      "  File \"C:\\Users\\sheka\\anaconda3\\envs\\tensorflow\\lib\\site-packages\\xgboost\\sklearn.py\", line 1400, in fit\n",
      "    self._Booster = train(\n",
      "  File \"C:\\Users\\sheka\\anaconda3\\envs\\tensorflow\\lib\\site-packages\\xgboost\\core.py\", line 532, in inner_f\n",
      "    return f(**kwargs)\n",
      "  File \"C:\\Users\\sheka\\anaconda3\\envs\\tensorflow\\lib\\site-packages\\xgboost\\training.py\", line 181, in train\n",
      "    bst.update(dtrain, i, obj)\n",
      "  File \"C:\\Users\\sheka\\anaconda3\\envs\\tensorflow\\lib\\site-packages\\xgboost\\core.py\", line 1733, in update\n",
      "    _check_call(_LIB.XGBoosterUpdateOneIter(self.handle,\n",
      "  File \"C:\\Users\\sheka\\anaconda3\\envs\\tensorflow\\lib\\site-packages\\xgboost\\core.py\", line 203, in _check_call\n",
      "    raise XGBoostError(py_str(_LIB.XGBGetLastError()))\n",
      "xgboost.core.XGBoostError: [15:25:13] C:/Users/Administrator/workspace/xgboost-win64_release_1.6.0/src/learner.cc:604: Invalid parameter \" learning_rate\" contains whitespace.\n",
      "\n",
      "  warnings.warn(\"Estimator fit failed. The score on this train-test\"\n"
     ]
    },
    {
     "name": "stdout",
     "output_type": "stream",
     "text": [
      "\n",
      "[CV]   learning_rate=0.1, max_depth=7, n_estimators=100, score=nan, total=   0.1s\n",
      "[CV]  learning_rate=0.1, max_depth=7, n_estimators=100 ...............\n",
      "[CV]   learning_rate=0.1, max_depth=7, n_estimators=100, score=nan, total=   0.1s\n",
      "[CV]  learning_rate=0.1, max_depth=7, n_estimators=100 ...............\n",
      "[CV]   learning_rate=0.1, max_depth=7, n_estimators=100, score=nan, total=   0.1s\n",
      "[CV]  learning_rate=0.1, max_depth=7, n_estimators=100 ...............\n",
      "[CV]   learning_rate=0.1, max_depth=7, n_estimators=100, score=nan, total=   0.1s\n",
      "[CV]  learning_rate=0.1, max_depth=7, n_estimators=200 ...............\n",
      "[CV]   learning_rate=0.1, max_depth=7, n_estimators=200, score=nan, total=   0.1s\n",
      "[CV]  learning_rate=0.1, max_depth=7, n_estimators=200 ...............\n",
      "[CV]   learning_rate=0.1, max_depth=7, n_estimators=200, score=nan, total=   0.1s\n",
      "[CV]  learning_rate=0.1, max_depth=7, n_estimators=200 ...............\n",
      "[CV]   learning_rate=0.1, max_depth=7, n_estimators=200, score=nan, total=   0.1s\n",
      "[CV]  learning_rate=0.1, max_depth=7, n_estimators=200 ...............\n",
      "[CV]   learning_rate=0.1, max_depth=7, n_estimators=200, score=nan, total=   0.1s\n",
      "[CV]  learning_rate=0.1, max_depth=7, n_estimators=200 ...............\n",
      "[CV]   learning_rate=0.1, max_depth=7, n_estimators=200, score=nan, total=   0.1s\n",
      "[CV]  learning_rate=0.1, max_depth=7, n_estimators=300 ...............\n",
      "[CV]   learning_rate=0.1, max_depth=7, n_estimators=300, score=nan, total=   0.1s\n",
      "[CV]  learning_rate=0.1, max_depth=7, n_estimators=300 ...............\n",
      "[CV]   learning_rate=0.1, max_depth=7, n_estimators=300, score=nan, total=   0.1s\n",
      "[CV]  learning_rate=0.1, max_depth=7, n_estimators=300 ...............\n"
     ]
    },
    {
     "name": "stderr",
     "output_type": "stream",
     "text": [
      "C:\\Users\\sheka\\anaconda3\\envs\\tensorflow\\lib\\site-packages\\sklearn\\model_selection\\_validation.py:548: FitFailedWarning: Estimator fit failed. The score on this train-test partition for these parameters will be set to nan. Details: \n",
      "Traceback (most recent call last):\n",
      "  File \"C:\\Users\\sheka\\anaconda3\\envs\\tensorflow\\lib\\site-packages\\sklearn\\model_selection\\_validation.py\", line 531, in _fit_and_score\n",
      "    estimator.fit(X_train, y_train, **fit_params)\n",
      "  File \"C:\\Users\\sheka\\anaconda3\\envs\\tensorflow\\lib\\site-packages\\xgboost\\core.py\", line 532, in inner_f\n",
      "    return f(**kwargs)\n",
      "  File \"C:\\Users\\sheka\\anaconda3\\envs\\tensorflow\\lib\\site-packages\\xgboost\\sklearn.py\", line 1400, in fit\n",
      "    self._Booster = train(\n",
      "  File \"C:\\Users\\sheka\\anaconda3\\envs\\tensorflow\\lib\\site-packages\\xgboost\\core.py\", line 532, in inner_f\n",
      "    return f(**kwargs)\n",
      "  File \"C:\\Users\\sheka\\anaconda3\\envs\\tensorflow\\lib\\site-packages\\xgboost\\training.py\", line 181, in train\n",
      "    bst.update(dtrain, i, obj)\n",
      "  File \"C:\\Users\\sheka\\anaconda3\\envs\\tensorflow\\lib\\site-packages\\xgboost\\core.py\", line 1733, in update\n",
      "    _check_call(_LIB.XGBoosterUpdateOneIter(self.handle,\n",
      "  File \"C:\\Users\\sheka\\anaconda3\\envs\\tensorflow\\lib\\site-packages\\xgboost\\core.py\", line 203, in _check_call\n",
      "    raise XGBoostError(py_str(_LIB.XGBGetLastError()))\n",
      "xgboost.core.XGBoostError: [15:25:14] C:/Users/Administrator/workspace/xgboost-win64_release_1.6.0/src/learner.cc:604: Invalid parameter \" learning_rate\" contains whitespace.\n",
      "\n",
      "  warnings.warn(\"Estimator fit failed. The score on this train-test\"\n"
     ]
    },
    {
     "name": "stdout",
     "output_type": "stream",
     "text": [
      "[CV]   learning_rate=0.1, max_depth=7, n_estimators=300, score=nan, total=   0.1s\n",
      "[CV]  learning_rate=0.1, max_depth=7, n_estimators=300 ...............\n",
      "[CV]   learning_rate=0.1, max_depth=7, n_estimators=300, score=nan, total=   0.1s\n",
      "[CV]  learning_rate=0.1, max_depth=7, n_estimators=300 ...............\n",
      "[CV]   learning_rate=0.1, max_depth=7, n_estimators=300, score=nan, total=   0.1s\n",
      "[CV]  learning_rate=0.1, max_depth=9, n_estimators=10 ................\n",
      "[CV]   learning_rate=0.1, max_depth=9, n_estimators=10, score=nan, total=   0.1s\n",
      "[CV]  learning_rate=0.1, max_depth=9, n_estimators=10 ................\n",
      "[CV]   learning_rate=0.1, max_depth=9, n_estimators=10, score=nan, total=   0.1s\n",
      "[CV]  learning_rate=0.1, max_depth=9, n_estimators=10 ................\n",
      "[CV]   learning_rate=0.1, max_depth=9, n_estimators=10, score=nan, total=   0.1s\n",
      "[CV]  learning_rate=0.1, max_depth=9, n_estimators=10 ................\n",
      "[CV]   learning_rate=0.1, max_depth=9, n_estimators=10, score=nan, total=   0.1s\n",
      "[CV]  learning_rate=0.1, max_depth=9, n_estimators=10 ................\n",
      "[CV]   learning_rate=0.1, max_depth=9, n_estimators=10, score=nan, total=   0.1s\n",
      "[CV]  learning_rate=0.1, max_depth=9, n_estimators=50 ................\n",
      "[CV]   learning_rate=0.1, max_depth=9, n_estimators=50, score=nan, total=   0.1s\n",
      "[CV]  learning_rate=0.1, max_depth=9, n_estimators=50 ................\n",
      "[CV]   learning_rate=0.1, max_depth=9, n_estimators=50, score=nan, total=   0.1s\n",
      "[CV]  learning_rate=0.1, max_depth=9, n_estimators=50 ................\n",
      "[CV]   learning_rate=0.1, max_depth=9, n_estimators=50, score=nan, total=   0.1s\n",
      "[CV]  learning_rate=0.1, max_depth=9, n_estimators=50 ................\n",
      "[CV]   learning_rate=0.1, max_depth=9, n_estimators=50, score=nan, total=   0.1s\n",
      "[CV]  learning_rate=0.1, max_depth=9, n_estimators=50 ................\n"
     ]
    },
    {
     "name": "stderr",
     "output_type": "stream",
     "text": [
      "C:\\Users\\sheka\\anaconda3\\envs\\tensorflow\\lib\\site-packages\\sklearn\\model_selection\\_validation.py:548: FitFailedWarning: Estimator fit failed. The score on this train-test partition for these parameters will be set to nan. Details: \n",
      "Traceback (most recent call last):\n",
      "  File \"C:\\Users\\sheka\\anaconda3\\envs\\tensorflow\\lib\\site-packages\\sklearn\\model_selection\\_validation.py\", line 531, in _fit_and_score\n",
      "    estimator.fit(X_train, y_train, **fit_params)\n",
      "  File \"C:\\Users\\sheka\\anaconda3\\envs\\tensorflow\\lib\\site-packages\\xgboost\\core.py\", line 532, in inner_f\n",
      "    return f(**kwargs)\n",
      "  File \"C:\\Users\\sheka\\anaconda3\\envs\\tensorflow\\lib\\site-packages\\xgboost\\sklearn.py\", line 1400, in fit\n",
      "    self._Booster = train(\n",
      "  File \"C:\\Users\\sheka\\anaconda3\\envs\\tensorflow\\lib\\site-packages\\xgboost\\core.py\", line 532, in inner_f\n",
      "    return f(**kwargs)\n",
      "  File \"C:\\Users\\sheka\\anaconda3\\envs\\tensorflow\\lib\\site-packages\\xgboost\\training.py\", line 181, in train\n",
      "    bst.update(dtrain, i, obj)\n",
      "  File \"C:\\Users\\sheka\\anaconda3\\envs\\tensorflow\\lib\\site-packages\\xgboost\\core.py\", line 1733, in update\n",
      "    _check_call(_LIB.XGBoosterUpdateOneIter(self.handle,\n",
      "  File \"C:\\Users\\sheka\\anaconda3\\envs\\tensorflow\\lib\\site-packages\\xgboost\\core.py\", line 203, in _check_call\n",
      "    raise XGBoostError(py_str(_LIB.XGBGetLastError()))\n",
      "xgboost.core.XGBoostError: [15:25:15] C:/Users/Administrator/workspace/xgboost-win64_release_1.6.0/src/learner.cc:604: Invalid parameter \" learning_rate\" contains whitespace.\n",
      "\n",
      "  warnings.warn(\"Estimator fit failed. The score on this train-test\"\n"
     ]
    },
    {
     "name": "stdout",
     "output_type": "stream",
     "text": [
      "[CV]   learning_rate=0.1, max_depth=9, n_estimators=50, score=nan, total=   0.1s\n",
      "[CV]  learning_rate=0.1, max_depth=9, n_estimators=100 ...............\n",
      "[CV]   learning_rate=0.1, max_depth=9, n_estimators=100, score=nan, total=   0.1s\n",
      "[CV]  learning_rate=0.1, max_depth=9, n_estimators=100 ...............\n",
      "[CV]   learning_rate=0.1, max_depth=9, n_estimators=100, score=nan, total=   0.1s\n",
      "[CV]  learning_rate=0.1, max_depth=9, n_estimators=100 ...............\n",
      "[CV]   learning_rate=0.1, max_depth=9, n_estimators=100, score=nan, total=   0.1s\n",
      "[CV]  learning_rate=0.1, max_depth=9, n_estimators=100 ...............\n",
      "[CV]   learning_rate=0.1, max_depth=9, n_estimators=100, score=nan, total=   0.1s\n",
      "[CV]  learning_rate=0.1, max_depth=9, n_estimators=100 ...............\n",
      "[CV]   learning_rate=0.1, max_depth=9, n_estimators=100, score=nan, total=   0.1s\n",
      "[CV]  learning_rate=0.1, max_depth=9, n_estimators=200 ...............\n",
      "[CV]   learning_rate=0.1, max_depth=9, n_estimators=200, score=nan, total=   0.1s\n",
      "[CV]  learning_rate=0.1, max_depth=9, n_estimators=200 ...............\n",
      "[CV]   learning_rate=0.1, max_depth=9, n_estimators=200, score=nan, total=   0.1s\n",
      "[CV]  learning_rate=0.1, max_depth=9, n_estimators=200 ...............\n",
      "[CV]   learning_rate=0.1, max_depth=9, n_estimators=200, score=nan, total=   0.1s\n",
      "[CV]  learning_rate=0.1, max_depth=9, n_estimators=200 ...............\n",
      "[CV]   learning_rate=0.1, max_depth=9, n_estimators=200, score=nan, total=   0.1s\n",
      "[CV]  learning_rate=0.1, max_depth=9, n_estimators=200 ...............\n",
      "[CV]   learning_rate=0.1, max_depth=9, n_estimators=200, score=nan, total=   0.1s\n",
      "[CV]  learning_rate=0.1, max_depth=9, n_estimators=300 ...............\n",
      "[CV]   learning_rate=0.1, max_depth=9, n_estimators=300, score=nan, total=   0.1s\n",
      "[CV]  learning_rate=0.1, max_depth=9, n_estimators=300 ..............."
     ]
    },
    {
     "name": "stderr",
     "output_type": "stream",
     "text": [
      "C:\\Users\\sheka\\anaconda3\\envs\\tensorflow\\lib\\site-packages\\sklearn\\model_selection\\_validation.py:548: FitFailedWarning: Estimator fit failed. The score on this train-test partition for these parameters will be set to nan. Details: \n",
      "Traceback (most recent call last):\n",
      "  File \"C:\\Users\\sheka\\anaconda3\\envs\\tensorflow\\lib\\site-packages\\sklearn\\model_selection\\_validation.py\", line 531, in _fit_and_score\n",
      "    estimator.fit(X_train, y_train, **fit_params)\n",
      "  File \"C:\\Users\\sheka\\anaconda3\\envs\\tensorflow\\lib\\site-packages\\xgboost\\core.py\", line 532, in inner_f\n",
      "    return f(**kwargs)\n",
      "  File \"C:\\Users\\sheka\\anaconda3\\envs\\tensorflow\\lib\\site-packages\\xgboost\\sklearn.py\", line 1400, in fit\n",
      "    self._Booster = train(\n",
      "  File \"C:\\Users\\sheka\\anaconda3\\envs\\tensorflow\\lib\\site-packages\\xgboost\\core.py\", line 532, in inner_f\n",
      "    return f(**kwargs)\n",
      "  File \"C:\\Users\\sheka\\anaconda3\\envs\\tensorflow\\lib\\site-packages\\xgboost\\training.py\", line 181, in train\n",
      "    bst.update(dtrain, i, obj)\n",
      "  File \"C:\\Users\\sheka\\anaconda3\\envs\\tensorflow\\lib\\site-packages\\xgboost\\core.py\", line 1733, in update\n",
      "    _check_call(_LIB.XGBoosterUpdateOneIter(self.handle,\n",
      "  File \"C:\\Users\\sheka\\anaconda3\\envs\\tensorflow\\lib\\site-packages\\xgboost\\core.py\", line 203, in _check_call\n",
      "    raise XGBoostError(py_str(_LIB.XGBGetLastError()))\n",
      "xgboost.core.XGBoostError: [15:25:16] C:/Users/Administrator/workspace/xgboost-win64_release_1.6.0/src/learner.cc:604: Invalid parameter \" learning_rate\" contains whitespace.\n",
      "\n",
      "  warnings.warn(\"Estimator fit failed. The score on this train-test\"\n"
     ]
    },
    {
     "name": "stdout",
     "output_type": "stream",
     "text": [
      "\n",
      "[CV]   learning_rate=0.1, max_depth=9, n_estimators=300, score=nan, total=   0.1s\n",
      "[CV]  learning_rate=0.1, max_depth=9, n_estimators=300 ...............\n",
      "[CV]   learning_rate=0.1, max_depth=9, n_estimators=300, score=nan, total=   0.1s\n",
      "[CV]  learning_rate=0.1, max_depth=9, n_estimators=300 ...............\n",
      "[CV]   learning_rate=0.1, max_depth=9, n_estimators=300, score=nan, total=   0.1s\n",
      "[CV]  learning_rate=0.1, max_depth=9, n_estimators=300 ...............\n",
      "[CV]   learning_rate=0.1, max_depth=9, n_estimators=300, score=nan, total=   0.1s\n",
      "[CV]  learning_rate=0.1, max_depth=11, n_estimators=10 ...............\n",
      "[CV]   learning_rate=0.1, max_depth=11, n_estimators=10, score=nan, total=   0.1s\n",
      "[CV]  learning_rate=0.1, max_depth=11, n_estimators=10 ...............\n",
      "[CV]   learning_rate=0.1, max_depth=11, n_estimators=10, score=nan, total=   0.1s\n",
      "[CV]  learning_rate=0.1, max_depth=11, n_estimators=10 ...............\n",
      "[CV]   learning_rate=0.1, max_depth=11, n_estimators=10, score=nan, total=   0.1s\n",
      "[CV]  learning_rate=0.1, max_depth=11, n_estimators=10 ...............\n",
      "[CV]   learning_rate=0.1, max_depth=11, n_estimators=10, score=nan, total=   0.1s\n",
      "[CV]  learning_rate=0.1, max_depth=11, n_estimators=10 ...............\n",
      "[CV]   learning_rate=0.1, max_depth=11, n_estimators=10, score=nan, total=   0.1s\n",
      "[CV]  learning_rate=0.1, max_depth=11, n_estimators=50 ...............\n",
      "[CV]   learning_rate=0.1, max_depth=11, n_estimators=50, score=nan, total=   0.1s\n",
      "[CV]  learning_rate=0.1, max_depth=11, n_estimators=50 ...............\n"
     ]
    },
    {
     "name": "stderr",
     "output_type": "stream",
     "text": [
      "C:\\Users\\sheka\\anaconda3\\envs\\tensorflow\\lib\\site-packages\\sklearn\\model_selection\\_validation.py:548: FitFailedWarning: Estimator fit failed. The score on this train-test partition for these parameters will be set to nan. Details: \n",
      "Traceback (most recent call last):\n",
      "  File \"C:\\Users\\sheka\\anaconda3\\envs\\tensorflow\\lib\\site-packages\\sklearn\\model_selection\\_validation.py\", line 531, in _fit_and_score\n",
      "    estimator.fit(X_train, y_train, **fit_params)\n",
      "  File \"C:\\Users\\sheka\\anaconda3\\envs\\tensorflow\\lib\\site-packages\\xgboost\\core.py\", line 532, in inner_f\n",
      "    return f(**kwargs)\n",
      "  File \"C:\\Users\\sheka\\anaconda3\\envs\\tensorflow\\lib\\site-packages\\xgboost\\sklearn.py\", line 1400, in fit\n",
      "    self._Booster = train(\n",
      "  File \"C:\\Users\\sheka\\anaconda3\\envs\\tensorflow\\lib\\site-packages\\xgboost\\core.py\", line 532, in inner_f\n",
      "    return f(**kwargs)\n",
      "  File \"C:\\Users\\sheka\\anaconda3\\envs\\tensorflow\\lib\\site-packages\\xgboost\\training.py\", line 181, in train\n",
      "    bst.update(dtrain, i, obj)\n",
      "  File \"C:\\Users\\sheka\\anaconda3\\envs\\tensorflow\\lib\\site-packages\\xgboost\\core.py\", line 1733, in update\n",
      "    _check_call(_LIB.XGBoosterUpdateOneIter(self.handle,\n",
      "  File \"C:\\Users\\sheka\\anaconda3\\envs\\tensorflow\\lib\\site-packages\\xgboost\\core.py\", line 203, in _check_call\n",
      "    raise XGBoostError(py_str(_LIB.XGBGetLastError()))\n",
      "xgboost.core.XGBoostError: [15:25:17] C:/Users/Administrator/workspace/xgboost-win64_release_1.6.0/src/learner.cc:604: Invalid parameter \" learning_rate\" contains whitespace.\n",
      "\n",
      "  warnings.warn(\"Estimator fit failed. The score on this train-test\"\n"
     ]
    },
    {
     "name": "stdout",
     "output_type": "stream",
     "text": [
      "[CV]   learning_rate=0.1, max_depth=11, n_estimators=50, score=nan, total=   0.1s\n",
      "[CV]  learning_rate=0.1, max_depth=11, n_estimators=50 ...............\n",
      "[CV]   learning_rate=0.1, max_depth=11, n_estimators=50, score=nan, total=   0.1s\n",
      "[CV]  learning_rate=0.1, max_depth=11, n_estimators=50 ...............\n",
      "[CV]   learning_rate=0.1, max_depth=11, n_estimators=50, score=nan, total=   0.1s\n",
      "[CV]  learning_rate=0.1, max_depth=11, n_estimators=50 ...............\n",
      "[CV]   learning_rate=0.1, max_depth=11, n_estimators=50, score=nan, total=   0.1s\n",
      "[CV]  learning_rate=0.1, max_depth=11, n_estimators=100 ..............\n",
      "[CV]   learning_rate=0.1, max_depth=11, n_estimators=100, score=nan, total=   0.1s\n",
      "[CV]  learning_rate=0.1, max_depth=11, n_estimators=100 ..............\n",
      "[CV]   learning_rate=0.1, max_depth=11, n_estimators=100, score=nan, total=   0.1s\n",
      "[CV]  learning_rate=0.1, max_depth=11, n_estimators=100 ..............\n",
      "[CV]   learning_rate=0.1, max_depth=11, n_estimators=100, score=nan, total=   0.1s\n",
      "[CV]  learning_rate=0.1, max_depth=11, n_estimators=100 ..............\n",
      "[CV]   learning_rate=0.1, max_depth=11, n_estimators=100, score=nan, total=   0.1s\n",
      "[CV]  learning_rate=0.1, max_depth=11, n_estimators=100 ..............\n",
      "[CV]   learning_rate=0.1, max_depth=11, n_estimators=100, score=nan, total=   0.1s\n",
      "[CV]  learning_rate=0.1, max_depth=11, n_estimators=200 ..............\n",
      "[CV]   learning_rate=0.1, max_depth=11, n_estimators=200, score=nan, total=   0.1s\n",
      "[CV]  learning_rate=0.1, max_depth=11, n_estimators=200 ..............\n",
      "[CV]   learning_rate=0.1, max_depth=11, n_estimators=200, score=nan, total=   0.1s\n",
      "[CV]  learning_rate=0.1, max_depth=11, n_estimators=200 ..............\n",
      "[CV]   learning_rate=0.1, max_depth=11, n_estimators=200, score=nan, total=   0.1s\n",
      "[CV]  learning_rate=0.1, max_depth=11, n_estimators=200 ..............\n"
     ]
    },
    {
     "name": "stderr",
     "output_type": "stream",
     "text": [
      "C:\\Users\\sheka\\anaconda3\\envs\\tensorflow\\lib\\site-packages\\sklearn\\model_selection\\_validation.py:548: FitFailedWarning: Estimator fit failed. The score on this train-test partition for these parameters will be set to nan. Details: \n",
      "Traceback (most recent call last):\n",
      "  File \"C:\\Users\\sheka\\anaconda3\\envs\\tensorflow\\lib\\site-packages\\sklearn\\model_selection\\_validation.py\", line 531, in _fit_and_score\n",
      "    estimator.fit(X_train, y_train, **fit_params)\n",
      "  File \"C:\\Users\\sheka\\anaconda3\\envs\\tensorflow\\lib\\site-packages\\xgboost\\core.py\", line 532, in inner_f\n",
      "    return f(**kwargs)\n",
      "  File \"C:\\Users\\sheka\\anaconda3\\envs\\tensorflow\\lib\\site-packages\\xgboost\\sklearn.py\", line 1400, in fit\n",
      "    self._Booster = train(\n",
      "  File \"C:\\Users\\sheka\\anaconda3\\envs\\tensorflow\\lib\\site-packages\\xgboost\\core.py\", line 532, in inner_f\n",
      "    return f(**kwargs)\n",
      "  File \"C:\\Users\\sheka\\anaconda3\\envs\\tensorflow\\lib\\site-packages\\xgboost\\training.py\", line 181, in train\n",
      "    bst.update(dtrain, i, obj)\n",
      "  File \"C:\\Users\\sheka\\anaconda3\\envs\\tensorflow\\lib\\site-packages\\xgboost\\core.py\", line 1733, in update\n",
      "    _check_call(_LIB.XGBoosterUpdateOneIter(self.handle,\n",
      "  File \"C:\\Users\\sheka\\anaconda3\\envs\\tensorflow\\lib\\site-packages\\xgboost\\core.py\", line 203, in _check_call\n",
      "    raise XGBoostError(py_str(_LIB.XGBGetLastError()))\n",
      "xgboost.core.XGBoostError: [15:25:18] C:/Users/Administrator/workspace/xgboost-win64_release_1.6.0/src/learner.cc:604: Invalid parameter \" learning_rate\" contains whitespace.\n",
      "\n",
      "  warnings.warn(\"Estimator fit failed. The score on this train-test\"\n"
     ]
    },
    {
     "name": "stdout",
     "output_type": "stream",
     "text": [
      "[CV]   learning_rate=0.1, max_depth=11, n_estimators=200, score=nan, total=   0.1s\n",
      "[CV]  learning_rate=0.1, max_depth=11, n_estimators=200 ..............\n",
      "[CV]   learning_rate=0.1, max_depth=11, n_estimators=200, score=nan, total=   0.1s\n",
      "[CV]  learning_rate=0.1, max_depth=11, n_estimators=300 ..............\n",
      "[CV]   learning_rate=0.1, max_depth=11, n_estimators=300, score=nan, total=   0.1s\n",
      "[CV]  learning_rate=0.1, max_depth=11, n_estimators=300 ..............\n",
      "[CV]   learning_rate=0.1, max_depth=11, n_estimators=300, score=nan, total=   0.1s\n",
      "[CV]  learning_rate=0.1, max_depth=11, n_estimators=300 ..............\n",
      "[CV]   learning_rate=0.1, max_depth=11, n_estimators=300, score=nan, total=   0.1s\n",
      "[CV]  learning_rate=0.1, max_depth=11, n_estimators=300 ..............\n",
      "[CV]   learning_rate=0.1, max_depth=11, n_estimators=300, score=nan, total=   0.1s\n",
      "[CV]  learning_rate=0.1, max_depth=11, n_estimators=300 ..............\n",
      "[CV]   learning_rate=0.1, max_depth=11, n_estimators=300, score=nan, total=   0.1s\n",
      "[CV]  learning_rate=0.1, max_depth=15, n_estimators=10 ...............\n",
      "[CV]   learning_rate=0.1, max_depth=15, n_estimators=10, score=nan, total=   0.1s\n",
      "[CV]  learning_rate=0.1, max_depth=15, n_estimators=10 ...............\n",
      "[CV]   learning_rate=0.1, max_depth=15, n_estimators=10, score=nan, total=   0.1s\n",
      "[CV]  learning_rate=0.1, max_depth=15, n_estimators=10 ...............\n",
      "[CV]   learning_rate=0.1, max_depth=15, n_estimators=10, score=nan, total=   0.1s\n",
      "[CV]  learning_rate=0.1, max_depth=15, n_estimators=10 ...............\n",
      "[CV]   learning_rate=0.1, max_depth=15, n_estimators=10, score=nan, total=   0.1s\n",
      "[CV]  learning_rate=0.1, max_depth=15, n_estimators=10 ..............."
     ]
    },
    {
     "name": "stderr",
     "output_type": "stream",
     "text": [
      "C:\\Users\\sheka\\anaconda3\\envs\\tensorflow\\lib\\site-packages\\sklearn\\model_selection\\_validation.py:548: FitFailedWarning: Estimator fit failed. The score on this train-test partition for these parameters will be set to nan. Details: \n",
      "Traceback (most recent call last):\n",
      "  File \"C:\\Users\\sheka\\anaconda3\\envs\\tensorflow\\lib\\site-packages\\sklearn\\model_selection\\_validation.py\", line 531, in _fit_and_score\n",
      "    estimator.fit(X_train, y_train, **fit_params)\n",
      "  File \"C:\\Users\\sheka\\anaconda3\\envs\\tensorflow\\lib\\site-packages\\xgboost\\core.py\", line 532, in inner_f\n",
      "    return f(**kwargs)\n",
      "  File \"C:\\Users\\sheka\\anaconda3\\envs\\tensorflow\\lib\\site-packages\\xgboost\\sklearn.py\", line 1400, in fit\n",
      "    self._Booster = train(\n",
      "  File \"C:\\Users\\sheka\\anaconda3\\envs\\tensorflow\\lib\\site-packages\\xgboost\\core.py\", line 532, in inner_f\n",
      "    return f(**kwargs)\n",
      "  File \"C:\\Users\\sheka\\anaconda3\\envs\\tensorflow\\lib\\site-packages\\xgboost\\training.py\", line 181, in train\n",
      "    bst.update(dtrain, i, obj)\n",
      "  File \"C:\\Users\\sheka\\anaconda3\\envs\\tensorflow\\lib\\site-packages\\xgboost\\core.py\", line 1733, in update\n",
      "    _check_call(_LIB.XGBoosterUpdateOneIter(self.handle,\n",
      "  File \"C:\\Users\\sheka\\anaconda3\\envs\\tensorflow\\lib\\site-packages\\xgboost\\core.py\", line 203, in _check_call\n",
      "    raise XGBoostError(py_str(_LIB.XGBGetLastError()))\n",
      "xgboost.core.XGBoostError: [15:25:19] C:/Users/Administrator/workspace/xgboost-win64_release_1.6.0/src/learner.cc:604: Invalid parameter \" learning_rate\" contains whitespace.\n",
      "\n",
      "  warnings.warn(\"Estimator fit failed. The score on this train-test\"\n"
     ]
    },
    {
     "name": "stdout",
     "output_type": "stream",
     "text": [
      "\n",
      "[CV]   learning_rate=0.1, max_depth=15, n_estimators=10, score=nan, total=   0.1s\n",
      "[CV]  learning_rate=0.1, max_depth=15, n_estimators=50 ...............\n",
      "[CV]   learning_rate=0.1, max_depth=15, n_estimators=50, score=nan, total=   0.1s\n",
      "[CV]  learning_rate=0.1, max_depth=15, n_estimators=50 ...............\n",
      "[CV]   learning_rate=0.1, max_depth=15, n_estimators=50, score=nan, total=   0.1s\n",
      "[CV]  learning_rate=0.1, max_depth=15, n_estimators=50 ...............\n",
      "[CV]   learning_rate=0.1, max_depth=15, n_estimators=50, score=nan, total=   0.1s\n",
      "[CV]  learning_rate=0.1, max_depth=15, n_estimators=50 ...............\n",
      "[CV]   learning_rate=0.1, max_depth=15, n_estimators=50, score=nan, total=   0.1s\n",
      "[CV]  learning_rate=0.1, max_depth=15, n_estimators=50 ...............\n",
      "[CV]   learning_rate=0.1, max_depth=15, n_estimators=50, score=nan, total=   0.1s\n",
      "[CV]  learning_rate=0.1, max_depth=15, n_estimators=100 ..............\n",
      "[CV]   learning_rate=0.1, max_depth=15, n_estimators=100, score=nan, total=   0.1s\n",
      "[CV]  learning_rate=0.1, max_depth=15, n_estimators=100 ..............\n",
      "[CV]   learning_rate=0.1, max_depth=15, n_estimators=100, score=nan, total=   0.1s\n",
      "[CV]  learning_rate=0.1, max_depth=15, n_estimators=100 ..............\n",
      "[CV]   learning_rate=0.1, max_depth=15, n_estimators=100, score=nan, total=   0.1s\n",
      "[CV]  learning_rate=0.1, max_depth=15, n_estimators=100 ..............\n",
      "[CV]   learning_rate=0.1, max_depth=15, n_estimators=100, score=nan, total=   0.1s\n",
      "[CV]  learning_rate=0.1, max_depth=15, n_estimators=100 ..............\n",
      "[CV]   learning_rate=0.1, max_depth=15, n_estimators=100, score=nan, total=   0.1s\n",
      "[CV]  learning_rate=0.1, max_depth=15, n_estimators=200 ..............\n"
     ]
    },
    {
     "name": "stderr",
     "output_type": "stream",
     "text": [
      "C:\\Users\\sheka\\anaconda3\\envs\\tensorflow\\lib\\site-packages\\sklearn\\model_selection\\_validation.py:548: FitFailedWarning: Estimator fit failed. The score on this train-test partition for these parameters will be set to nan. Details: \n",
      "Traceback (most recent call last):\n",
      "  File \"C:\\Users\\sheka\\anaconda3\\envs\\tensorflow\\lib\\site-packages\\sklearn\\model_selection\\_validation.py\", line 531, in _fit_and_score\n",
      "    estimator.fit(X_train, y_train, **fit_params)\n",
      "  File \"C:\\Users\\sheka\\anaconda3\\envs\\tensorflow\\lib\\site-packages\\xgboost\\core.py\", line 532, in inner_f\n",
      "    return f(**kwargs)\n",
      "  File \"C:\\Users\\sheka\\anaconda3\\envs\\tensorflow\\lib\\site-packages\\xgboost\\sklearn.py\", line 1400, in fit\n",
      "    self._Booster = train(\n",
      "  File \"C:\\Users\\sheka\\anaconda3\\envs\\tensorflow\\lib\\site-packages\\xgboost\\core.py\", line 532, in inner_f\n",
      "    return f(**kwargs)\n",
      "  File \"C:\\Users\\sheka\\anaconda3\\envs\\tensorflow\\lib\\site-packages\\xgboost\\training.py\", line 181, in train\n",
      "    bst.update(dtrain, i, obj)\n",
      "  File \"C:\\Users\\sheka\\anaconda3\\envs\\tensorflow\\lib\\site-packages\\xgboost\\core.py\", line 1733, in update\n",
      "    _check_call(_LIB.XGBoosterUpdateOneIter(self.handle,\n",
      "  File \"C:\\Users\\sheka\\anaconda3\\envs\\tensorflow\\lib\\site-packages\\xgboost\\core.py\", line 203, in _check_call\n",
      "    raise XGBoostError(py_str(_LIB.XGBGetLastError()))\n",
      "xgboost.core.XGBoostError: [15:25:20] C:/Users/Administrator/workspace/xgboost-win64_release_1.6.0/src/learner.cc:604: Invalid parameter \" learning_rate\" contains whitespace.\n",
      "\n",
      "  warnings.warn(\"Estimator fit failed. The score on this train-test\"\n"
     ]
    },
    {
     "name": "stdout",
     "output_type": "stream",
     "text": [
      "[CV]   learning_rate=0.1, max_depth=15, n_estimators=200, score=nan, total=   0.1s\n",
      "[CV]  learning_rate=0.1, max_depth=15, n_estimators=200 ..............\n",
      "[CV]   learning_rate=0.1, max_depth=15, n_estimators=200, score=nan, total=   0.1s\n",
      "[CV]  learning_rate=0.1, max_depth=15, n_estimators=200 ..............\n",
      "[CV]   learning_rate=0.1, max_depth=15, n_estimators=200, score=nan, total=   0.1s\n",
      "[CV]  learning_rate=0.1, max_depth=15, n_estimators=200 ..............\n",
      "[CV]   learning_rate=0.1, max_depth=15, n_estimators=200, score=nan, total=   0.1s\n",
      "[CV]  learning_rate=0.1, max_depth=15, n_estimators=200 ..............\n",
      "[CV]   learning_rate=0.1, max_depth=15, n_estimators=200, score=nan, total=   0.1s\n",
      "[CV]  learning_rate=0.1, max_depth=15, n_estimators=300 ..............\n",
      "[CV]   learning_rate=0.1, max_depth=15, n_estimators=300, score=nan, total=   0.1s\n",
      "[CV]  learning_rate=0.1, max_depth=15, n_estimators=300 ..............\n",
      "[CV]   learning_rate=0.1, max_depth=15, n_estimators=300, score=nan, total=   0.1s\n",
      "[CV]  learning_rate=0.1, max_depth=15, n_estimators=300 ..............\n",
      "[CV]   learning_rate=0.1, max_depth=15, n_estimators=300, score=nan, total=   0.1s\n",
      "[CV]  learning_rate=0.1, max_depth=15, n_estimators=300 ..............\n",
      "[CV]   learning_rate=0.1, max_depth=15, n_estimators=300, score=nan, total=   0.1s\n",
      "[CV]  learning_rate=0.1, max_depth=15, n_estimators=300 ..............\n",
      "[CV]   learning_rate=0.1, max_depth=15, n_estimators=300, score=nan, total=   0.1s\n",
      "[CV]  learning_rate=0.01, max_depth=3, n_estimators=10 ...............\n",
      "[CV]   learning_rate=0.01, max_depth=3, n_estimators=10, score=nan, total=   0.1s\n",
      "[CV]  learning_rate=0.01, max_depth=3, n_estimators=10 ...............\n",
      "[CV]   learning_rate=0.01, max_depth=3, n_estimators=10, score=nan, total=   0.1s\n",
      "[CV]  learning_rate=0.01, max_depth=3, n_estimators=10 ..............."
     ]
    },
    {
     "name": "stderr",
     "output_type": "stream",
     "text": [
      "C:\\Users\\sheka\\anaconda3\\envs\\tensorflow\\lib\\site-packages\\sklearn\\model_selection\\_validation.py:548: FitFailedWarning: Estimator fit failed. The score on this train-test partition for these parameters will be set to nan. Details: \n",
      "Traceback (most recent call last):\n",
      "  File \"C:\\Users\\sheka\\anaconda3\\envs\\tensorflow\\lib\\site-packages\\sklearn\\model_selection\\_validation.py\", line 531, in _fit_and_score\n",
      "    estimator.fit(X_train, y_train, **fit_params)\n",
      "  File \"C:\\Users\\sheka\\anaconda3\\envs\\tensorflow\\lib\\site-packages\\xgboost\\core.py\", line 532, in inner_f\n",
      "    return f(**kwargs)\n",
      "  File \"C:\\Users\\sheka\\anaconda3\\envs\\tensorflow\\lib\\site-packages\\xgboost\\sklearn.py\", line 1400, in fit\n",
      "    self._Booster = train(\n",
      "  File \"C:\\Users\\sheka\\anaconda3\\envs\\tensorflow\\lib\\site-packages\\xgboost\\core.py\", line 532, in inner_f\n",
      "    return f(**kwargs)\n",
      "  File \"C:\\Users\\sheka\\anaconda3\\envs\\tensorflow\\lib\\site-packages\\xgboost\\training.py\", line 181, in train\n",
      "    bst.update(dtrain, i, obj)\n",
      "  File \"C:\\Users\\sheka\\anaconda3\\envs\\tensorflow\\lib\\site-packages\\xgboost\\core.py\", line 1733, in update\n",
      "    _check_call(_LIB.XGBoosterUpdateOneIter(self.handle,\n",
      "  File \"C:\\Users\\sheka\\anaconda3\\envs\\tensorflow\\lib\\site-packages\\xgboost\\core.py\", line 203, in _check_call\n",
      "    raise XGBoostError(py_str(_LIB.XGBGetLastError()))\n",
      "xgboost.core.XGBoostError: [15:25:21] C:/Users/Administrator/workspace/xgboost-win64_release_1.6.0/src/learner.cc:604: Invalid parameter \" learning_rate\" contains whitespace.\n",
      "\n",
      "  warnings.warn(\"Estimator fit failed. The score on this train-test\"\n"
     ]
    },
    {
     "name": "stdout",
     "output_type": "stream",
     "text": [
      "\n",
      "[CV]   learning_rate=0.01, max_depth=3, n_estimators=10, score=nan, total=   0.1s\n",
      "[CV]  learning_rate=0.01, max_depth=3, n_estimators=10 ...............\n",
      "[CV]   learning_rate=0.01, max_depth=3, n_estimators=10, score=nan, total=   0.1s\n",
      "[CV]  learning_rate=0.01, max_depth=3, n_estimators=10 ...............\n",
      "[CV]   learning_rate=0.01, max_depth=3, n_estimators=10, score=nan, total=   0.1s\n",
      "[CV]  learning_rate=0.01, max_depth=3, n_estimators=50 ...............\n",
      "[CV]   learning_rate=0.01, max_depth=3, n_estimators=50, score=nan, total=   0.1s\n",
      "[CV]  learning_rate=0.01, max_depth=3, n_estimators=50 ...............\n",
      "[CV]   learning_rate=0.01, max_depth=3, n_estimators=50, score=nan, total=   0.1s\n",
      "[CV]  learning_rate=0.01, max_depth=3, n_estimators=50 ...............\n",
      "[CV]   learning_rate=0.01, max_depth=3, n_estimators=50, score=nan, total=   0.1s\n",
      "[CV]  learning_rate=0.01, max_depth=3, n_estimators=50 ...............\n",
      "[CV]   learning_rate=0.01, max_depth=3, n_estimators=50, score=nan, total=   0.1s\n",
      "[CV]  learning_rate=0.01, max_depth=3, n_estimators=50 ...............\n",
      "[CV]   learning_rate=0.01, max_depth=3, n_estimators=50, score=nan, total=   0.1s\n",
      "[CV]  learning_rate=0.01, max_depth=3, n_estimators=100 ..............\n",
      "[CV]   learning_rate=0.01, max_depth=3, n_estimators=100, score=nan, total=   0.1s\n",
      "[CV]  learning_rate=0.01, max_depth=3, n_estimators=100 ..............\n"
     ]
    },
    {
     "name": "stderr",
     "output_type": "stream",
     "text": [
      "C:\\Users\\sheka\\anaconda3\\envs\\tensorflow\\lib\\site-packages\\sklearn\\model_selection\\_validation.py:548: FitFailedWarning: Estimator fit failed. The score on this train-test partition for these parameters will be set to nan. Details: \n",
      "Traceback (most recent call last):\n",
      "  File \"C:\\Users\\sheka\\anaconda3\\envs\\tensorflow\\lib\\site-packages\\sklearn\\model_selection\\_validation.py\", line 531, in _fit_and_score\n",
      "    estimator.fit(X_train, y_train, **fit_params)\n",
      "  File \"C:\\Users\\sheka\\anaconda3\\envs\\tensorflow\\lib\\site-packages\\xgboost\\core.py\", line 532, in inner_f\n",
      "    return f(**kwargs)\n",
      "  File \"C:\\Users\\sheka\\anaconda3\\envs\\tensorflow\\lib\\site-packages\\xgboost\\sklearn.py\", line 1400, in fit\n",
      "    self._Booster = train(\n",
      "  File \"C:\\Users\\sheka\\anaconda3\\envs\\tensorflow\\lib\\site-packages\\xgboost\\core.py\", line 532, in inner_f\n",
      "    return f(**kwargs)\n",
      "  File \"C:\\Users\\sheka\\anaconda3\\envs\\tensorflow\\lib\\site-packages\\xgboost\\training.py\", line 181, in train\n",
      "    bst.update(dtrain, i, obj)\n",
      "  File \"C:\\Users\\sheka\\anaconda3\\envs\\tensorflow\\lib\\site-packages\\xgboost\\core.py\", line 1733, in update\n",
      "    _check_call(_LIB.XGBoosterUpdateOneIter(self.handle,\n",
      "  File \"C:\\Users\\sheka\\anaconda3\\envs\\tensorflow\\lib\\site-packages\\xgboost\\core.py\", line 203, in _check_call\n",
      "    raise XGBoostError(py_str(_LIB.XGBGetLastError()))\n",
      "xgboost.core.XGBoostError: [15:25:22] C:/Users/Administrator/workspace/xgboost-win64_release_1.6.0/src/learner.cc:604: Invalid parameter \" learning_rate\" contains whitespace.\n",
      "\n",
      "  warnings.warn(\"Estimator fit failed. The score on this train-test\"\n"
     ]
    },
    {
     "name": "stdout",
     "output_type": "stream",
     "text": [
      "[CV]   learning_rate=0.01, max_depth=3, n_estimators=100, score=nan, total=   0.1s\n",
      "[CV]  learning_rate=0.01, max_depth=3, n_estimators=100 ..............\n",
      "[CV]   learning_rate=0.01, max_depth=3, n_estimators=100, score=nan, total=   0.1s\n",
      "[CV]  learning_rate=0.01, max_depth=3, n_estimators=100 ..............\n",
      "[CV]   learning_rate=0.01, max_depth=3, n_estimators=100, score=nan, total=   0.1s\n",
      "[CV]  learning_rate=0.01, max_depth=3, n_estimators=100 ..............\n",
      "[CV]   learning_rate=0.01, max_depth=3, n_estimators=100, score=nan, total=   0.1s\n",
      "[CV]  learning_rate=0.01, max_depth=3, n_estimators=200 ..............\n",
      "[CV]   learning_rate=0.01, max_depth=3, n_estimators=200, score=nan, total=   0.1s\n",
      "[CV]  learning_rate=0.01, max_depth=3, n_estimators=200 ..............\n",
      "[CV]   learning_rate=0.01, max_depth=3, n_estimators=200, score=nan, total=   0.1s\n",
      "[CV]  learning_rate=0.01, max_depth=3, n_estimators=200 ..............\n",
      "[CV]   learning_rate=0.01, max_depth=3, n_estimators=200, score=nan, total=   0.1s\n",
      "[CV]  learning_rate=0.01, max_depth=3, n_estimators=200 ..............\n",
      "[CV]   learning_rate=0.01, max_depth=3, n_estimators=200, score=nan, total=   0.1s\n",
      "[CV]  learning_rate=0.01, max_depth=3, n_estimators=200 ..............\n",
      "[CV]   learning_rate=0.01, max_depth=3, n_estimators=200, score=nan, total=   0.1s\n",
      "[CV]  learning_rate=0.01, max_depth=3, n_estimators=300 ..............\n",
      "[CV]   learning_rate=0.01, max_depth=3, n_estimators=300, score=nan, total=   0.1s\n",
      "[CV]  learning_rate=0.01, max_depth=3, n_estimators=300 ..............\n",
      "[CV]   learning_rate=0.01, max_depth=3, n_estimators=300, score=nan, total=   0.1s\n",
      "[CV]  learning_rate=0.01, max_depth=3, n_estimators=300 ..............\n",
      "[CV]   learning_rate=0.01, max_depth=3, n_estimators=300, score=nan, total=   0.1s\n",
      "[CV]  learning_rate=0.01, max_depth=3, n_estimators=300 ..............\n",
      "[CV]   learning_rate=0.01, max_depth=3, n_estimators=300, score=nan, total=   0.1s\n",
      "[CV]  learning_rate=0.01, max_depth=3, n_estimators=300 ..............\n",
      "[CV]   learning_rate=0.01, max_depth=3, n_estimators=300, score=nan, total=   0.1s\n",
      "[CV]  learning_rate=0.01, max_depth=5, n_estimators=10 ...............\n"
     ]
    },
    {
     "name": "stderr",
     "output_type": "stream",
     "text": [
      "C:\\Users\\sheka\\anaconda3\\envs\\tensorflow\\lib\\site-packages\\sklearn\\model_selection\\_validation.py:548: FitFailedWarning: Estimator fit failed. The score on this train-test partition for these parameters will be set to nan. Details: \n",
      "Traceback (most recent call last):\n",
      "  File \"C:\\Users\\sheka\\anaconda3\\envs\\tensorflow\\lib\\site-packages\\sklearn\\model_selection\\_validation.py\", line 531, in _fit_and_score\n",
      "    estimator.fit(X_train, y_train, **fit_params)\n",
      "  File \"C:\\Users\\sheka\\anaconda3\\envs\\tensorflow\\lib\\site-packages\\xgboost\\core.py\", line 532, in inner_f\n",
      "    return f(**kwargs)\n",
      "  File \"C:\\Users\\sheka\\anaconda3\\envs\\tensorflow\\lib\\site-packages\\xgboost\\sklearn.py\", line 1400, in fit\n",
      "    self._Booster = train(\n",
      "  File \"C:\\Users\\sheka\\anaconda3\\envs\\tensorflow\\lib\\site-packages\\xgboost\\core.py\", line 532, in inner_f\n",
      "    return f(**kwargs)\n",
      "  File \"C:\\Users\\sheka\\anaconda3\\envs\\tensorflow\\lib\\site-packages\\xgboost\\training.py\", line 181, in train\n",
      "    bst.update(dtrain, i, obj)\n",
      "  File \"C:\\Users\\sheka\\anaconda3\\envs\\tensorflow\\lib\\site-packages\\xgboost\\core.py\", line 1733, in update\n",
      "    _check_call(_LIB.XGBoosterUpdateOneIter(self.handle,\n",
      "  File \"C:\\Users\\sheka\\anaconda3\\envs\\tensorflow\\lib\\site-packages\\xgboost\\core.py\", line 203, in _check_call\n",
      "    raise XGBoostError(py_str(_LIB.XGBGetLastError()))\n",
      "xgboost.core.XGBoostError: [15:25:23] C:/Users/Administrator/workspace/xgboost-win64_release_1.6.0/src/learner.cc:604: Invalid parameter \" learning_rate\" contains whitespace.\n",
      "\n",
      "  warnings.warn(\"Estimator fit failed. The score on this train-test\"\n"
     ]
    },
    {
     "name": "stdout",
     "output_type": "stream",
     "text": [
      "[CV]   learning_rate=0.01, max_depth=5, n_estimators=10, score=nan, total=   0.1s\n",
      "[CV]  learning_rate=0.01, max_depth=5, n_estimators=10 ...............\n",
      "[CV]   learning_rate=0.01, max_depth=5, n_estimators=10, score=nan, total=   0.1s\n",
      "[CV]  learning_rate=0.01, max_depth=5, n_estimators=10 ...............\n",
      "[CV]   learning_rate=0.01, max_depth=5, n_estimators=10, score=nan, total=   0.1s\n",
      "[CV]  learning_rate=0.01, max_depth=5, n_estimators=10 ...............\n",
      "[CV]   learning_rate=0.01, max_depth=5, n_estimators=10, score=nan, total=   0.1s\n",
      "[CV]  learning_rate=0.01, max_depth=5, n_estimators=10 ...............\n",
      "[CV]   learning_rate=0.01, max_depth=5, n_estimators=10, score=nan, total=   0.1s\n",
      "[CV]  learning_rate=0.01, max_depth=5, n_estimators=50 ...............\n",
      "[CV]   learning_rate=0.01, max_depth=5, n_estimators=50, score=nan, total=   0.1s\n",
      "[CV]  learning_rate=0.01, max_depth=5, n_estimators=50 ...............\n",
      "[CV]   learning_rate=0.01, max_depth=5, n_estimators=50, score=nan, total=   0.1s\n",
      "[CV]  learning_rate=0.01, max_depth=5, n_estimators=50 ...............\n",
      "[CV]   learning_rate=0.01, max_depth=5, n_estimators=50, score=nan, total=   0.1s\n",
      "[CV]  learning_rate=0.01, max_depth=5, n_estimators=50 ...............\n",
      "[CV]   learning_rate=0.01, max_depth=5, n_estimators=50, score=nan, total=   0.1s\n",
      "[CV]  learning_rate=0.01, max_depth=5, n_estimators=50 ...............\n",
      "[CV]   learning_rate=0.01, max_depth=5, n_estimators=50, score=nan, total=   0.1s\n",
      "[CV]  learning_rate=0.01, max_depth=5, n_estimators=100 ..............\n",
      "[CV]   learning_rate=0.01, max_depth=5, n_estimators=100, score=nan, total=   0.1s\n",
      "[CV]  learning_rate=0.01, max_depth=5, n_estimators=100 .............."
     ]
    },
    {
     "name": "stderr",
     "output_type": "stream",
     "text": [
      "C:\\Users\\sheka\\anaconda3\\envs\\tensorflow\\lib\\site-packages\\sklearn\\model_selection\\_validation.py:548: FitFailedWarning: Estimator fit failed. The score on this train-test partition for these parameters will be set to nan. Details: \n",
      "Traceback (most recent call last):\n",
      "  File \"C:\\Users\\sheka\\anaconda3\\envs\\tensorflow\\lib\\site-packages\\sklearn\\model_selection\\_validation.py\", line 531, in _fit_and_score\n",
      "    estimator.fit(X_train, y_train, **fit_params)\n",
      "  File \"C:\\Users\\sheka\\anaconda3\\envs\\tensorflow\\lib\\site-packages\\xgboost\\core.py\", line 532, in inner_f\n",
      "    return f(**kwargs)\n",
      "  File \"C:\\Users\\sheka\\anaconda3\\envs\\tensorflow\\lib\\site-packages\\xgboost\\sklearn.py\", line 1400, in fit\n",
      "    self._Booster = train(\n",
      "  File \"C:\\Users\\sheka\\anaconda3\\envs\\tensorflow\\lib\\site-packages\\xgboost\\core.py\", line 532, in inner_f\n",
      "    return f(**kwargs)\n",
      "  File \"C:\\Users\\sheka\\anaconda3\\envs\\tensorflow\\lib\\site-packages\\xgboost\\training.py\", line 181, in train\n",
      "    bst.update(dtrain, i, obj)\n",
      "  File \"C:\\Users\\sheka\\anaconda3\\envs\\tensorflow\\lib\\site-packages\\xgboost\\core.py\", line 1733, in update\n",
      "    _check_call(_LIB.XGBoosterUpdateOneIter(self.handle,\n",
      "  File \"C:\\Users\\sheka\\anaconda3\\envs\\tensorflow\\lib\\site-packages\\xgboost\\core.py\", line 203, in _check_call\n",
      "    raise XGBoostError(py_str(_LIB.XGBGetLastError()))\n",
      "xgboost.core.XGBoostError: [15:25:24] C:/Users/Administrator/workspace/xgboost-win64_release_1.6.0/src/learner.cc:604: Invalid parameter \" learning_rate\" contains whitespace.\n",
      "\n",
      "  warnings.warn(\"Estimator fit failed. The score on this train-test\"\n"
     ]
    },
    {
     "name": "stdout",
     "output_type": "stream",
     "text": [
      "\n",
      "[CV]   learning_rate=0.01, max_depth=5, n_estimators=100, score=nan, total=   0.1s\n",
      "[CV]  learning_rate=0.01, max_depth=5, n_estimators=100 ..............\n",
      "[CV]   learning_rate=0.01, max_depth=5, n_estimators=100, score=nan, total=   0.1s\n",
      "[CV]  learning_rate=0.01, max_depth=5, n_estimators=100 ..............\n",
      "[CV]   learning_rate=0.01, max_depth=5, n_estimators=100, score=nan, total=   0.1s\n",
      "[CV]  learning_rate=0.01, max_depth=5, n_estimators=100 ..............\n",
      "[CV]   learning_rate=0.01, max_depth=5, n_estimators=100, score=nan, total=   0.1s\n",
      "[CV]  learning_rate=0.01, max_depth=5, n_estimators=200 ..............\n",
      "[CV]   learning_rate=0.01, max_depth=5, n_estimators=200, score=nan, total=   0.1s\n",
      "[CV]  learning_rate=0.01, max_depth=5, n_estimators=200 ..............\n",
      "[CV]   learning_rate=0.01, max_depth=5, n_estimators=200, score=nan, total=   0.1s\n",
      "[CV]  learning_rate=0.01, max_depth=5, n_estimators=200 ..............\n",
      "[CV]   learning_rate=0.01, max_depth=5, n_estimators=200, score=nan, total=   0.1s\n",
      "[CV]  learning_rate=0.01, max_depth=5, n_estimators=200 ..............\n",
      "[CV]   learning_rate=0.01, max_depth=5, n_estimators=200, score=nan, total=   0.1s\n",
      "[CV]  learning_rate=0.01, max_depth=5, n_estimators=200 ..............\n",
      "[CV]   learning_rate=0.01, max_depth=5, n_estimators=200, score=nan, total=   0.1s\n",
      "[CV]  learning_rate=0.01, max_depth=5, n_estimators=300 ..............\n",
      "[CV]   learning_rate=0.01, max_depth=5, n_estimators=300, score=nan, total=   0.1s\n",
      "[CV]  learning_rate=0.01, max_depth=5, n_estimators=300 ..............\n",
      "[CV]   learning_rate=0.01, max_depth=5, n_estimators=300, score=nan, total=   0.1s\n",
      "[CV]  learning_rate=0.01, max_depth=5, n_estimators=300 ..............\n"
     ]
    },
    {
     "name": "stderr",
     "output_type": "stream",
     "text": [
      "C:\\Users\\sheka\\anaconda3\\envs\\tensorflow\\lib\\site-packages\\sklearn\\model_selection\\_validation.py:548: FitFailedWarning: Estimator fit failed. The score on this train-test partition for these parameters will be set to nan. Details: \n",
      "Traceback (most recent call last):\n",
      "  File \"C:\\Users\\sheka\\anaconda3\\envs\\tensorflow\\lib\\site-packages\\sklearn\\model_selection\\_validation.py\", line 531, in _fit_and_score\n",
      "    estimator.fit(X_train, y_train, **fit_params)\n",
      "  File \"C:\\Users\\sheka\\anaconda3\\envs\\tensorflow\\lib\\site-packages\\xgboost\\core.py\", line 532, in inner_f\n",
      "    return f(**kwargs)\n",
      "  File \"C:\\Users\\sheka\\anaconda3\\envs\\tensorflow\\lib\\site-packages\\xgboost\\sklearn.py\", line 1400, in fit\n",
      "    self._Booster = train(\n",
      "  File \"C:\\Users\\sheka\\anaconda3\\envs\\tensorflow\\lib\\site-packages\\xgboost\\core.py\", line 532, in inner_f\n",
      "    return f(**kwargs)\n",
      "  File \"C:\\Users\\sheka\\anaconda3\\envs\\tensorflow\\lib\\site-packages\\xgboost\\training.py\", line 181, in train\n",
      "    bst.update(dtrain, i, obj)\n",
      "  File \"C:\\Users\\sheka\\anaconda3\\envs\\tensorflow\\lib\\site-packages\\xgboost\\core.py\", line 1733, in update\n",
      "    _check_call(_LIB.XGBoosterUpdateOneIter(self.handle,\n",
      "  File \"C:\\Users\\sheka\\anaconda3\\envs\\tensorflow\\lib\\site-packages\\xgboost\\core.py\", line 203, in _check_call\n",
      "    raise XGBoostError(py_str(_LIB.XGBGetLastError()))\n",
      "xgboost.core.XGBoostError: [15:25:25] C:/Users/Administrator/workspace/xgboost-win64_release_1.6.0/src/learner.cc:604: Invalid parameter \" learning_rate\" contains whitespace.\n",
      "\n",
      "  warnings.warn(\"Estimator fit failed. The score on this train-test\"\n"
     ]
    },
    {
     "name": "stdout",
     "output_type": "stream",
     "text": [
      "[CV]   learning_rate=0.01, max_depth=5, n_estimators=300, score=nan, total=   0.1s\n",
      "[CV]  learning_rate=0.01, max_depth=5, n_estimators=300 ..............\n",
      "[CV]   learning_rate=0.01, max_depth=5, n_estimators=300, score=nan, total=   0.1s\n",
      "[CV]  learning_rate=0.01, max_depth=5, n_estimators=300 ..............\n",
      "[CV]   learning_rate=0.01, max_depth=5, n_estimators=300, score=nan, total=   0.1s\n",
      "[CV]  learning_rate=0.01, max_depth=7, n_estimators=10 ...............\n",
      "[CV]   learning_rate=0.01, max_depth=7, n_estimators=10, score=nan, total=   0.1s\n",
      "[CV]  learning_rate=0.01, max_depth=7, n_estimators=10 ...............\n",
      "[CV]   learning_rate=0.01, max_depth=7, n_estimators=10, score=nan, total=   0.1s\n",
      "[CV]  learning_rate=0.01, max_depth=7, n_estimators=10 ...............\n",
      "[CV]   learning_rate=0.01, max_depth=7, n_estimators=10, score=nan, total=   0.1s\n",
      "[CV]  learning_rate=0.01, max_depth=7, n_estimators=10 ...............\n",
      "[CV]   learning_rate=0.01, max_depth=7, n_estimators=10, score=nan, total=   0.1s\n",
      "[CV]  learning_rate=0.01, max_depth=7, n_estimators=10 ...............\n",
      "[CV]   learning_rate=0.01, max_depth=7, n_estimators=10, score=nan, total=   0.1s\n",
      "[CV]  learning_rate=0.01, max_depth=7, n_estimators=50 ...............\n",
      "[CV]   learning_rate=0.01, max_depth=7, n_estimators=50, score=nan, total=   0.1s\n",
      "[CV]  learning_rate=0.01, max_depth=7, n_estimators=50 ...............\n",
      "[CV]   learning_rate=0.01, max_depth=7, n_estimators=50, score=nan, total=   0.1s\n",
      "[CV]  learning_rate=0.01, max_depth=7, n_estimators=50 ...............\n",
      "[CV]   learning_rate=0.01, max_depth=7, n_estimators=50, score=nan, total=   0.1s\n",
      "[CV]  learning_rate=0.01, max_depth=7, n_estimators=50 ...............\n",
      "[CV]   learning_rate=0.01, max_depth=7, n_estimators=50, score=nan, total=   0.1s\n",
      "[CV]  learning_rate=0.01, max_depth=7, n_estimators=50 ...............\n"
     ]
    },
    {
     "name": "stderr",
     "output_type": "stream",
     "text": [
      "C:\\Users\\sheka\\anaconda3\\envs\\tensorflow\\lib\\site-packages\\sklearn\\model_selection\\_validation.py:548: FitFailedWarning: Estimator fit failed. The score on this train-test partition for these parameters will be set to nan. Details: \n",
      "Traceback (most recent call last):\n",
      "  File \"C:\\Users\\sheka\\anaconda3\\envs\\tensorflow\\lib\\site-packages\\sklearn\\model_selection\\_validation.py\", line 531, in _fit_and_score\n",
      "    estimator.fit(X_train, y_train, **fit_params)\n",
      "  File \"C:\\Users\\sheka\\anaconda3\\envs\\tensorflow\\lib\\site-packages\\xgboost\\core.py\", line 532, in inner_f\n",
      "    return f(**kwargs)\n",
      "  File \"C:\\Users\\sheka\\anaconda3\\envs\\tensorflow\\lib\\site-packages\\xgboost\\sklearn.py\", line 1400, in fit\n",
      "    self._Booster = train(\n",
      "  File \"C:\\Users\\sheka\\anaconda3\\envs\\tensorflow\\lib\\site-packages\\xgboost\\core.py\", line 532, in inner_f\n",
      "    return f(**kwargs)\n",
      "  File \"C:\\Users\\sheka\\anaconda3\\envs\\tensorflow\\lib\\site-packages\\xgboost\\training.py\", line 181, in train\n",
      "    bst.update(dtrain, i, obj)\n",
      "  File \"C:\\Users\\sheka\\anaconda3\\envs\\tensorflow\\lib\\site-packages\\xgboost\\core.py\", line 1733, in update\n",
      "    _check_call(_LIB.XGBoosterUpdateOneIter(self.handle,\n",
      "  File \"C:\\Users\\sheka\\anaconda3\\envs\\tensorflow\\lib\\site-packages\\xgboost\\core.py\", line 203, in _check_call\n",
      "    raise XGBoostError(py_str(_LIB.XGBGetLastError()))\n",
      "xgboost.core.XGBoostError: [15:25:26] C:/Users/Administrator/workspace/xgboost-win64_release_1.6.0/src/learner.cc:604: Invalid parameter \" learning_rate\" contains whitespace.\n",
      "\n",
      "  warnings.warn(\"Estimator fit failed. The score on this train-test\"\n"
     ]
    },
    {
     "name": "stdout",
     "output_type": "stream",
     "text": [
      "[CV]   learning_rate=0.01, max_depth=7, n_estimators=50, score=nan, total=   0.1s\n",
      "[CV]  learning_rate=0.01, max_depth=7, n_estimators=100 ..............\n",
      "[CV]   learning_rate=0.01, max_depth=7, n_estimators=100, score=nan, total=   0.1s\n",
      "[CV]  learning_rate=0.01, max_depth=7, n_estimators=100 ..............\n",
      "[CV]   learning_rate=0.01, max_depth=7, n_estimators=100, score=nan, total=   0.1s\n",
      "[CV]  learning_rate=0.01, max_depth=7, n_estimators=100 ..............\n",
      "[CV]   learning_rate=0.01, max_depth=7, n_estimators=100, score=nan, total=   0.1s\n",
      "[CV]  learning_rate=0.01, max_depth=7, n_estimators=100 ..............\n",
      "[CV]   learning_rate=0.01, max_depth=7, n_estimators=100, score=nan, total=   0.1s\n",
      "[CV]  learning_rate=0.01, max_depth=7, n_estimators=100 ..............\n",
      "[CV]   learning_rate=0.01, max_depth=7, n_estimators=100, score=nan, total=   0.1s\n",
      "[CV]  learning_rate=0.01, max_depth=7, n_estimators=200 ..............\n",
      "[CV]   learning_rate=0.01, max_depth=7, n_estimators=200, score=nan, total=   0.1s\n",
      "[CV]  learning_rate=0.01, max_depth=7, n_estimators=200 ..............\n",
      "[CV]   learning_rate=0.01, max_depth=7, n_estimators=200, score=nan, total=   0.1s\n",
      "[CV]  learning_rate=0.01, max_depth=7, n_estimators=200 ..............\n",
      "[CV]   learning_rate=0.01, max_depth=7, n_estimators=200, score=nan, total=   0.1s\n",
      "[CV]  learning_rate=0.01, max_depth=7, n_estimators=200 ..............\n",
      "[CV]   learning_rate=0.01, max_depth=7, n_estimators=200, score=nan, total=   0.1s\n",
      "[CV]  learning_rate=0.01, max_depth=7, n_estimators=200 ..............\n",
      "[CV]   learning_rate=0.01, max_depth=7, n_estimators=200, score=nan, total=   0.1s\n",
      "[CV]  learning_rate=0.01, max_depth=7, n_estimators=300 ..............\n",
      "[CV]   learning_rate=0.01, max_depth=7, n_estimators=300, score=nan, total=   0.1s\n",
      "[CV]  learning_rate=0.01, max_depth=7, n_estimators=300 ..............\n"
     ]
    },
    {
     "name": "stderr",
     "output_type": "stream",
     "text": [
      "C:\\Users\\sheka\\anaconda3\\envs\\tensorflow\\lib\\site-packages\\sklearn\\model_selection\\_validation.py:548: FitFailedWarning: Estimator fit failed. The score on this train-test partition for these parameters will be set to nan. Details: \n",
      "Traceback (most recent call last):\n",
      "  File \"C:\\Users\\sheka\\anaconda3\\envs\\tensorflow\\lib\\site-packages\\sklearn\\model_selection\\_validation.py\", line 531, in _fit_and_score\n",
      "    estimator.fit(X_train, y_train, **fit_params)\n",
      "  File \"C:\\Users\\sheka\\anaconda3\\envs\\tensorflow\\lib\\site-packages\\xgboost\\core.py\", line 532, in inner_f\n",
      "    return f(**kwargs)\n",
      "  File \"C:\\Users\\sheka\\anaconda3\\envs\\tensorflow\\lib\\site-packages\\xgboost\\sklearn.py\", line 1400, in fit\n",
      "    self._Booster = train(\n",
      "  File \"C:\\Users\\sheka\\anaconda3\\envs\\tensorflow\\lib\\site-packages\\xgboost\\core.py\", line 532, in inner_f\n",
      "    return f(**kwargs)\n",
      "  File \"C:\\Users\\sheka\\anaconda3\\envs\\tensorflow\\lib\\site-packages\\xgboost\\training.py\", line 181, in train\n",
      "    bst.update(dtrain, i, obj)\n",
      "  File \"C:\\Users\\sheka\\anaconda3\\envs\\tensorflow\\lib\\site-packages\\xgboost\\core.py\", line 1733, in update\n",
      "    _check_call(_LIB.XGBoosterUpdateOneIter(self.handle,\n",
      "  File \"C:\\Users\\sheka\\anaconda3\\envs\\tensorflow\\lib\\site-packages\\xgboost\\core.py\", line 203, in _check_call\n",
      "    raise XGBoostError(py_str(_LIB.XGBGetLastError()))\n",
      "xgboost.core.XGBoostError: [15:25:27] C:/Users/Administrator/workspace/xgboost-win64_release_1.6.0/src/learner.cc:604: Invalid parameter \" learning_rate\" contains whitespace.\n",
      "\n",
      "  warnings.warn(\"Estimator fit failed. The score on this train-test\"\n"
     ]
    },
    {
     "name": "stdout",
     "output_type": "stream",
     "text": [
      "[CV]   learning_rate=0.01, max_depth=7, n_estimators=300, score=nan, total=   0.1s\n",
      "[CV]  learning_rate=0.01, max_depth=7, n_estimators=300 ..............\n",
      "[CV]   learning_rate=0.01, max_depth=7, n_estimators=300, score=nan, total=   0.1s\n",
      "[CV]  learning_rate=0.01, max_depth=7, n_estimators=300 ..............\n",
      "[CV]   learning_rate=0.01, max_depth=7, n_estimators=300, score=nan, total=   0.1s\n",
      "[CV]  learning_rate=0.01, max_depth=7, n_estimators=300 ..............\n",
      "[CV]   learning_rate=0.01, max_depth=7, n_estimators=300, score=nan, total=   0.1s\n",
      "[CV]  learning_rate=0.01, max_depth=9, n_estimators=10 ...............\n",
      "[CV]   learning_rate=0.01, max_depth=9, n_estimators=10, score=nan, total=   0.1s\n",
      "[CV]  learning_rate=0.01, max_depth=9, n_estimators=10 ...............\n",
      "[CV]   learning_rate=0.01, max_depth=9, n_estimators=10, score=nan, total=   0.1s\n",
      "[CV]  learning_rate=0.01, max_depth=9, n_estimators=10 ...............\n",
      "[CV]   learning_rate=0.01, max_depth=9, n_estimators=10, score=nan, total=   0.1s\n",
      "[CV]  learning_rate=0.01, max_depth=9, n_estimators=10 ...............\n",
      "[CV]   learning_rate=0.01, max_depth=9, n_estimators=10, score=nan, total=   0.1s\n",
      "[CV]  learning_rate=0.01, max_depth=9, n_estimators=10 ...............\n",
      "[CV]   learning_rate=0.01, max_depth=9, n_estimators=10, score=nan, total=   0.1s\n",
      "[CV]  learning_rate=0.01, max_depth=9, n_estimators=50 ...............\n",
      "[CV]   learning_rate=0.01, max_depth=9, n_estimators=50, score=nan, total=   0.1s\n",
      "[CV]  learning_rate=0.01, max_depth=9, n_estimators=50 ...............\n",
      "[CV]   learning_rate=0.01, max_depth=9, n_estimators=50, score=nan, total=   0.1s\n",
      "[CV]  learning_rate=0.01, max_depth=9, n_estimators=50 ...............\n"
     ]
    },
    {
     "name": "stderr",
     "output_type": "stream",
     "text": [
      "C:\\Users\\sheka\\anaconda3\\envs\\tensorflow\\lib\\site-packages\\sklearn\\model_selection\\_validation.py:548: FitFailedWarning: Estimator fit failed. The score on this train-test partition for these parameters will be set to nan. Details: \n",
      "Traceback (most recent call last):\n",
      "  File \"C:\\Users\\sheka\\anaconda3\\envs\\tensorflow\\lib\\site-packages\\sklearn\\model_selection\\_validation.py\", line 531, in _fit_and_score\n",
      "    estimator.fit(X_train, y_train, **fit_params)\n",
      "  File \"C:\\Users\\sheka\\anaconda3\\envs\\tensorflow\\lib\\site-packages\\xgboost\\core.py\", line 532, in inner_f\n",
      "    return f(**kwargs)\n",
      "  File \"C:\\Users\\sheka\\anaconda3\\envs\\tensorflow\\lib\\site-packages\\xgboost\\sklearn.py\", line 1400, in fit\n",
      "    self._Booster = train(\n",
      "  File \"C:\\Users\\sheka\\anaconda3\\envs\\tensorflow\\lib\\site-packages\\xgboost\\core.py\", line 532, in inner_f\n",
      "    return f(**kwargs)\n",
      "  File \"C:\\Users\\sheka\\anaconda3\\envs\\tensorflow\\lib\\site-packages\\xgboost\\training.py\", line 181, in train\n",
      "    bst.update(dtrain, i, obj)\n",
      "  File \"C:\\Users\\sheka\\anaconda3\\envs\\tensorflow\\lib\\site-packages\\xgboost\\core.py\", line 1733, in update\n",
      "    _check_call(_LIB.XGBoosterUpdateOneIter(self.handle,\n",
      "  File \"C:\\Users\\sheka\\anaconda3\\envs\\tensorflow\\lib\\site-packages\\xgboost\\core.py\", line 203, in _check_call\n",
      "    raise XGBoostError(py_str(_LIB.XGBGetLastError()))\n",
      "xgboost.core.XGBoostError: [15:25:28] C:/Users/Administrator/workspace/xgboost-win64_release_1.6.0/src/learner.cc:604: Invalid parameter \" learning_rate\" contains whitespace.\n",
      "\n",
      "  warnings.warn(\"Estimator fit failed. The score on this train-test\"\n"
     ]
    },
    {
     "name": "stdout",
     "output_type": "stream",
     "text": [
      "[CV]   learning_rate=0.01, max_depth=9, n_estimators=50, score=nan, total=   0.1s\n",
      "[CV]  learning_rate=0.01, max_depth=9, n_estimators=50 ...............\n",
      "[CV]   learning_rate=0.01, max_depth=9, n_estimators=50, score=nan, total=   0.1s\n",
      "[CV]  learning_rate=0.01, max_depth=9, n_estimators=50 ...............\n",
      "[CV]   learning_rate=0.01, max_depth=9, n_estimators=50, score=nan, total=   0.1s\n",
      "[CV]  learning_rate=0.01, max_depth=9, n_estimators=100 ..............\n",
      "[CV]   learning_rate=0.01, max_depth=9, n_estimators=100, score=nan, total=   0.1s\n",
      "[CV]  learning_rate=0.01, max_depth=9, n_estimators=100 ..............\n",
      "[CV]   learning_rate=0.01, max_depth=9, n_estimators=100, score=nan, total=   0.1s\n",
      "[CV]  learning_rate=0.01, max_depth=9, n_estimators=100 ..............\n",
      "[CV]   learning_rate=0.01, max_depth=9, n_estimators=100, score=nan, total=   0.1s\n",
      "[CV]  learning_rate=0.01, max_depth=9, n_estimators=100 ..............\n",
      "[CV]   learning_rate=0.01, max_depth=9, n_estimators=100, score=nan, total=   0.1s\n",
      "[CV]  learning_rate=0.01, max_depth=9, n_estimators=100 ..............\n",
      "[CV]   learning_rate=0.01, max_depth=9, n_estimators=100, score=nan, total=   0.1s\n",
      "[CV]  learning_rate=0.01, max_depth=9, n_estimators=200 ..............\n",
      "[CV]   learning_rate=0.01, max_depth=9, n_estimators=200, score=nan, total=   0.1s\n",
      "[CV]  learning_rate=0.01, max_depth=9, n_estimators=200 ..............\n",
      "[CV]   learning_rate=0.01, max_depth=9, n_estimators=200, score=nan, total=   0.1s\n",
      "[CV]  learning_rate=0.01, max_depth=9, n_estimators=200 ..............\n",
      "[CV]   learning_rate=0.01, max_depth=9, n_estimators=200, score=nan, total=   0.1s\n",
      "[CV]  learning_rate=0.01, max_depth=9, n_estimators=200 ..............\n",
      "[CV]   learning_rate=0.01, max_depth=9, n_estimators=200, score=nan, total=   0.1s\n",
      "[CV]  learning_rate=0.01, max_depth=9, n_estimators=200 ..............\n",
      "[CV]   learning_rate=0.01, max_depth=9, n_estimators=200, score=nan, total=   0.1s\n",
      "[CV]  learning_rate=0.01, max_depth=9, n_estimators=300 ..............\n"
     ]
    },
    {
     "name": "stderr",
     "output_type": "stream",
     "text": [
      "C:\\Users\\sheka\\anaconda3\\envs\\tensorflow\\lib\\site-packages\\sklearn\\model_selection\\_validation.py:548: FitFailedWarning: Estimator fit failed. The score on this train-test partition for these parameters will be set to nan. Details: \n",
      "Traceback (most recent call last):\n",
      "  File \"C:\\Users\\sheka\\anaconda3\\envs\\tensorflow\\lib\\site-packages\\sklearn\\model_selection\\_validation.py\", line 531, in _fit_and_score\n",
      "    estimator.fit(X_train, y_train, **fit_params)\n",
      "  File \"C:\\Users\\sheka\\anaconda3\\envs\\tensorflow\\lib\\site-packages\\xgboost\\core.py\", line 532, in inner_f\n",
      "    return f(**kwargs)\n",
      "  File \"C:\\Users\\sheka\\anaconda3\\envs\\tensorflow\\lib\\site-packages\\xgboost\\sklearn.py\", line 1400, in fit\n",
      "    self._Booster = train(\n",
      "  File \"C:\\Users\\sheka\\anaconda3\\envs\\tensorflow\\lib\\site-packages\\xgboost\\core.py\", line 532, in inner_f\n",
      "    return f(**kwargs)\n",
      "  File \"C:\\Users\\sheka\\anaconda3\\envs\\tensorflow\\lib\\site-packages\\xgboost\\training.py\", line 181, in train\n",
      "    bst.update(dtrain, i, obj)\n",
      "  File \"C:\\Users\\sheka\\anaconda3\\envs\\tensorflow\\lib\\site-packages\\xgboost\\core.py\", line 1733, in update\n",
      "    _check_call(_LIB.XGBoosterUpdateOneIter(self.handle,\n",
      "  File \"C:\\Users\\sheka\\anaconda3\\envs\\tensorflow\\lib\\site-packages\\xgboost\\core.py\", line 203, in _check_call\n",
      "    raise XGBoostError(py_str(_LIB.XGBGetLastError()))\n",
      "xgboost.core.XGBoostError: [15:25:29] C:/Users/Administrator/workspace/xgboost-win64_release_1.6.0/src/learner.cc:604: Invalid parameter \" learning_rate\" contains whitespace.\n",
      "\n",
      "  warnings.warn(\"Estimator fit failed. The score on this train-test\"\n"
     ]
    },
    {
     "name": "stdout",
     "output_type": "stream",
     "text": [
      "[CV]   learning_rate=0.01, max_depth=9, n_estimators=300, score=nan, total=   0.1s\n",
      "[CV]  learning_rate=0.01, max_depth=9, n_estimators=300 ..............\n",
      "[CV]   learning_rate=0.01, max_depth=9, n_estimators=300, score=nan, total=   0.1s\n",
      "[CV]  learning_rate=0.01, max_depth=9, n_estimators=300 ..............\n",
      "[CV]   learning_rate=0.01, max_depth=9, n_estimators=300, score=nan, total=   0.1s\n",
      "[CV]  learning_rate=0.01, max_depth=9, n_estimators=300 ..............\n",
      "[CV]   learning_rate=0.01, max_depth=9, n_estimators=300, score=nan, total=   0.1s\n",
      "[CV]  learning_rate=0.01, max_depth=9, n_estimators=300 ..............\n",
      "[CV]   learning_rate=0.01, max_depth=9, n_estimators=300, score=nan, total=   0.1s\n",
      "[CV]  learning_rate=0.01, max_depth=11, n_estimators=10 ..............\n",
      "[CV]   learning_rate=0.01, max_depth=11, n_estimators=10, score=nan, total=   0.1s\n",
      "[CV]  learning_rate=0.01, max_depth=11, n_estimators=10 ..............\n",
      "[CV]   learning_rate=0.01, max_depth=11, n_estimators=10, score=nan, total=   0.1s\n",
      "[CV]  learning_rate=0.01, max_depth=11, n_estimators=10 ..............\n",
      "[CV]   learning_rate=0.01, max_depth=11, n_estimators=10, score=nan, total=   0.1s\n",
      "[CV]  learning_rate=0.01, max_depth=11, n_estimators=10 ..............\n",
      "[CV]   learning_rate=0.01, max_depth=11, n_estimators=10, score=nan, total=   0.1s\n",
      "[CV]  learning_rate=0.01, max_depth=11, n_estimators=10 ..............\n",
      "[CV]   learning_rate=0.01, max_depth=11, n_estimators=10, score=nan, total=   0.1s\n",
      "[CV]  learning_rate=0.01, max_depth=11, n_estimators=50 ..............\n",
      "[CV]   learning_rate=0.01, max_depth=11, n_estimators=50, score=nan, total=   0.1s\n",
      "[CV]  learning_rate=0.01, max_depth=11, n_estimators=50 ..............\n"
     ]
    },
    {
     "name": "stderr",
     "output_type": "stream",
     "text": [
      "C:\\Users\\sheka\\anaconda3\\envs\\tensorflow\\lib\\site-packages\\sklearn\\model_selection\\_validation.py:548: FitFailedWarning: Estimator fit failed. The score on this train-test partition for these parameters will be set to nan. Details: \n",
      "Traceback (most recent call last):\n",
      "  File \"C:\\Users\\sheka\\anaconda3\\envs\\tensorflow\\lib\\site-packages\\sklearn\\model_selection\\_validation.py\", line 531, in _fit_and_score\n",
      "    estimator.fit(X_train, y_train, **fit_params)\n",
      "  File \"C:\\Users\\sheka\\anaconda3\\envs\\tensorflow\\lib\\site-packages\\xgboost\\core.py\", line 532, in inner_f\n",
      "    return f(**kwargs)\n",
      "  File \"C:\\Users\\sheka\\anaconda3\\envs\\tensorflow\\lib\\site-packages\\xgboost\\sklearn.py\", line 1400, in fit\n",
      "    self._Booster = train(\n",
      "  File \"C:\\Users\\sheka\\anaconda3\\envs\\tensorflow\\lib\\site-packages\\xgboost\\core.py\", line 532, in inner_f\n",
      "    return f(**kwargs)\n",
      "  File \"C:\\Users\\sheka\\anaconda3\\envs\\tensorflow\\lib\\site-packages\\xgboost\\training.py\", line 181, in train\n",
      "    bst.update(dtrain, i, obj)\n",
      "  File \"C:\\Users\\sheka\\anaconda3\\envs\\tensorflow\\lib\\site-packages\\xgboost\\core.py\", line 1733, in update\n",
      "    _check_call(_LIB.XGBoosterUpdateOneIter(self.handle,\n",
      "  File \"C:\\Users\\sheka\\anaconda3\\envs\\tensorflow\\lib\\site-packages\\xgboost\\core.py\", line 203, in _check_call\n",
      "    raise XGBoostError(py_str(_LIB.XGBGetLastError()))\n",
      "xgboost.core.XGBoostError: [15:25:30] C:/Users/Administrator/workspace/xgboost-win64_release_1.6.0/src/learner.cc:604: Invalid parameter \" learning_rate\" contains whitespace.\n",
      "\n",
      "  warnings.warn(\"Estimator fit failed. The score on this train-test\"\n"
     ]
    },
    {
     "name": "stdout",
     "output_type": "stream",
     "text": [
      "[CV]   learning_rate=0.01, max_depth=11, n_estimators=50, score=nan, total=   0.1s\n",
      "[CV]  learning_rate=0.01, max_depth=11, n_estimators=50 ..............\n",
      "[CV]   learning_rate=0.01, max_depth=11, n_estimators=50, score=nan, total=   0.1s\n",
      "[CV]  learning_rate=0.01, max_depth=11, n_estimators=50 ..............\n",
      "[CV]   learning_rate=0.01, max_depth=11, n_estimators=50, score=nan, total=   0.1s\n",
      "[CV]  learning_rate=0.01, max_depth=11, n_estimators=50 ..............\n",
      "[CV]   learning_rate=0.01, max_depth=11, n_estimators=50, score=nan, total=   0.1s\n",
      "[CV]  learning_rate=0.01, max_depth=11, n_estimators=100 .............\n",
      "[CV]   learning_rate=0.01, max_depth=11, n_estimators=100, score=nan, total=   0.1s\n",
      "[CV]  learning_rate=0.01, max_depth=11, n_estimators=100 .............\n",
      "[CV]   learning_rate=0.01, max_depth=11, n_estimators=100, score=nan, total=   0.1s\n",
      "[CV]  learning_rate=0.01, max_depth=11, n_estimators=100 .............\n",
      "[CV]   learning_rate=0.01, max_depth=11, n_estimators=100, score=nan, total=   0.1s\n",
      "[CV]  learning_rate=0.01, max_depth=11, n_estimators=100 .............\n",
      "[CV]   learning_rate=0.01, max_depth=11, n_estimators=100, score=nan, total=   0.1s\n",
      "[CV]  learning_rate=0.01, max_depth=11, n_estimators=100 .............\n",
      "[CV]   learning_rate=0.01, max_depth=11, n_estimators=100, score=nan, total=   0.1s\n",
      "[CV]  learning_rate=0.01, max_depth=11, n_estimators=200 .............\n",
      "[CV]   learning_rate=0.01, max_depth=11, n_estimators=200, score=nan, total=   0.1s\n",
      "[CV]  learning_rate=0.01, max_depth=11, n_estimators=200 .............\n",
      "[CV]   learning_rate=0.01, max_depth=11, n_estimators=200, score=nan, total=   0.1s\n",
      "[CV]  learning_rate=0.01, max_depth=11, n_estimators=200 .............\n"
     ]
    },
    {
     "name": "stderr",
     "output_type": "stream",
     "text": [
      "C:\\Users\\sheka\\anaconda3\\envs\\tensorflow\\lib\\site-packages\\sklearn\\model_selection\\_validation.py:548: FitFailedWarning: Estimator fit failed. The score on this train-test partition for these parameters will be set to nan. Details: \n",
      "Traceback (most recent call last):\n",
      "  File \"C:\\Users\\sheka\\anaconda3\\envs\\tensorflow\\lib\\site-packages\\sklearn\\model_selection\\_validation.py\", line 531, in _fit_and_score\n",
      "    estimator.fit(X_train, y_train, **fit_params)\n",
      "  File \"C:\\Users\\sheka\\anaconda3\\envs\\tensorflow\\lib\\site-packages\\xgboost\\core.py\", line 532, in inner_f\n",
      "    return f(**kwargs)\n",
      "  File \"C:\\Users\\sheka\\anaconda3\\envs\\tensorflow\\lib\\site-packages\\xgboost\\sklearn.py\", line 1400, in fit\n",
      "    self._Booster = train(\n",
      "  File \"C:\\Users\\sheka\\anaconda3\\envs\\tensorflow\\lib\\site-packages\\xgboost\\core.py\", line 532, in inner_f\n",
      "    return f(**kwargs)\n",
      "  File \"C:\\Users\\sheka\\anaconda3\\envs\\tensorflow\\lib\\site-packages\\xgboost\\training.py\", line 181, in train\n",
      "    bst.update(dtrain, i, obj)\n",
      "  File \"C:\\Users\\sheka\\anaconda3\\envs\\tensorflow\\lib\\site-packages\\xgboost\\core.py\", line 1733, in update\n",
      "    _check_call(_LIB.XGBoosterUpdateOneIter(self.handle,\n",
      "  File \"C:\\Users\\sheka\\anaconda3\\envs\\tensorflow\\lib\\site-packages\\xgboost\\core.py\", line 203, in _check_call\n",
      "    raise XGBoostError(py_str(_LIB.XGBGetLastError()))\n",
      "xgboost.core.XGBoostError: [15:25:31] C:/Users/Administrator/workspace/xgboost-win64_release_1.6.0/src/learner.cc:604: Invalid parameter \" learning_rate\" contains whitespace.\n",
      "\n",
      "  warnings.warn(\"Estimator fit failed. The score on this train-test\"\n"
     ]
    },
    {
     "name": "stdout",
     "output_type": "stream",
     "text": [
      "[CV]   learning_rate=0.01, max_depth=11, n_estimators=200, score=nan, total=   0.1s\n",
      "[CV]  learning_rate=0.01, max_depth=11, n_estimators=200 .............\n",
      "[CV]   learning_rate=0.01, max_depth=11, n_estimators=200, score=nan, total=   0.1s\n",
      "[CV]  learning_rate=0.01, max_depth=11, n_estimators=200 .............\n",
      "[CV]   learning_rate=0.01, max_depth=11, n_estimators=200, score=nan, total=   0.1s\n",
      "[CV]  learning_rate=0.01, max_depth=11, n_estimators=300 .............\n",
      "[CV]   learning_rate=0.01, max_depth=11, n_estimators=300, score=nan, total=   0.1s\n",
      "[CV]  learning_rate=0.01, max_depth=11, n_estimators=300 .............\n",
      "[CV]   learning_rate=0.01, max_depth=11, n_estimators=300, score=nan, total=   0.1s\n",
      "[CV]  learning_rate=0.01, max_depth=11, n_estimators=300 .............\n",
      "[CV]   learning_rate=0.01, max_depth=11, n_estimators=300, score=nan, total=   0.1s\n",
      "[CV]  learning_rate=0.01, max_depth=11, n_estimators=300 .............\n",
      "[CV]   learning_rate=0.01, max_depth=11, n_estimators=300, score=nan, total=   0.1s\n",
      "[CV]  learning_rate=0.01, max_depth=11, n_estimators=300 .............\n",
      "[CV]   learning_rate=0.01, max_depth=11, n_estimators=300, score=nan, total=   0.1s\n",
      "[CV]  learning_rate=0.01, max_depth=15, n_estimators=10 ..............\n",
      "[CV]   learning_rate=0.01, max_depth=15, n_estimators=10, score=nan, total=   0.1s\n",
      "[CV]  learning_rate=0.01, max_depth=15, n_estimators=10 ..............\n",
      "[CV]   learning_rate=0.01, max_depth=15, n_estimators=10, score=nan, total=   0.1s\n",
      "[CV]  learning_rate=0.01, max_depth=15, n_estimators=10 ..............\n",
      "[CV]   learning_rate=0.01, max_depth=15, n_estimators=10, score=nan, total=   0.1s\n",
      "[CV]  learning_rate=0.01, max_depth=15, n_estimators=10 ..............\n",
      "[CV]   learning_rate=0.01, max_depth=15, n_estimators=10, score=nan, total=   0.1s\n",
      "[CV]  learning_rate=0.01, max_depth=15, n_estimators=10 ..............\n"
     ]
    },
    {
     "name": "stderr",
     "output_type": "stream",
     "text": [
      "C:\\Users\\sheka\\anaconda3\\envs\\tensorflow\\lib\\site-packages\\sklearn\\model_selection\\_validation.py:548: FitFailedWarning: Estimator fit failed. The score on this train-test partition for these parameters will be set to nan. Details: \n",
      "Traceback (most recent call last):\n",
      "  File \"C:\\Users\\sheka\\anaconda3\\envs\\tensorflow\\lib\\site-packages\\sklearn\\model_selection\\_validation.py\", line 531, in _fit_and_score\n",
      "    estimator.fit(X_train, y_train, **fit_params)\n",
      "  File \"C:\\Users\\sheka\\anaconda3\\envs\\tensorflow\\lib\\site-packages\\xgboost\\core.py\", line 532, in inner_f\n",
      "    return f(**kwargs)\n",
      "  File \"C:\\Users\\sheka\\anaconda3\\envs\\tensorflow\\lib\\site-packages\\xgboost\\sklearn.py\", line 1400, in fit\n",
      "    self._Booster = train(\n",
      "  File \"C:\\Users\\sheka\\anaconda3\\envs\\tensorflow\\lib\\site-packages\\xgboost\\core.py\", line 532, in inner_f\n",
      "    return f(**kwargs)\n",
      "  File \"C:\\Users\\sheka\\anaconda3\\envs\\tensorflow\\lib\\site-packages\\xgboost\\training.py\", line 181, in train\n",
      "    bst.update(dtrain, i, obj)\n",
      "  File \"C:\\Users\\sheka\\anaconda3\\envs\\tensorflow\\lib\\site-packages\\xgboost\\core.py\", line 1733, in update\n",
      "    _check_call(_LIB.XGBoosterUpdateOneIter(self.handle,\n",
      "  File \"C:\\Users\\sheka\\anaconda3\\envs\\tensorflow\\lib\\site-packages\\xgboost\\core.py\", line 203, in _check_call\n",
      "    raise XGBoostError(py_str(_LIB.XGBGetLastError()))\n",
      "xgboost.core.XGBoostError: [15:25:32] C:/Users/Administrator/workspace/xgboost-win64_release_1.6.0/src/learner.cc:604: Invalid parameter \" learning_rate\" contains whitespace.\n",
      "\n",
      "  warnings.warn(\"Estimator fit failed. The score on this train-test\"\n"
     ]
    },
    {
     "name": "stdout",
     "output_type": "stream",
     "text": [
      "[CV]   learning_rate=0.01, max_depth=15, n_estimators=10, score=nan, total=   0.1s\n",
      "[CV]  learning_rate=0.01, max_depth=15, n_estimators=50 ..............\n",
      "[CV]   learning_rate=0.01, max_depth=15, n_estimators=50, score=nan, total=   0.1s\n",
      "[CV]  learning_rate=0.01, max_depth=15, n_estimators=50 ..............\n",
      "[CV]   learning_rate=0.01, max_depth=15, n_estimators=50, score=nan, total=   0.1s\n",
      "[CV]  learning_rate=0.01, max_depth=15, n_estimators=50 ..............\n",
      "[CV]   learning_rate=0.01, max_depth=15, n_estimators=50, score=nan, total=   0.1s\n",
      "[CV]  learning_rate=0.01, max_depth=15, n_estimators=50 ..............\n",
      "[CV]   learning_rate=0.01, max_depth=15, n_estimators=50, score=nan, total=   0.1s\n",
      "[CV]  learning_rate=0.01, max_depth=15, n_estimators=50 ..............\n",
      "[CV]   learning_rate=0.01, max_depth=15, n_estimators=50, score=nan, total=   0.1s\n",
      "[CV]  learning_rate=0.01, max_depth=15, n_estimators=100 .............\n",
      "[CV]   learning_rate=0.01, max_depth=15, n_estimators=100, score=nan, total=   0.1s\n",
      "[CV]  learning_rate=0.01, max_depth=15, n_estimators=100 .............\n",
      "[CV]   learning_rate=0.01, max_depth=15, n_estimators=100, score=nan, total=   0.1s\n",
      "[CV]  learning_rate=0.01, max_depth=15, n_estimators=100 .............\n",
      "[CV]   learning_rate=0.01, max_depth=15, n_estimators=100, score=nan, total=   0.1s\n",
      "[CV]  learning_rate=0.01, max_depth=15, n_estimators=100 .............\n"
     ]
    },
    {
     "name": "stderr",
     "output_type": "stream",
     "text": [
      "C:\\Users\\sheka\\anaconda3\\envs\\tensorflow\\lib\\site-packages\\sklearn\\model_selection\\_validation.py:548: FitFailedWarning: Estimator fit failed. The score on this train-test partition for these parameters will be set to nan. Details: \n",
      "Traceback (most recent call last):\n",
      "  File \"C:\\Users\\sheka\\anaconda3\\envs\\tensorflow\\lib\\site-packages\\sklearn\\model_selection\\_validation.py\", line 531, in _fit_and_score\n",
      "    estimator.fit(X_train, y_train, **fit_params)\n",
      "  File \"C:\\Users\\sheka\\anaconda3\\envs\\tensorflow\\lib\\site-packages\\xgboost\\core.py\", line 532, in inner_f\n",
      "    return f(**kwargs)\n",
      "  File \"C:\\Users\\sheka\\anaconda3\\envs\\tensorflow\\lib\\site-packages\\xgboost\\sklearn.py\", line 1400, in fit\n",
      "    self._Booster = train(\n",
      "  File \"C:\\Users\\sheka\\anaconda3\\envs\\tensorflow\\lib\\site-packages\\xgboost\\core.py\", line 532, in inner_f\n",
      "    return f(**kwargs)\n",
      "  File \"C:\\Users\\sheka\\anaconda3\\envs\\tensorflow\\lib\\site-packages\\xgboost\\training.py\", line 181, in train\n",
      "    bst.update(dtrain, i, obj)\n",
      "  File \"C:\\Users\\sheka\\anaconda3\\envs\\tensorflow\\lib\\site-packages\\xgboost\\core.py\", line 1733, in update\n",
      "    _check_call(_LIB.XGBoosterUpdateOneIter(self.handle,\n",
      "  File \"C:\\Users\\sheka\\anaconda3\\envs\\tensorflow\\lib\\site-packages\\xgboost\\core.py\", line 203, in _check_call\n",
      "    raise XGBoostError(py_str(_LIB.XGBGetLastError()))\n",
      "xgboost.core.XGBoostError: [15:25:33] C:/Users/Administrator/workspace/xgboost-win64_release_1.6.0/src/learner.cc:604: Invalid parameter \" learning_rate\" contains whitespace.\n",
      "\n",
      "  warnings.warn(\"Estimator fit failed. The score on this train-test\"\n"
     ]
    },
    {
     "name": "stdout",
     "output_type": "stream",
     "text": [
      "[CV]   learning_rate=0.01, max_depth=15, n_estimators=100, score=nan, total=   0.1s\n",
      "[CV]  learning_rate=0.01, max_depth=15, n_estimators=100 .............\n",
      "[CV]   learning_rate=0.01, max_depth=15, n_estimators=100, score=nan, total=   0.1s\n",
      "[CV]  learning_rate=0.01, max_depth=15, n_estimators=200 .............\n",
      "[CV]   learning_rate=0.01, max_depth=15, n_estimators=200, score=nan, total=   0.1s\n",
      "[CV]  learning_rate=0.01, max_depth=15, n_estimators=200 .............\n",
      "[CV]   learning_rate=0.01, max_depth=15, n_estimators=200, score=nan, total=   0.1s\n",
      "[CV]  learning_rate=0.01, max_depth=15, n_estimators=200 .............\n",
      "[CV]   learning_rate=0.01, max_depth=15, n_estimators=200, score=nan, total=   0.1s\n",
      "[CV]  learning_rate=0.01, max_depth=15, n_estimators=200 .............\n",
      "[CV]   learning_rate=0.01, max_depth=15, n_estimators=200, score=nan, total=   0.1s\n",
      "[CV]  learning_rate=0.01, max_depth=15, n_estimators=200 .............\n",
      "[CV]   learning_rate=0.01, max_depth=15, n_estimators=200, score=nan, total=   0.1s\n",
      "[CV]  learning_rate=0.01, max_depth=15, n_estimators=300 .............\n",
      "[CV]   learning_rate=0.01, max_depth=15, n_estimators=300, score=nan, total=   0.1s\n",
      "[CV]  learning_rate=0.01, max_depth=15, n_estimators=300 .............\n",
      "[CV]   learning_rate=0.01, max_depth=15, n_estimators=300, score=nan, total=   0.1s\n",
      "[CV]  learning_rate=0.01, max_depth=15, n_estimators=300 .............\n",
      "[CV]   learning_rate=0.01, max_depth=15, n_estimators=300, score=nan, total=   0.1s\n",
      "[CV]  learning_rate=0.01, max_depth=15, n_estimators=300 .............\n",
      "[CV]   learning_rate=0.01, max_depth=15, n_estimators=300, score=nan, total=   0.1s\n",
      "[CV]  learning_rate=0.01, max_depth=15, n_estimators=300 .............\n",
      "[CV]   learning_rate=0.01, max_depth=15, n_estimators=300, score=nan, total=   0.1s\n",
      "[CV]  learning_rate=0.001, max_depth=3, n_estimators=10 ..............\n"
     ]
    },
    {
     "name": "stderr",
     "output_type": "stream",
     "text": [
      "C:\\Users\\sheka\\anaconda3\\envs\\tensorflow\\lib\\site-packages\\sklearn\\model_selection\\_validation.py:548: FitFailedWarning: Estimator fit failed. The score on this train-test partition for these parameters will be set to nan. Details: \n",
      "Traceback (most recent call last):\n",
      "  File \"C:\\Users\\sheka\\anaconda3\\envs\\tensorflow\\lib\\site-packages\\sklearn\\model_selection\\_validation.py\", line 531, in _fit_and_score\n",
      "    estimator.fit(X_train, y_train, **fit_params)\n",
      "  File \"C:\\Users\\sheka\\anaconda3\\envs\\tensorflow\\lib\\site-packages\\xgboost\\core.py\", line 532, in inner_f\n",
      "    return f(**kwargs)\n",
      "  File \"C:\\Users\\sheka\\anaconda3\\envs\\tensorflow\\lib\\site-packages\\xgboost\\sklearn.py\", line 1400, in fit\n",
      "    self._Booster = train(\n",
      "  File \"C:\\Users\\sheka\\anaconda3\\envs\\tensorflow\\lib\\site-packages\\xgboost\\core.py\", line 532, in inner_f\n",
      "    return f(**kwargs)\n",
      "  File \"C:\\Users\\sheka\\anaconda3\\envs\\tensorflow\\lib\\site-packages\\xgboost\\training.py\", line 181, in train\n",
      "    bst.update(dtrain, i, obj)\n",
      "  File \"C:\\Users\\sheka\\anaconda3\\envs\\tensorflow\\lib\\site-packages\\xgboost\\core.py\", line 1733, in update\n",
      "    _check_call(_LIB.XGBoosterUpdateOneIter(self.handle,\n",
      "  File \"C:\\Users\\sheka\\anaconda3\\envs\\tensorflow\\lib\\site-packages\\xgboost\\core.py\", line 203, in _check_call\n",
      "    raise XGBoostError(py_str(_LIB.XGBGetLastError()))\n",
      "xgboost.core.XGBoostError: [15:25:34] C:/Users/Administrator/workspace/xgboost-win64_release_1.6.0/src/learner.cc:604: Invalid parameter \" learning_rate\" contains whitespace.\n",
      "\n",
      "  warnings.warn(\"Estimator fit failed. The score on this train-test\"\n"
     ]
    },
    {
     "name": "stdout",
     "output_type": "stream",
     "text": [
      "[CV]   learning_rate=0.001, max_depth=3, n_estimators=10, score=nan, total=   0.1s\n",
      "[CV]  learning_rate=0.001, max_depth=3, n_estimators=10 ..............\n",
      "[CV]   learning_rate=0.001, max_depth=3, n_estimators=10, score=nan, total=   0.1s\n",
      "[CV]  learning_rate=0.001, max_depth=3, n_estimators=10 ..............\n",
      "[CV]   learning_rate=0.001, max_depth=3, n_estimators=10, score=nan, total=   0.1s\n",
      "[CV]  learning_rate=0.001, max_depth=3, n_estimators=10 ..............\n",
      "[CV]   learning_rate=0.001, max_depth=3, n_estimators=10, score=nan, total=   0.1s\n",
      "[CV]  learning_rate=0.001, max_depth=3, n_estimators=10 ..............\n",
      "[CV]   learning_rate=0.001, max_depth=3, n_estimators=10, score=nan, total=   0.1s\n",
      "[CV]  learning_rate=0.001, max_depth=3, n_estimators=50 ..............\n",
      "[CV]   learning_rate=0.001, max_depth=3, n_estimators=50, score=nan, total=   0.1s\n",
      "[CV]  learning_rate=0.001, max_depth=3, n_estimators=50 ..............\n",
      "[CV]   learning_rate=0.001, max_depth=3, n_estimators=50, score=nan, total=   0.1s\n",
      "[CV]  learning_rate=0.001, max_depth=3, n_estimators=50 ..............\n",
      "[CV]   learning_rate=0.001, max_depth=3, n_estimators=50, score=nan, total=   0.1s\n",
      "[CV]  learning_rate=0.001, max_depth=3, n_estimators=50 ..............\n",
      "[CV]   learning_rate=0.001, max_depth=3, n_estimators=50, score=nan, total=   0.1s\n",
      "[CV]  learning_rate=0.001, max_depth=3, n_estimators=50 ..............\n",
      "[CV]   learning_rate=0.001, max_depth=3, n_estimators=50, score=nan, total=   0.1s\n",
      "[CV]  learning_rate=0.001, max_depth=3, n_estimators=100 .............\n",
      "[CV]   learning_rate=0.001, max_depth=3, n_estimators=100, score=nan, total=   0.1s\n",
      "[CV]  learning_rate=0.001, max_depth=3, n_estimators=100 .............\n",
      "[CV]   learning_rate=0.001, max_depth=3, n_estimators=100, score=nan, total=   0.1s\n",
      "[CV]  learning_rate=0.001, max_depth=3, n_estimators=100 .............\n",
      "[CV]   learning_rate=0.001, max_depth=3, n_estimators=100, score=nan, total=   0.1s\n",
      "[CV]  learning_rate=0.001, max_depth=3, n_estimators=100 .............\n",
      "[CV]   learning_rate=0.001, max_depth=3, n_estimators=100, score=nan, total=   0.1s\n",
      "[CV]  learning_rate=0.001, max_depth=3, n_estimators=100 .............\n"
     ]
    },
    {
     "name": "stderr",
     "output_type": "stream",
     "text": [
      "C:\\Users\\sheka\\anaconda3\\envs\\tensorflow\\lib\\site-packages\\sklearn\\model_selection\\_validation.py:548: FitFailedWarning: Estimator fit failed. The score on this train-test partition for these parameters will be set to nan. Details: \n",
      "Traceback (most recent call last):\n",
      "  File \"C:\\Users\\sheka\\anaconda3\\envs\\tensorflow\\lib\\site-packages\\sklearn\\model_selection\\_validation.py\", line 531, in _fit_and_score\n",
      "    estimator.fit(X_train, y_train, **fit_params)\n",
      "  File \"C:\\Users\\sheka\\anaconda3\\envs\\tensorflow\\lib\\site-packages\\xgboost\\core.py\", line 532, in inner_f\n",
      "    return f(**kwargs)\n",
      "  File \"C:\\Users\\sheka\\anaconda3\\envs\\tensorflow\\lib\\site-packages\\xgboost\\sklearn.py\", line 1400, in fit\n",
      "    self._Booster = train(\n",
      "  File \"C:\\Users\\sheka\\anaconda3\\envs\\tensorflow\\lib\\site-packages\\xgboost\\core.py\", line 532, in inner_f\n",
      "    return f(**kwargs)\n",
      "  File \"C:\\Users\\sheka\\anaconda3\\envs\\tensorflow\\lib\\site-packages\\xgboost\\training.py\", line 181, in train\n",
      "    bst.update(dtrain, i, obj)\n",
      "  File \"C:\\Users\\sheka\\anaconda3\\envs\\tensorflow\\lib\\site-packages\\xgboost\\core.py\", line 1733, in update\n",
      "    _check_call(_LIB.XGBoosterUpdateOneIter(self.handle,\n",
      "  File \"C:\\Users\\sheka\\anaconda3\\envs\\tensorflow\\lib\\site-packages\\xgboost\\core.py\", line 203, in _check_call\n",
      "    raise XGBoostError(py_str(_LIB.XGBGetLastError()))\n",
      "xgboost.core.XGBoostError: [15:25:35] C:/Users/Administrator/workspace/xgboost-win64_release_1.6.0/src/learner.cc:604: Invalid parameter \" learning_rate\" contains whitespace.\n",
      "\n",
      "  warnings.warn(\"Estimator fit failed. The score on this train-test\"\n"
     ]
    },
    {
     "name": "stdout",
     "output_type": "stream",
     "text": [
      "[CV]   learning_rate=0.001, max_depth=3, n_estimators=100, score=nan, total=   0.1s\n",
      "[CV]  learning_rate=0.001, max_depth=3, n_estimators=200 .............\n",
      "[CV]   learning_rate=0.001, max_depth=3, n_estimators=200, score=nan, total=   0.1s\n",
      "[CV]  learning_rate=0.001, max_depth=3, n_estimators=200 .............\n",
      "[CV]   learning_rate=0.001, max_depth=3, n_estimators=200, score=nan, total=   0.1s\n",
      "[CV]  learning_rate=0.001, max_depth=3, n_estimators=200 .............\n",
      "[CV]   learning_rate=0.001, max_depth=3, n_estimators=200, score=nan, total=   0.1s\n",
      "[CV]  learning_rate=0.001, max_depth=3, n_estimators=200 .............\n",
      "[CV]   learning_rate=0.001, max_depth=3, n_estimators=200, score=nan, total=   0.1s\n",
      "[CV]  learning_rate=0.001, max_depth=3, n_estimators=200 .............\n",
      "[CV]   learning_rate=0.001, max_depth=3, n_estimators=200, score=nan, total=   0.1s\n",
      "[CV]  learning_rate=0.001, max_depth=3, n_estimators=300 .............\n",
      "[CV]   learning_rate=0.001, max_depth=3, n_estimators=300, score=nan, total=   0.1s\n",
      "[CV]  learning_rate=0.001, max_depth=3, n_estimators=300 .............\n",
      "[CV]   learning_rate=0.001, max_depth=3, n_estimators=300, score=nan, total=   0.1s\n",
      "[CV]  learning_rate=0.001, max_depth=3, n_estimators=300 .............\n",
      "[CV]   learning_rate=0.001, max_depth=3, n_estimators=300, score=nan, total=   0.1s\n",
      "[CV]  learning_rate=0.001, max_depth=3, n_estimators=300 .............\n",
      "[CV]   learning_rate=0.001, max_depth=3, n_estimators=300, score=nan, total=   0.1s\n",
      "[CV]  learning_rate=0.001, max_depth=3, n_estimators=300 .............\n",
      "[CV]   learning_rate=0.001, max_depth=3, n_estimators=300, score=nan, total=   0.1s\n",
      "[CV]  learning_rate=0.001, max_depth=5, n_estimators=10 ..............\n",
      "[CV]   learning_rate=0.001, max_depth=5, n_estimators=10, score=nan, total=   0.1s\n",
      "[CV]  learning_rate=0.001, max_depth=5, n_estimators=10 ..............\n"
     ]
    },
    {
     "name": "stderr",
     "output_type": "stream",
     "text": [
      "C:\\Users\\sheka\\anaconda3\\envs\\tensorflow\\lib\\site-packages\\sklearn\\model_selection\\_validation.py:548: FitFailedWarning: Estimator fit failed. The score on this train-test partition for these parameters will be set to nan. Details: \n",
      "Traceback (most recent call last):\n",
      "  File \"C:\\Users\\sheka\\anaconda3\\envs\\tensorflow\\lib\\site-packages\\sklearn\\model_selection\\_validation.py\", line 531, in _fit_and_score\n",
      "    estimator.fit(X_train, y_train, **fit_params)\n",
      "  File \"C:\\Users\\sheka\\anaconda3\\envs\\tensorflow\\lib\\site-packages\\xgboost\\core.py\", line 532, in inner_f\n",
      "    return f(**kwargs)\n",
      "  File \"C:\\Users\\sheka\\anaconda3\\envs\\tensorflow\\lib\\site-packages\\xgboost\\sklearn.py\", line 1400, in fit\n",
      "    self._Booster = train(\n",
      "  File \"C:\\Users\\sheka\\anaconda3\\envs\\tensorflow\\lib\\site-packages\\xgboost\\core.py\", line 532, in inner_f\n",
      "    return f(**kwargs)\n",
      "  File \"C:\\Users\\sheka\\anaconda3\\envs\\tensorflow\\lib\\site-packages\\xgboost\\training.py\", line 181, in train\n",
      "    bst.update(dtrain, i, obj)\n",
      "  File \"C:\\Users\\sheka\\anaconda3\\envs\\tensorflow\\lib\\site-packages\\xgboost\\core.py\", line 1733, in update\n",
      "    _check_call(_LIB.XGBoosterUpdateOneIter(self.handle,\n",
      "  File \"C:\\Users\\sheka\\anaconda3\\envs\\tensorflow\\lib\\site-packages\\xgboost\\core.py\", line 203, in _check_call\n",
      "    raise XGBoostError(py_str(_LIB.XGBGetLastError()))\n",
      "xgboost.core.XGBoostError: [15:25:36] C:/Users/Administrator/workspace/xgboost-win64_release_1.6.0/src/learner.cc:604: Invalid parameter \" learning_rate\" contains whitespace.\n",
      "\n",
      "  warnings.warn(\"Estimator fit failed. The score on this train-test\"\n"
     ]
    },
    {
     "name": "stdout",
     "output_type": "stream",
     "text": [
      "[CV]   learning_rate=0.001, max_depth=5, n_estimators=10, score=nan, total=   0.1s\n",
      "[CV]  learning_rate=0.001, max_depth=5, n_estimators=10 ..............\n",
      "[CV]   learning_rate=0.001, max_depth=5, n_estimators=10, score=nan, total=   0.1s\n",
      "[CV]  learning_rate=0.001, max_depth=5, n_estimators=10 ..............\n",
      "[CV]   learning_rate=0.001, max_depth=5, n_estimators=10, score=nan, total=   0.1s\n",
      "[CV]  learning_rate=0.001, max_depth=5, n_estimators=10 ..............\n",
      "[CV]   learning_rate=0.001, max_depth=5, n_estimators=10, score=nan, total=   0.1s\n",
      "[CV]  learning_rate=0.001, max_depth=5, n_estimators=50 ..............\n",
      "[CV]   learning_rate=0.001, max_depth=5, n_estimators=50, score=nan, total=   0.1s\n",
      "[CV]  learning_rate=0.001, max_depth=5, n_estimators=50 ..............\n",
      "[CV]   learning_rate=0.001, max_depth=5, n_estimators=50, score=nan, total=   0.1s\n",
      "[CV]  learning_rate=0.001, max_depth=5, n_estimators=50 ..............\n",
      "[CV]   learning_rate=0.001, max_depth=5, n_estimators=50, score=nan, total=   0.1s\n",
      "[CV]  learning_rate=0.001, max_depth=5, n_estimators=50 ..............\n",
      "[CV]   learning_rate=0.001, max_depth=5, n_estimators=50, score=nan, total=   0.1s\n",
      "[CV]  learning_rate=0.001, max_depth=5, n_estimators=50 ..............\n",
      "[CV]   learning_rate=0.001, max_depth=5, n_estimators=50, score=nan, total=   0.1s\n",
      "[CV]  learning_rate=0.001, max_depth=5, n_estimators=100 .............\n",
      "[CV]   learning_rate=0.001, max_depth=5, n_estimators=100, score=nan, total=   0.1s\n",
      "[CV]  learning_rate=0.001, max_depth=5, n_estimators=100 .............\n",
      "[CV]   learning_rate=0.001, max_depth=5, n_estimators=100, score=nan, total=   0.1s\n",
      "[CV]  learning_rate=0.001, max_depth=5, n_estimators=100 .............\n"
     ]
    },
    {
     "name": "stderr",
     "output_type": "stream",
     "text": [
      "C:\\Users\\sheka\\anaconda3\\envs\\tensorflow\\lib\\site-packages\\sklearn\\model_selection\\_validation.py:548: FitFailedWarning: Estimator fit failed. The score on this train-test partition for these parameters will be set to nan. Details: \n",
      "Traceback (most recent call last):\n",
      "  File \"C:\\Users\\sheka\\anaconda3\\envs\\tensorflow\\lib\\site-packages\\sklearn\\model_selection\\_validation.py\", line 531, in _fit_and_score\n",
      "    estimator.fit(X_train, y_train, **fit_params)\n",
      "  File \"C:\\Users\\sheka\\anaconda3\\envs\\tensorflow\\lib\\site-packages\\xgboost\\core.py\", line 532, in inner_f\n",
      "    return f(**kwargs)\n",
      "  File \"C:\\Users\\sheka\\anaconda3\\envs\\tensorflow\\lib\\site-packages\\xgboost\\sklearn.py\", line 1400, in fit\n",
      "    self._Booster = train(\n",
      "  File \"C:\\Users\\sheka\\anaconda3\\envs\\tensorflow\\lib\\site-packages\\xgboost\\core.py\", line 532, in inner_f\n",
      "    return f(**kwargs)\n",
      "  File \"C:\\Users\\sheka\\anaconda3\\envs\\tensorflow\\lib\\site-packages\\xgboost\\training.py\", line 181, in train\n",
      "    bst.update(dtrain, i, obj)\n",
      "  File \"C:\\Users\\sheka\\anaconda3\\envs\\tensorflow\\lib\\site-packages\\xgboost\\core.py\", line 1733, in update\n",
      "    _check_call(_LIB.XGBoosterUpdateOneIter(self.handle,\n",
      "  File \"C:\\Users\\sheka\\anaconda3\\envs\\tensorflow\\lib\\site-packages\\xgboost\\core.py\", line 203, in _check_call\n",
      "    raise XGBoostError(py_str(_LIB.XGBGetLastError()))\n",
      "xgboost.core.XGBoostError: [15:25:37] C:/Users/Administrator/workspace/xgboost-win64_release_1.6.0/src/learner.cc:604: Invalid parameter \" learning_rate\" contains whitespace.\n",
      "\n",
      "  warnings.warn(\"Estimator fit failed. The score on this train-test\"\n"
     ]
    },
    {
     "name": "stdout",
     "output_type": "stream",
     "text": [
      "[CV]   learning_rate=0.001, max_depth=5, n_estimators=100, score=nan, total=   0.1s\n",
      "[CV]  learning_rate=0.001, max_depth=5, n_estimators=100 .............\n",
      "[CV]   learning_rate=0.001, max_depth=5, n_estimators=100, score=nan, total=   0.1s\n",
      "[CV]  learning_rate=0.001, max_depth=5, n_estimators=100 .............\n",
      "[CV]   learning_rate=0.001, max_depth=5, n_estimators=100, score=nan, total=   0.1s\n",
      "[CV]  learning_rate=0.001, max_depth=5, n_estimators=200 .............\n",
      "[CV]   learning_rate=0.001, max_depth=5, n_estimators=200, score=nan, total=   0.1s\n",
      "[CV]  learning_rate=0.001, max_depth=5, n_estimators=200 .............\n",
      "[CV]   learning_rate=0.001, max_depth=5, n_estimators=200, score=nan, total=   0.1s\n",
      "[CV]  learning_rate=0.001, max_depth=5, n_estimators=200 .............\n",
      "[CV]   learning_rate=0.001, max_depth=5, n_estimators=200, score=nan, total=   0.1s\n",
      "[CV]  learning_rate=0.001, max_depth=5, n_estimators=200 .............\n",
      "[CV]   learning_rate=0.001, max_depth=5, n_estimators=200, score=nan, total=   0.1s\n",
      "[CV]  learning_rate=0.001, max_depth=5, n_estimators=200 .............\n",
      "[CV]   learning_rate=0.001, max_depth=5, n_estimators=200, score=nan, total=   0.1s\n",
      "[CV]  learning_rate=0.001, max_depth=5, n_estimators=300 .............\n",
      "[CV]   learning_rate=0.001, max_depth=5, n_estimators=300, score=nan, total=   0.1s\n",
      "[CV]  learning_rate=0.001, max_depth=5, n_estimators=300 .............\n",
      "[CV]   learning_rate=0.001, max_depth=5, n_estimators=300, score=nan, total=   0.1s\n",
      "[CV]  learning_rate=0.001, max_depth=5, n_estimators=300 .............\n",
      "[CV]   learning_rate=0.001, max_depth=5, n_estimators=300, score=nan, total=   0.1s\n",
      "[CV]  learning_rate=0.001, max_depth=5, n_estimators=300 .............\n",
      "[CV]   learning_rate=0.001, max_depth=5, n_estimators=300, score=nan, total=   0.1s\n",
      "[CV]  learning_rate=0.001, max_depth=5, n_estimators=300 .............\n"
     ]
    },
    {
     "name": "stderr",
     "output_type": "stream",
     "text": [
      "C:\\Users\\sheka\\anaconda3\\envs\\tensorflow\\lib\\site-packages\\sklearn\\model_selection\\_validation.py:548: FitFailedWarning: Estimator fit failed. The score on this train-test partition for these parameters will be set to nan. Details: \n",
      "Traceback (most recent call last):\n",
      "  File \"C:\\Users\\sheka\\anaconda3\\envs\\tensorflow\\lib\\site-packages\\sklearn\\model_selection\\_validation.py\", line 531, in _fit_and_score\n",
      "    estimator.fit(X_train, y_train, **fit_params)\n",
      "  File \"C:\\Users\\sheka\\anaconda3\\envs\\tensorflow\\lib\\site-packages\\xgboost\\core.py\", line 532, in inner_f\n",
      "    return f(**kwargs)\n",
      "  File \"C:\\Users\\sheka\\anaconda3\\envs\\tensorflow\\lib\\site-packages\\xgboost\\sklearn.py\", line 1400, in fit\n",
      "    self._Booster = train(\n",
      "  File \"C:\\Users\\sheka\\anaconda3\\envs\\tensorflow\\lib\\site-packages\\xgboost\\core.py\", line 532, in inner_f\n",
      "    return f(**kwargs)\n",
      "  File \"C:\\Users\\sheka\\anaconda3\\envs\\tensorflow\\lib\\site-packages\\xgboost\\training.py\", line 181, in train\n",
      "    bst.update(dtrain, i, obj)\n",
      "  File \"C:\\Users\\sheka\\anaconda3\\envs\\tensorflow\\lib\\site-packages\\xgboost\\core.py\", line 1733, in update\n",
      "    _check_call(_LIB.XGBoosterUpdateOneIter(self.handle,\n",
      "  File \"C:\\Users\\sheka\\anaconda3\\envs\\tensorflow\\lib\\site-packages\\xgboost\\core.py\", line 203, in _check_call\n",
      "    raise XGBoostError(py_str(_LIB.XGBGetLastError()))\n",
      "xgboost.core.XGBoostError: [15:25:38] C:/Users/Administrator/workspace/xgboost-win64_release_1.6.0/src/learner.cc:604: Invalid parameter \" learning_rate\" contains whitespace.\n",
      "\n",
      "  warnings.warn(\"Estimator fit failed. The score on this train-test\"\n"
     ]
    },
    {
     "name": "stdout",
     "output_type": "stream",
     "text": [
      "[CV]   learning_rate=0.001, max_depth=5, n_estimators=300, score=nan, total=   0.1s\n",
      "[CV]  learning_rate=0.001, max_depth=7, n_estimators=10 ..............\n",
      "[CV]   learning_rate=0.001, max_depth=7, n_estimators=10, score=nan, total=   0.1s\n",
      "[CV]  learning_rate=0.001, max_depth=7, n_estimators=10 ..............\n",
      "[CV]   learning_rate=0.001, max_depth=7, n_estimators=10, score=nan, total=   0.1s\n",
      "[CV]  learning_rate=0.001, max_depth=7, n_estimators=10 ..............\n",
      "[CV]   learning_rate=0.001, max_depth=7, n_estimators=10, score=nan, total=   0.1s\n",
      "[CV]  learning_rate=0.001, max_depth=7, n_estimators=10 ..............\n",
      "[CV]   learning_rate=0.001, max_depth=7, n_estimators=10, score=nan, total=   0.1s\n",
      "[CV]  learning_rate=0.001, max_depth=7, n_estimators=10 ..............\n",
      "[CV]   learning_rate=0.001, max_depth=7, n_estimators=10, score=nan, total=   0.1s\n",
      "[CV]  learning_rate=0.001, max_depth=7, n_estimators=50 ..............\n",
      "[CV]   learning_rate=0.001, max_depth=7, n_estimators=50, score=nan, total=   0.1s\n",
      "[CV]  learning_rate=0.001, max_depth=7, n_estimators=50 ..............\n",
      "[CV]   learning_rate=0.001, max_depth=7, n_estimators=50, score=nan, total=   0.1s\n",
      "[CV]  learning_rate=0.001, max_depth=7, n_estimators=50 ..............\n",
      "[CV]   learning_rate=0.001, max_depth=7, n_estimators=50, score=nan, total=   0.1s\n",
      "[CV]  learning_rate=0.001, max_depth=7, n_estimators=50 ..............\n",
      "[CV]   learning_rate=0.001, max_depth=7, n_estimators=50, score=nan, total=   0.1s\n",
      "[CV]  learning_rate=0.001, max_depth=7, n_estimators=50 ..............\n",
      "[CV]   learning_rate=0.001, max_depth=7, n_estimators=50, score=nan, total=   0.1s\n",
      "[CV]  learning_rate=0.001, max_depth=7, n_estimators=100 .............\n",
      "[CV]   learning_rate=0.001, max_depth=7, n_estimators=100, score=nan, total=   0.1s\n",
      "[CV]  learning_rate=0.001, max_depth=7, n_estimators=100 .............\n"
     ]
    },
    {
     "name": "stderr",
     "output_type": "stream",
     "text": [
      "C:\\Users\\sheka\\anaconda3\\envs\\tensorflow\\lib\\site-packages\\sklearn\\model_selection\\_validation.py:548: FitFailedWarning: Estimator fit failed. The score on this train-test partition for these parameters will be set to nan. Details: \n",
      "Traceback (most recent call last):\n",
      "  File \"C:\\Users\\sheka\\anaconda3\\envs\\tensorflow\\lib\\site-packages\\sklearn\\model_selection\\_validation.py\", line 531, in _fit_and_score\n",
      "    estimator.fit(X_train, y_train, **fit_params)\n",
      "  File \"C:\\Users\\sheka\\anaconda3\\envs\\tensorflow\\lib\\site-packages\\xgboost\\core.py\", line 532, in inner_f\n",
      "    return f(**kwargs)\n",
      "  File \"C:\\Users\\sheka\\anaconda3\\envs\\tensorflow\\lib\\site-packages\\xgboost\\sklearn.py\", line 1400, in fit\n",
      "    self._Booster = train(\n",
      "  File \"C:\\Users\\sheka\\anaconda3\\envs\\tensorflow\\lib\\site-packages\\xgboost\\core.py\", line 532, in inner_f\n",
      "    return f(**kwargs)\n",
      "  File \"C:\\Users\\sheka\\anaconda3\\envs\\tensorflow\\lib\\site-packages\\xgboost\\training.py\", line 181, in train\n",
      "    bst.update(dtrain, i, obj)\n",
      "  File \"C:\\Users\\sheka\\anaconda3\\envs\\tensorflow\\lib\\site-packages\\xgboost\\core.py\", line 1733, in update\n",
      "    _check_call(_LIB.XGBoosterUpdateOneIter(self.handle,\n",
      "  File \"C:\\Users\\sheka\\anaconda3\\envs\\tensorflow\\lib\\site-packages\\xgboost\\core.py\", line 203, in _check_call\n",
      "    raise XGBoostError(py_str(_LIB.XGBGetLastError()))\n",
      "xgboost.core.XGBoostError: [15:25:39] C:/Users/Administrator/workspace/xgboost-win64_release_1.6.0/src/learner.cc:604: Invalid parameter \" learning_rate\" contains whitespace.\n",
      "\n",
      "  warnings.warn(\"Estimator fit failed. The score on this train-test\"\n"
     ]
    },
    {
     "name": "stdout",
     "output_type": "stream",
     "text": [
      "[CV]   learning_rate=0.001, max_depth=7, n_estimators=100, score=nan, total=   0.1s\n",
      "[CV]  learning_rate=0.001, max_depth=7, n_estimators=100 .............\n",
      "[CV]   learning_rate=0.001, max_depth=7, n_estimators=100, score=nan, total=   0.1s\n",
      "[CV]  learning_rate=0.001, max_depth=7, n_estimators=100 .............\n",
      "[CV]   learning_rate=0.001, max_depth=7, n_estimators=100, score=nan, total=   0.1s\n",
      "[CV]  learning_rate=0.001, max_depth=7, n_estimators=100 .............\n",
      "[CV]   learning_rate=0.001, max_depth=7, n_estimators=100, score=nan, total=   0.1s\n",
      "[CV]  learning_rate=0.001, max_depth=7, n_estimators=200 .............\n",
      "[CV]   learning_rate=0.001, max_depth=7, n_estimators=200, score=nan, total=   0.1s\n",
      "[CV]  learning_rate=0.001, max_depth=7, n_estimators=200 .............\n",
      "[CV]   learning_rate=0.001, max_depth=7, n_estimators=200, score=nan, total=   0.1s\n",
      "[CV]  learning_rate=0.001, max_depth=7, n_estimators=200 .............\n",
      "[CV]   learning_rate=0.001, max_depth=7, n_estimators=200, score=nan, total=   0.1s\n",
      "[CV]  learning_rate=0.001, max_depth=7, n_estimators=200 .............\n",
      "[CV]   learning_rate=0.001, max_depth=7, n_estimators=200, score=nan, total=   0.1s\n",
      "[CV]  learning_rate=0.001, max_depth=7, n_estimators=200 .............\n",
      "[CV]   learning_rate=0.001, max_depth=7, n_estimators=200, score=nan, total=   0.1s\n",
      "[CV]  learning_rate=0.001, max_depth=7, n_estimators=300 .............\n",
      "[CV]   learning_rate=0.001, max_depth=7, n_estimators=300, score=nan, total=   0.1s\n",
      "[CV]  learning_rate=0.001, max_depth=7, n_estimators=300 .............\n",
      "[CV]   learning_rate=0.001, max_depth=7, n_estimators=300, score=nan, total=   0.1s\n",
      "[CV]  learning_rate=0.001, max_depth=7, n_estimators=300 .............\n",
      "[CV]   learning_rate=0.001, max_depth=7, n_estimators=300, score=nan, total=   0.1s\n",
      "[CV]  learning_rate=0.001, max_depth=7, n_estimators=300 .............\n"
     ]
    },
    {
     "name": "stderr",
     "output_type": "stream",
     "text": [
      "C:\\Users\\sheka\\anaconda3\\envs\\tensorflow\\lib\\site-packages\\sklearn\\model_selection\\_validation.py:548: FitFailedWarning: Estimator fit failed. The score on this train-test partition for these parameters will be set to nan. Details: \n",
      "Traceback (most recent call last):\n",
      "  File \"C:\\Users\\sheka\\anaconda3\\envs\\tensorflow\\lib\\site-packages\\sklearn\\model_selection\\_validation.py\", line 531, in _fit_and_score\n",
      "    estimator.fit(X_train, y_train, **fit_params)\n",
      "  File \"C:\\Users\\sheka\\anaconda3\\envs\\tensorflow\\lib\\site-packages\\xgboost\\core.py\", line 532, in inner_f\n",
      "    return f(**kwargs)\n",
      "  File \"C:\\Users\\sheka\\anaconda3\\envs\\tensorflow\\lib\\site-packages\\xgboost\\sklearn.py\", line 1400, in fit\n",
      "    self._Booster = train(\n",
      "  File \"C:\\Users\\sheka\\anaconda3\\envs\\tensorflow\\lib\\site-packages\\xgboost\\core.py\", line 532, in inner_f\n",
      "    return f(**kwargs)\n",
      "  File \"C:\\Users\\sheka\\anaconda3\\envs\\tensorflow\\lib\\site-packages\\xgboost\\training.py\", line 181, in train\n",
      "    bst.update(dtrain, i, obj)\n",
      "  File \"C:\\Users\\sheka\\anaconda3\\envs\\tensorflow\\lib\\site-packages\\xgboost\\core.py\", line 1733, in update\n",
      "    _check_call(_LIB.XGBoosterUpdateOneIter(self.handle,\n",
      "  File \"C:\\Users\\sheka\\anaconda3\\envs\\tensorflow\\lib\\site-packages\\xgboost\\core.py\", line 203, in _check_call\n",
      "    raise XGBoostError(py_str(_LIB.XGBGetLastError()))\n",
      "xgboost.core.XGBoostError: [15:25:40] C:/Users/Administrator/workspace/xgboost-win64_release_1.6.0/src/learner.cc:604: Invalid parameter \" learning_rate\" contains whitespace.\n",
      "\n",
      "  warnings.warn(\"Estimator fit failed. The score on this train-test\"\n"
     ]
    },
    {
     "name": "stdout",
     "output_type": "stream",
     "text": [
      "[CV]   learning_rate=0.001, max_depth=7, n_estimators=300, score=nan, total=   0.1s\n",
      "[CV]  learning_rate=0.001, max_depth=7, n_estimators=300 .............\n",
      "[CV]   learning_rate=0.001, max_depth=7, n_estimators=300, score=nan, total=   0.1s\n",
      "[CV]  learning_rate=0.001, max_depth=9, n_estimators=10 ..............\n",
      "[CV]   learning_rate=0.001, max_depth=9, n_estimators=10, score=nan, total=   0.1s\n",
      "[CV]  learning_rate=0.001, max_depth=9, n_estimators=10 ..............\n",
      "[CV]   learning_rate=0.001, max_depth=9, n_estimators=10, score=nan, total=   0.1s\n",
      "[CV]  learning_rate=0.001, max_depth=9, n_estimators=10 ..............\n",
      "[CV]   learning_rate=0.001, max_depth=9, n_estimators=10, score=nan, total=   0.1s\n",
      "[CV]  learning_rate=0.001, max_depth=9, n_estimators=10 ..............\n",
      "[CV]   learning_rate=0.001, max_depth=9, n_estimators=10, score=nan, total=   0.1s\n",
      "[CV]  learning_rate=0.001, max_depth=9, n_estimators=10 ..............\n",
      "[CV]   learning_rate=0.001, max_depth=9, n_estimators=10, score=nan, total=   0.1s\n",
      "[CV]  learning_rate=0.001, max_depth=9, n_estimators=50 ..............\n",
      "[CV]   learning_rate=0.001, max_depth=9, n_estimators=50, score=nan, total=   0.1s\n",
      "[CV]  learning_rate=0.001, max_depth=9, n_estimators=50 ..............\n",
      "[CV]   learning_rate=0.001, max_depth=9, n_estimators=50, score=nan, total=   0.1s\n",
      "[CV]  learning_rate=0.001, max_depth=9, n_estimators=50 ..............\n",
      "[CV]   learning_rate=0.001, max_depth=9, n_estimators=50, score=nan, total=   0.1s\n",
      "[CV]  learning_rate=0.001, max_depth=9, n_estimators=50 ..............\n",
      "[CV]   learning_rate=0.001, max_depth=9, n_estimators=50, score=nan, total=   0.1s\n",
      "[CV]  learning_rate=0.001, max_depth=9, n_estimators=50 ..............\n",
      "[CV]   learning_rate=0.001, max_depth=9, n_estimators=50, score=nan, total=   0.1s\n",
      "[CV]  learning_rate=0.001, max_depth=9, n_estimators=100 .............\n"
     ]
    },
    {
     "name": "stderr",
     "output_type": "stream",
     "text": [
      "C:\\Users\\sheka\\anaconda3\\envs\\tensorflow\\lib\\site-packages\\sklearn\\model_selection\\_validation.py:548: FitFailedWarning: Estimator fit failed. The score on this train-test partition for these parameters will be set to nan. Details: \n",
      "Traceback (most recent call last):\n",
      "  File \"C:\\Users\\sheka\\anaconda3\\envs\\tensorflow\\lib\\site-packages\\sklearn\\model_selection\\_validation.py\", line 531, in _fit_and_score\n",
      "    estimator.fit(X_train, y_train, **fit_params)\n",
      "  File \"C:\\Users\\sheka\\anaconda3\\envs\\tensorflow\\lib\\site-packages\\xgboost\\core.py\", line 532, in inner_f\n",
      "    return f(**kwargs)\n",
      "  File \"C:\\Users\\sheka\\anaconda3\\envs\\tensorflow\\lib\\site-packages\\xgboost\\sklearn.py\", line 1400, in fit\n",
      "    self._Booster = train(\n",
      "  File \"C:\\Users\\sheka\\anaconda3\\envs\\tensorflow\\lib\\site-packages\\xgboost\\core.py\", line 532, in inner_f\n",
      "    return f(**kwargs)\n",
      "  File \"C:\\Users\\sheka\\anaconda3\\envs\\tensorflow\\lib\\site-packages\\xgboost\\training.py\", line 181, in train\n",
      "    bst.update(dtrain, i, obj)\n",
      "  File \"C:\\Users\\sheka\\anaconda3\\envs\\tensorflow\\lib\\site-packages\\xgboost\\core.py\", line 1733, in update\n",
      "    _check_call(_LIB.XGBoosterUpdateOneIter(self.handle,\n",
      "  File \"C:\\Users\\sheka\\anaconda3\\envs\\tensorflow\\lib\\site-packages\\xgboost\\core.py\", line 203, in _check_call\n",
      "    raise XGBoostError(py_str(_LIB.XGBGetLastError()))\n",
      "xgboost.core.XGBoostError: [15:25:41] C:/Users/Administrator/workspace/xgboost-win64_release_1.6.0/src/learner.cc:604: Invalid parameter \" learning_rate\" contains whitespace.\n",
      "\n",
      "  warnings.warn(\"Estimator fit failed. The score on this train-test\"\n"
     ]
    },
    {
     "name": "stdout",
     "output_type": "stream",
     "text": [
      "[CV]   learning_rate=0.001, max_depth=9, n_estimators=100, score=nan, total=   0.1s\n",
      "[CV]  learning_rate=0.001, max_depth=9, n_estimators=100 .............\n",
      "[CV]   learning_rate=0.001, max_depth=9, n_estimators=100, score=nan, total=   0.1s\n",
      "[CV]  learning_rate=0.001, max_depth=9, n_estimators=100 .............\n",
      "[CV]   learning_rate=0.001, max_depth=9, n_estimators=100, score=nan, total=   0.1s\n",
      "[CV]  learning_rate=0.001, max_depth=9, n_estimators=100 .............\n",
      "[CV]   learning_rate=0.001, max_depth=9, n_estimators=100, score=nan, total=   0.1s\n",
      "[CV]  learning_rate=0.001, max_depth=9, n_estimators=100 .............\n",
      "[CV]   learning_rate=0.001, max_depth=9, n_estimators=100, score=nan, total=   0.1s\n",
      "[CV]  learning_rate=0.001, max_depth=9, n_estimators=200 .............\n",
      "[CV]   learning_rate=0.001, max_depth=9, n_estimators=200, score=nan, total=   0.1s\n",
      "[CV]  learning_rate=0.001, max_depth=9, n_estimators=200 .............\n",
      "[CV]   learning_rate=0.001, max_depth=9, n_estimators=200, score=nan, total=   0.1s\n",
      "[CV]  learning_rate=0.001, max_depth=9, n_estimators=200 .............\n",
      "[CV]   learning_rate=0.001, max_depth=9, n_estimators=200, score=nan, total=   0.1s\n",
      "[CV]  learning_rate=0.001, max_depth=9, n_estimators=200 .............\n",
      "[CV]   learning_rate=0.001, max_depth=9, n_estimators=200, score=nan, total=   0.1s\n",
      "[CV]  learning_rate=0.001, max_depth=9, n_estimators=200 .............\n",
      "[CV]   learning_rate=0.001, max_depth=9, n_estimators=200, score=nan, total=   0.1s\n",
      "[CV]  learning_rate=0.001, max_depth=9, n_estimators=300 .............\n",
      "[CV]   learning_rate=0.001, max_depth=9, n_estimators=300, score=nan, total=   0.1s\n",
      "[CV]  learning_rate=0.001, max_depth=9, n_estimators=300 .............\n"
     ]
    },
    {
     "name": "stderr",
     "output_type": "stream",
     "text": [
      "C:\\Users\\sheka\\anaconda3\\envs\\tensorflow\\lib\\site-packages\\sklearn\\model_selection\\_validation.py:548: FitFailedWarning: Estimator fit failed. The score on this train-test partition for these parameters will be set to nan. Details: \n",
      "Traceback (most recent call last):\n",
      "  File \"C:\\Users\\sheka\\anaconda3\\envs\\tensorflow\\lib\\site-packages\\sklearn\\model_selection\\_validation.py\", line 531, in _fit_and_score\n",
      "    estimator.fit(X_train, y_train, **fit_params)\n",
      "  File \"C:\\Users\\sheka\\anaconda3\\envs\\tensorflow\\lib\\site-packages\\xgboost\\core.py\", line 532, in inner_f\n",
      "    return f(**kwargs)\n",
      "  File \"C:\\Users\\sheka\\anaconda3\\envs\\tensorflow\\lib\\site-packages\\xgboost\\sklearn.py\", line 1400, in fit\n",
      "    self._Booster = train(\n",
      "  File \"C:\\Users\\sheka\\anaconda3\\envs\\tensorflow\\lib\\site-packages\\xgboost\\core.py\", line 532, in inner_f\n",
      "    return f(**kwargs)\n",
      "  File \"C:\\Users\\sheka\\anaconda3\\envs\\tensorflow\\lib\\site-packages\\xgboost\\training.py\", line 181, in train\n",
      "    bst.update(dtrain, i, obj)\n",
      "  File \"C:\\Users\\sheka\\anaconda3\\envs\\tensorflow\\lib\\site-packages\\xgboost\\core.py\", line 1733, in update\n",
      "    _check_call(_LIB.XGBoosterUpdateOneIter(self.handle,\n",
      "  File \"C:\\Users\\sheka\\anaconda3\\envs\\tensorflow\\lib\\site-packages\\xgboost\\core.py\", line 203, in _check_call\n",
      "    raise XGBoostError(py_str(_LIB.XGBGetLastError()))\n",
      "xgboost.core.XGBoostError: [15:25:42] C:/Users/Administrator/workspace/xgboost-win64_release_1.6.0/src/learner.cc:604: Invalid parameter \" learning_rate\" contains whitespace.\n",
      "\n",
      "  warnings.warn(\"Estimator fit failed. The score on this train-test\"\n"
     ]
    },
    {
     "name": "stdout",
     "output_type": "stream",
     "text": [
      "[CV]   learning_rate=0.001, max_depth=9, n_estimators=300, score=nan, total=   0.1s\n",
      "[CV]  learning_rate=0.001, max_depth=9, n_estimators=300 .............\n",
      "[CV]   learning_rate=0.001, max_depth=9, n_estimators=300, score=nan, total=   0.1s\n",
      "[CV]  learning_rate=0.001, max_depth=9, n_estimators=300 .............\n",
      "[CV]   learning_rate=0.001, max_depth=9, n_estimators=300, score=nan, total=   0.1s\n",
      "[CV]  learning_rate=0.001, max_depth=9, n_estimators=300 .............\n",
      "[CV]   learning_rate=0.001, max_depth=9, n_estimators=300, score=nan, total=   0.1s\n",
      "[CV]  learning_rate=0.001, max_depth=11, n_estimators=10 .............\n",
      "[CV]   learning_rate=0.001, max_depth=11, n_estimators=10, score=nan, total=   0.1s\n",
      "[CV]  learning_rate=0.001, max_depth=11, n_estimators=10 .............\n",
      "[CV]   learning_rate=0.001, max_depth=11, n_estimators=10, score=nan, total=   0.1s\n",
      "[CV]  learning_rate=0.001, max_depth=11, n_estimators=10 .............\n",
      "[CV]   learning_rate=0.001, max_depth=11, n_estimators=10, score=nan, total=   0.1s\n",
      "[CV]  learning_rate=0.001, max_depth=11, n_estimators=10 .............\n",
      "[CV]   learning_rate=0.001, max_depth=11, n_estimators=10, score=nan, total=   0.1s\n",
      "[CV]  learning_rate=0.001, max_depth=11, n_estimators=10 .............\n",
      "[CV]   learning_rate=0.001, max_depth=11, n_estimators=10, score=nan, total=   0.1s\n",
      "[CV]  learning_rate=0.001, max_depth=11, n_estimators=50 .............\n",
      "[CV]   learning_rate=0.001, max_depth=11, n_estimators=50, score=nan, total=   0.1s\n",
      "[CV]  learning_rate=0.001, max_depth=11, n_estimators=50 .............\n",
      "[CV]   learning_rate=0.001, max_depth=11, n_estimators=50, score=nan, total=   0.1s\n",
      "[CV]  learning_rate=0.001, max_depth=11, n_estimators=50 .............\n",
      "[CV]   learning_rate=0.001, max_depth=11, n_estimators=50, score=nan, total=   0.1s\n",
      "[CV]  learning_rate=0.001, max_depth=11, n_estimators=50 .............\n"
     ]
    },
    {
     "name": "stderr",
     "output_type": "stream",
     "text": [
      "C:\\Users\\sheka\\anaconda3\\envs\\tensorflow\\lib\\site-packages\\sklearn\\model_selection\\_validation.py:548: FitFailedWarning: Estimator fit failed. The score on this train-test partition for these parameters will be set to nan. Details: \n",
      "Traceback (most recent call last):\n",
      "  File \"C:\\Users\\sheka\\anaconda3\\envs\\tensorflow\\lib\\site-packages\\sklearn\\model_selection\\_validation.py\", line 531, in _fit_and_score\n",
      "    estimator.fit(X_train, y_train, **fit_params)\n",
      "  File \"C:\\Users\\sheka\\anaconda3\\envs\\tensorflow\\lib\\site-packages\\xgboost\\core.py\", line 532, in inner_f\n",
      "    return f(**kwargs)\n",
      "  File \"C:\\Users\\sheka\\anaconda3\\envs\\tensorflow\\lib\\site-packages\\xgboost\\sklearn.py\", line 1400, in fit\n",
      "    self._Booster = train(\n",
      "  File \"C:\\Users\\sheka\\anaconda3\\envs\\tensorflow\\lib\\site-packages\\xgboost\\core.py\", line 532, in inner_f\n",
      "    return f(**kwargs)\n",
      "  File \"C:\\Users\\sheka\\anaconda3\\envs\\tensorflow\\lib\\site-packages\\xgboost\\training.py\", line 181, in train\n",
      "    bst.update(dtrain, i, obj)\n",
      "  File \"C:\\Users\\sheka\\anaconda3\\envs\\tensorflow\\lib\\site-packages\\xgboost\\core.py\", line 1733, in update\n",
      "    _check_call(_LIB.XGBoosterUpdateOneIter(self.handle,\n",
      "  File \"C:\\Users\\sheka\\anaconda3\\envs\\tensorflow\\lib\\site-packages\\xgboost\\core.py\", line 203, in _check_call\n",
      "    raise XGBoostError(py_str(_LIB.XGBGetLastError()))\n",
      "xgboost.core.XGBoostError: [15:25:43] C:/Users/Administrator/workspace/xgboost-win64_release_1.6.0/src/learner.cc:604: Invalid parameter \" learning_rate\" contains whitespace.\n",
      "\n",
      "  warnings.warn(\"Estimator fit failed. The score on this train-test\"\n"
     ]
    },
    {
     "name": "stdout",
     "output_type": "stream",
     "text": [
      "[CV]   learning_rate=0.001, max_depth=11, n_estimators=50, score=nan, total=   0.1s\n",
      "[CV]  learning_rate=0.001, max_depth=11, n_estimators=50 .............\n",
      "[CV]   learning_rate=0.001, max_depth=11, n_estimators=50, score=nan, total=   0.1s\n",
      "[CV]  learning_rate=0.001, max_depth=11, n_estimators=100 ............\n",
      "[CV]   learning_rate=0.001, max_depth=11, n_estimators=100, score=nan, total=   0.1s\n",
      "[CV]  learning_rate=0.001, max_depth=11, n_estimators=100 ............\n",
      "[CV]   learning_rate=0.001, max_depth=11, n_estimators=100, score=nan, total=   0.1s\n",
      "[CV]  learning_rate=0.001, max_depth=11, n_estimators=100 ............\n",
      "[CV]   learning_rate=0.001, max_depth=11, n_estimators=100, score=nan, total=   0.1s\n",
      "[CV]  learning_rate=0.001, max_depth=11, n_estimators=100 ............\n",
      "[CV]   learning_rate=0.001, max_depth=11, n_estimators=100, score=nan, total=   0.1s\n",
      "[CV]  learning_rate=0.001, max_depth=11, n_estimators=100 ............\n",
      "[CV]   learning_rate=0.001, max_depth=11, n_estimators=100, score=nan, total=   0.1s\n",
      "[CV]  learning_rate=0.001, max_depth=11, n_estimators=200 ............\n",
      "[CV]   learning_rate=0.001, max_depth=11, n_estimators=200, score=nan, total=   0.1s\n",
      "[CV]  learning_rate=0.001, max_depth=11, n_estimators=200 ............\n",
      "[CV]   learning_rate=0.001, max_depth=11, n_estimators=200, score=nan, total=   0.1s\n",
      "[CV]  learning_rate=0.001, max_depth=11, n_estimators=200 ............\n",
      "[CV]   learning_rate=0.001, max_depth=11, n_estimators=200, score=nan, total=   0.1s\n",
      "[CV]  learning_rate=0.001, max_depth=11, n_estimators=200 ............\n",
      "[CV]   learning_rate=0.001, max_depth=11, n_estimators=200, score=nan, total=   0.1s\n",
      "[CV]  learning_rate=0.001, max_depth=11, n_estimators=200 ............\n",
      "[CV]   learning_rate=0.001, max_depth=11, n_estimators=200, score=nan, total=   0.1s\n",
      "[CV]  learning_rate=0.001, max_depth=11, n_estimators=300 ............\n",
      "[CV]   learning_rate=0.001, max_depth=11, n_estimators=300, score=nan, total=   0.1s\n",
      "[CV]  learning_rate=0.001, max_depth=11, n_estimators=300 ............\n",
      "[CV]   learning_rate=0.001, max_depth=11, n_estimators=300, score=nan, total=   0.1s\n",
      "[CV]  learning_rate=0.001, max_depth=11, n_estimators=300 ............\n"
     ]
    },
    {
     "name": "stderr",
     "output_type": "stream",
     "text": [
      "C:\\Users\\sheka\\anaconda3\\envs\\tensorflow\\lib\\site-packages\\sklearn\\model_selection\\_validation.py:548: FitFailedWarning: Estimator fit failed. The score on this train-test partition for these parameters will be set to nan. Details: \n",
      "Traceback (most recent call last):\n",
      "  File \"C:\\Users\\sheka\\anaconda3\\envs\\tensorflow\\lib\\site-packages\\sklearn\\model_selection\\_validation.py\", line 531, in _fit_and_score\n",
      "    estimator.fit(X_train, y_train, **fit_params)\n",
      "  File \"C:\\Users\\sheka\\anaconda3\\envs\\tensorflow\\lib\\site-packages\\xgboost\\core.py\", line 532, in inner_f\n",
      "    return f(**kwargs)\n",
      "  File \"C:\\Users\\sheka\\anaconda3\\envs\\tensorflow\\lib\\site-packages\\xgboost\\sklearn.py\", line 1400, in fit\n",
      "    self._Booster = train(\n",
      "  File \"C:\\Users\\sheka\\anaconda3\\envs\\tensorflow\\lib\\site-packages\\xgboost\\core.py\", line 532, in inner_f\n",
      "    return f(**kwargs)\n",
      "  File \"C:\\Users\\sheka\\anaconda3\\envs\\tensorflow\\lib\\site-packages\\xgboost\\training.py\", line 181, in train\n",
      "    bst.update(dtrain, i, obj)\n",
      "  File \"C:\\Users\\sheka\\anaconda3\\envs\\tensorflow\\lib\\site-packages\\xgboost\\core.py\", line 1733, in update\n",
      "    _check_call(_LIB.XGBoosterUpdateOneIter(self.handle,\n",
      "  File \"C:\\Users\\sheka\\anaconda3\\envs\\tensorflow\\lib\\site-packages\\xgboost\\core.py\", line 203, in _check_call\n",
      "    raise XGBoostError(py_str(_LIB.XGBGetLastError()))\n",
      "xgboost.core.XGBoostError: [15:25:44] C:/Users/Administrator/workspace/xgboost-win64_release_1.6.0/src/learner.cc:604: Invalid parameter \" learning_rate\" contains whitespace.\n",
      "\n",
      "  warnings.warn(\"Estimator fit failed. The score on this train-test\"\n"
     ]
    },
    {
     "name": "stdout",
     "output_type": "stream",
     "text": [
      "[CV]   learning_rate=0.001, max_depth=11, n_estimators=300, score=nan, total=   0.1s\n",
      "[CV]  learning_rate=0.001, max_depth=11, n_estimators=300 ............\n",
      "[CV]   learning_rate=0.001, max_depth=11, n_estimators=300, score=nan, total=   0.1s\n",
      "[CV]  learning_rate=0.001, max_depth=11, n_estimators=300 ............\n",
      "[CV]   learning_rate=0.001, max_depth=11, n_estimators=300, score=nan, total=   0.1s\n",
      "[CV]  learning_rate=0.001, max_depth=15, n_estimators=10 .............\n",
      "[CV]   learning_rate=0.001, max_depth=15, n_estimators=10, score=nan, total=   0.1s\n",
      "[CV]  learning_rate=0.001, max_depth=15, n_estimators=10 .............\n",
      "[CV]   learning_rate=0.001, max_depth=15, n_estimators=10, score=nan, total=   0.1s\n",
      "[CV]  learning_rate=0.001, max_depth=15, n_estimators=10 .............\n",
      "[CV]   learning_rate=0.001, max_depth=15, n_estimators=10, score=nan, total=   0.1s\n",
      "[CV]  learning_rate=0.001, max_depth=15, n_estimators=10 .............\n",
      "[CV]   learning_rate=0.001, max_depth=15, n_estimators=10, score=nan, total=   0.1s\n",
      "[CV]  learning_rate=0.001, max_depth=15, n_estimators=10 .............\n",
      "[CV]   learning_rate=0.001, max_depth=15, n_estimators=10, score=nan, total=   0.1s\n",
      "[CV]  learning_rate=0.001, max_depth=15, n_estimators=50 .............\n",
      "[CV]   learning_rate=0.001, max_depth=15, n_estimators=50, score=nan, total=   0.1s\n",
      "[CV]  learning_rate=0.001, max_depth=15, n_estimators=50 .............\n",
      "[CV]   learning_rate=0.001, max_depth=15, n_estimators=50, score=nan, total=   0.1s\n",
      "[CV]  learning_rate=0.001, max_depth=15, n_estimators=50 .............\n",
      "[CV]   learning_rate=0.001, max_depth=15, n_estimators=50, score=nan, total=   0.1s\n",
      "[CV]  learning_rate=0.001, max_depth=15, n_estimators=50 .............\n"
     ]
    },
    {
     "name": "stderr",
     "output_type": "stream",
     "text": [
      "C:\\Users\\sheka\\anaconda3\\envs\\tensorflow\\lib\\site-packages\\sklearn\\model_selection\\_validation.py:548: FitFailedWarning: Estimator fit failed. The score on this train-test partition for these parameters will be set to nan. Details: \n",
      "Traceback (most recent call last):\n",
      "  File \"C:\\Users\\sheka\\anaconda3\\envs\\tensorflow\\lib\\site-packages\\sklearn\\model_selection\\_validation.py\", line 531, in _fit_and_score\n",
      "    estimator.fit(X_train, y_train, **fit_params)\n",
      "  File \"C:\\Users\\sheka\\anaconda3\\envs\\tensorflow\\lib\\site-packages\\xgboost\\core.py\", line 532, in inner_f\n",
      "    return f(**kwargs)\n",
      "  File \"C:\\Users\\sheka\\anaconda3\\envs\\tensorflow\\lib\\site-packages\\xgboost\\sklearn.py\", line 1400, in fit\n",
      "    self._Booster = train(\n",
      "  File \"C:\\Users\\sheka\\anaconda3\\envs\\tensorflow\\lib\\site-packages\\xgboost\\core.py\", line 532, in inner_f\n",
      "    return f(**kwargs)\n",
      "  File \"C:\\Users\\sheka\\anaconda3\\envs\\tensorflow\\lib\\site-packages\\xgboost\\training.py\", line 181, in train\n",
      "    bst.update(dtrain, i, obj)\n",
      "  File \"C:\\Users\\sheka\\anaconda3\\envs\\tensorflow\\lib\\site-packages\\xgboost\\core.py\", line 1733, in update\n",
      "    _check_call(_LIB.XGBoosterUpdateOneIter(self.handle,\n",
      "  File \"C:\\Users\\sheka\\anaconda3\\envs\\tensorflow\\lib\\site-packages\\xgboost\\core.py\", line 203, in _check_call\n",
      "    raise XGBoostError(py_str(_LIB.XGBGetLastError()))\n",
      "xgboost.core.XGBoostError: [15:25:45] C:/Users/Administrator/workspace/xgboost-win64_release_1.6.0/src/learner.cc:604: Invalid parameter \" learning_rate\" contains whitespace.\n",
      "\n",
      "  warnings.warn(\"Estimator fit failed. The score on this train-test\"\n"
     ]
    },
    {
     "name": "stdout",
     "output_type": "stream",
     "text": [
      "[CV]   learning_rate=0.001, max_depth=15, n_estimators=50, score=nan, total=   0.1s\n",
      "[CV]  learning_rate=0.001, max_depth=15, n_estimators=50 .............\n",
      "[CV]   learning_rate=0.001, max_depth=15, n_estimators=50, score=nan, total=   0.1s\n",
      "[CV]  learning_rate=0.001, max_depth=15, n_estimators=100 ............\n",
      "[CV]   learning_rate=0.001, max_depth=15, n_estimators=100, score=nan, total=   0.1s\n",
      "[CV]  learning_rate=0.001, max_depth=15, n_estimators=100 ............\n",
      "[CV]   learning_rate=0.001, max_depth=15, n_estimators=100, score=nan, total=   0.1s\n",
      "[CV]  learning_rate=0.001, max_depth=15, n_estimators=100 ............\n",
      "[CV]   learning_rate=0.001, max_depth=15, n_estimators=100, score=nan, total=   0.1s\n",
      "[CV]  learning_rate=0.001, max_depth=15, n_estimators=100 ............\n",
      "[CV]   learning_rate=0.001, max_depth=15, n_estimators=100, score=nan, total=   0.1s\n",
      "[CV]  learning_rate=0.001, max_depth=15, n_estimators=100 ............\n",
      "[CV]   learning_rate=0.001, max_depth=15, n_estimators=100, score=nan, total=   0.1s\n",
      "[CV]  learning_rate=0.001, max_depth=15, n_estimators=200 ............\n",
      "[CV]   learning_rate=0.001, max_depth=15, n_estimators=200, score=nan, total=   0.1s\n",
      "[CV]  learning_rate=0.001, max_depth=15, n_estimators=200 ............\n",
      "[CV]   learning_rate=0.001, max_depth=15, n_estimators=200, score=nan, total=   0.1s\n",
      "[CV]  learning_rate=0.001, max_depth=15, n_estimators=200 ............\n",
      "[CV]   learning_rate=0.001, max_depth=15, n_estimators=200, score=nan, total=   0.1s\n",
      "[CV]  learning_rate=0.001, max_depth=15, n_estimators=200 ............\n",
      "[CV]   learning_rate=0.001, max_depth=15, n_estimators=200, score=nan, total=   0.1s\n",
      "[CV]  learning_rate=0.001, max_depth=15, n_estimators=200 ............\n",
      "[CV]   learning_rate=0.001, max_depth=15, n_estimators=200, score=nan, total=   0.1s\n",
      "[CV]  learning_rate=0.001, max_depth=15, n_estimators=300 ............\n"
     ]
    },
    {
     "name": "stderr",
     "output_type": "stream",
     "text": [
      "C:\\Users\\sheka\\anaconda3\\envs\\tensorflow\\lib\\site-packages\\sklearn\\model_selection\\_validation.py:548: FitFailedWarning: Estimator fit failed. The score on this train-test partition for these parameters will be set to nan. Details: \n",
      "Traceback (most recent call last):\n",
      "  File \"C:\\Users\\sheka\\anaconda3\\envs\\tensorflow\\lib\\site-packages\\sklearn\\model_selection\\_validation.py\", line 531, in _fit_and_score\n",
      "    estimator.fit(X_train, y_train, **fit_params)\n",
      "  File \"C:\\Users\\sheka\\anaconda3\\envs\\tensorflow\\lib\\site-packages\\xgboost\\core.py\", line 532, in inner_f\n",
      "    return f(**kwargs)\n",
      "  File \"C:\\Users\\sheka\\anaconda3\\envs\\tensorflow\\lib\\site-packages\\xgboost\\sklearn.py\", line 1400, in fit\n",
      "    self._Booster = train(\n",
      "  File \"C:\\Users\\sheka\\anaconda3\\envs\\tensorflow\\lib\\site-packages\\xgboost\\core.py\", line 532, in inner_f\n",
      "    return f(**kwargs)\n",
      "  File \"C:\\Users\\sheka\\anaconda3\\envs\\tensorflow\\lib\\site-packages\\xgboost\\training.py\", line 181, in train\n",
      "    bst.update(dtrain, i, obj)\n",
      "  File \"C:\\Users\\sheka\\anaconda3\\envs\\tensorflow\\lib\\site-packages\\xgboost\\core.py\", line 1733, in update\n",
      "    _check_call(_LIB.XGBoosterUpdateOneIter(self.handle,\n",
      "  File \"C:\\Users\\sheka\\anaconda3\\envs\\tensorflow\\lib\\site-packages\\xgboost\\core.py\", line 203, in _check_call\n",
      "    raise XGBoostError(py_str(_LIB.XGBGetLastError()))\n",
      "xgboost.core.XGBoostError: [15:25:46] C:/Users/Administrator/workspace/xgboost-win64_release_1.6.0/src/learner.cc:604: Invalid parameter \" learning_rate\" contains whitespace.\n",
      "\n",
      "  warnings.warn(\"Estimator fit failed. The score on this train-test\"\n"
     ]
    },
    {
     "name": "stdout",
     "output_type": "stream",
     "text": [
      "[CV]   learning_rate=0.001, max_depth=15, n_estimators=300, score=nan, total=   0.1s\n",
      "[CV]  learning_rate=0.001, max_depth=15, n_estimators=300 ............\n",
      "[CV]   learning_rate=0.001, max_depth=15, n_estimators=300, score=nan, total=   0.1s\n",
      "[CV]  learning_rate=0.001, max_depth=15, n_estimators=300 ............\n",
      "[CV]   learning_rate=0.001, max_depth=15, n_estimators=300, score=nan, total=   0.1s\n",
      "[CV]  learning_rate=0.001, max_depth=15, n_estimators=300 ............\n",
      "[CV]   learning_rate=0.001, max_depth=15, n_estimators=300, score=nan, total=   0.1s\n",
      "[CV]  learning_rate=0.001, max_depth=15, n_estimators=300 ............\n",
      "[CV]   learning_rate=0.001, max_depth=15, n_estimators=300, score=nan, total=   0.1s\n"
     ]
    },
    {
     "name": "stderr",
     "output_type": "stream",
     "text": [
      "[Parallel(n_jobs=1)]: Done 750 out of 750 | elapsed:  1.1min finished\n"
     ]
    },
    {
     "ename": "XGBoostError",
     "evalue": "[15:25:46] C:/Users/Administrator/workspace/xgboost-win64_release_1.6.0/src/learner.cc:604: Invalid parameter \" learning_rate\" contains whitespace.",
     "output_type": "error",
     "traceback": [
      "\u001b[1;31m---------------------------------------------------------------------------\u001b[0m",
      "\u001b[1;31mXGBoostError\u001b[0m                              Traceback (most recent call last)",
      "\u001b[1;32m<ipython-input-99-0121e3ea44aa>\u001b[0m in \u001b[0;36m<module>\u001b[1;34m\u001b[0m\n\u001b[0;32m      1\u001b[0m \u001b[0mgsv\u001b[0m \u001b[1;33m=\u001b[0m \u001b[0mGridSearchCV\u001b[0m\u001b[1;33m(\u001b[0m\u001b[0mxbc\u001b[0m\u001b[1;33m,\u001b[0m\u001b[0mparam_grid\u001b[0m\u001b[1;33m=\u001b[0m\u001b[0mparam_grid\u001b[0m\u001b[1;33m,\u001b[0m\u001b[0mverbose\u001b[0m\u001b[1;33m=\u001b[0m\u001b[1;36m3\u001b[0m\u001b[1;33m)\u001b[0m\u001b[1;33m\u001b[0m\u001b[1;33m\u001b[0m\u001b[0m\n\u001b[1;32m----> 2\u001b[1;33m \u001b[0mgsv\u001b[0m\u001b[1;33m.\u001b[0m\u001b[0mfit\u001b[0m\u001b[1;33m(\u001b[0m\u001b[0mx_train\u001b[0m\u001b[1;33m,\u001b[0m\u001b[0my_train\u001b[0m\u001b[1;33m)\u001b[0m\u001b[1;33m\u001b[0m\u001b[1;33m\u001b[0m\u001b[0m\n\u001b[0m",
      "\u001b[1;32m~\\anaconda3\\envs\\tensorflow\\lib\\site-packages\\sklearn\\utils\\validation.py\u001b[0m in \u001b[0;36minner_f\u001b[1;34m(*args, **kwargs)\u001b[0m\n\u001b[0;32m     70\u001b[0m                           FutureWarning)\n\u001b[0;32m     71\u001b[0m         \u001b[0mkwargs\u001b[0m\u001b[1;33m.\u001b[0m\u001b[0mupdate\u001b[0m\u001b[1;33m(\u001b[0m\u001b[1;33m{\u001b[0m\u001b[0mk\u001b[0m\u001b[1;33m:\u001b[0m \u001b[0marg\u001b[0m \u001b[1;32mfor\u001b[0m \u001b[0mk\u001b[0m\u001b[1;33m,\u001b[0m \u001b[0marg\u001b[0m \u001b[1;32min\u001b[0m \u001b[0mzip\u001b[0m\u001b[1;33m(\u001b[0m\u001b[0msig\u001b[0m\u001b[1;33m.\u001b[0m\u001b[0mparameters\u001b[0m\u001b[1;33m,\u001b[0m \u001b[0margs\u001b[0m\u001b[1;33m)\u001b[0m\u001b[1;33m}\u001b[0m\u001b[1;33m)\u001b[0m\u001b[1;33m\u001b[0m\u001b[1;33m\u001b[0m\u001b[0m\n\u001b[1;32m---> 72\u001b[1;33m         \u001b[1;32mreturn\u001b[0m \u001b[0mf\u001b[0m\u001b[1;33m(\u001b[0m\u001b[1;33m**\u001b[0m\u001b[0mkwargs\u001b[0m\u001b[1;33m)\u001b[0m\u001b[1;33m\u001b[0m\u001b[1;33m\u001b[0m\u001b[0m\n\u001b[0m\u001b[0;32m     73\u001b[0m     \u001b[1;32mreturn\u001b[0m \u001b[0minner_f\u001b[0m\u001b[1;33m\u001b[0m\u001b[1;33m\u001b[0m\u001b[0m\n\u001b[0;32m     74\u001b[0m \u001b[1;33m\u001b[0m\u001b[0m\n",
      "\u001b[1;32m~\\anaconda3\\envs\\tensorflow\\lib\\site-packages\\sklearn\\model_selection\\_search.py\u001b[0m in \u001b[0;36mfit\u001b[1;34m(self, X, y, groups, **fit_params)\u001b[0m\n\u001b[0;32m    763\u001b[0m             \u001b[0mrefit_start_time\u001b[0m \u001b[1;33m=\u001b[0m \u001b[0mtime\u001b[0m\u001b[1;33m.\u001b[0m\u001b[0mtime\u001b[0m\u001b[1;33m(\u001b[0m\u001b[1;33m)\u001b[0m\u001b[1;33m\u001b[0m\u001b[1;33m\u001b[0m\u001b[0m\n\u001b[0;32m    764\u001b[0m             \u001b[1;32mif\u001b[0m \u001b[0my\u001b[0m \u001b[1;32mis\u001b[0m \u001b[1;32mnot\u001b[0m \u001b[1;32mNone\u001b[0m\u001b[1;33m:\u001b[0m\u001b[1;33m\u001b[0m\u001b[1;33m\u001b[0m\u001b[0m\n\u001b[1;32m--> 765\u001b[1;33m                 \u001b[0mself\u001b[0m\u001b[1;33m.\u001b[0m\u001b[0mbest_estimator_\u001b[0m\u001b[1;33m.\u001b[0m\u001b[0mfit\u001b[0m\u001b[1;33m(\u001b[0m\u001b[0mX\u001b[0m\u001b[1;33m,\u001b[0m \u001b[0my\u001b[0m\u001b[1;33m,\u001b[0m \u001b[1;33m**\u001b[0m\u001b[0mfit_params\u001b[0m\u001b[1;33m)\u001b[0m\u001b[1;33m\u001b[0m\u001b[1;33m\u001b[0m\u001b[0m\n\u001b[0m\u001b[0;32m    766\u001b[0m             \u001b[1;32melse\u001b[0m\u001b[1;33m:\u001b[0m\u001b[1;33m\u001b[0m\u001b[1;33m\u001b[0m\u001b[0m\n\u001b[0;32m    767\u001b[0m                 \u001b[0mself\u001b[0m\u001b[1;33m.\u001b[0m\u001b[0mbest_estimator_\u001b[0m\u001b[1;33m.\u001b[0m\u001b[0mfit\u001b[0m\u001b[1;33m(\u001b[0m\u001b[0mX\u001b[0m\u001b[1;33m,\u001b[0m \u001b[1;33m**\u001b[0m\u001b[0mfit_params\u001b[0m\u001b[1;33m)\u001b[0m\u001b[1;33m\u001b[0m\u001b[1;33m\u001b[0m\u001b[0m\n",
      "\u001b[1;32m~\\anaconda3\\envs\\tensorflow\\lib\\site-packages\\xgboost\\core.py\u001b[0m in \u001b[0;36minner_f\u001b[1;34m(*args, **kwargs)\u001b[0m\n\u001b[0;32m    530\u001b[0m         \u001b[1;32mfor\u001b[0m \u001b[0mk\u001b[0m\u001b[1;33m,\u001b[0m \u001b[0marg\u001b[0m \u001b[1;32min\u001b[0m \u001b[0mzip\u001b[0m\u001b[1;33m(\u001b[0m\u001b[0msig\u001b[0m\u001b[1;33m.\u001b[0m\u001b[0mparameters\u001b[0m\u001b[1;33m,\u001b[0m \u001b[0margs\u001b[0m\u001b[1;33m)\u001b[0m\u001b[1;33m:\u001b[0m\u001b[1;33m\u001b[0m\u001b[1;33m\u001b[0m\u001b[0m\n\u001b[0;32m    531\u001b[0m             \u001b[0mkwargs\u001b[0m\u001b[1;33m[\u001b[0m\u001b[0mk\u001b[0m\u001b[1;33m]\u001b[0m \u001b[1;33m=\u001b[0m \u001b[0marg\u001b[0m\u001b[1;33m\u001b[0m\u001b[1;33m\u001b[0m\u001b[0m\n\u001b[1;32m--> 532\u001b[1;33m         \u001b[1;32mreturn\u001b[0m \u001b[0mf\u001b[0m\u001b[1;33m(\u001b[0m\u001b[1;33m**\u001b[0m\u001b[0mkwargs\u001b[0m\u001b[1;33m)\u001b[0m\u001b[1;33m\u001b[0m\u001b[1;33m\u001b[0m\u001b[0m\n\u001b[0m\u001b[0;32m    533\u001b[0m \u001b[1;33m\u001b[0m\u001b[0m\n\u001b[0;32m    534\u001b[0m     \u001b[1;32mreturn\u001b[0m \u001b[0minner_f\u001b[0m\u001b[1;33m\u001b[0m\u001b[1;33m\u001b[0m\u001b[0m\n",
      "\u001b[1;32m~\\anaconda3\\envs\\tensorflow\\lib\\site-packages\\xgboost\\sklearn.py\u001b[0m in \u001b[0;36mfit\u001b[1;34m(self, X, y, sample_weight, base_margin, eval_set, eval_metric, early_stopping_rounds, verbose, xgb_model, sample_weight_eval_set, base_margin_eval_set, feature_weights, callbacks)\u001b[0m\n\u001b[0;32m   1398\u001b[0m         )\n\u001b[0;32m   1399\u001b[0m \u001b[1;33m\u001b[0m\u001b[0m\n\u001b[1;32m-> 1400\u001b[1;33m         self._Booster = train(\n\u001b[0m\u001b[0;32m   1401\u001b[0m             \u001b[0mparams\u001b[0m\u001b[1;33m,\u001b[0m\u001b[1;33m\u001b[0m\u001b[1;33m\u001b[0m\u001b[0m\n\u001b[0;32m   1402\u001b[0m             \u001b[0mtrain_dmatrix\u001b[0m\u001b[1;33m,\u001b[0m\u001b[1;33m\u001b[0m\u001b[1;33m\u001b[0m\u001b[0m\n",
      "\u001b[1;32m~\\anaconda3\\envs\\tensorflow\\lib\\site-packages\\xgboost\\core.py\u001b[0m in \u001b[0;36minner_f\u001b[1;34m(*args, **kwargs)\u001b[0m\n\u001b[0;32m    530\u001b[0m         \u001b[1;32mfor\u001b[0m \u001b[0mk\u001b[0m\u001b[1;33m,\u001b[0m \u001b[0marg\u001b[0m \u001b[1;32min\u001b[0m \u001b[0mzip\u001b[0m\u001b[1;33m(\u001b[0m\u001b[0msig\u001b[0m\u001b[1;33m.\u001b[0m\u001b[0mparameters\u001b[0m\u001b[1;33m,\u001b[0m \u001b[0margs\u001b[0m\u001b[1;33m)\u001b[0m\u001b[1;33m:\u001b[0m\u001b[1;33m\u001b[0m\u001b[1;33m\u001b[0m\u001b[0m\n\u001b[0;32m    531\u001b[0m             \u001b[0mkwargs\u001b[0m\u001b[1;33m[\u001b[0m\u001b[0mk\u001b[0m\u001b[1;33m]\u001b[0m \u001b[1;33m=\u001b[0m \u001b[0marg\u001b[0m\u001b[1;33m\u001b[0m\u001b[1;33m\u001b[0m\u001b[0m\n\u001b[1;32m--> 532\u001b[1;33m         \u001b[1;32mreturn\u001b[0m \u001b[0mf\u001b[0m\u001b[1;33m(\u001b[0m\u001b[1;33m**\u001b[0m\u001b[0mkwargs\u001b[0m\u001b[1;33m)\u001b[0m\u001b[1;33m\u001b[0m\u001b[1;33m\u001b[0m\u001b[0m\n\u001b[0m\u001b[0;32m    533\u001b[0m \u001b[1;33m\u001b[0m\u001b[0m\n\u001b[0;32m    534\u001b[0m     \u001b[1;32mreturn\u001b[0m \u001b[0minner_f\u001b[0m\u001b[1;33m\u001b[0m\u001b[1;33m\u001b[0m\u001b[0m\n",
      "\u001b[1;32m~\\anaconda3\\envs\\tensorflow\\lib\\site-packages\\xgboost\\training.py\u001b[0m in \u001b[0;36mtrain\u001b[1;34m(params, dtrain, num_boost_round, evals, obj, feval, maximize, early_stopping_rounds, evals_result, verbose_eval, xgb_model, callbacks, custom_metric)\u001b[0m\n\u001b[0;32m    179\u001b[0m         \u001b[1;32mif\u001b[0m \u001b[0mcb_container\u001b[0m\u001b[1;33m.\u001b[0m\u001b[0mbefore_iteration\u001b[0m\u001b[1;33m(\u001b[0m\u001b[0mbst\u001b[0m\u001b[1;33m,\u001b[0m \u001b[0mi\u001b[0m\u001b[1;33m,\u001b[0m \u001b[0mdtrain\u001b[0m\u001b[1;33m,\u001b[0m \u001b[0mevals\u001b[0m\u001b[1;33m)\u001b[0m\u001b[1;33m:\u001b[0m\u001b[1;33m\u001b[0m\u001b[1;33m\u001b[0m\u001b[0m\n\u001b[0;32m    180\u001b[0m             \u001b[1;32mbreak\u001b[0m\u001b[1;33m\u001b[0m\u001b[1;33m\u001b[0m\u001b[0m\n\u001b[1;32m--> 181\u001b[1;33m         \u001b[0mbst\u001b[0m\u001b[1;33m.\u001b[0m\u001b[0mupdate\u001b[0m\u001b[1;33m(\u001b[0m\u001b[0mdtrain\u001b[0m\u001b[1;33m,\u001b[0m \u001b[0mi\u001b[0m\u001b[1;33m,\u001b[0m \u001b[0mobj\u001b[0m\u001b[1;33m)\u001b[0m\u001b[1;33m\u001b[0m\u001b[1;33m\u001b[0m\u001b[0m\n\u001b[0m\u001b[0;32m    182\u001b[0m         \u001b[1;32mif\u001b[0m \u001b[0mcb_container\u001b[0m\u001b[1;33m.\u001b[0m\u001b[0mafter_iteration\u001b[0m\u001b[1;33m(\u001b[0m\u001b[0mbst\u001b[0m\u001b[1;33m,\u001b[0m \u001b[0mi\u001b[0m\u001b[1;33m,\u001b[0m \u001b[0mdtrain\u001b[0m\u001b[1;33m,\u001b[0m \u001b[0mevals\u001b[0m\u001b[1;33m)\u001b[0m\u001b[1;33m:\u001b[0m\u001b[1;33m\u001b[0m\u001b[1;33m\u001b[0m\u001b[0m\n\u001b[0;32m    183\u001b[0m             \u001b[1;32mbreak\u001b[0m\u001b[1;33m\u001b[0m\u001b[1;33m\u001b[0m\u001b[0m\n",
      "\u001b[1;32m~\\anaconda3\\envs\\tensorflow\\lib\\site-packages\\xgboost\\core.py\u001b[0m in \u001b[0;36mupdate\u001b[1;34m(self, dtrain, iteration, fobj)\u001b[0m\n\u001b[0;32m   1731\u001b[0m \u001b[1;33m\u001b[0m\u001b[0m\n\u001b[0;32m   1732\u001b[0m         \u001b[1;32mif\u001b[0m \u001b[0mfobj\u001b[0m \u001b[1;32mis\u001b[0m \u001b[1;32mNone\u001b[0m\u001b[1;33m:\u001b[0m\u001b[1;33m\u001b[0m\u001b[1;33m\u001b[0m\u001b[0m\n\u001b[1;32m-> 1733\u001b[1;33m             _check_call(_LIB.XGBoosterUpdateOneIter(self.handle,\n\u001b[0m\u001b[0;32m   1734\u001b[0m                                                     \u001b[0mctypes\u001b[0m\u001b[1;33m.\u001b[0m\u001b[0mc_int\u001b[0m\u001b[1;33m(\u001b[0m\u001b[0miteration\u001b[0m\u001b[1;33m)\u001b[0m\u001b[1;33m,\u001b[0m\u001b[1;33m\u001b[0m\u001b[1;33m\u001b[0m\u001b[0m\n\u001b[0;32m   1735\u001b[0m                                                     dtrain.handle))\n",
      "\u001b[1;32m~\\anaconda3\\envs\\tensorflow\\lib\\site-packages\\xgboost\\core.py\u001b[0m in \u001b[0;36m_check_call\u001b[1;34m(ret)\u001b[0m\n\u001b[0;32m    201\u001b[0m     \"\"\"\n\u001b[0;32m    202\u001b[0m     \u001b[1;32mif\u001b[0m \u001b[0mret\u001b[0m \u001b[1;33m!=\u001b[0m \u001b[1;36m0\u001b[0m\u001b[1;33m:\u001b[0m\u001b[1;33m\u001b[0m\u001b[1;33m\u001b[0m\u001b[0m\n\u001b[1;32m--> 203\u001b[1;33m         \u001b[1;32mraise\u001b[0m \u001b[0mXGBoostError\u001b[0m\u001b[1;33m(\u001b[0m\u001b[0mpy_str\u001b[0m\u001b[1;33m(\u001b[0m\u001b[0m_LIB\u001b[0m\u001b[1;33m.\u001b[0m\u001b[0mXGBGetLastError\u001b[0m\u001b[1;33m(\u001b[0m\u001b[1;33m)\u001b[0m\u001b[1;33m)\u001b[0m\u001b[1;33m)\u001b[0m\u001b[1;33m\u001b[0m\u001b[1;33m\u001b[0m\u001b[0m\n\u001b[0m\u001b[0;32m    204\u001b[0m \u001b[1;33m\u001b[0m\u001b[0m\n\u001b[0;32m    205\u001b[0m \u001b[1;33m\u001b[0m\u001b[0m\n",
      "\u001b[1;31mXGBoostError\u001b[0m: [15:25:46] C:/Users/Administrator/workspace/xgboost-win64_release_1.6.0/src/learner.cc:604: Invalid parameter \" learning_rate\" contains whitespace."
     ]
    }
   ],
   "source": [
    "gsv = GridSearchCV(xbc,param_grid=param_grid,verbose=3)\n",
    "gsv.fit(x_train,y_train)\n"
   ]
  },
  {
   "cell_type": "code",
   "execution_count": 101,
   "id": "right-cause",
   "metadata": {},
   "outputs": [
    {
     "data": {
      "text/plain": [
       "{' learning_rate': 1, 'max_depth': 3, 'n_estimators': 10}"
      ]
     },
     "execution_count": 101,
     "metadata": {},
     "output_type": "execute_result"
    }
   ],
   "source": [
    "gsv.best_params_"
   ]
  },
  {
   "cell_type": "code",
   "execution_count": 102,
   "id": "fatal-placement",
   "metadata": {},
   "outputs": [
    {
     "data": {
      "text/plain": [
       "XGBClassifier(base_score=0.5, booster='gbtree', callbacks=None,\n",
       "              colsample_bylevel=1, colsample_bynode=1, colsample_bytree=1,\n",
       "              early_stopping_rounds=None, enable_categorical=False,\n",
       "              eval_metric=None, gamma=0, gpu_id=-1, grow_policy='depthwise',\n",
       "              importance_type=None, interaction_constraints='', learning_rate=1,\n",
       "              max_bin=256, max_cat_to_onehot=4, max_delta_step=0, max_depth=3,\n",
       "              max_leaves=0, min_child_weight=1, missing=nan,\n",
       "              monotone_constraints='()', n_estimators=10, n_jobs=0,\n",
       "              num_parallel_tree=1, predictor='auto', random_state=0,\n",
       "              reg_alpha=0, reg_lambda=1, ...)"
      ]
     },
     "execution_count": 102,
     "metadata": {},
     "output_type": "execute_result"
    }
   ],
   "source": [
    "xbc_tuned = XGBClassifier(learning_rate=1,max_depth=3,n_estimators=10)\n",
    "xbc_tuned.fit(x_train,y_train)"
   ]
  },
  {
   "cell_type": "code",
   "execution_count": 103,
   "id": "fantastic-creativity",
   "metadata": {},
   "outputs": [
    {
     "name": "stdout",
     "output_type": "stream",
     "text": [
      "0.8634455932029891\n"
     ]
    }
   ],
   "source": [
    "XBc = xbc_tuned.score(x_test,y_test)\n",
    "print(XBc)"
   ]
  },
  {
   "cell_type": "code",
   "execution_count": 105,
   "id": "automotive-amendment",
   "metadata": {},
   "outputs": [],
   "source": [
    "##### XGBoost_Classifier Model Evaluation\n",
    "\n",
    "xbc_y_pred = xbc_tuned.predict(x_test)"
   ]
  },
  {
   "cell_type": "code",
   "execution_count": 106,
   "id": "passing-minnesota",
   "metadata": {},
   "outputs": [
    {
     "name": "stdout",
     "output_type": "stream",
     "text": [
      "Accuracy_Score:0.8611935715016891\n",
      "**************************************************\n",
      "Classification_Report:              precision    recall  f1-score   support\n",
      "\n",
      "           0       0.87      0.96      0.91      7436\n",
      "           1       0.80      0.56      0.66      2333\n",
      "\n",
      "    accuracy                           0.86      9769\n",
      "   macro avg       0.84      0.76      0.79      9769\n",
      "weighted avg       0.86      0.86      0.85      9769\n",
      "\n",
      "**************************************************\n",
      "Confusion_Matrix:[[7104  332]\n",
      " [1024 1309]]\n"
     ]
    }
   ],
   "source": [
    "print(f\"Accuracy_Score:{accuracy_score(y_test,rfc_y_pred)}\")\n",
    "print('*'*50)\n",
    "print(f\"Classification_Report:{classification_report(y_test,rfc_y_pred)}\")\n",
    "print('*'*50)\n",
    "print(f\"Confusion_Matrix:{confusion_matrix(y_test,rfc_y_pred)}\")\n"
   ]
  },
  {
   "cell_type": "code",
   "execution_count": 107,
   "id": "direct-accordance",
   "metadata": {
    "scrolled": true
   },
   "outputs": [
    {
     "data": {
      "text/html": [
       "<div>\n",
       "<style scoped>\n",
       "    .dataframe tbody tr th:only-of-type {\n",
       "        vertical-align: middle;\n",
       "    }\n",
       "\n",
       "    .dataframe tbody tr th {\n",
       "        vertical-align: top;\n",
       "    }\n",
       "\n",
       "    .dataframe thead th {\n",
       "        text-align: right;\n",
       "    }\n",
       "</style>\n",
       "<table border=\"1\" class=\"dataframe\">\n",
       "  <thead>\n",
       "    <tr style=\"text-align: right;\">\n",
       "      <th></th>\n",
       "      <th>Models</th>\n",
       "      <th>Model_Scores</th>\n",
       "    </tr>\n",
       "  </thead>\n",
       "  <tbody>\n",
       "    <tr>\n",
       "      <th>0</th>\n",
       "      <td>Logistic_Reg</td>\n",
       "      <td>0.829563</td>\n",
       "    </tr>\n",
       "    <tr>\n",
       "      <th>1</th>\n",
       "      <td>Decision Tree</td>\n",
       "      <td>0.859146</td>\n",
       "    </tr>\n",
       "    <tr>\n",
       "      <th>2</th>\n",
       "      <td>Random Forest</td>\n",
       "      <td>0.861194</td>\n",
       "    </tr>\n",
       "    <tr>\n",
       "      <th>3</th>\n",
       "      <td>KNN</td>\n",
       "      <td>0.852390</td>\n",
       "    </tr>\n",
       "    <tr>\n",
       "      <th>4</th>\n",
       "      <td>XGBoost_Classifier</td>\n",
       "      <td>0.863446</td>\n",
       "    </tr>\n",
       "  </tbody>\n",
       "</table>\n",
       "</div>"
      ],
      "text/plain": [
       "               Models  Model_Scores\n",
       "0        Logistic_Reg      0.829563\n",
       "1       Decision Tree      0.859146\n",
       "2       Random Forest      0.861194\n",
       "3                 KNN      0.852390\n",
       "4  XGBoost_Classifier      0.863446"
      ]
     },
     "execution_count": 107,
     "metadata": {},
     "output_type": "execute_result"
    }
   ],
   "source": [
    "df = {'Models':['Logistic_Reg','Decision Tree','Random Forest','KNN','XGBoost_Classifier'],'Model_Scores':[Log_Reg,Dtc,RFC,KNN,XBc]}\n",
    "pd.DataFrame(df)"
   ]
  },
  {
   "cell_type": "markdown",
   "id": "conscious-label",
   "metadata": {},
   "source": [
    "###### From Above table we can come to conclusion that XGboost classifier is the best as it gives high model scores when compared to other models"
   ]
  }
 ],
 "metadata": {
  "kernelspec": {
   "display_name": "Python 3",
   "language": "python",
   "name": "python3"
  },
  "language_info": {
   "codemirror_mode": {
    "name": "ipython",
    "version": 3
   },
   "file_extension": ".py",
   "mimetype": "text/x-python",
   "name": "python",
   "nbconvert_exporter": "python",
   "pygments_lexer": "ipython3",
   "version": "3.8.5"
  }
 },
 "nbformat": 4,
 "nbformat_minor": 5
}
